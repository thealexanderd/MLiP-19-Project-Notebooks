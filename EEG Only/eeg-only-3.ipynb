{
 "cells": [
  {
   "cell_type": "code",
   "execution_count": 1,
   "id": "af0623d7",
   "metadata": {
    "_cell_guid": "b1076dfc-b9ad-4769-8c92-a6c4dae69d19",
    "_uuid": "8f2839f25d086af736a60e9eeb907d3b93b6e0e5",
    "execution": {
     "iopub.execute_input": "2024-03-12T18:03:50.562703Z",
     "iopub.status.busy": "2024-03-12T18:03:50.562002Z",
     "iopub.status.idle": "2024-03-12T18:03:57.201953Z",
     "shell.execute_reply": "2024-03-12T18:03:57.201172Z"
    },
    "papermill": {
     "duration": 6.650043,
     "end_time": "2024-03-12T18:03:57.204264",
     "exception": false,
     "start_time": "2024-03-12T18:03:50.554221",
     "status": "completed"
    },
    "tags": []
   },
   "outputs": [],
   "source": [
    "import numpy as np \n",
    "import pandas as pd \n",
    "from scipy import signal\n",
    "from sklearn.model_selection import train_test_split\n",
    "from sklearn.model_selection import KFold, GroupKFold\n",
    "import torch\n",
    "from torch.utils.data import Dataset\n",
    "import torch\n",
    "import torch.nn as nn\n",
    "import math\n",
    "import pickle"
   ]
  },
  {
   "cell_type": "code",
   "execution_count": 2,
   "id": "744ad7e3",
   "metadata": {
    "execution": {
     "iopub.execute_input": "2024-03-12T18:03:57.216952Z",
     "iopub.status.busy": "2024-03-12T18:03:57.216561Z",
     "iopub.status.idle": "2024-03-12T18:03:57.220989Z",
     "shell.execute_reply": "2024-03-12T18:03:57.220009Z"
    },
    "papermill": {
     "duration": 0.012901,
     "end_time": "2024-03-12T18:03:57.223121",
     "exception": false,
     "start_time": "2024-03-12T18:03:57.210220",
     "status": "completed"
    },
    "tags": []
   },
   "outputs": [],
   "source": [
    "EEG_SAMPLING_RATE = 200\n",
    "EEG_LENGTH = 50\n",
    "AMOUNT_OF_CHANNELS = 20"
   ]
  },
  {
   "cell_type": "code",
   "execution_count": 3,
   "id": "e336bce2",
   "metadata": {
    "execution": {
     "iopub.execute_input": "2024-03-12T18:03:57.234974Z",
     "iopub.status.busy": "2024-03-12T18:03:57.234420Z",
     "iopub.status.idle": "2024-03-12T18:03:57.484903Z",
     "shell.execute_reply": "2024-03-12T18:03:57.483947Z"
    },
    "papermill": {
     "duration": 0.259223,
     "end_time": "2024-03-12T18:03:57.487676",
     "exception": false,
     "start_time": "2024-03-12T18:03:57.228453",
     "status": "completed"
    },
    "tags": []
   },
   "outputs": [],
   "source": [
    "data = pd.read_csv('/kaggle/input/hms-harmful-brain-activity-classification/train.csv')"
   ]
  },
  {
   "cell_type": "code",
   "execution_count": 4,
   "id": "5e7fcf1a",
   "metadata": {
    "execution": {
     "iopub.execute_input": "2024-03-12T18:03:57.501914Z",
     "iopub.status.busy": "2024-03-12T18:03:57.501589Z",
     "iopub.status.idle": "2024-03-12T18:03:57.522413Z",
     "shell.execute_reply": "2024-03-12T18:03:57.521432Z"
    },
    "papermill": {
     "duration": 0.030142,
     "end_time": "2024-03-12T18:03:57.524686",
     "exception": false,
     "start_time": "2024-03-12T18:03:57.494544",
     "status": "completed"
    },
    "tags": []
   },
   "outputs": [],
   "source": [
    "TARGETS = [\"seizure_vote\", \"lpd_vote\", \"gpd_vote\", \"lrda_vote\", \"grda_vote\", \"other_vote\"]\n",
    "y_data = data[TARGETS].values\n",
    "y_data = y_data / y_data.sum(axis=1,keepdims=True)\n",
    "data[TARGETS] = y_data"
   ]
  },
  {
   "cell_type": "code",
   "execution_count": null,
   "id": "8878e046",
   "metadata": {
    "papermill": {
     "duration": 0.005935,
     "end_time": "2024-03-12T18:03:57.536720",
     "exception": false,
     "start_time": "2024-03-12T18:03:57.530785",
     "status": "completed"
    },
    "tags": []
   },
   "outputs": [],
   "source": []
  },
  {
   "cell_type": "code",
   "execution_count": 5,
   "id": "5bdbd7f7",
   "metadata": {
    "execution": {
     "iopub.execute_input": "2024-03-12T18:03:57.549643Z",
     "iopub.status.busy": "2024-03-12T18:03:57.549337Z",
     "iopub.status.idle": "2024-03-12T18:03:57.554406Z",
     "shell.execute_reply": "2024-03-12T18:03:57.553456Z"
    },
    "papermill": {
     "duration": 0.013962,
     "end_time": "2024-03-12T18:03:57.556597",
     "exception": false,
     "start_time": "2024-03-12T18:03:57.542635",
     "status": "completed"
    },
    "tags": []
   },
   "outputs": [],
   "source": [
    "# https://www.kaggle.com/code/kimbyungchun/preprocess-with-mne-for-human\n",
    "# @cache\n",
    "BASE_PATH = '/kaggle/input/hms-harmful-brain-activity-classification'\n",
    "def load_eeg(eeg_id, data_type='train'):\n",
    "    eeg_df = pd.read_parquet(f'{BASE_PATH}/{data_type}_eegs/{eeg_id}.parquet')\n",
    "    return eeg_df"
   ]
  },
  {
   "cell_type": "code",
   "execution_count": 6,
   "id": "03486966",
   "metadata": {
    "execution": {
     "iopub.execute_input": "2024-03-12T18:03:57.570042Z",
     "iopub.status.busy": "2024-03-12T18:03:57.569728Z",
     "iopub.status.idle": "2024-03-12T18:03:57.575743Z",
     "shell.execute_reply": "2024-03-12T18:03:57.574793Z"
    },
    "papermill": {
     "duration": 0.015105,
     "end_time": "2024-03-12T18:03:57.577766",
     "exception": false,
     "start_time": "2024-03-12T18:03:57.562661",
     "status": "completed"
    },
    "tags": []
   },
   "outputs": [],
   "source": [
    "eeg_dict = {}\n",
    "def getEEG(row, data_type):\n",
    "    if not row.eeg_id in eeg_dict:\n",
    "        df = load_eeg(row.eeg_id, data_type)  \n",
    "        eeg_dict[row.eeg_id] = df\n",
    "    eeg = eeg_dict[row.eeg_id]\n",
    "    \n",
    "    start_eeg = int(row.eeg_label_offset_seconds * EEG_SAMPLING_RATE)\n",
    "    end_eeg = start_eeg + (EEG_LENGTH * EEG_SAMPLING_RATE)\n",
    "\n",
    "    row_eeg = eeg[start_eeg:end_eeg]\n",
    "    return row_eeg\n"
   ]
  },
  {
   "cell_type": "code",
   "execution_count": 7,
   "id": "a03b753a",
   "metadata": {
    "execution": {
     "iopub.execute_input": "2024-03-12T18:03:57.590434Z",
     "iopub.status.busy": "2024-03-12T18:03:57.590099Z",
     "iopub.status.idle": "2024-03-12T18:03:57.598466Z",
     "shell.execute_reply": "2024-03-12T18:03:57.597580Z"
    },
    "papermill": {
     "duration": 0.016992,
     "end_time": "2024-03-12T18:03:57.600501",
     "exception": false,
     "start_time": "2024-03-12T18:03:57.583509",
     "status": "completed"
    },
    "tags": []
   },
   "outputs": [],
   "source": [
    "TIME_BINS_PER_SECOND = 10\n",
    "BIN_LENGTH = int((1/TIME_BINS_PER_SECOND)*EEG_SAMPLING_RATE)\n",
    "features_dict = {}\n",
    "def extract_time_bins(row_eeg, key):\n",
    "    middle_10 = row_eeg.iloc[20*EEG_SAMPLING_RATE:30*EEG_SAMPLING_RATE]\n",
    "    \n",
    "#     if middle_10.isnull().values.any():\n",
    "#         return False\n",
    "    \n",
    "    new_fts = []\n",
    "    for chan in range(middle_10.shape[1]):\n",
    "        col_eeg = middle_10.iloc[:, chan]\n",
    "        col_eeg = col_eeg.reset_index(drop=True)\n",
    "        bin_mns = []\n",
    "        for bin_index in range(100):\n",
    "            start_index = bin_index * BIN_LENGTH\n",
    "            end_index = start_index + BIN_LENGTH\n",
    "            \n",
    "            bin_eeg = col_eeg[start_index:end_index]\n",
    "#             bin_eeg = bin_eeg.dropna()\n",
    "\n",
    "            mn = np.nanmean(bin_eeg)\n",
    "            \n",
    "            \n",
    "            if math.isnan(mn):\n",
    "                bin_mns.append(0)\n",
    "#                 print(\"NAN!\", bin_eeg, start_index, key)\n",
    "            else:\n",
    "                bin_mns.append(mn)\n",
    "    \n",
    "    \n",
    "        new_fts.append(bin_mns)\n",
    "\n",
    "    return new_fts"
   ]
  },
  {
   "cell_type": "code",
   "execution_count": 8,
   "id": "0de33c1a",
   "metadata": {
    "execution": {
     "iopub.execute_input": "2024-03-12T18:03:57.612816Z",
     "iopub.status.busy": "2024-03-12T18:03:57.612518Z",
     "iopub.status.idle": "2024-03-12T18:03:57.618169Z",
     "shell.execute_reply": "2024-03-12T18:03:57.617295Z"
    },
    "papermill": {
     "duration": 0.01406,
     "end_time": "2024-03-12T18:03:57.620110",
     "exception": false,
     "start_time": "2024-03-12T18:03:57.606050",
     "status": "completed"
    },
    "tags": []
   },
   "outputs": [],
   "source": [
    "def getAndExtractEEG(row, data_type):\n",
    "    key = str(row.eeg_id) + \"-\" + str(row.eeg_sub_id)\n",
    "    if not key in features_dict:\n",
    "        print(\"N\", end = \" \")\n",
    "        row_eeg = getEEG(row, data_type)\n",
    "        features = extract_time_bins(row_eeg, key) #         features = extract_features(row_eeg, key)\n",
    "        if not features:\n",
    "            return False\n",
    "        features_dict[key] = features\n",
    "        return features\n",
    "    print(\"m\", end=\" \")\n",
    "    return features_dict[key]\n",
    "    \n"
   ]
  },
  {
   "cell_type": "code",
   "execution_count": 9,
   "id": "99611f6f",
   "metadata": {
    "execution": {
     "iopub.execute_input": "2024-03-12T18:03:57.632038Z",
     "iopub.status.busy": "2024-03-12T18:03:57.631775Z",
     "iopub.status.idle": "2024-03-12T18:03:57.637018Z",
     "shell.execute_reply": "2024-03-12T18:03:57.636124Z"
    },
    "papermill": {
     "duration": 0.013456,
     "end_time": "2024-03-12T18:03:57.639078",
     "exception": false,
     "start_time": "2024-03-12T18:03:57.625622",
     "status": "completed"
    },
    "tags": []
   },
   "outputs": [],
   "source": [
    "class MyDataset(Dataset):\n",
    "    def __init__(self, X, y):\n",
    "        self.X = X\n",
    "        self.y = y\n",
    "\n",
    "    def __len__(self):\n",
    "        return len(self.X)\n",
    "\n",
    "    def __getitem__(self, idx):\n",
    "        return self.X[idx], self.y[idx]\n"
   ]
  },
  {
   "cell_type": "code",
   "execution_count": 10,
   "id": "9c8874d6",
   "metadata": {
    "execution": {
     "iopub.execute_input": "2024-03-12T18:03:57.651561Z",
     "iopub.status.busy": "2024-03-12T18:03:57.650989Z",
     "iopub.status.idle": "2024-03-12T18:04:55.386978Z",
     "shell.execute_reply": "2024-03-12T18:04:55.386184Z"
    },
    "papermill": {
     "duration": 57.744856,
     "end_time": "2024-03-12T18:04:55.389426",
     "exception": false,
     "start_time": "2024-03-12T18:03:57.644570",
     "status": "completed"
    },
    "tags": []
   },
   "outputs": [],
   "source": [
    "with open('/kaggle/input/eeg-bins-2/my_dict.pkl', 'rb') as file:\n",
    "    features_dict = pickle.load(file)"
   ]
  },
  {
   "cell_type": "code",
   "execution_count": 11,
   "id": "4deb4b9c",
   "metadata": {
    "execution": {
     "iopub.execute_input": "2024-03-12T18:04:55.402850Z",
     "iopub.status.busy": "2024-03-12T18:04:55.402554Z",
     "iopub.status.idle": "2024-03-12T18:04:55.407131Z",
     "shell.execute_reply": "2024-03-12T18:04:55.406278Z"
    },
    "papermill": {
     "duration": 0.013751,
     "end_time": "2024-03-12T18:04:55.409119",
     "exception": false,
     "start_time": "2024-03-12T18:04:55.395368",
     "status": "completed"
    },
    "tags": []
   },
   "outputs": [],
   "source": [
    "# Example usage\n",
    "input_dim_freq = (52 + 4) * AMOUNT_OF_CHANNELS\n",
    "input_dim = (20*TIME_BINS_PER_SECOND*10) #channels * bins * middle 10 seconds\n",
    "hidden_dim = 800\n",
    "output_dim = 6"
   ]
  },
  {
   "cell_type": "code",
   "execution_count": 12,
   "id": "49f879d9",
   "metadata": {
    "execution": {
     "iopub.execute_input": "2024-03-12T18:04:55.420800Z",
     "iopub.status.busy": "2024-03-12T18:04:55.420526Z",
     "iopub.status.idle": "2024-03-12T18:04:55.431220Z",
     "shell.execute_reply": "2024-03-12T18:04:55.430503Z"
    },
    "papermill": {
     "duration": 0.018639,
     "end_time": "2024-03-12T18:04:55.433069",
     "exception": false,
     "start_time": "2024-03-12T18:04:55.414430",
     "status": "completed"
    },
    "tags": []
   },
   "outputs": [],
   "source": [
    "class CNNModel(nn.Module):\n",
    "    def __init__(self, input_dim, hidden_dim, output_dim):\n",
    "        super(CNNModel, self).__init__()\n",
    "        self.conv1 = nn.Conv2d(1, 62, kernel_size=3, padding=1)\n",
    "        self.conv2 = nn.Conv2d(62, 128, kernel_size=5, padding=1)\n",
    "        self.conv3 = nn.Conv2d(128, 128, kernel_size=3, padding=1)\n",
    "        self.conv4 = nn.Conv2d(128, 128, kernel_size=6, padding=2)\n",
    "        self.conv5 = nn.Conv2d(128, 62, kernel_size=3, padding=1)\n",
    "        self.conv6 = nn.Conv2d(62, 2, kernel_size=3, padding=1)\n",
    "        self.fc1 = nn.Linear(2 * 4 * 24, hidden_dim)\n",
    "        self.fc2 = nn.Linear(hidden_dim, output_dim)  # 10 output classes (digits 0-9)\n",
    "\n",
    "    def forward(self, x):\n",
    "#         print(\"xsp\", x.shape)\n",
    "        x = F.relu(self.conv1(x), 2)\n",
    "        x = F.relu(F.max_pool2d(self.conv2(x), 2))\n",
    "        x = F.relu(self.conv3(x), 2)\n",
    "        x = F.relu(F.max_pool2d(self.conv4(x), 2))\n",
    "        x = F.relu(self.conv5(x), 2)\n",
    "        x = F.relu(self.conv6(x), 2)\n",
    "#         print(x.shape)\n",
    "        x = x.view(-1, 2 * 4 * 24)\n",
    "        x = F.sigmoid(self.fc1(x))\n",
    "        x = F.dropout(x, 0.3)\n",
    "        x = self.fc2(x)\n",
    "        x = F.softmax(x, dim=1)\n",
    "        return x\n"
   ]
  },
  {
   "cell_type": "code",
   "execution_count": 13,
   "id": "286058c1",
   "metadata": {
    "execution": {
     "iopub.execute_input": "2024-03-12T18:04:55.444593Z",
     "iopub.status.busy": "2024-03-12T18:04:55.444324Z",
     "iopub.status.idle": "2024-03-12T18:04:55.525821Z",
     "shell.execute_reply": "2024-03-12T18:04:55.524820Z"
    },
    "papermill": {
     "duration": 0.089396,
     "end_time": "2024-03-12T18:04:55.527709",
     "exception": false,
     "start_time": "2024-03-12T18:04:55.438313",
     "status": "completed"
    },
    "tags": []
   },
   "outputs": [
    {
     "name": "stdout",
     "output_type": "stream",
     "text": [
      "cuda:0\n"
     ]
    }
   ],
   "source": [
    "# This piece of code is required to make use of the GPU instead of CPU for faster processing\n",
    "device = torch.device(\"cuda:0\" if torch.cuda.is_available() else \"cpu\")\n",
    "print(device)"
   ]
  },
  {
   "cell_type": "code",
   "execution_count": 14,
   "id": "f9c7555e",
   "metadata": {
    "execution": {
     "iopub.execute_input": "2024-03-12T18:04:55.540237Z",
     "iopub.status.busy": "2024-03-12T18:04:55.539919Z",
     "iopub.status.idle": "2024-03-12T18:18:59.962489Z",
     "shell.execute_reply": "2024-03-12T18:18:59.961608Z"
    },
    "papermill": {
     "duration": 844.431634,
     "end_time": "2024-03-12T18:18:59.964971",
     "exception": false,
     "start_time": "2024-03-12T18:04:55.533337",
     "status": "completed"
    },
    "tags": []
   },
   "outputs": [
    {
     "name": "stdout",
     "output_type": "stream",
     "text": [
      "m m m m m m m m m m m m m m m m m m m m m m m m m m m m m m m m m m m m m m m m m m m m m m m m m m m m m m m m m m m m m m m m m m m m m m m m m m m m m m m m m m m m m m m m m m m m m m m m m m m m m m m m m m m m m m m m m m m m m m m m m m m m m m m m m m m m m m m m m m m m m m m m m m m m m m m m m m m m m m m m m m m m m m m m m m m m m m m m m m m m m m m m m m m m m m m m m m m m m m m m m m m m m N m m m m m m m m m m m m m m m m m m m m m m m m m m N m m N m m m m m m m m m m m m m m m m m m m m m N "
     ]
    },
    {
     "name": "stderr",
     "output_type": "stream",
     "text": [
      "/tmp/ipykernel_26/3264025667.py:22: RuntimeWarning: Mean of empty slice\n",
      "  mn = np.nanmean(bin_eeg)\n"
     ]
    },
    {
     "name": "stdout",
     "output_type": "stream",
     "text": [
      "N m m m m m m m m m m m m m m m m m m m m m m m m m m m m m m m m m m m m m m m m m m m m m m m m m m m m m m m m m m m m m m m m m m m m m m m m N N m m m m m m m m m m m m m m m m m m m m m m m m m m m m m m m m m m m m m m m m m m m m m m m m m m m m m m m m m m m m m m m m m m m m m m m m m m m m m m m m m m m m m m m m m m m m m m m m m m m m m m m m m m m m m m m m m m m m m m m m m m m m m m m m m m m m m m m m m m m m m m m m m m m m m m m m m m m m m m m m m m m m m m m m m m m m m m m m m m m m m m m m m m m m m m m m m m m m m m m m m m m m m m m m m m m m m m m m m m m m m m m m m m m m m m m m m m m m m m m m m m m m m m m m m m m m m m m m m m m m m m m m m m m m m m m m m m m m m m m m m m m m m m m m m m m m m m m m m m m m m m m m m m m m m m m m m m m m m m m m m m m m m m m m m m m m m m m m m m m m m m m m m m m m m m m m m m m m m m m m m m m m m m m m m m m m m m m m m m m m m m m m m m m m m m m m m m m m m m m m m m m m m m m m m m m m m m m m m m m m m m m m m m m m m m m m m m m m m m m m m m m m m m m m m m m m m m m m m m m m m m m m m m m m m m m m m m m m m m m m m m m m m m m m m m m m m m m m m m m m m m m m m m m m m m m m m m m m m m m m m m m m m m m m m m m m m m m m m m m m m m m m m m m m m m m m m m m m m m m m m m m m m m m m m m m m m m m m m m m m m m m m m m m m m m m m m m m m m m m m m m m m m m m m m m m m m m m m m m m m m m m m m m m m m m m m m m m m m m m m m m m m m m m m m m m m m m m m m m m m m m m m m m m m m m m m m m m m m m m m m m m m m m m m m m m m m m m m m m m m m m m m m m m m m m m m m m m m m m m m m m m m m m m m m m m m m m m m m m m m m m m m m m m m m m m m m m m m m m m m m m m m m m m m m m m m m m m m m m m m m m m m m m m m m m m m m m m m m m m m m m m m m m m m m m m m m m m m m m m m m m m m m m m m m m m N N N m m m m m m m m m m m m m m m m m m m m m m m m m m m m m m m m m m m m m m m m m m m m m m m m m m N N m m m m m m m m m m m m m m m m m m m m m m m m m m m m m m m m m m m m m m m m m m m m m m m m m m m m m m m m m m m m m m m m m m m m m m m m m m m m m m m m m m m m m m m m m m m m m m m m m m m m m m m m m m m m m m m m m m m m m m m m m m m m m m m m m m m m m m m m m m m m m m m m m m m m m m m m m m m m m m m m m m m m m m m m m m m m m m m m m m m m m m m m m m m m m m m m m m m m m m m m m m m m m m m m m m m m m m m m m m m m m m m m m m m m m m m m m m m m m m m m m m m m m m m m m m m m m m m m m m m m m m m m m m m m m m m m m m m m m m m m m m m m m m m m m m m m m m m m m m m m m m m m m m m m m m m m m m m m m m m m m m m m m m m m m m m m m m m m m m m m m m m m m m m m m m m m m m m m m m m m m m m m m m m m m m m m m m m m m m m m m m m m m m m m m m m m m m m m m m m m m m m m m m m m m m m m m m m m m m m m m m m m m m m m m m m m m m m m m m m m m m m m m m m m m m m m m m m m m m m m m m m m m m m m m m m m m m m m m m m m m m m m m m m m m m m m m m m m m m m m m m m m m m m m m m m m m m m m m m m m m m m m m m m m m m m m m m m m m m m m m m m m m m m m m m m m m m m m m m m m m m m m m m m m m m m m m m m m m m m m m m m m m m m m m m m m m m m m m m m m m m m m m m m m m m m m m m m m m m m m m m m m m m m m m m m m m m m m m m m m m m m m m m m m m m m m m m m m m m m m m m m m m m m m m m m m m m m m m m m m m m m m m m m m m m m m m m m m m m m m m m m m m m m m m m m m m m m m m m m m m m m m m m m m m m m m m m m m m m m m m m m m m m m m m m m m m m m m m m m m m m m m m m m m m m m m m m m m m m m m m m m m m m m m m m m m m m m m m m m m m m m m m m m m m m m m m m m m m m m m m m m m m m m m m m m m m m m m m m m m m m m m m m m m m m m m m m m m N N N m m m m m m m m m m m m m m m m m m m m m m m m m m m m m m m m m m m m m m m m m m m m m m m m m m m m m m m m m m m m m m m m m m m m m m m m m m m m m m m m m m m m m m m m m m m m m m m m m m m m m m m m m m m m m m m m m m m m m m m m m m m m m m m m m m m m m m m m m m m m m m m m m m m m m m m m m m m m m m m m m m m m m m m m m m m m m m m m m m m m m m m m m m m m m m m m m m m m m m m m m m m m m m m m m m m m m m m m m m m m m m m m m m m m m m m m m m m m m m m m m m m m m m m m m m m m m m m m m m m m m m m m m m m m m m m m m m m m m m m m m m m m m m m m m m m m m m m m m m m m m m m m m m m m m m m m m m m m m m m m m m m m m m m m m m m m m m m m m m m m m m m m m m m m m m m m m m m m m m m m m m m m m m m m m m m m m m m m m m m m m m m m m m m m m m m m m m m m m m m m m m m m m m m m m m m m m m m m m m m m m m m m m m m m m m m m m m m m m m m m m m m m m m m m m m m m m m m m m m m m m m m m m m m m m m m m m m m m m m m m m m m m m m m m m m m m m m m m m m m m m m m m m m m m m m m m m m m m m m m m m m m m m m m m m m m m m m m m m m m m m m m m m m m m m m m m m m m m m m m m m m m m m m m m m m m m m m m m m m m m m m m m m m m m m m m m m m m m m m m N N m m m m m m m m m m m m m m m m m m m m m m m m m m m m m m m m m m m m m m m m m m m m m m m m m m m m m m m m m m m m m m m m m m m m m m m m m m m m m m m m m m m m m m m m m m m m m m m m m m m m m m m m m m m m m m m m m m m m m m N N m m m m m m m m m m m m m m m m m m m m m m m m m m m m m m m m m m m m m m m m m m m m m m m m m m m m m m m m m m m m N N N m m m m m m m m m m m m m m m m m m m m m m m m m m m m m m m m m m m m m m m m m m m m m m m m m m m m m m m m m m m m m m m m m m m m m m m m m m m m m m m m m m m m m m m m m m m m m m m m m m m m m m m m m m m m m m m m m m m m m m m m m m m m m m m m m m m m m m m m m m m m m m m m m m m m m m m m m m m m m m m m m m m m m m m m m m m m m m m m m m m m m m m m m m m m m m m m m m m m m m m m m m m m m m m m m m m m m m m m m m m m m m m m m m m m m m m m m m m m m m m m m m m m m m m m m m m m m m m m m m m m m m m m m m m m m m m m m m m m m m m m m m m m m m m m m m m m m m m m m m m m m m m m m m m m m m m m m m m m m m m m m m m m m m m m m m m m m m m m m m m m m m m m m m m m m m m m m m m m m m m m m m m m m m m m m m m m m m m m m m m m m m m m m m m m m m m m m m m m m m m m m m m m m m m m m m m m m m m m m m m m m m m m m m m m m m m m m m m m m m m m m m m m m m m m m m m m m m m m m m m m m m m m m m m m m m m m m m m m m m m m m m m m m m m m m m m m m m m m m m m m m m m m m m m m m m m m m m m m m m m m m m m m m m m m m m m m m m m m m m m m m m m m m m m m m m m m m m m m m m m m m m m m m m m m m m m m m m m m m m m m m m m m m m m m m m m m m m m m m m m m m m m m m m m m m m m m m m m m m m m m m m m m m m m m m m m m m m m m m m m m m m m m m m m m m m m m m m m m m m m m m m m m m m m m m m m m m m m m m m m m m m m m m m m m m m m m m m m m m m m m m m m m m m m m N N N N m m m m m m m m m m m m m m m m m m m m m m m m m m m m m m m m m m m m m m m m m m m N m m m m m m m m m m m m m m m m m m m m m m m m m m m m m m m m m m m m m m m m m m m m m m m m m m m m m m N N m m m m m m m m m m m m m m m m m m m m m m m m m m m m m m m m m m m m m m m m m m m m m m m m m m m m m m m m m m m m m m m m m m m m m m m m m m m m m m m m m m m m m m N N m m m m m m m m m m m m m m m m m m m m m m m m m m m m m m m m m m m m m m m m m m m m m m m m m m m m m m m m m m m m m m m m m m m m m m m m m m m m m m m m m m m m m m m m m m m m m m m m m m m m m m m m m m m m m m m m m m m m m m m m m m m m m m m m m m m m m m m m m m m m m m m m m m m m m m m m m m m m m m m m m m m m m m m m m m m m m m m m m m m m m m m m m m m m m m m m m m m m m m m m m m m m m m m m m m m m m m m m m m m m m m m m m m m m m m m m m m m m m m m m m m m m m m m m m m m m m m m m m m m m m m m m m m m m m m m m m m m m m m m m m m m m m m m m m m m m m m m m m m m m m m m m m m m m m m m m m m m m m m m m m m m m m m m m m m m m m m m m m m m m m m m m m m m m m m m m m m m m m m m m m m m m m m m m m m m m m m m m m m m m m m m m m m m m m m m m m m m m m m m m m m m m m m m m m m m m m m m m m m m m m m m m m m m m m m m m m m m m m m m m m m m m m m m m m m m m m m m m m m m m m m m m m m m m m m m m m m m m m m m m m m m m m m m m m m m m m m m m m m m m m m m m m m m m m m m m m m m m m m m m m m m m m m m m m m m m m m m m m m m m m m m m m m m m m m m m m m m m m m m m m m m m m m m m m m m m m m m m m m m m m m m m m m m m m m m m m m m m m m m m m m m m m m m m m m m m m m m m m m m m m m m m m m m m m m m m m m m m m m m m m m m m m m m m m m m m m m m m m m m m m m m m m m m m m m m m m m m m m m m m m m m m m m m m m N N m m m m m m m m m m m m m m m m m m m m m m m m m m m m m m m m m m m m m m m m m m m m m m m m m m m m m m m m m m m m m m m m m m m m m m m m m m m m m m m m m m m m m m m m m m m m m m m m m m m m m m m m m m m m m m m m m m m m m m m m m m m m m m m m N N m m m m m m m m m m m m m m m m m m m m m m m m m m m m m m m m m m m m m m m m m m m m m m m m m m m m m m m m m m m m m N m m m m m m m m m m m m m m m m m m m m m m m m m m m m m m m m m m m m m m m m m m m m m m m m m m m m m m m m m m m m m m m m m m m m m m m m m m m m m m m m m m m m m m m m m m m m m m m m m m m m m m m m m m m m m m m m m m m N N m m m m m m m m m m m N N m m m m m m m m m m m m m m m m m m m m m m N m m m m m m m m m m m m m m m m m m m m m m m m m m m m m m m m m m m m m m m m m m m m m m m m m m m m m m m m m m m m m m m m m m m m m m m m m m m m m m m m m m m m m m m m m m m m m m m m m m m m m m m m m m m m m m m m m m m m m m m m m m m m m m m m m m m m m m m m m m m m m m m m m m m m m m m m m m m m m m m m m m m m m m m m m m m m m m m m m m m m m m m m m m m m m m m m m m m m m m m m m m m m m m m m m m m m m m m m m m m m m m m m m m m m m m m m m m m m m m m m m m m m m m m m m m m m m m m m m m m m m m m m m m m m m m m m m m m m m m m m m m m m m m m m m m m m m m m m m m m m m m m m m m m m m m m m m m m m m m m m m m m m m m m m m m m m m m m m m m m m m m m m m m m m m m m m m m m m m m m m m m m m m m m m m m m m m m m m m m m m m m m m m m m m m m m m m m m m m m m m m m m m m m m m m m m m m m m m m m m m m m m m m m m m m m m m m m m m m m m m m m m m m m m m m m m m m m m m m m m m m m m m m m m m m m m m m m m m m m m m m m m m m m m m m m m m m m m m m m m m m m m m m m m m m m m m m m m m m m m m m m m m m m m m m m m m m m m m m m m m m m N N N m m m m m m m m m m m m m m m m m m m m m m m m m m m m m m m m m m m m m m m m m m m m m m m m m m m m m m m m m m m m m m m m m m m m m m m m m m m m m m m m m m m N N N N m m m m m m m m m m m m m m m m m m m m m m m m m m m m m m m m m m m m m m m m m m m m m m m m m m m m m m m m m m m m m m m m m m m m m m m m m m m m m m m m m m m m m m m m m m m m m m m m m m m m m m m m m m m m m m m m m m m m m m m m m m m m m m m m m m m m m m m m m m m m m m m m m m m m m m m m m m m m m m m m m m m m m m m m m m m m m m m m m m m m m m m m m m m m m m m m m m m m m m m m m m m m m m m m m m m m m m m m m m m m m m m m m m m m m m m m m m m m m m m m m m m m m m m m m m m m m m m m m m m m m m m m m m m m m m m m m m m m m m m m m m m m m m m m m m m m m m m m m m m m m m m m m m m m m m m m m m m m m m m m m m m m m m m m m m m m m m m m m m m m m m m m m m m m m m m m m m m m m m m m m m m m m m m m m m m m m m m m m m m m m m m m m m m N m m m m m m m m m m m m m m m m m m m m m m m m m m m m m m m m m m m m m m m m m m m m m m m m m m m m m m m m m m N m m m m m m m m m m m m m m m m m m m m m m m m m m m m m m m m m m m m m m m m m m m m m m m m m m m m m m m m m m m m m m m m m m m m m m m m m m m m m m m m m m m m m m m m m m m m m m m m m m m m m m m m m m m m m m m m m m m m m m m m m m m m m m m m m m m m m m m m m m m m m m m m m m m m m m m m m m m m m m m m m m m m m m m m m m m m m m m m m m m m m m m m m m m m m m m m m m m m m m m m m m m m m m m m m m m m m m m m m m m m m m m m m N m m m m N m m m m m m m m m m m m m m m m m m m m m m m m m m m m m m m m m m m m m m m m m m m m m m m m m m m m m m m m m m m m m m m m m m m m m m m m m m m m m m m m m m m m m m m m m m m m m m m m m m m m m m m m m m m m m m m m m m m m m m m m m m m m m m m m m m m m m m m m m m m m m m m m m m m m m m m m m m m m m m m m m m m m m m m m m m m m m m m m m m m m m m m m m m m m m m m m m m m m m m m m m m m m m m m m m m m m m m m m m m m m m m m m m m m m m m m m m m m m m m m m m m m m m m m m m m m m m m m m m m m m m m m m m m m m m m m m m m m m m m m m m m m m m m m m m m m m m m m m m m m m m m m m m m m m m m m m m m m m m m m m m m m m m m m m m m m m m m m m m m m m m m m m m m m m m m m m m m m m m m m m m m m m m m m m m m m m m m m m m m m m m m m m m m m m m m m m m m m m m m m m m m m m m m m m m m m N m m m m m m m m m m m m m m m m m m m m m m m m m m m m m m m m m m m m m m m m m m m m m m m m m m m m m m m m m m m m m m m m m m m m m m m m m m m m m m m m m m m m m m m m m m m m m m m m m m m m m m m m m m m m m m m m m m m m m m m m m m m m m m m m m m m m m m m m m m m m m m m m m m m m m m m m m m m m m m m m m m m m m m m m m m m m m m m m m m m m m m m m m m m m m m m m m m m m m m m m m m m m m m m m m m m m m m m m m m m m m m m m m m m m m m m m m m m m m m m m m m m m m m m m m m m m m m m m m m m m m m m m m m m m m m m m m m m m m m m m m m m m m m m m m m m m m m m m m m m m m m m m m m m m m m m m m m m m m m m m m m m m m m m m m m m m m m m m m m m m m m m m m m m m m m m m m m m m m m m m m m m m m m m m m m m m m m m m m m m m m m m m m m m m m m m m m m m m m m m m m m m m m m m m m m m m m m m m m m m m m m m m m m m m m m m m m m m m m m m m m m m m m m m m m m m m m m m m m m m m m m m m m m m m m m m m m m m m m m m m m m m m m m m m m m m m m m m m m m m m m m m m m m m m m m m m m m m m m m m m m m m m m m m m m m m m m m m m m m m m m m m m m m m m m m m m m m m m m m m m m m m m m m m m m m m m m m m m m m m m m m m m m m m m m m m m m m m m m m m m m m m m m m m m m m m m m m m m m m m m m m m m m m m m m m m m m m m m m m m m m m m m m m m m m m m m m m m m m m m m m m m m m m m m m m m m m m m m m m m m m m m m m m m m m m m m m m m m m m m m m m m m m m m m m m m m m m m m m m m m m m m m m m m m m m m m m m m m m m m m m m m m m m m m m m m m m m m m m m m m m m m m m m m m m m m m m m m m m m m m m m m m m m m m m m m m m m m m m m m m m m m m m m m m m m m m m m m m m m m m m m m m m m m m m m m m m m m m m m m m m m m m m m m m m m m m m m m m m m m m m m m m m m m m m m m m m m m m m m m m m m m m m m m m m m m m m m m m m m m m m m m m m m m m m m m m m m m m m m m m m m m m m m m m m m m m m m m m m m m m m m m m m m m m m m m m m m m m m m m m m m m m m m m m m m m m m m m m m m m m m m m m m m m m m m m m m m m m m m m m m m m m m m m m m m m m m m m m m m m m m m m m m m m m m m m m m m m m m m m m m m m m m m m m m m m m m m m m m m m m m m m m m m m m m m m m m m m m m m m m m m m m m m m m m m m m m m m m m m m m m m m m m m m m m m m m m m m m m m m m m m m m m m m m m m m m m m m m m m m m m m m m m m m m m m m m m m m m m m m m m m m m m m m m m m m m m m m m m m m m m m m m m m m m m m m m m m m m m m m m m m m m m m m m m m m m m m m m m m m m m m m m m m m m m m m m m m m m m m m m m m m m m m m m m m m m m m m m m m m m m m m m m m m m m m m m m m m m m m m m m m m m m m m m m m m m m m m m m m m m m m m m m m m m m m m m m m m m m m m m m m m m m m m m m m m m m m m m m m m m m m m m m m m m m m m m m m m m m m m m m m m m m m m m m m m m m m m m m m m m m m m m m m m m m m m m m m m m m m m m m m m m m m m m m m m m m m m m m m m m m m m m m m m m m m m m m m m m m m m m m m m m m m m m m m m m m m m m m m m m m m m m m m m m m m m m m m m m m m m m m m m N m m m m m m m m m m m m m m m m m m m m m m m N N N N m m m m m m m m m m m m m m m m m m m m m m m m m m m m m m m m m m m m m m m m m m m m m m m m m m m m m m m m m m m m m m m m m m m m m m m m m m m m m m m m m m m m m m m m m m m m m m m m m m m m m m m m m m m m m m m m m m m m m m m m m m m m m m m m m m m m m m m m m m m m m m m m m m m m m m m m m m m m m m m m m m m m m m m m m m m m m m m m m m m m m m m m m m m m m m m m m m m m m m m m m m m m m m m m m m m m m m m m m m m m m m m m m m m m m m m m m m m m m m m m m m m m m m m m m m m m m m m m m m m m m m m m m m m m m m m m m m m m m m m m m m m m m m m m m m m m m m m m m m m m m m m m m m m m m m m m m m m m m m m m m m m m m m m m m m m m m m m m m m m m m m m m m m m m m m m m m m m m m m m m m m m m m m m m m m m m m m m m m m m m m m m m m m m m m m m m m m m m m m m m m m m m m m m m m m m m m m m m m m m m m m m m m m m m m m m m m m m m m m m m m m m m m m m m m m m m m m m m m m m m m m m m m m m m m m m m m m m m m m m m m m m m m m m m m m m m m m m m m m m m m m m m m m m m m m m m m m m m m m m m m m m m m m m m m m m m m m m m m m m m m m m m m m m m m m m m m m m m m m m m m m m m m m m m m m m m m m m m m m m m m m m m m m m m m m m m m m m m m m m m m m m m m m m m m m m m m m m m m m m m m m m m m m m m m m m m m m m m m m m m m m m m m m m m m m m m m m m m m m m m m m m m m m m m m m m m m m m m m m m m m m m m m m m m m m m m m m m m m m m m m m m m m m m m m m m m m m m m m m m m m m m m m m m m m m m m m m m m m m m m m m m m m m m m m m m m m m m m m m m m m m m m m m m m m m m m m m m m m m m m m m m m m m m m m m m m m m m m m m m m m m m m m m m m m m m N m m m m m m m m m m m m m m m m m m m m m m m m m m m m m m m m m m m m m m m m N m m m m m m m m m m m m m m m m m m m m m m m m m m m m m m m m m m m m m m m m m m m m m m m m m m m m m m m m m m m m m m m m m m m m m m m m m m m m m m m m m m m m m m m m m m m m m m m m m m m m m m m m m m m m m m m m m m m m m m m m m m m m m m m m m m m m m m m m m m m m m m m m m m m m m m m m m m m m m m m m m m m m m m m m N N N m m m m m m m m m m m m m m m m m m m m m m m m m m m m m m m m m m m m m m m m m m m m m m m m m m m m m m m m m m m m m m m m m m m m m m m m m m m m m m m m m m m m m m m m m m m m m m m m m m m m m m m m m m m m m m m m m m m m m m m m m m m m m m m m m m m m m m m m m m m m m m m m m m m m m m m m m m m m m m m m m m m m m m m m m m m m m m m m m m m m m m m m m m m m m m m m m m m m m m m m m m m m m m m m m m m m m m m m m m m m m m m m m m m m m m m m m m m m m m m m m m m m m m m m m m m m m m m m m m m m m m m m m m m m m m m m m m m m m m m m m m m m m m m m m m m m m m m m m m m m m m m m m m m m m m m m m m m m m m m m m m m m m m m m m m m m m m m m m m m m m m m m m m m m m m m m m m m m m m m m m m m m m m m m m m m m m m m m m m m m m m m m m m m m m m m m m m m m m m m m m m m m m m m m m m m m m m m m m m m m m m m m m m m m m m m m m m m m m m m m m m m m m m m m m m m m m m m m m m m m m m N m m m m m m m m m m m m m m m m m m m m m m m m m m m m m m m m m m m m m m m m m m m m m m m m m m m m m m m m m m m m m m m m m m m m m m m m m m m m m m m m m m m m m m m m m m m m m m m m m m m m m m m m m m m m m m m m m m m m m m m m m m m m m m m m m m m m m m m m m m m m m m m m m m m m m m m m m m m m m m m m m m m m m m m m m m m m m m m m m m m m m m m m m m m m m m m m m m m m m m m m m m m m m m m m m m m m m m m m m m m m m m m m m m m m m m m m m m m m m m m m m m m m m m m m m m m m m m m m m m m m m m m m m m m m m m m m m m m m m m m m m m m m m m m m m m m m m m m m m m m m m m m m m m m m m m m m m m m m m m m m m m m m m m m m m m m m m m m m m m m m m m m N "
     ]
    },
    {
     "name": "stderr",
     "output_type": "stream",
     "text": [
      "/tmp/ipykernel_26/3264025667.py:22: RuntimeWarning: Mean of empty slice\n",
      "  mn = np.nanmean(bin_eeg)\n"
     ]
    },
    {
     "name": "stdout",
     "output_type": "stream",
     "text": [
      "m m m m m m m m m m m m m m m m m m m m m m m m m m m m m m m m m m m m m m m m m m m m m m m m m m m m m m m m m m m m m m m m m m m m m m m m m m m m m m m m m m m m m m m m m m m m m m m m m m m m m m m m m m m m m m m m m m m m m m m m m m m m m m m m m m m m m m m m m m m m m m m m m m m m m m m m m m m m m m m m m m m m m m m m m m m m m m N m m m m m m m m m m m m m m m m m N m m m m m m m m m m m m m m m m m m m N N m m m m m m m m m m m m m m m N N N m m m m N m m m m m m m m m m m m m m m m N m m m m m m m m m m N m m m m m m m N m m m m m m m m m m m m m m m m m m m m m m m m m m m m m m m m m m m m m N m m m m m m m m m m m m m m m m N m m N m m m m m m m m m m m m m m m m m N m m m m m m m m m m m m m m m m m m m m m m m m m m m m m m m m N m m m m m m m m m m m m m m m m m m N m m m m m m m m N m m m m m m m N m m m m m m m m m m m m m m m m m m m m m m m m m m m m m m m m m m m m m m m m m m m m m m m m m m m m m m m m m m m m m m m m m m m m m m m m m m m m m m m m m m m m m m m m m m m m m m m m m m m m m m m m m m m m m N m m m m m m m m m m m m m m m m m m m m m m m m m m m m m m m m m m m m m m m m N N N m N m m m m N m m m m N m m m m m m m m m m m m m m m m m m m m N m m m N m m m m m N m m m m m m m m m m m m m m m m m m m m m m m m m m m m N m m m m m m m m m m m m m m m m m m m m m m N m m m m m m m m N m m m m m m m m m m m m m m m m m m m m N m m m m m m m m m m m m m m m m m m m N m m m m m m m m m m m m m m m m m m m m m m N m m m m m m m m m m m m m m m m m m m m m m m m m m m m m m m m m m m m m m m m m m m m m m m m m m m m m m m m N m m m m m m m N m m m m m m m m m m m m m m m m m m m m m m m m m m m m m m m m m m m m m m m m m m m m m m m m m m m m m m m m m N m m m m m m m m m m m m m m m m m N m m m m m m m m m m m m m N m m m m m m m m m m m m m m m m m m m m m m m m m m m m m m m m m m m m m m m m m m N m m m m N m m m m m m N m m m m m m m m m m m N N m m m m m m m m m m m m m m m m m m m m m m m m m m m m m N m m m m m m m m m m m m m m m m m m m m m m m m m m m m m m m m m m m m m m m m m m N m m m m m m m m m m m m m N N m m m N m m m m m m m m m m m m m m m m m m m m m m m m m m m m m m m m m m m m m m m m m m m m m m m m m m m m m m m m m m m m m m m m m m m m m m N m m N m m N m m m m m m m m m m m m m m m m m m m m m m m N m m m m m m m m m m m N m m m m m N m m N m m m m m N N m m m m m m m m m m m m m m m m m N m m m m m m N N m m m m m N m m m m m m m m m m m m m m m m m m m m m N m m m m m m m m m m m m m m N m m m m m m m m m m N m m m m m m m m m m m m m m m m m m m m m m m m m m m m m m m m m m m m m m m m N m m m m m m m m m m m m N m m m m m m m N m m m m m m m m m m m m m m m m m m m m m m N m m m m N m m m m m m m m m N N N m m m m m m m m m m m m m m m m m m m m m m m m m m m m m m m m m m m m m N m m m m m m m m m m m m m m m m m m m m m m m m m m m m m m m m m m m m m m m m m m m m m m m m m m m m m m m m N m m m m m m m m m m m m m m m m m m m m m m m m m m m m m m m m m m m m m m m m m m m m m m m m m m m N m m m m m m m m m m m m m m m m m m m m m m m m m m m N m m m m m m m m m m m m m m m m m m m m m m m m m m m N m m m N m m N m N m m m m m m m m m m N m m m m m m m m m m m m m m m m m m m m m m m m N m m m N m m m m m m m m m m m m m m m m m m m m N m m m m N m m m m m m m m m m m m m m m m m m m m m m m m m m m m m m m m m N m m m m m m m m m m m m m m m m m m m m m m m m m m m m m N m m m m m m m m m m m m m m m m m m m m m m m m m m m m m m m m m m m m m m N m m m m m m m m m m m m m m m m N N m m m m m m m m m m m m m m m m m m m N m m m m m m m m m m m m m m m m m m m m m m N m N m m m m m m m m m m m m m m m m m m m m m m m m m m m m m m m m m m m m m N N m N m m m m m m m m m m m m m m m m m m N m N m m m m m m m m m m m m m m m m m m m m N m m m m m m m N m m m m m m m m m m m m m m m m m m m m m m m m m m m m m m m m m m m m m N m m m m m m m N m m m m m m m m m m m m m m m m m m m m m m m m m m m m m m m N m m m m m m m m m m m N N m m m m m m m m m m m m m m m N m m m m m m m m m m m m m m m m m m m m m m m m m m m m m m m m N N m N m m m m m N m m m m m m N m m m m m m m m m m m m m m m m m m m m m m m m m m m m m m N m m m m m m m m m m m m m m m m m m m m m m m m m m m m m m m N m m m m m m m m m m m m m m m m m m m m N m m m N N N m m m m m m m m m m m m m m m m m m m m m m m m m m m m m m m N N m m m m m m m m m m m m N m m m m m m m m m m m m m m m m m m m m m m m m m m m m m N m m m m m m m m m m m m m m m m m m m m m m m m m m N m m m m m m m m m m m m N m m m m m m m m m m m m N m m m m m m m N m N N m m m m m m m m m m m m m m m m m m m m m m m m m m m m m m m m m m m m m m m N m m m m m m m m m m m m m m m m m m m m m m m m m m N m m m m m m m m m m m m m m m m m m m m m m m m m m m m m m m m m m m m m m m m m m m m m m m m m m m m m m m m m m m m m m m m m m m m m m m m m m m m m N m m m m m m m m N m m m m m m m m m m m N m m m m m m m m m m m m m m m m m m m m m m m m m m m m m m m m m m m m m m m m m m m m m m m m m m m N m m m m m N m m m m m m m m m m m m m m m m m m m m m m m m m m m m N m m m m m m m m m m m m m m m m m m m m m m m m N m m m m m m m m m m m m m m m m m m m m m N m m m N m m m m m m m m m m m m m N m m m m m m m m m m m m m m m m m m m m m m m m m m m m m m m m m m m m m m m m m m m m N m m m N m m m m m m m m m m m m m m m m m m m m m m m m m m m m m m m m m m m m N m m m m m N m m m m m m m m m m m m m m m m m m m m m m m N m m m m m m m m m m m m m m m m m m m m m m m m m m m N m m m m m m m m m N m m m m m m m m N m m m m m m N m m m m m m m m m m m m m m m m m N m m m m m m m m m m m m m m m m m m m m m m m m m m m m m m m m m N m m m m m m m m m m m m m m m m m m m m m m m m m m m m m m m m m m m m N N m m N m m m m m m m m m m m m m m m m m m m m m m m m N m m m m m N m m m m m m m m m m m m m N m m m m m m m m m m m m m m m m m m m m m m m m m m N m m m m m m m m m m m m m m m m m m m m m m m N m m m m m m m m m m m m m m m m m m m m m m m N m m N m m m m m m m N m m m m m m m m m m m m m m m m m m m m m m m N m m m m m m m m m m m m m m m m m m m m m m m m m m m m m m m N m m m m m m m m m m m m N m m m N m m m m m m m m m m m m m m m m m N m m m m m m m m m m m m m m m N N m N m m m m m m m m m m m m m m m m m m m m m m m m m N m m m m m m m m m m m m m m m m m m m m m m m m m m N m m m m N "
     ]
    },
    {
     "name": "stderr",
     "output_type": "stream",
     "text": [
      "/tmp/ipykernel_26/3264025667.py:22: RuntimeWarning: Mean of empty slice\n",
      "  mn = np.nanmean(bin_eeg)\n"
     ]
    },
    {
     "name": "stdout",
     "output_type": "stream",
     "text": [
      "m m m m m N N m m m N m m m m m m m m m N m m m m m m m m m m N m m m m m m m m m m m m m m m N m m m m m m N m m m m m m m m m m m m m m N N m m m m m m m m m m m m m m m m m m m m m m m m m m m m m m m m m m m m m m m m m m m m m m m m m m m N m m m N m m m m m m m m m m m m m m m m m m m m m m m m m m m m m m m m m m m m N "
     ]
    },
    {
     "name": "stderr",
     "output_type": "stream",
     "text": [
      "/tmp/ipykernel_26/3264025667.py:22: RuntimeWarning: Mean of empty slice\n",
      "  mn = np.nanmean(bin_eeg)\n"
     ]
    },
    {
     "name": "stdout",
     "output_type": "stream",
     "text": [
      "m m m m m m m m m m m m m m m m m m m m m m m m m m m m m m m m m m m m m m m m m m m m m m N m m m m m m m m N m m m N m m m m m m m m m m m m m m m N m m m m m m m m m m m m m m m m m m m m m m m m m m m m m m m m m m m m m m m N m m m m N m m m m m m m m N m m m m N m m m m m m m m m m m m m m m m m m m m m m m m m N m m m N m m m m m m m m N m m m m m m m m m m m m m m m m m m m m m m m N m m m m m m m m m m m m m m m m m m m m m m m N m m m m m m m m m m m m m m m m m m m N m m m m m m m m m m m m m m m m m m m m m m m m m m m m m m m m N m m m m N m N m m m m N m m m m m m m m m m m m m m m m m m m m m m m m m m m N m m m m m m m m m m m m N m m m m m m m m m N m m m m N m m m N m m m m m m m m m m m m m m m m m m m m m m m m m m m m m m m m m m m m m m m m N m m m m m m m m m m m m m m m m m m m m m m m m N m m m m N N m m m m m m m m m N m m m N m m m m m m N N m m m m N m m m N m m m m m m m N m m m m m m m m m m m N m m N m m m m m m m m m m m m m m m m m m m m N m m m m m m m m m m m m m m m N m m m m m m m N m m m m m m m m m m m m m m m m m m m m m m m m m m m m m m m m m m m m m m m m m m m m m m m m m N m m N m m m m m m m m m m m m m m m m m m m m m m m m m m m m m m m m m m m m m m m m m m m m m m m m m m m m m m m m m m m m m m m m m m m m m m m m m m m m m m m m m m m m m m m m m m m m m m m m m m m m m m m m m m m m N m m m m m m m m m m m m m m m m m m m m m m m m m m m m m m m m m m m m m m m m N m m m m m m m m m m m m m m m m m m m m m m m m m m m m m m N m m m m m m m m m m m m m m m m m m m m m m m m m m N m m m m m m m m m m m m m m m m m m m m m m m m m m m m m m m m m m m m m m m m m m m m m m m m m m m m m m m m m m m m m m m m m m m m m m m m m m m m m m m m m m m m m m m m m m m m m m m m m m m m m m N N m m m m m m m m m m N m m m m m m m m m m m m m m m m m m m m m m m m m m m m m m m m m m m m m m m m m m m m m N m m m m m m m m m m m m m m m m m m m m m m m m m m N m N m m m N N m m m m N m m m m m m m m m m m m m m m m m m m m m m m m m m m m m m m m m m m m m m m m m m m m m m m m m m m m m m m m m m m m m m m m m m m m m m m m m m m m m m m m N m m m m m m m m m m m m m m m m m m m m m m m m N m m m m m m m m m m m m m m m m m m m m m m m m m m m m m m m m m m m m m m m m m m m m m m m m m m m m m m m m m m m m m m m m m m N m m m m m m m m m m m m m m m m m m m m m m m m m m m m m m m m m m m m m m m m m m m m m m m m m m m m m m N m m m m m m m m m m m m m m m m m m m m m m m m m m m m N m m m m m m m m m m m m m m m m m m N m m m m m m m m m m m m m m m N m m m m m m m m m m N m N m m N m m m m m m m m N m m m m N m m m m m m m m m m m m N N m m m m m m N m m m m N m m m m m m m m m N m m m m m m m m m m m m m m m m N m m m m m m m m m m m m m m m m m N m m m m m m m m m m m m m m m m m m m m m m m m m N m m m m m N m m m m m m m m m m m m m m m m m m m m m N m m m m m m m m m m m m m m m m m m m m m m m m m m N m m m m m m m m m m m m m m m m m m m m m m m m m m m m m m m m m m m m m m m m m m m m m m m m m m m m m m m m m m m m m m m m N m m m m m m m m m m m m m m m m m m m m m m m m m m N m m m m m m m m m m m m N N m m m m m m N m m m m m m N m m m m m m m m N m m m m m m m m m m N m N m m m m m m m m m m m m m m m m N m m m m m m m m m m m N m m m m m m m m m m m m m m m N m m m m m m m m m m m m m N m m m m m m m m m m m m m m m m m m m m m m m m m m m m m N m m m m m m m m m m m m m m m m m m m m m m m m m m m m m m m m m m m m m m m m m m m m m m m m m m m m m m m m m m m m m m m m m m m m m m m m m m m m m m m m m m m m m m m m m m m m m m m m N m m m m m m m m m m m m m m m m m m m m m m m m m N m m m m m m m m m m m m m m m m m m m m m m m m m m m m m m m m m m m m m m m m m m m m m m m m m m m m m m m m m N m m m m m m m m m m m m m m m m N m m m m m N m m m m m N m m m m m m m m m m m m m m m m m m m m m m m m m m m m m m m m N m m m m m m m m N m m m m m m m m m m m m m m m m m m m m m m m m m N m m m m m m m m m m m m m m m m m m m m m m m N N m m m m m m m m m m m m m N m m m m m m m m m m m m m m m m m m m m m m m m m m m m m m m m m m m m m m m m m m m m m m m m m N m m m m m m m m m m m m m m m m m m m m m m m m N m N m m m m m m m m m m m m m m m m m m m m m N m m m m m m m m m m N m m m m m m m m m m m m m m m m m m m m m m m m m m m m m m m m N m m m m m m m m m m m m m m N m m m m m m m m N m m m m m m m m m m m m m m m m m m m m m m m m N m m N N m m m m m m m m m m m m m m m m m m m m m m m m m m m m m N m m m m m m m m m m m m N m N m m m m m m m m m m N m m m m m m m m m m m m m m m m m m m m m N m m N m m m m m m m N m m m m m m m m m m m m m m m m m m m m m m N m m m m m m m m N m m m m m m m m m m m m m m N m m m m m m m m m m m m m m m m m m m m m m m m m m m m m m N m m m m m m m m m m m m m m m m m m m m m m m m m m m m m m m m m m m m m m N m m m m m m N m m m m m m m m m m m m m m m N m m m m m m m m m m m m m N m m m m m m m N m m m m m m m m m m m m m m m m N m m m m m m m m m m m m m m m m N m m m m m m m m m m m m m m m m m m m m m m m m m m m m m m m m m m m N m m N m m m m m m N m m m m N m m N m m m m m m m m m m m m m m m m m m m m m m m m m m m m m N m m m m m m m m m N m N m m m m m m m m m m m m m m m m m m m N m m m m m m m m m m m m m m m m m m m N m m m N m m m m m m m m m m m N m m m m m m m m m m m m m m m m m m m m m m m N m m m m m m m m m m m m m m m m m m N m m m m m m m m m m m m m m m m m m m m m m m m m m m m m m m m m m m m m m m N m m m m m N m m m m m m m N m m m m m m m m m m m m m m m m m N m m m m m m m m m m m m N m m m m m m m m m m m m m m m m m m m m m m m m m m N N m m m m m m m m m m m m m m m m m m m m N m m m m m m m m m m m m m m m m m m m m m m m m m m m m m m N m m m m m N m m m m m m m m N m m m m m m m m m m m m m m m m m m m m m m N m m m m m m m m m m m m m m m m m m m m m m m N m m m m m m m m m m m N m m m m N m m m m m m m m m m m m N m m m m m m m m m m m m m m m m m m m m m m m m m m m m m m m m m m m m N m m m N m m m m m m m m m m m m m m m m m m m m m m m m m m m m m m m m m m m m m m m m m m m m m m m m m m m m m m m m m m m m m m m m m m m m N m m m m m m m m m m m N m m m m m N m m m m m m m m m m m m m m m m m m m m m m m m m m m N m m m m N m m m m m m m m N m m m m m m m m m m m m m m m m m m m m m m m m N m m m m m m m m m m m m m m m m m m N m m m m N m m m m m m m m m m m m m m m m m m m m m m m N m m m m m m m m m m m m m m m m m N m m m m m m m m m m N m N m m m m m m m m m m m m m m m m N m m m m N m m m m m m m N m m m m m m m N m m m m m m m m m m m m m N m m m m m m m m m m m m m m m m m m m m m m m m m m m m m N m m m m m m m m m m m m m m m m m m m m m m m m m m m m m m m m m m m m m m m m N m m m m m m m m m m m m m m m m m m m N m m m m m m m m m m m m m m m m m m m m m m m m m m m m m m m m m m m m m N m m m m m m m m m m m m m m m m m m m m m m m m m m m m m m m m m m m m m m m m m m m m N m m m m m m m m m m m m m m m m m m m m m m m m m m m m m m m m m m m m N m m m m m m m m m m m m m m m m m m m m m m m m m m m m m m m m m m m m m m m m m m m m m m m m m N m m m m m m m m N N N m m m m m m m m m m m m m m m m m m m m m m m m m m N m m m N m m m N m m m m m m m m m m m m m m m m m m m m m m N m m m m m m m m m m m m m m m m m m m m m m m m m m m m m m m m m m m m m m m m m N m m m m N m m m m m m m m m m m m m m m m m m m m m m m m m m m m m m m m N m m m m m m m m N m m m m m m m m m m m m m m m m m m m m m m m m m m m m m m m m m m m m m m m m m N m m m m m m m m m m m m m m m m N m m m m m m m m m m m m m m m m m N m m m m m m m m m N m m m m m m m m m m m m m m m m m m m m m m m m m m m m m m m m m m m m m m m m m m m m m m N m m m N m m m m m m m m m m m m m m N m m N m m m m N m m m m m m m N N m m m m m m m m N m m m m m m m m m m m m m m m m m m m m m m m m m N m m m m m m m m m m m m m m m m m m m m m m m m m m m m m m m m m m m m m m m m m m m m m m m m m m m m m m m m N m m m m m m m m m m m m m m m m m m m m m m m m m m m m m m m m m m m m m m m m m m m N m m m m m m m m m m m m m m m m m m m m m m m m m m m m m m m m m m m m m m m m m m m m m m m m m m m m m m m m m m m m m m m N m m m m m m m m N m m N m m m m m m m m m m m m m m m m m m m m m m m m m m m m m m m N m m m m m m N m m m m m m m m m m m m m m m m m m m N m m m m m m m m m m m m m m m m m m m m m m m m m m m m m m m m m m m m m m m m m m m m m m m m m m m N N N m m m m m m N m m m m m N m m m m m m m m m m m m N m m m m m m m m m m m m m m N m m m m m m m m m m m m m m m m m m m m m m m m m m m m m N m m m m m m m m m m m m m m m N m m m m m m m m m m m m m N m m m m m m m m m N m m m m m m m m m m m m m m m m m m m m m m m m m m m m m m m m m m m m m m m m m m m m N m N m m m m m m m N m m m m m m m m m m N m m m m m m m m m m m N m m m m m m m m m m m m m m m m m m m m m m m m m m N m m m m m m m m m m m m m m m m m m m m m m m m m m m m m m m m m m m m m m m N m m N m m m m m m m m m m m m m m m m m m m m m m m m N m m m m m m m m m m m m m m m m m m m m m m N m m m m m m m m m m m m m m m m m m m N m m m m m m m m m m m m m m m m m m m m m m m m m m m m N m m m m m m m m m m m m m N m m m m m m m m m m N m m m m m m m m m m m m m m m m m m m m m N m N m m m m m m m m m m N m m m m m m m m m m m m m m m m m m m m m m N m m m m m m m m m m m m m m m N m m m m m m N m m m m N m m m m m N m N m m m m m m m m m m m m m m m m m m m m m m N m m m m m m m m m m m m m m m m m m m m m m m m m m m m m N m m m m m m m m m m m m m m m m m m m m N m m m m m m m m m m m m m m m m m m m m m m m m m m m m m m m m m m m m m m m m m m m m m m m N m m m m m m N m m m m m m N N N m m m m m m m m m m m m m m m m m m m m m m N N m m m m m m m m m m m m m m m m m m m m m m m m m m m m m m m m m m m m m m m m m m m m m N m m m m m N m m m m m m m m m m m m m m m m m m m m m m m m m m m N m m m m N m m m m m m m m m N m m m m m m m m m m m m N m m m m m m m m m m m m m m m m m m m m m m m m m m m m m m m m m m m m m m m N m m m m m m m m m m m m m m m m m m m m m N m m m m m m m m m m N N m m m m m m m m m N m m m N m m m m N m m m m m m m m m m m m N m N m m m N m m m m m m m m m m m m m m m m m m m m m m m m m m m m m m m m m m m m m m m m m N m m m m m m m N m m N m m N m m m m m m m m m m N m m m m m m m m m N m m m m m m m m m m m m m m m N m m m m m m m m m m m m m N m m m m m m m m m m m m m m m m m m m m m m m N m m m m m m m m m m m m m m m m m m m m m m m m N m m m m m m m N m m m m m m m m m m m m m m m m m m m m m m m m m m m m m m m m m m m m m N m m m m m m m m m m m m m m m m m N m m m m m m m m m m m m m m m m m m m m m m m m m m m m N m m m m m m m m m m m m m m m m m m m m m m N m m m m m m m m m m m m m m m m m m m m m m m m m m m m m m m m m m m m m m m m m m m m m m m m m m m m m m m m m N m m m m m N m m m m m m m m m m m m m m m m m N N m m m m m m m m m m m m m m m m m m m m m m N m m m m m m m m m m m N m N m m m m N m m m m m m m N m m m m m N m m m m m m m m m m m m m m m m m m m m m m m m m m m m m m m m m m m m m m m m m m m m m m m m m N N m m m m m m m N m m m m m m m m m m m m m m m m m m m m m m m m m m m m m m m m m N m m m m m m m m m m m m m m m m m m m m m m m m m m m m m m m m m m m N m m m m m m m m m m m m m m m m m m m m m m N m m m m m m m m m m m m m m m m m m m m m m m m N m m m m m m m m m m m m m m m N m m m m m m m m m m m m m m m m m m m m m m m m m m N m m m m m m m N m N m m m m m m m m m m N m m m m m m m m m m m m m m m m m m m m m m m m m m m m m m m m m m m m m m m m m m m m m m m m m m m m m m m m m m m m m m m m m m m m m m m m m m m m m m m m m m m m m m m m m m m m m m m m m m m m m m m m m m m m m m m N m m m m m m m m m m m m m m m m m m m m m m m m m N m m m m m m m m m m m m m m N m m m m m m m m m m m m m m m m N m m m m m m m m m m m m m m m m m N m m m m m m m m m m m m m m m m m m m m m m m m m m m m m m m m m m m m m m m m N N m m m m m m m m m m m m m m m m m m m m m m m m m N m m m m m m m N m m m m m m m m m m m m m m m m m m m m m m m m m m m m m m m m m m m m m m m m m m m m m m N m m m m m m m m m m m m m m m m m m N m m m m m m m m m m m m m m m m m m N m m m m m m m m N m m m m m m m m m m m m N m m m m m m m m m N m m m m m m m m m m m m m m m m m m m m m m m m m m m m m m m N m m m m m m m m m m m m m m N m N m m m m m m m N N m m m m m m m m m m m m m m m m m m m m m m m m m m m m m m m m m m m m m m m m m m m m m m m m m m m m N m m m N m m m m m m m m m m m m m m m m m m m m m m m m m m m m m m m m m m m m m m m m m m N m m m m m m m m m m m m m m m m m m m m m m m m m m m m m m m N m m m m m m m m m m m m m m m m m m m m m m m m m m m m m m m m m m m m m m m m N m m m m m m m m m m m m m m m m m m m m m m m m m m m m m m m m m m m m m m m m m m m m m m m m m m m N m m m m m m m m m m m m m m m m m m m m m m m m m m m m m m m m m m N m m m m m m m m m m m m m m m m m m m N m m m m m m m m N m m m m m m m m m m m m m m m m m m m m m m m N m m m m m m m m m m m m m m m m m m m N N m m m m m m m m m m m m m m m N m m m m m m m m m m m m m m m m m N m m N N m m m m m m m m m m m m N m m m m m m m m m m N m m m m N m m m m m m m m m m m m m m m m m m m m m m m m m m m m m m m N m m m m m m m m m m m m m m m m m m m m m m m m N m m m m m m m N N m m m m N m m m m m m m m m m m m m m m m m m m m m m m m m m m m m m m m m m m m m m N m m m m m m m m m m m m m m m m m m m m m m m m m m m m m m m m m m m m m m m m m m m m m m m m m m m m m m m m m m m m m m m m m m N m m m m m m m m m N N N m m m m m m m m m m m m m m m m m m m m m m m m m m m m m m m m N m m m m m m m m m m m m m m m m m m m m m m m m m m m m m m m m m m m m m m m m m m m m m m m m m m m m m m m m m m m m m m m N m m m m m m m m m m m m m m m m m m m m m m m m m m m m m m m m N N m m m m m m m m m m m m m m m N m m m m m m N m m m m m m m m m m m m m m m N m m m m m m m m m N m m m m m m m m m m m m m m m m m m m m m m m m m m m m m m m m m m m m m m m m m m m m m m m m N N N m m m m m m m m m m m N m m m m m m m m N m m m m m m m m m m m m m m m m m m m m m m m m m m m m m N m m m m m m m m m m m m m m m m m m m m m m m m m m m m N m m m m m m m m m m m m m m m m m m m m m m m m m m m m m m m m m m m m N m m m N m m m m m m N m m m m m N m m m m m m m m m m m m m m m m m m m m m m m m m N m m m m m m m m m N m m m m m m m m m m m m m m m m m m m m m N m m m N m m m m m m m m m m m m m m m m m m m m m m m m m m m m m m N m m m m m m m m m m m m N m m m m m m m m m m m m m m m m m m m m N m m m m m m m m m m m m m m m m m m m m m m m N m m m m m m m m m m m m m m m m m m m m m m m m m m m m m m m m m m m m m N m m m m m m m N m m m m m m m m m N m m m m m m m m m m N m m m m m m m m m N m m m m m m m m m m N m m m m m m m m m m m m m m m m m m m m m m m m m m m m m N m m m m m m m m m m m m m m m m m m m m m m N m m m m N m m m m m m m m m m m m m m m m m m m m m m m m m m m m m m m m m m m m m m m m m m m m m m m N m m N m m m m m m m m m m m m m m m m m m m m m N m m m m m m m m m m m m m m m m m m N m m m m m m m m m m m m m m m m m m m m m m m m m m m m N m m m m m m m m m m m m m m N m m m m m m m m m m m m m m m m m m m m m m m m m m N m m m m m m m N m m m m m m m m m m m m m m m m m m m m m m m m m m m m m m m N m m m m m m m m m m m m m m m m m m m m m m m m m N m m m m m m m m m m m m m m m m m m m m N m m N m m m m m m m m m m m m m m m N m m m m m m m m m m m m m m m m m m m m m m m m m m m m m m m m m m m m m m m m m m m m m m m m m m N m m m m m m m m m m m m m m m m m m m m m m m m m m m N m m m m m m m m m m m m m m m m N N m N m m m N m m m m m m m N m m m N m m m m m m m m m m m m m m N N m m m N m m m m m m m m m m m m m m m m m m m m m m m m m m N m m m m m m m m m N m m m m m m m m m m m m m m m m m m m m m N m m m m m m m m m m m m m m m m m N m m N m m m m m m m m m m m m m m m m m m m N m m m m m m m m m m m m N m m m m m m m m m m m m m m m m m m m m m m m m m m N m m m m m m m m m m m m m N m m m m m m m m m m m m m m m m m m m m m m m m m m m m m m m N m m m m N m m m m m m m m m m m m m m m N m m m m m m m m m m m m m N m m N N m m m m m m m m m m m m m m m m m N m m m m m m m m m m m m m m m N m m m N m m N m m m m m m m m m m m m m m m m m m m N m N m m m m m m m m m m m m m m m m m m m m m m m m m m N N N N N m m m m m m m m m m m m m m m m m m m m m m m m m m N m m m m m m m m m m m m m m m m m m m m m m m m m m m m m m m m m m N m m m m m m m m m m m m m m N m m m m m m m m N m m m m m m m m m m m m m m m m m m m m m m N m m m m m m m m m m m m m m m m m m m m m m m m m m m m m m m m m m m m m m N m m m m m m m N m m m m m m m m m m m m m m m m m m m m m m m m m m m m m m m m m m m m m m m m m m m m m m m m m m N m m m m m m m m m m m m m m m m m m m m m m m m m m m m m m m m m m N N m m m m m m m m m m m m m m m m m m m m m m m m m m N m m m m m m m m m m m m m m m m m m m m m m m m N m m m m N m m m m m m m m m m m m m m m m m m m m m m m m N m m m m m m m m N m m m m m m m m m m m m m m m m m m m m m m m m m m m m m m m m m m m m m m m m m m m m m m m m N m m m m m m m m m N m m m m m m m m m m m m m m m m m m m m m m m m m m m m m m m m m m m m m m m m m m N m m m N m m m m m m m m m m m m m m m m N m m N m m m m m m m m m N m m N m m m m m m m m m m m m m N m m m N m m m m m m m m m m m m m m m m m m m m m m N m m m m m m m m m m m m m m m m m m m m m N m m m m m m m m m m m m m m m m m m m m m m m m m m m m m m m N m m m m m m m m m m m m m m m m m m m m m m N m m m m m m m m m m m m m m m m m m m m m m m m m N m m m m m N m m m m m m m m m m m m m m m m m m m m m m N m m m m m m m m m m m m m m m m m m m m m m m m m m m m m m m m m m m m m m m m m m m m m m m m m m m m N m m m m m m N m m m m m m m m m m m m m m m m N m m m m m m N m m N m m N m m m m m m m m m m m m m m m m m m m m m m m N m m m m m m m m m m m m m N m m m m m m m m m m m m m m m m N m m m m m N m m m m N m m m m m m m m m m m m m m m m m m N m m m m m m m m m m m m m m m m m m m m m m m m m m m m m m m m N m m m m m m m m m m m m m m m m m m m m m m m m N m m m m N m m m m m m m m m N m m m m m m m m m m m m N m m m m m m m m m m m m m m m m m m m m m m m m m m m m N N m m m m m m m m m m m m m m m m m m m m m m m m m m m m m m N m m m m m m m m m m m m N m m m m m m m m m m m m m m m m m m m m m m N m m m m m m m m m m m m m m m m N m m m m m m m m m N m m m m m m m m m N m m N m m m m m N m m N m m m m m m m m m m m m m m m m N m m m m m m m m N m m m N m N m m m m m m m m m m m m m m m m m m m N m m m m m m m m m m m m m m m m m m m m m m m m m m m m m m m N m m m m m m m m m m m m m m m m m m m m m m m m m m m m m m m m m m m m m m m m m m m m N m m m m m N m m m m m m m m m m m m m m m N m N m m m m m m m m m m m m m m m m m m m m m m m m m m m m m m m m m m m N N N N m m m m m m m m m m m m m m m m m m m m m m m N m m m m m m m m m m m m m m m m m m m m m m m m m m m m m m m m m m m m m m m m m m m m m m m m m m m m N m m m m m m m m m m m m m m m m m m m m m N N N N N m m m m m m m m m m m m m m m m m m N m m m m m m m m m N m m m m m m m m m m m m m m m m m m m N m m m m m m m m m m m m m m m m m m m m m m m m m m m m m m m m m m m m m m m m m m m m m m m m m m m m m m m m m m m m m m m m m m m N m m m m m m m m m m m m m m m m m N m m m m m m m m m m m m m m m m m m m m m m m N m m m m m m m m m m m N m N N m m m m N m m m m m m m m m m m m m m m m m m m N m m m m m m m m m m m N m m m m m m m m m m m m m m m m m m m m m m m m m m m m m m m m m m m N m m m m m m m m m m m N m m m m m m m N m m m m m m m m m m m N m m m m m m m m m m m m m m m m m m m m m m m m m m m m m m m m m N m m m m m m m m m m m m m m m m m m m m m m m m m m m m m m m m N m m N m m N N m m m m m m m m m m m N m m m m N m m m m m m m m m m m m m m m m m m m m m m N m m m m m m m m m m m m m m m m m m m m m m m m m m m m m m m m m m m m m m m m m m m m m m m m m m m m m m m m m m m m m m m m m m m m m m m m m m m m m m m m m N m m m m m m m m m m m m m m m m m m m m m m m m m m m m m m m m m m m m m m m m m m m m m m m m m m m m m m N m m m m m m m m m m m m m N m m m m m m m m m m m m m m m m m m m m m m m N m N m m m m m m m m m m m m N m m m m m m m m m m m m m m m m m m m m m m m m m m m m m m m m m m m m m N m m m m m m m m m m m m m m m m m m m m m m m m m m m m m m m m m m m m m m m m N m m m m m m m m m m m m m m m m m m m m m m m m m m m m m m m m m m m m m m m m m m m m m m m m m m m m m m N m m m m m m m N m m m m m m m m m m m m m m m m m N m m m m m m m m m m m m N m m m m m m m m m m m N m m m m m m m m m m N m m m m m m m m m m m m m m m m m m m m m m m m m m m N N m m m m N m m m m m m m m m m N m m N m m N m N m m m m m m m m m m m m m m m m m m m m m m N m N m m m m m m m m m m m m m m m m m m m m m m m m m m m m m m m m m m m m m m m m m m m N m m m N m m m m m m m m m m m m m m m m m m m m m m m m m m m m m m m m m m m m m m m m m m m m N m m m m m m N m m m m m m m m m m m m m m m m m m m m m m m m m m m m m m m m m m m m m m m m m m m m m m m m m m m m m N m m m m m m m m N m m m m m m m m m m m m m N m m m m m m m N N m m m m m N m N m m N m m m m m m m m m m m N m m m m m m m m m m m m m m m m m m m m m m m m m m m N m m m m m m m m m m m m m N m m m m m m m m m m m m m m m m m m m m m m m m m m m m m m m m m m m m m m m m m m m m m m m m m m m m m m m m m m m m m m m m m m N m m m m m m m m m m N m m m m m m m m m m m m m m m m m m m m m m m m m m m m m m m m m m m m N m m m m m m m m m m N m N m m m m m m m m m m m m m m m m m m m m m m m m m m m m m m m m m m m m m m m m m m m m m m m m N m m m m m m m m m m m m m m m m m m m m m m m m m m m m m m m m m m m m m m m m m m m m m m m m m m m m m m m m m m m m m m m m m m m m m m m m m m m m m m m m m m m m m m m m m m m m m m m m m m m m m m m m m m m m m m m m m m m m m m m m m m m m m m m m m m m m m m m m m m m m m m m m m m m m m m m m m m m m m m m m m m m m m m m m m m m m m m m m m m m m m N m m m m m N m m m m N m m m m m m N m m m m m m m m m m m m m m m m m m m m m m m m m m N m m m m m m N m m m m m m m m m m m m m m m m m m m m m m m m m m m m N m m m m m m m N m m m m m m m m m m m m m m m m m m m m m m m N m m m m m m m m m m m m m m m m m N m m m m m m m m m m m m m m m m m m m m m m m m m m N m m m m m m N m m m m m m m m m m N m m m m m m m m m m m m m m m m m m m m m m m m m m m m m m m m m m m m m m m m m m m m m m m m m m m m m m m m m m m m m m m m m m m m m m m m m m m m m m m m m m m m m m m m m m m m m m m m m m m m m N m m m m m m m m N m m m m m m m m m m m m m m m m N m m m m m m m m m m m m m m m m m m m m m m m m m m m m m m m m m m m m m m m N m N m m m m N m m m m m m m m m m m m m N m m m m m m m m m m m m m m m m m m m m m m m m N m m m m m m m m m m m m m m m m N m m m m m m m m m m m m m m m N m m m m m m m m m m m m m m m m m m m m m m m m m m m m m m m m m N m m m m m m m m m m m m m m m m m m m m m m m m m m m m m m m m m m m m m m m m m m m m m m m m m m m m m N m m m m m m m m m m m m m m m m m m m m m m m m m m m m m m m m m m m m m m m m m m m m m m m m m m m m m m N m m m m m N N m m m m m m N m m m m m m m m m m m m m m m m m m m m m m m m N m m m N m m m m m m m m m m m m m m m m m m m m m m m m m m m m m m m m m m m m m m m m m m m m m m m m m m m m m m m m m m m m m m m m m N m m m N m m m m N m m m m m m m m m m m m m N m N m m m m m m N m m m m m m m m m m m m m m m m m m m m m m m m m m m m m m m m m m m m m m m m m m m N m m m m m m m m m m m m m m m m m m m m m m m m m m m m m m m m m m m m m m m m m m m m m m m m m m m N m m m m m N m m N m m m m m m m m m m m m m m m m N m m m m m m m m m m m m m m m N m m m m m m m m m m m m m m m m m m m m m m m m m m m m m m m m m m m m m m m m m m m m m m m m m m m m m m m m m m m m m m m m m m m m m m m m m m m N m m m m m m m m m m m N m m m m m N m m N m m m m m m m m m m m m m m m m m m m m m m m N "
     ]
    },
    {
     "name": "stderr",
     "output_type": "stream",
     "text": [
      "/tmp/ipykernel_26/3264025667.py:22: RuntimeWarning: Mean of empty slice\n",
      "  mn = np.nanmean(bin_eeg)\n"
     ]
    },
    {
     "name": "stdout",
     "output_type": "stream",
     "text": [
      "m m m m m m m m m m N m m m m N m m m m m m m m m m m m m m m m m m m m m m m m m m m m m m N m m m m m m m m m m m m m m m m N m m m m m m m m m m m N N m m N m m m m m m m m m m m m m m m m m m m m m m m m m m m m m m m m m m m m m m m m m m m m m m m m m m N m m m m m m m m m m m m m m m m m m m m m N m m m m m m N m m m m m m m m N m m m m m m m m m m m m m m m m m m m m m N m m m m m m m m m N m m m m m m m m m m m m m m m m m m m m m m m m m m m m m m m m m m m m m m N m m m m m m m m m m m m m m m m m m m N m N m m m m m m m N "
     ]
    },
    {
     "name": "stderr",
     "output_type": "stream",
     "text": [
      "/tmp/ipykernel_26/3264025667.py:22: RuntimeWarning: Mean of empty slice\n",
      "  mn = np.nanmean(bin_eeg)\n"
     ]
    },
    {
     "name": "stdout",
     "output_type": "stream",
     "text": [
      "m m m m m m m m m N m m m m N m m m m m m m m m m m m m m m m m m m m m m m m m m m m m m m N m N m m m m m m m m m m m m m m m m m m m m m m N N m m m m m m m m m m m m m m m m m m m m m m m m m m m m m N m m m m m m N m m m N m m m m m m m m m m m m N m m m m m m m m m m m m m N m m m m m m m m m m m m m m m m m m m m m m m m m m m m m m m m m m m m m m m m m m m m m m m m m m m m N m m m m m m m N m m m m m m m m m m m m m m m m m m m m m m m m m m m m m m N m m m m m m m m m m m m m m m m m m m m N m m m m m m m m m m m m m m m m m m m m m m m m m m m m m m m m m m m m m m m m m m m m m m m m m m m m m m m m m m m m m m m m m m m m m m m m m m m m m m m m N m m m m m m m m m m m m m m m m m m m m m m m m m m N m m m m m m m m m m m m m m m m m m m m m m m m m m m m m m m m m m m m m m m m m m m m m m m m m m m m m m m m m m m m m m m m m m N m m m m m m m m m m m m m m m m m m N m m m m m m m m m m m m m m m m m m m m m m m N m m m m m m m m m m m m m m m m m m m m m m m m m m m m m N m m m m m N m m m m m m m m m m m m m m m m m N m m m m m m m m m m m m m m m m m m m m m m m m m m m m m m m m m m m m m m m m m m m m m m m m m m m m m m m m m m N m m m m m m m m m m m m m m m m m m m m m m m m m m m m m m m m m m m m m m m m m m m m m N m m m m m m m m m N m m m N m m m m m m m m m m m m m m m m m m m m m m m m m m m m m m m m m m m m m m m m m m m m m m m m m m m m N m m m m m m m m m m m m m m m m m m m m m m m m m m m m m m m m m m N m m m m m m m m m m N N m m m m N m m m m m m m m m m m m m m m m m m m m m m m m m m m m m m m m m m m m m m m m m m m m m m m m m N m m m m m m m m m m m m m m m m m m N m m m m m m m m m m m m m m m m N m m N m m m m m m N m m m m m m m m m m m m m m m m m m m m m m m m m m m N "
     ]
    },
    {
     "name": "stderr",
     "output_type": "stream",
     "text": [
      "/tmp/ipykernel_26/3264025667.py:22: RuntimeWarning: Mean of empty slice\n",
      "  mn = np.nanmean(bin_eeg)\n"
     ]
    },
    {
     "name": "stdout",
     "output_type": "stream",
     "text": [
      "m m N m m m m m m m m m m m m m m m m m m N m m m m m N m m m m m m m m m m m m m m m m m m m m m m m m m m m m m m m N m m m m m m m m m m m m m m m m m m m m m m m m m m m m m m m m m m m m m m m m m m m m m N m m m m m m m m m m m m m m m N m m m m m m m m m m m m m m m m m m N m m m m m m N m m m m m m m m m m m m m m N m m m m m m m m m m m m N m m m m m m N m m m m m N m m m m m m m m m m m m m m m m m m m m m m m m m m m m m m m m m m m m m m m m m m m m m m m m m m m m m m N m m m m m m m m m m m m m m m N m m m m m m m m m m m m m m m m m m m m m m m N m m m m m m m m m m m m N m m m m m m m m m m m m m m m m N m m m m m m m m m m m m m N N m m m N m m m N m m m m m m m m m m m m m m m m m m m m m m m N m m m m m m m m m m m m m m m m m m N m m m m m m N m m m m m m m m m m m m m m N m m m m m m m m m m m m m m m m m m m m m m m m m m m m m m m m m m m m m m m m m m m m m m m m m m m m m N m m m m m m m m m m m m m m m m m m m m m m m m m N m m m m N m m m m m m m m m m m m m m m N m m N m m N m m m m m m m N m m m m m m m m m m m m m m m m m m m m m m m m N m m m m m m m m m N m m m m m m m m m m m m m m m m m m m m m m m m m m m m m m m m m m m m m N m m m m m m m m m m m m N m m m N m m m m m m m m m m m m m m m m N m m m m m m m m m m m m m m m m m m m m m m m m m m m m m m m N m m m m m m m m m m m m m m m m m m m m m m m m N m m m m m m m m m m m m m m m m m m m m m m m m m m m m m m m m m m m m m m m m m m m N m m N m m m m m m m m m m m m m m m m m m m m m m m m m m m m m m m m m m m m m m m m m m m m m m m m m m m m m m m m m m m m m m N m m m m m m m m m m m m m m m m m m m m m m m m m m m m m m m m m m m m m m m m m m m m m m m m m m N m m m m m m m N m m m m m m m m m m m m m m m m m m m m m m m m m m m m N m m m m m N m m m m m m m m m m m m m m m m m m m m m m m m m m m m m m m m m m m m m m m m m m m m m m m m m N m m m m m m m m m m m m N m m m m m m m m m m m m m m m m m m m m m m m m m m m m m N m m m m m m m m m m m m m m m m m N N m m m m N m m m m m m m m N m m m m m m m m m m m m m N m m m m N m m m m m m m m m m m m m m m m m m m m m m m m m m m m m m m m m m m m m m m m m m m m m m m N N m m m m m m m m m m m m m m m m m m m m m m m m m m m m m m m m m m m m m m m m m m m m m m m m m m m m m m m m m m m m m m m m m m m m m m m m m m m m m m m m N m m m N m m m m m m m m m m m m m N m m m m m m m m m m m m m m m m m m m m m m m N m m m m m m m m m m m m m m m m m m m m m m N m N N m m m m m m m m m m m m m m m m m m m m m m m m m m m m m m m m N m m m m m m m m m m m m m m m m m m m m m m m m m m m m m m N m m m m m m m m m m m m m m m m m m m m m m m m m m m m m m m m m N m m m m m m m m m m m m m m m m m m m m m m m m m m m m m m m m m m m m m m N m m m m m m m m N m m N m m m m m m m m m m m m m N m m m m m m m m m N m N m N m m m m m m m m m m m N m m m m m N m m m m m m m m m m m m m m N m m m m m m N m m m N m m m m m m m m m m m m m m m m m m m m m m m m N m m m m m m m m m m m m m m m m m N m m m m m m m m m m m m m m m N m m m m m m m m m N m m m m m m m m m m m m m m m m m m m m m m m m m m m m m m m m m m m m m m m m m m m m m m m m m m m m m m m m m m m m m m m m m m m m m m N m m m m m m m m m m m m m m m m N m m m m m m m m m m m m m m m m m m m m m m m m m m m m m m m m m m m m m m m m m m m m m m m m m m m m N m m m m m N m m m m m N m m m m m m m m m m m m m m m m m m m m m m m m m m m m m m m m m m m m m m m m m m N m m m m m m m m m m m m m m m m m m m N m m m m m m m N m m m m m m m m m m m m m m m m m m m m m m m m N m m m N m m m N m m m m m m N m m m m m m m m m m m m m m m m m m m m m m m m m m m m m m m N m m m m m m m m m m m m m m m m m m m m m m m m m m m m m m m m m m m N N m N m N N m N m m m N N m N m m m N N N N N m m m m m m m m m m m N m m m N m m m m N m m m N m m m m m m m m m m m m m m m m m m m N m m m m m m m m m m m m m m m m m m m m m N m m m m m m N m m m m m m m m N m m m m m m m m m m m m m m m m m m m m m m m m m m m m m m N N m m m m m m m m m m N m m m m m m m m N m m m m m m m m m m N m m m m m m m m m m m m m m m m m m m m m m m m m m m m m m m m m m m m m m m m m m m m m m m m m m m m m m m m m m m m m m m m m m m m m m m m m m m m m m m m m m m m m m m m m m m m m m m m m m m m m m m m m m m m m m m N m m N m m m m m m m m m m m m m m m m N m N m m m m m m m m N N m m m m m m m m m m m N m m m m m m m m m m m m m m m m m N m m m m m m m m m m N m m m m m m m m m m m m m m m m m m m N m m m m m m m N m m m m m m N m m m m m m m m m m m m m m m N m m m m m m m m m m m m m m m m m m m m m m m m m m m m m m m m N m N m m m m m m m m m m m m m m m m m m m m m m m m m m N m m m m m m m m m m m m m m m m m m m m m m m m m N m m N m m m N m m m m m m m m m m m m m m m m m m m m m m m m m m N m m N m m m m m m m N m m m m m m m m m m m m m m N m m m m m m m m m m m m m m m m m m m m m m m m m m m m m m m m m m m m m m m m m m m m m m m m m m m m m m m m m m m m m m m m m m N m m m m m m m N m m m m m m m m m m m m m m m m m m m m m m m m m m m m m m m m m m m m m m m m m m m m m m m m m m m m m m m m N m m m m m m m m m m m m m m m m m m m m m m m m m m m m m m m m m m m m m N m m m m m m m m m m m m m m m m m m m m m m N m m m m N m m m m m m N m m N m m N m m m m m m m m m m m m m m m m m m m m m m m N m m m m N m m m m m m m m m m m m m m m N m m m m m m m N m m m m m m m m N m m m m m m m m m m m m m m m m m m m m m N m m m m m N m m m m m m m m m m m m m m m m m m m m m m m m m m m m m m m m m m m m m m m m m m m m N m m m m m N m m m m m m m m m m m m m m m m m m m m m m m m m m m m m m N m m m m m m m m m m m m m m m m m m m m m m m m m m m m m m m m m m m m m m m m m m m m m m N m m m N m m m m m m m m m m m m m m m m m m m N m m m m m m m m m m m m m m m m m m N m m m m m m m m m m m m m N m m m m m m m m N m m m m m m m m m m m m m m m m m m m m m m m m m m m m m m m m m m m m m m m m m m m m m m m m m m m m m m m m m m m m m m m m m m m N m N m m m N m m m m m m m m m m m m m m m m m m m m m N m m m N m m m m m m m m m m m m m N m N m m m m m m m m m m m m m N m m m m m m m m m m m m m m m m m m m m m m m m m m m m m m m m m m m m m m m N m m m m m m m m m m m m m N m m m m m m m m m m m m m m m m m m m m m m m m m m m m m m m m m m m m m m m m m m N "
     ]
    },
    {
     "name": "stderr",
     "output_type": "stream",
     "text": [
      "/tmp/ipykernel_26/3264025667.py:22: RuntimeWarning: Mean of empty slice\n",
      "  mn = np.nanmean(bin_eeg)\n"
     ]
    },
    {
     "name": "stdout",
     "output_type": "stream",
     "text": [
      "m m m m m m m m m m m m m m m m m m m m m m m N m m N m m m m m m m m m m m m m m m m m m m m m m m m m N m m m m m m m m m m m m m m m m m m m m N m m m m m m m m m m m m m m m m m m m m m m m m m m m m m m m N m m m m m m m m m m m m N m m m m N m m m m N m m m m m m m m m m m m m m m N m m N m m N m m m m m m N m m m m m m m m m m m m m m m m m m m N m m m m m m m m m m m m m m m m m m m m m m N m m m m m m m m m m m m m m m m m m m m N m m m m m m m m m m m m m m m m m m m m m m m m m m m m m m m m m m m m m m N m m m m m m m m m m m m m m m m m m m N m m m m N m m m m m m m m m m m N m m m m N m N N m m m m m m m m m m m m m m N m m m m m m m m m m m m m m m m m m m m m m m m m m m m m m m m m m m m m m m m m N m m m N m m m m m m m m m m m N m m m m m m m m N m N m m m m m m N m m m m m m m m m N m m m m m N m m N m m m m m m m m m m m m m m m m m m m m m m m m m m m m m m m m m m m m m m m m m m m m N m m m N m m m m m m m m m m m m m m m m m m m m m m N m m m m N m m N m m m m m m m m m m m m m m m m m m m m m m m m m N m m m m m m m m m m m m m N m m m m m m m m m m m m m m m m m N m N m m m m m N m m m N m m m m m m m m m m m N m m m m m m m m m m m m N m m m m m m m m N m m m m m m m m m m N m N m m m m m m N m m m m m N m m m m m m m m m m m m m m N m m m m m m N m m m m m m m m m m m m "
     ]
    }
   ],
   "source": [
    "# from sklearn.pipeline import Pipeline\n",
    "import torch.nn.functional as F\n",
    "\n",
    "training_samples = 30000\n",
    "batch_size = 32\n",
    "num_epochs = 24\n",
    "\n",
    "X_train = data.iloc[:training_samples]\n",
    "y_train = data.iloc[:training_samples][TARGETS]\n",
    "X_train_proc = []\n",
    "for index, row in X_train.iterrows():\n",
    "    fts = getAndExtractEEG(row, \"train\")\n",
    "    if not fts:\n",
    "        y_train = y_train.drop(index, axis=0)\n",
    "        continue\n",
    "    X_train_proc.append(fts)\n",
    "        \n",
    "X_train_proc = torch.FloatTensor(X_train_proc)\n",
    "X_train_proc = X_train_proc.unsqueeze(1)\n",
    "\n",
    "y_train = torch.tensor(np.asarray(y_train), dtype=torch.float32)\n",
    "train_dataset = MyDataset(X_train_proc, y_train)\n",
    "train_loader = torch.utils.data.DataLoader(train_dataset, batch_size=batch_size, shuffle=True)\n",
    "    \n",
    "model = CNNModel(input_dim, hidden_dim, output_dim)\n",
    "device = torch.device('cuda') if torch.cuda.is_available() else torch.device('cpu')\n",
    "model = torch.nn.DataParallel(model, device_ids = [0,1]).to(device)\n",
    "    \n",
    "# Define loss function and optimizer (replace with your choices if needed)\n",
    "criterion = nn.KLDivLoss(reduction=\"batchmean\")\n",
    "optimizer = torch.optim.Adam(model.parameters(), lr=0.01)\n",
    "    \n",
    "seen_ys = [0,0,0,0,0,0]\n",
    "    \n",
    "for epoch in range(num_epochs):\n",
    "    for batch_X, batch_y in train_loader:\n",
    "        batch_X = batch_X.to(device)\n",
    "        seen_ys = seen_ys+ torch.sum(batch_y, dim=0).numpy()\n",
    "        batch_y = batch_y.to(device)\n",
    "        optimizer.zero_grad()\n",
    "        prediction = model(batch_X)\n",
    "        # Calculate loss\n",
    "        loss = criterion(prediction, batch_y)\n",
    "        # Compute gradients\n",
    "        loss.backward()\n",
    "        optimizer.step()"
   ]
  },
  {
   "cell_type": "code",
   "execution_count": 15,
   "id": "882361f3",
   "metadata": {
    "execution": {
     "iopub.execute_input": "2024-03-12T18:19:00.138693Z",
     "iopub.status.busy": "2024-03-12T18:19:00.137710Z",
     "iopub.status.idle": "2024-03-12T18:19:00.372961Z",
     "shell.execute_reply": "2024-03-12T18:19:00.372030Z"
    },
    "papermill": {
     "duration": 0.347129,
     "end_time": "2024-03-12T18:19:00.375258",
     "exception": false,
     "start_time": "2024-03-12T18:19:00.028129",
     "status": "completed"
    },
    "tags": []
   },
   "outputs": [
    {
     "name": "stdout",
     "output_type": "stream",
     "text": [
      "m "
     ]
    }
   ],
   "source": [
    "test = pd.read_csv('/kaggle/input/hms-harmful-brain-activity-classification/test.csv')\n",
    "# test.loc[1] = test.loc[0]\n",
    "test = test.assign(eeg_sub_id='h') \n",
    "test = test.assign(eeg_label_offset_seconds=0) \n",
    "\n",
    "test_feats = []\n",
    "for index, row in test.iterrows():\n",
    "    fts = getAndExtractEEG(row, \"test\")\n",
    "    test_feats.append(fts)\n",
    "\n",
    "# test_feats = test.apply(lambda row: getAndExtractEEG(row, data_type=\"test\"), axis=1)\n",
    "test_feats = torch.FloatTensor(test_feats)\n",
    "test_feats = test_feats.unsqueeze(1)\n",
    "\n",
    "with torch.no_grad():\n",
    "    model.eval()\n",
    "    preds = model(test_feats)"
   ]
  },
  {
   "cell_type": "code",
   "execution_count": 16,
   "id": "5ed7e5b3",
   "metadata": {
    "execution": {
     "iopub.execute_input": "2024-03-12T18:19:00.510303Z",
     "iopub.status.busy": "2024-03-12T18:19:00.509642Z",
     "iopub.status.idle": "2024-03-12T18:19:00.524631Z",
     "shell.execute_reply": "2024-03-12T18:19:00.523901Z"
    },
    "papermill": {
     "duration": 0.083487,
     "end_time": "2024-03-12T18:19:00.526512",
     "exception": false,
     "start_time": "2024-03-12T18:19:00.443025",
     "status": "completed"
    },
    "tags": []
   },
   "outputs": [],
   "source": [
    "sub = pd.DataFrame({'eeg_id':test.eeg_id.values})\n",
    "sub[TARGETS] = preds.cpu()\n",
    "sub.to_csv('submission.csv',index=False)\n",
    "# sub.head()"
   ]
  },
  {
   "cell_type": "code",
   "execution_count": null,
   "id": "13ed38a4",
   "metadata": {
    "papermill": {
     "duration": 0.065887,
     "end_time": "2024-03-12T18:19:00.660237",
     "exception": false,
     "start_time": "2024-03-12T18:19:00.594350",
     "status": "completed"
    },
    "tags": []
   },
   "outputs": [],
   "source": []
  }
 ],
 "metadata": {
  "kaggle": {
   "accelerator": "nvidiaTeslaT4",
   "dataSources": [
    {
     "databundleVersionId": 7469972,
     "sourceId": 59093,
     "sourceType": "competition"
    },
    {
     "datasetId": 4555739,
     "sourceId": 7785682,
     "sourceType": "datasetVersion"
    }
   ],
   "dockerImageVersionId": 30646,
   "isGpuEnabled": true,
   "isInternetEnabled": false,
   "language": "python",
   "sourceType": "notebook"
  },
  "kernelspec": {
   "display_name": "Python 3",
   "language": "python",
   "name": "python3"
  },
  "language_info": {
   "codemirror_mode": {
    "name": "ipython",
    "version": 3
   },
   "file_extension": ".py",
   "mimetype": "text/x-python",
   "name": "python",
   "nbconvert_exporter": "python",
   "pygments_lexer": "ipython3",
   "version": "3.10.13"
  },
  "papermill": {
   "default_parameters": {},
   "duration": 916.616542,
   "end_time": "2024-03-12T18:19:04.148898",
   "environment_variables": {},
   "exception": null,
   "input_path": "__notebook__.ipynb",
   "output_path": "__notebook__.ipynb",
   "parameters": {},
   "start_time": "2024-03-12T18:03:47.532356",
   "version": "2.5.0"
  }
 },
 "nbformat": 4,
 "nbformat_minor": 5
}
