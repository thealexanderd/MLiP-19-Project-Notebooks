{
 "cells": [
  {
   "cell_type": "code",
   "execution_count": 1,
   "id": "446ae619",
   "metadata": {
    "_cell_guid": "b1076dfc-b9ad-4769-8c92-a6c4dae69d19",
    "_uuid": "8f2839f25d086af736a60e9eeb907d3b93b6e0e5",
    "execution": {
     "iopub.execute_input": "2024-03-12T17:45:17.579417Z",
     "iopub.status.busy": "2024-03-12T17:45:17.579025Z",
     "iopub.status.idle": "2024-03-12T17:45:24.287772Z",
     "shell.execute_reply": "2024-03-12T17:45:24.286912Z"
    },
    "papermill": {
     "duration": 6.718512,
     "end_time": "2024-03-12T17:45:24.290265",
     "exception": false,
     "start_time": "2024-03-12T17:45:17.571753",
     "status": "completed"
    },
    "tags": []
   },
   "outputs": [],
   "source": [
    "import numpy as np \n",
    "import pandas as pd \n",
    "from scipy import signal\n",
    "from sklearn.model_selection import train_test_split\n",
    "from sklearn.model_selection import KFold, GroupKFold\n",
    "import torch\n",
    "from torch.utils.data import Dataset\n",
    "import torch\n",
    "import torch.nn as nn\n",
    "import math\n",
    "import pickle"
   ]
  },
  {
   "cell_type": "code",
   "execution_count": 2,
   "id": "99d08815",
   "metadata": {
    "execution": {
     "iopub.execute_input": "2024-03-12T17:45:24.303516Z",
     "iopub.status.busy": "2024-03-12T17:45:24.303031Z",
     "iopub.status.idle": "2024-03-12T17:45:24.307368Z",
     "shell.execute_reply": "2024-03-12T17:45:24.306520Z"
    },
    "papermill": {
     "duration": 0.012979,
     "end_time": "2024-03-12T17:45:24.309193",
     "exception": false,
     "start_time": "2024-03-12T17:45:24.296214",
     "status": "completed"
    },
    "tags": []
   },
   "outputs": [],
   "source": [
    "EEG_SAMPLING_RATE = 200\n",
    "EEG_LENGTH = 50\n",
    "AMOUNT_OF_CHANNELS = 20"
   ]
  },
  {
   "cell_type": "code",
   "execution_count": 3,
   "id": "0bf5fb88",
   "metadata": {
    "execution": {
     "iopub.execute_input": "2024-03-12T17:45:24.321290Z",
     "iopub.status.busy": "2024-03-12T17:45:24.320996Z",
     "iopub.status.idle": "2024-03-12T17:45:24.576153Z",
     "shell.execute_reply": "2024-03-12T17:45:24.575278Z"
    },
    "papermill": {
     "duration": 0.264074,
     "end_time": "2024-03-12T17:45:24.578779",
     "exception": false,
     "start_time": "2024-03-12T17:45:24.314705",
     "status": "completed"
    },
    "tags": []
   },
   "outputs": [],
   "source": [
    "data = pd.read_csv('/kaggle/input/hms-harmful-brain-activity-classification/train.csv')"
   ]
  },
  {
   "cell_type": "code",
   "execution_count": 4,
   "id": "0bd77c10",
   "metadata": {
    "execution": {
     "iopub.execute_input": "2024-03-12T17:45:24.592756Z",
     "iopub.status.busy": "2024-03-12T17:45:24.591868Z",
     "iopub.status.idle": "2024-03-12T17:45:24.612678Z",
     "shell.execute_reply": "2024-03-12T17:45:24.611920Z"
    },
    "papermill": {
     "duration": 0.029555,
     "end_time": "2024-03-12T17:45:24.614676",
     "exception": false,
     "start_time": "2024-03-12T17:45:24.585121",
     "status": "completed"
    },
    "tags": []
   },
   "outputs": [],
   "source": [
    "TARGETS = [\"seizure_vote\", \"lpd_vote\", \"gpd_vote\", \"lrda_vote\", \"grda_vote\", \"other_vote\"]\n",
    "y_data = data[TARGETS].values\n",
    "y_data = y_data / y_data.sum(axis=1,keepdims=True)\n",
    "data[TARGETS] = y_data"
   ]
  },
  {
   "cell_type": "code",
   "execution_count": null,
   "id": "08e7329d",
   "metadata": {
    "papermill": {
     "duration": 0.005315,
     "end_time": "2024-03-12T17:45:24.625429",
     "exception": false,
     "start_time": "2024-03-12T17:45:24.620114",
     "status": "completed"
    },
    "tags": []
   },
   "outputs": [],
   "source": []
  },
  {
   "cell_type": "code",
   "execution_count": 5,
   "id": "17da0192",
   "metadata": {
    "execution": {
     "iopub.execute_input": "2024-03-12T17:45:24.637882Z",
     "iopub.status.busy": "2024-03-12T17:45:24.637129Z",
     "iopub.status.idle": "2024-03-12T17:45:24.641990Z",
     "shell.execute_reply": "2024-03-12T17:45:24.641184Z"
    },
    "papermill": {
     "duration": 0.013088,
     "end_time": "2024-03-12T17:45:24.643926",
     "exception": false,
     "start_time": "2024-03-12T17:45:24.630838",
     "status": "completed"
    },
    "tags": []
   },
   "outputs": [],
   "source": [
    "# https://www.kaggle.com/code/kimbyungchun/preprocess-with-mne-for-human\n",
    "# @cache\n",
    "BASE_PATH = '/kaggle/input/hms-harmful-brain-activity-classification'\n",
    "def load_eeg(eeg_id, data_type='train'):\n",
    "    eeg_df = pd.read_parquet(f'{BASE_PATH}/{data_type}_eegs/{eeg_id}.parquet')\n",
    "    return eeg_df"
   ]
  },
  {
   "cell_type": "code",
   "execution_count": 6,
   "id": "de63f416",
   "metadata": {
    "execution": {
     "iopub.execute_input": "2024-03-12T17:45:24.655974Z",
     "iopub.status.busy": "2024-03-12T17:45:24.655676Z",
     "iopub.status.idle": "2024-03-12T17:45:24.661188Z",
     "shell.execute_reply": "2024-03-12T17:45:24.660423Z"
    },
    "papermill": {
     "duration": 0.013925,
     "end_time": "2024-03-12T17:45:24.663179",
     "exception": false,
     "start_time": "2024-03-12T17:45:24.649254",
     "status": "completed"
    },
    "tags": []
   },
   "outputs": [],
   "source": [
    "eeg_dict = {}\n",
    "def getEEG(row, data_type):\n",
    "    if not row.eeg_id in eeg_dict:\n",
    "        df = load_eeg(row.eeg_id, data_type)  \n",
    "        eeg_dict[row.eeg_id] = df\n",
    "    eeg = eeg_dict[row.eeg_id]\n",
    "    \n",
    "    start_eeg = int(row.eeg_label_offset_seconds * EEG_SAMPLING_RATE)\n",
    "    end_eeg = start_eeg + (EEG_LENGTH * EEG_SAMPLING_RATE)\n",
    "\n",
    "    row_eeg = eeg[start_eeg:end_eeg]\n",
    "    return row_eeg\n"
   ]
  },
  {
   "cell_type": "code",
   "execution_count": 7,
   "id": "ed138104",
   "metadata": {
    "execution": {
     "iopub.execute_input": "2024-03-12T17:45:24.675108Z",
     "iopub.status.busy": "2024-03-12T17:45:24.674443Z",
     "iopub.status.idle": "2024-03-12T17:45:24.682073Z",
     "shell.execute_reply": "2024-03-12T17:45:24.681330Z"
    },
    "papermill": {
     "duration": 0.015669,
     "end_time": "2024-03-12T17:45:24.684107",
     "exception": false,
     "start_time": "2024-03-12T17:45:24.668438",
     "status": "completed"
    },
    "tags": []
   },
   "outputs": [],
   "source": [
    "TIME_BINS_PER_SECOND = 10\n",
    "BIN_LENGTH = int((1/TIME_BINS_PER_SECOND)*EEG_SAMPLING_RATE)\n",
    "features_dict = {}\n",
    "def extract_time_bins(row_eeg, key):\n",
    "    middle_10 = row_eeg.iloc[20*EEG_SAMPLING_RATE:30*EEG_SAMPLING_RATE]\n",
    "    \n",
    "#     if middle_10.isnull().values.any():\n",
    "#         return False\n",
    "    \n",
    "    new_fts = []\n",
    "    for chan in range(middle_10.shape[1]):\n",
    "        col_eeg = middle_10.iloc[:, chan]\n",
    "        col_eeg = col_eeg.reset_index(drop=True)\n",
    "        bin_mns = []\n",
    "        for bin_index in range(100):\n",
    "            start_index = bin_index * BIN_LENGTH\n",
    "            end_index = start_index + BIN_LENGTH\n",
    "            \n",
    "            bin_eeg = col_eeg[start_index:end_index]\n",
    "#             bin_eeg = bin_eeg.dropna()\n",
    "\n",
    "            mn = np.nanmean(bin_eeg)\n",
    "            \n",
    "            \n",
    "            if math.isnan(mn):\n",
    "                bin_mns.append(0)\n",
    "#                 print(\"NAN!\", bin_eeg, start_index, key)\n",
    "            else:\n",
    "                bin_mns.append(mn)\n",
    "    \n",
    "    \n",
    "        new_fts.append(bin_mns)\n",
    "\n",
    "    return new_fts"
   ]
  },
  {
   "cell_type": "code",
   "execution_count": 8,
   "id": "401254cd",
   "metadata": {
    "execution": {
     "iopub.execute_input": "2024-03-12T17:45:24.696107Z",
     "iopub.status.busy": "2024-03-12T17:45:24.695820Z",
     "iopub.status.idle": "2024-03-12T17:45:24.702603Z",
     "shell.execute_reply": "2024-03-12T17:45:24.701888Z"
    },
    "papermill": {
     "duration": 0.01509,
     "end_time": "2024-03-12T17:45:24.704508",
     "exception": false,
     "start_time": "2024-03-12T17:45:24.689418",
     "status": "completed"
    },
    "tags": []
   },
   "outputs": [],
   "source": [
    "def getAndExtractEEG(row, data_type):\n",
    "    key = str(row.eeg_id) + \"-\" + str(row.eeg_sub_id)\n",
    "    if not key in features_dict:\n",
    "        print(\"N\", end = \" \")\n",
    "        row_eeg = getEEG(row, data_type)\n",
    "        features = extract_time_bins(row_eeg, key) #         features = extract_features(row_eeg, key)\n",
    "        if not features:\n",
    "            return False\n",
    "        features_dict[key] = features\n",
    "        return features\n",
    "    print(\"m\", end=\" \")\n",
    "    return features_dict[key]\n",
    "    \n"
   ]
  },
  {
   "cell_type": "code",
   "execution_count": 9,
   "id": "5e6ced92",
   "metadata": {
    "execution": {
     "iopub.execute_input": "2024-03-12T17:45:24.716511Z",
     "iopub.status.busy": "2024-03-12T17:45:24.716028Z",
     "iopub.status.idle": "2024-03-12T17:45:24.721120Z",
     "shell.execute_reply": "2024-03-12T17:45:24.720321Z"
    },
    "papermill": {
     "duration": 0.013155,
     "end_time": "2024-03-12T17:45:24.722977",
     "exception": false,
     "start_time": "2024-03-12T17:45:24.709822",
     "status": "completed"
    },
    "tags": []
   },
   "outputs": [],
   "source": [
    "class MyDataset(Dataset):\n",
    "    def __init__(self, X, y):\n",
    "        self.X = X\n",
    "        self.y = y\n",
    "\n",
    "    def __len__(self):\n",
    "        return len(self.X)\n",
    "\n",
    "    def __getitem__(self, idx):\n",
    "        return self.X[idx], self.y[idx]\n"
   ]
  },
  {
   "cell_type": "code",
   "execution_count": 10,
   "id": "037dffd3",
   "metadata": {
    "execution": {
     "iopub.execute_input": "2024-03-12T17:45:24.734901Z",
     "iopub.status.busy": "2024-03-12T17:45:24.734656Z",
     "iopub.status.idle": "2024-03-12T17:46:22.579059Z",
     "shell.execute_reply": "2024-03-12T17:46:22.578277Z"
    },
    "papermill": {
     "duration": 57.852962,
     "end_time": "2024-03-12T17:46:22.581376",
     "exception": false,
     "start_time": "2024-03-12T17:45:24.728414",
     "status": "completed"
    },
    "tags": []
   },
   "outputs": [],
   "source": [
    "with open('/kaggle/input/eeg-bins-2/my_dict.pkl', 'rb') as file:\n",
    "    features_dict = pickle.load(file)"
   ]
  },
  {
   "cell_type": "code",
   "execution_count": 11,
   "id": "6ebf8c0a",
   "metadata": {
    "execution": {
     "iopub.execute_input": "2024-03-12T17:46:22.594541Z",
     "iopub.status.busy": "2024-03-12T17:46:22.594250Z",
     "iopub.status.idle": "2024-03-12T17:46:22.598769Z",
     "shell.execute_reply": "2024-03-12T17:46:22.597865Z"
    },
    "papermill": {
     "duration": 0.013655,
     "end_time": "2024-03-12T17:46:22.600671",
     "exception": false,
     "start_time": "2024-03-12T17:46:22.587016",
     "status": "completed"
    },
    "tags": []
   },
   "outputs": [],
   "source": [
    "# Example usage\n",
    "input_dim_freq = (52 + 4) * AMOUNT_OF_CHANNELS\n",
    "input_dim = (20*TIME_BINS_PER_SECOND*10) #channels * bins * middle 10 seconds\n",
    "hidden_dim = 800\n",
    "output_dim = 6"
   ]
  },
  {
   "cell_type": "code",
   "execution_count": 12,
   "id": "bf8cb0f1",
   "metadata": {
    "execution": {
     "iopub.execute_input": "2024-03-12T17:46:22.613356Z",
     "iopub.status.busy": "2024-03-12T17:46:22.613059Z",
     "iopub.status.idle": "2024-03-12T17:46:22.623632Z",
     "shell.execute_reply": "2024-03-12T17:46:22.622714Z"
    },
    "papermill": {
     "duration": 0.019039,
     "end_time": "2024-03-12T17:46:22.625570",
     "exception": false,
     "start_time": "2024-03-12T17:46:22.606531",
     "status": "completed"
    },
    "tags": []
   },
   "outputs": [],
   "source": [
    "class CNNModel(nn.Module):\n",
    "    def __init__(self, input_dim, hidden_dim, output_dim):\n",
    "        super(CNNModel, self).__init__()\n",
    "        self.conv1 = nn.Conv2d(1, 62, kernel_size=3, padding=1)\n",
    "        self.conv2 = nn.Conv2d(62, 128, kernel_size=5, padding=1)\n",
    "        self.conv3 = nn.Conv2d(128, 128, kernel_size=3, padding=1)\n",
    "        self.conv4 = nn.Conv2d(128, 128, kernel_size=6, padding=2)\n",
    "        self.conv5 = nn.Conv2d(128, 62, kernel_size=3, padding=1)\n",
    "        self.conv6 = nn.Conv2d(62, 2, kernel_size=3, padding=1)\n",
    "        self.fc1 = nn.Linear(2 * 4 * 24, hidden_dim)\n",
    "        self.fc2 = nn.Linear(hidden_dim, output_dim)  # 10 output classes (digits 0-9)\n",
    "\n",
    "    def forward(self, x):\n",
    "#         print(\"xsp\", x.shape)\n",
    "        x = F.relu(self.conv1(x), 2)\n",
    "        x = F.relu(F.max_pool2d(self.conv2(x), 2))\n",
    "        x = F.relu(self.conv3(x), 2)\n",
    "        x = F.relu(F.max_pool2d(self.conv4(x), 2))\n",
    "        x = F.relu(self.conv5(x), 2)\n",
    "        x = F.relu(self.conv6(x), 2)\n",
    "#         print(x.shape)\n",
    "        x = x.view(-1, 2 * 4 * 24)\n",
    "        x = F.sigmoid(self.fc1(x))\n",
    "        x = F.dropout(x, 0.3)\n",
    "        x = self.fc2(x)\n",
    "        x = F.softmax(x, dim=1)\n",
    "        return x\n"
   ]
  },
  {
   "cell_type": "code",
   "execution_count": 13,
   "id": "913015e7",
   "metadata": {
    "execution": {
     "iopub.execute_input": "2024-03-12T17:46:22.637680Z",
     "iopub.status.busy": "2024-03-12T17:46:22.637155Z",
     "iopub.status.idle": "2024-03-12T17:46:22.722742Z",
     "shell.execute_reply": "2024-03-12T17:46:22.721816Z"
    },
    "papermill": {
     "duration": 0.093597,
     "end_time": "2024-03-12T17:46:22.724579",
     "exception": false,
     "start_time": "2024-03-12T17:46:22.630982",
     "status": "completed"
    },
    "tags": []
   },
   "outputs": [
    {
     "name": "stdout",
     "output_type": "stream",
     "text": [
      "cuda:0\n"
     ]
    }
   ],
   "source": [
    "# This piece of code is required to make use of the GPU instead of CPU for faster processing\n",
    "device = torch.device(\"cuda:0\" if torch.cuda.is_available() else \"cpu\")\n",
    "print(device)"
   ]
  },
  {
   "cell_type": "code",
   "execution_count": 14,
   "id": "33b938f7",
   "metadata": {
    "execution": {
     "iopub.execute_input": "2024-03-12T17:46:22.736860Z",
     "iopub.status.busy": "2024-03-12T17:46:22.736567Z",
     "iopub.status.idle": "2024-03-12T17:46:33.131974Z",
     "shell.execute_reply": "2024-03-12T17:46:33.131130Z"
    },
    "papermill": {
     "duration": 10.404124,
     "end_time": "2024-03-12T17:46:33.134362",
     "exception": false,
     "start_time": "2024-03-12T17:46:22.730238",
     "status": "completed"
    },
    "tags": []
   },
   "outputs": [
    {
     "name": "stdout",
     "output_type": "stream",
     "text": [
      "m m m m m m m m m m m m m m m m m m m m m m m m m m m m m m m m m m m m m m m m m m m m m m m m m m m m m m m m m m m m m m m m m m m m m m m m m m m m m m m m m m m m m m m m m m m m m m m m m m m m "
     ]
    }
   ],
   "source": [
    "# from sklearn.pipeline import Pipeline\n",
    "import torch.nn.functional as F\n",
    "\n",
    "training_samples = 100\n",
    "batch_size = 32\n",
    "num_epochs = 24\n",
    "\n",
    "X_train = data.iloc[:training_samples]\n",
    "y_train = data.iloc[:training_samples][TARGETS]\n",
    "X_train_proc = []\n",
    "for index, row in X_train.iterrows():\n",
    "    fts = getAndExtractEEG(row, \"train\")\n",
    "    if not fts:\n",
    "        y_train = y_train.drop(index, axis=0)\n",
    "        continue\n",
    "    X_train_proc.append(fts)\n",
    "        \n",
    "X_train_proc = torch.FloatTensor(X_train_proc)\n",
    "X_train_proc = X_train_proc.unsqueeze(1)\n",
    "\n",
    "y_train = torch.tensor(np.asarray(y_train), dtype=torch.float32)\n",
    "train_dataset = MyDataset(X_train_proc, y_train)\n",
    "train_loader = torch.utils.data.DataLoader(train_dataset, batch_size=batch_size, shuffle=True)\n",
    "    \n",
    "model = CNNModel(input_dim, hidden_dim, output_dim)\n",
    "device = torch.device('cuda') if torch.cuda.is_available() else torch.device('cpu')\n",
    "model = torch.nn.DataParallel(model, device_ids = [0,1]).to(device)\n",
    "    \n",
    "# Define loss function and optimizer (replace with your choices if needed)\n",
    "criterion = nn.KLDivLoss(reduction=\"batchmean\")\n",
    "optimizer = torch.optim.Adam(model.parameters(), lr=0.01)\n",
    "    \n",
    "seen_ys = [0,0,0,0,0,0]\n",
    "    \n",
    "for epoch in range(num_epochs):\n",
    "    for batch_X, batch_y in train_loader:\n",
    "        batch_X = batch_X.to(device)\n",
    "        seen_ys = seen_ys+ torch.sum(batch_y, dim=0).numpy()\n",
    "        batch_y = batch_y.to(device)\n",
    "        optimizer.zero_grad()\n",
    "        prediction = model(batch_X)\n",
    "        # Calculate loss\n",
    "        loss = criterion(prediction, batch_y)\n",
    "        # Compute gradients\n",
    "        loss.backward()\n",
    "        optimizer.step()"
   ]
  },
  {
   "cell_type": "code",
   "execution_count": 15,
   "id": "cf697fa7",
   "metadata": {
    "execution": {
     "iopub.execute_input": "2024-03-12T17:46:33.147574Z",
     "iopub.status.busy": "2024-03-12T17:46:33.147102Z",
     "iopub.status.idle": "2024-03-12T17:46:33.278304Z",
     "shell.execute_reply": "2024-03-12T17:46:33.277302Z"
    },
    "papermill": {
     "duration": 0.140031,
     "end_time": "2024-03-12T17:46:33.280466",
     "exception": false,
     "start_time": "2024-03-12T17:46:33.140435",
     "status": "completed"
    },
    "tags": []
   },
   "outputs": [
    {
     "name": "stdout",
     "output_type": "stream",
     "text": [
      "m "
     ]
    }
   ],
   "source": [
    "test = pd.read_csv('/kaggle/input/hms-harmful-brain-activity-classification/test.csv')\n",
    "# test.loc[1] = test.loc[0]\n",
    "test = test.assign(eeg_sub_id='h') \n",
    "test = test.assign(eeg_label_offset_seconds=0) \n",
    "\n",
    "test_feats = []\n",
    "for index, row in test.iterrows():\n",
    "    fts = getAndExtractEEG(row, \"test\")\n",
    "    test_feats.append(fts)\n",
    "\n",
    "# test_feats = test.apply(lambda row: getAndExtractEEG(row, data_type=\"test\"), axis=1)\n",
    "test_feats = torch.FloatTensor(test_feats)\n",
    "test_feats = test_feats.unsqueeze(1)\n",
    "\n",
    "with torch.no_grad():\n",
    "    model.eval()\n",
    "    preds = model(test_feats)"
   ]
  },
  {
   "cell_type": "code",
   "execution_count": 16,
   "id": "1db86da3",
   "metadata": {
    "execution": {
     "iopub.execute_input": "2024-03-12T17:46:33.293237Z",
     "iopub.status.busy": "2024-03-12T17:46:33.292711Z",
     "iopub.status.idle": "2024-03-12T17:46:33.303982Z",
     "shell.execute_reply": "2024-03-12T17:46:33.303163Z"
    },
    "papermill": {
     "duration": 0.019575,
     "end_time": "2024-03-12T17:46:33.305959",
     "exception": false,
     "start_time": "2024-03-12T17:46:33.286384",
     "status": "completed"
    },
    "tags": []
   },
   "outputs": [],
   "source": [
    "sub = pd.DataFrame({'eeg_id':test.eeg_id.values})\n",
    "sub[TARGETS] = preds.cpu()\n",
    "sub.to_csv('submission.csv',index=False)\n",
    "# sub.head()"
   ]
  },
  {
   "cell_type": "code",
   "execution_count": null,
   "id": "4d8fa86a",
   "metadata": {
    "papermill": {
     "duration": 0.005208,
     "end_time": "2024-03-12T17:46:33.316648",
     "exception": false,
     "start_time": "2024-03-12T17:46:33.311440",
     "status": "completed"
    },
    "tags": []
   },
   "outputs": [],
   "source": []
  }
 ],
 "metadata": {
  "kaggle": {
   "accelerator": "nvidiaTeslaT4",
   "dataSources": [
    {
     "databundleVersionId": 7469972,
     "sourceId": 59093,
     "sourceType": "competition"
    },
    {
     "datasetId": 4555739,
     "sourceId": 7785682,
     "sourceType": "datasetVersion"
    }
   ],
   "dockerImageVersionId": 30646,
   "isGpuEnabled": true,
   "isInternetEnabled": false,
   "language": "python",
   "sourceType": "notebook"
  },
  "kernelspec": {
   "display_name": "Python 3",
   "language": "python",
   "name": "python3"
  },
  "language_info": {
   "codemirror_mode": {
    "name": "ipython",
    "version": 3
   },
   "file_extension": ".py",
   "mimetype": "text/x-python",
   "name": "python",
   "nbconvert_exporter": "python",
   "pygments_lexer": "ipython3",
   "version": "3.10.13"
  },
  "papermill": {
   "default_parameters": {},
   "duration": 81.950984,
   "end_time": "2024-03-12T17:46:36.543088",
   "environment_variables": {},
   "exception": null,
   "input_path": "__notebook__.ipynb",
   "output_path": "__notebook__.ipynb",
   "parameters": {},
   "start_time": "2024-03-12T17:45:14.592104",
   "version": "2.5.0"
  }
 },
 "nbformat": 4,
 "nbformat_minor": 5
}
