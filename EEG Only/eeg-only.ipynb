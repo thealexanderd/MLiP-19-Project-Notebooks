{
 "cells": [
  {
   "cell_type": "code",
   "execution_count": 1,
   "id": "9915d969",
   "metadata": {
    "_cell_guid": "b1076dfc-b9ad-4769-8c92-a6c4dae69d19",
    "_uuid": "8f2839f25d086af736a60e9eeb907d3b93b6e0e5",
    "execution": {
     "iopub.execute_input": "2024-02-29T16:43:00.417184Z",
     "iopub.status.busy": "2024-02-29T16:43:00.416810Z",
     "iopub.status.idle": "2024-02-29T16:43:02.773990Z",
     "shell.execute_reply": "2024-02-29T16:43:02.773127Z"
    },
    "papermill": {
     "duration": 2.369799,
     "end_time": "2024-02-29T16:43:02.776343",
     "exception": false,
     "start_time": "2024-02-29T16:43:00.406544",
     "status": "completed"
    },
    "tags": []
   },
   "outputs": [],
   "source": [
    "# This Python 3 environment comes with many helpful analytics libraries installed\n",
    "# It is defined by the kaggle/python Docker image: https://github.com/kaggle/docker-python\n",
    "# For example, here's several helpful packages to load\n",
    "\n",
    "import numpy as np # linear algebra\n",
    "import pandas as pd # data processing, CSV file I/O (e.g. pd.read_csv)\n",
    "from scipy import signal\n",
    "from sklearn.discriminant_analysis import LinearDiscriminantAnalysis\n",
    "from sklearn.model_selection import train_test_split\n",
    "from sklearn.preprocessing import LabelEncoder\n",
    "from sklearn.model_selection import KFold, GroupKFold\n",
    "from sklearn.neural_network import MLPClassifier\n",
    "\n",
    "\n",
    "# Input data files are available in the read-only \"../input/\" directory\n",
    "# For example, running this (by clicking run or pressing Shift+Enter) will list all files under the input directory\n",
    "\n",
    "# import os\n",
    "# for dirname, _, filenames in os.walk('/kaggle/input'):\n",
    "#     for filename in filenames:\n",
    "#         print(os.path.join(dirname, filename))\n",
    "\n",
    "# You can write up to 20GB to the current directory (/kaggle/working/) that gets preserved as output when you create a version using \"Save & Run All\" \n",
    "# You can also write temporary files to /kaggle/temp/, but they won't be saved outside of the current session"
   ]
  },
  {
   "cell_type": "code",
   "execution_count": 2,
   "id": "c293540a",
   "metadata": {
    "execution": {
     "iopub.execute_input": "2024-02-29T16:43:02.795069Z",
     "iopub.status.busy": "2024-02-29T16:43:02.794029Z",
     "iopub.status.idle": "2024-02-29T16:43:02.798939Z",
     "shell.execute_reply": "2024-02-29T16:43:02.797869Z"
    },
    "papermill": {
     "duration": 0.016005,
     "end_time": "2024-02-29T16:43:02.800963",
     "exception": false,
     "start_time": "2024-02-29T16:43:02.784958",
     "status": "completed"
    },
    "tags": []
   },
   "outputs": [],
   "source": [
    "EEG_SAMPLING_RATE = 200\n",
    "EEG_LENGTH = 50\n",
    "AMOUNT_OF_CHANNELS = 20"
   ]
  },
  {
   "cell_type": "code",
   "execution_count": 3,
   "id": "c90b5fd1",
   "metadata": {
    "execution": {
     "iopub.execute_input": "2024-02-29T16:43:02.818025Z",
     "iopub.status.busy": "2024-02-29T16:43:02.817677Z",
     "iopub.status.idle": "2024-02-29T16:43:03.064120Z",
     "shell.execute_reply": "2024-02-29T16:43:03.063311Z"
    },
    "papermill": {
     "duration": 0.257557,
     "end_time": "2024-02-29T16:43:03.066403",
     "exception": false,
     "start_time": "2024-02-29T16:43:02.808846",
     "status": "completed"
    },
    "tags": []
   },
   "outputs": [],
   "source": [
    "data = pd.read_csv('/kaggle/input/hms-harmful-brain-activity-classification/train.csv')\n",
    "# tensor_data = torch.from_numpy(data) #torch.tensor(data.values, dtype=torch.float32)"
   ]
  },
  {
   "cell_type": "code",
   "execution_count": 4,
   "id": "f8d3f898",
   "metadata": {
    "execution": {
     "iopub.execute_input": "2024-02-29T16:43:03.084100Z",
     "iopub.status.busy": "2024-02-29T16:43:03.083537Z",
     "iopub.status.idle": "2024-02-29T16:43:03.121903Z",
     "shell.execute_reply": "2024-02-29T16:43:03.121136Z"
    },
    "papermill": {
     "duration": 0.04953,
     "end_time": "2024-02-29T16:43:03.124015",
     "exception": false,
     "start_time": "2024-02-29T16:43:03.074485",
     "status": "completed"
    },
    "tags": []
   },
   "outputs": [
    {
     "data": {
      "text/html": [
       "<div>\n",
       "<style scoped>\n",
       "    .dataframe tbody tr th:only-of-type {\n",
       "        vertical-align: middle;\n",
       "    }\n",
       "\n",
       "    .dataframe tbody tr th {\n",
       "        vertical-align: top;\n",
       "    }\n",
       "\n",
       "    .dataframe thead th {\n",
       "        text-align: right;\n",
       "    }\n",
       "</style>\n",
       "<table border=\"1\" class=\"dataframe\">\n",
       "  <thead>\n",
       "    <tr style=\"text-align: right;\">\n",
       "      <th></th>\n",
       "      <th>eeg_id</th>\n",
       "      <th>eeg_sub_id</th>\n",
       "      <th>eeg_label_offset_seconds</th>\n",
       "      <th>spectrogram_id</th>\n",
       "      <th>spectrogram_sub_id</th>\n",
       "      <th>spectrogram_label_offset_seconds</th>\n",
       "      <th>label_id</th>\n",
       "      <th>patient_id</th>\n",
       "      <th>expert_consensus</th>\n",
       "      <th>seizure_vote</th>\n",
       "      <th>lpd_vote</th>\n",
       "      <th>gpd_vote</th>\n",
       "      <th>lrda_vote</th>\n",
       "      <th>grda_vote</th>\n",
       "      <th>other_vote</th>\n",
       "    </tr>\n",
       "  </thead>\n",
       "  <tbody>\n",
       "    <tr>\n",
       "      <th>0</th>\n",
       "      <td>1628180742</td>\n",
       "      <td>0</td>\n",
       "      <td>0.0</td>\n",
       "      <td>353733</td>\n",
       "      <td>0</td>\n",
       "      <td>0.0</td>\n",
       "      <td>127492639</td>\n",
       "      <td>42516</td>\n",
       "      <td>Seizure</td>\n",
       "      <td>1.0</td>\n",
       "      <td>0.0</td>\n",
       "      <td>0.0</td>\n",
       "      <td>0.0</td>\n",
       "      <td>0.0</td>\n",
       "      <td>0.0</td>\n",
       "    </tr>\n",
       "    <tr>\n",
       "      <th>1</th>\n",
       "      <td>1628180742</td>\n",
       "      <td>1</td>\n",
       "      <td>6.0</td>\n",
       "      <td>353733</td>\n",
       "      <td>1</td>\n",
       "      <td>6.0</td>\n",
       "      <td>3887563113</td>\n",
       "      <td>42516</td>\n",
       "      <td>Seizure</td>\n",
       "      <td>1.0</td>\n",
       "      <td>0.0</td>\n",
       "      <td>0.0</td>\n",
       "      <td>0.0</td>\n",
       "      <td>0.0</td>\n",
       "      <td>0.0</td>\n",
       "    </tr>\n",
       "    <tr>\n",
       "      <th>2</th>\n",
       "      <td>1628180742</td>\n",
       "      <td>2</td>\n",
       "      <td>8.0</td>\n",
       "      <td>353733</td>\n",
       "      <td>2</td>\n",
       "      <td>8.0</td>\n",
       "      <td>1142670488</td>\n",
       "      <td>42516</td>\n",
       "      <td>Seizure</td>\n",
       "      <td>1.0</td>\n",
       "      <td>0.0</td>\n",
       "      <td>0.0</td>\n",
       "      <td>0.0</td>\n",
       "      <td>0.0</td>\n",
       "      <td>0.0</td>\n",
       "    </tr>\n",
       "    <tr>\n",
       "      <th>3</th>\n",
       "      <td>1628180742</td>\n",
       "      <td>3</td>\n",
       "      <td>18.0</td>\n",
       "      <td>353733</td>\n",
       "      <td>3</td>\n",
       "      <td>18.0</td>\n",
       "      <td>2718991173</td>\n",
       "      <td>42516</td>\n",
       "      <td>Seizure</td>\n",
       "      <td>1.0</td>\n",
       "      <td>0.0</td>\n",
       "      <td>0.0</td>\n",
       "      <td>0.0</td>\n",
       "      <td>0.0</td>\n",
       "      <td>0.0</td>\n",
       "    </tr>\n",
       "    <tr>\n",
       "      <th>4</th>\n",
       "      <td>1628180742</td>\n",
       "      <td>4</td>\n",
       "      <td>24.0</td>\n",
       "      <td>353733</td>\n",
       "      <td>4</td>\n",
       "      <td>24.0</td>\n",
       "      <td>3080632009</td>\n",
       "      <td>42516</td>\n",
       "      <td>Seizure</td>\n",
       "      <td>1.0</td>\n",
       "      <td>0.0</td>\n",
       "      <td>0.0</td>\n",
       "      <td>0.0</td>\n",
       "      <td>0.0</td>\n",
       "      <td>0.0</td>\n",
       "    </tr>\n",
       "  </tbody>\n",
       "</table>\n",
       "</div>"
      ],
      "text/plain": [
       "       eeg_id  eeg_sub_id  eeg_label_offset_seconds  spectrogram_id  \\\n",
       "0  1628180742           0                       0.0          353733   \n",
       "1  1628180742           1                       6.0          353733   \n",
       "2  1628180742           2                       8.0          353733   \n",
       "3  1628180742           3                      18.0          353733   \n",
       "4  1628180742           4                      24.0          353733   \n",
       "\n",
       "   spectrogram_sub_id  spectrogram_label_offset_seconds    label_id  \\\n",
       "0                   0                               0.0   127492639   \n",
       "1                   1                               6.0  3887563113   \n",
       "2                   2                               8.0  1142670488   \n",
       "3                   3                              18.0  2718991173   \n",
       "4                   4                              24.0  3080632009   \n",
       "\n",
       "   patient_id expert_consensus  seizure_vote  lpd_vote  gpd_vote  lrda_vote  \\\n",
       "0       42516          Seizure           1.0       0.0       0.0        0.0   \n",
       "1       42516          Seizure           1.0       0.0       0.0        0.0   \n",
       "2       42516          Seizure           1.0       0.0       0.0        0.0   \n",
       "3       42516          Seizure           1.0       0.0       0.0        0.0   \n",
       "4       42516          Seizure           1.0       0.0       0.0        0.0   \n",
       "\n",
       "   grda_vote  other_vote  \n",
       "0        0.0         0.0  \n",
       "1        0.0         0.0  \n",
       "2        0.0         0.0  \n",
       "3        0.0         0.0  \n",
       "4        0.0         0.0  "
      ]
     },
     "execution_count": 4,
     "metadata": {},
     "output_type": "execute_result"
    }
   ],
   "source": [
    "TARGETS = [\"seizure_vote\", \"lpd_vote\", \"gpd_vote\", \"lrda_vote\", \"grda_vote\", \"other_vote\"]\n",
    "y_data = data[TARGETS].values\n",
    "y_data = y_data / y_data.sum(axis=1,keepdims=True)\n",
    "data[TARGETS] = y_data\n",
    "\n",
    "data.head()"
   ]
  },
  {
   "cell_type": "code",
   "execution_count": null,
   "id": "1d4cbb47",
   "metadata": {
    "papermill": {
     "duration": 0.007769,
     "end_time": "2024-02-29T16:43:03.140304",
     "exception": false,
     "start_time": "2024-02-29T16:43:03.132535",
     "status": "completed"
    },
    "tags": []
   },
   "outputs": [],
   "source": []
  },
  {
   "cell_type": "code",
   "execution_count": 5,
   "id": "501fc4e6",
   "metadata": {
    "execution": {
     "iopub.execute_input": "2024-02-29T16:43:03.158773Z",
     "iopub.status.busy": "2024-02-29T16:43:03.158105Z",
     "iopub.status.idle": "2024-02-29T16:43:03.162536Z",
     "shell.execute_reply": "2024-02-29T16:43:03.161792Z"
    },
    "papermill": {
     "duration": 0.015633,
     "end_time": "2024-02-29T16:43:03.164457",
     "exception": false,
     "start_time": "2024-02-29T16:43:03.148824",
     "status": "completed"
    },
    "tags": []
   },
   "outputs": [],
   "source": [
    "# https://www.kaggle.com/code/kimbyungchun/preprocess-with-mne-for-human\n",
    "# @cache\n",
    "BASE_PATH = '/kaggle/input/hms-harmful-brain-activity-classification'\n",
    "def load_eeg(eeg_id, data_type='train'):\n",
    "    eeg_df = pd.read_parquet(f'{BASE_PATH}/{data_type}_eegs/{eeg_id}.parquet')\n",
    "    return eeg_df"
   ]
  },
  {
   "cell_type": "code",
   "execution_count": 6,
   "id": "9ee48765",
   "metadata": {
    "execution": {
     "iopub.execute_input": "2024-02-29T16:43:03.182383Z",
     "iopub.status.busy": "2024-02-29T16:43:03.181742Z",
     "iopub.status.idle": "2024-02-29T16:43:03.186117Z",
     "shell.execute_reply": "2024-02-29T16:43:03.185441Z"
    },
    "papermill": {
     "duration": 0.015341,
     "end_time": "2024-02-29T16:43:03.187931",
     "exception": false,
     "start_time": "2024-02-29T16:43:03.172590",
     "status": "completed"
    },
    "tags": []
   },
   "outputs": [],
   "source": [
    "# def extract_eeg_features(df, sampling_rate):\n",
    "#   \"\"\"\n",
    "#   Extracts features from an EEG signal in a pandas DataFrame.\n",
    "\n",
    "#   Args:\n",
    "#       df: A pandas DataFrame with shape (times, channels) containing the EEG data.\n",
    "#       sampling_rate: The sampling rate of the EEG data in Hz.\n",
    "\n",
    "#   Returns:\n",
    "#       A pandas DataFrame containing the extracted features.\n",
    "#   \"\"\"\n",
    "\n",
    "#   features_df = pd.DataFrame()\n",
    "\n",
    "#   # Time-domain features\n",
    "#   features_df[\"mean\"] = df.mean(axis=0)\n",
    "#   features_df[\"std\"] = df.std(axis=0)\n",
    "#   features_df[\"variance\"] = df.var(axis=0)\n",
    "#   features_df[\"max\"] = df.max(axis=0)\n",
    "#   features_df[\"min\"] = df.min(axis=0)\n",
    "\n",
    "#   # Frequency-domain features\n",
    "#   eeg_data_array = df.to_numpy()  # Convert DataFrame to NumPy array\n",
    "#   fft_data = np.fft.fft(eeg_data_array, axis=0)  # Perform FFT\n",
    "#   power_spectrum = np.abs(fft_data) ** 2\n",
    "#   print(fft_data.shape)\n",
    "#   print(type(fft_data))\n",
    "\n",
    "#   for channel in range(df.shape[1]):\n",
    "#     features_df[f\"power_delta_{channel}\"] = np.sum(power_spectrum[:, 1:4])  # Delta band (1-4 Hz)\n",
    "#     features_df[f\"power_theta_{channel}\"] = np.sum(power_spectrum[:, 4:8])  # Theta band (4-8 Hz)\n",
    "#     features_df[f\"power_alpha_{channel}\"] = np.sum(power_spectrum[:, 8:13])  # Alpha band (8-13 Hz)\n",
    "#     features_df[f\"power_beta_{channel}\"] = np.sum(power_spectrum[:, 13:30])  # Beta band (13-30 Hz)\n",
    "\n",
    "#   return features_df"
   ]
  },
  {
   "cell_type": "code",
   "execution_count": 7,
   "id": "8377120b",
   "metadata": {
    "execution": {
     "iopub.execute_input": "2024-02-29T16:43:03.207073Z",
     "iopub.status.busy": "2024-02-29T16:43:03.206419Z",
     "iopub.status.idle": "2024-02-29T16:43:03.209972Z",
     "shell.execute_reply": "2024-02-29T16:43:03.209279Z"
    },
    "papermill": {
     "duration": 0.015079,
     "end_time": "2024-02-29T16:43:03.211954",
     "exception": false,
     "start_time": "2024-02-29T16:43:03.196875",
     "status": "completed"
    },
    "tags": []
   },
   "outputs": [],
   "source": [
    "# row = data.iloc[0]\n",
    "# eeg = processRow(row)\n",
    "# print(\"d\")\n",
    "\n",
    "# print(eeg.shape)\n",
    "# print(type(eeg))\n",
    "# display(eeg.tail())"
   ]
  },
  {
   "cell_type": "code",
   "execution_count": 8,
   "id": "74fa65c3",
   "metadata": {
    "execution": {
     "iopub.execute_input": "2024-02-29T16:43:03.230374Z",
     "iopub.status.busy": "2024-02-29T16:43:03.229752Z",
     "iopub.status.idle": "2024-02-29T16:43:03.233568Z",
     "shell.execute_reply": "2024-02-29T16:43:03.232799Z"
    },
    "papermill": {
     "duration": 0.015429,
     "end_time": "2024-02-29T16:43:03.235548",
     "exception": false,
     "start_time": "2024-02-29T16:43:03.220119",
     "status": "completed"
    },
    "tags": []
   },
   "outputs": [],
   "source": [
    "# # display(train.head())\n",
    "# labels = data['expert_consensus']\n",
    "\n",
    "# encoder = LabelEncoder()\n",
    "# encoded_labels = encoder.fit_transform(labels)\n",
    "\n",
    "# data['expert_consensus_enc'] = encoded_labels\n",
    "\n"
   ]
  },
  {
   "cell_type": "code",
   "execution_count": 9,
   "id": "dbe4352c",
   "metadata": {
    "execution": {
     "iopub.execute_input": "2024-02-29T16:43:03.253517Z",
     "iopub.status.busy": "2024-02-29T16:43:03.253119Z",
     "iopub.status.idle": "2024-02-29T16:43:03.261169Z",
     "shell.execute_reply": "2024-02-29T16:43:03.260163Z"
    },
    "papermill": {
     "duration": 0.019591,
     "end_time": "2024-02-29T16:43:03.263314",
     "exception": false,
     "start_time": "2024-02-29T16:43:03.243723",
     "status": "completed"
    },
    "tags": []
   },
   "outputs": [],
   "source": [
    "eeg_dict = {}\n",
    "def getEEG(row, data_type):\n",
    "#     print(\"Loading EEG row:\", row.name)\n",
    "    if not row.eeg_id in eeg_dict:\n",
    "        df = load_eeg(row.eeg_id, data_type)  \n",
    "        no_nans = df.dropna()\n",
    "        eeg_dict[row.eeg_id] = no_nans\n",
    "    eeg = eeg_dict[row.eeg_id]\n",
    "    \n",
    "    start_eeg = int(row.eeg_label_offset_seconds * EEG_SAMPLING_RATE)\n",
    "    end_eeg = start_eeg + (EEG_LENGTH * EEG_SAMPLING_RATE)\n",
    "\n",
    "    row_eeg = eeg[start_eeg:end_eeg]\n",
    "\n",
    "#     features = extract_eeg_features(row_eeg, EEG_SAMPLING_RATE)\n",
    "    return row_eeg\n"
   ]
  },
  {
   "cell_type": "code",
   "execution_count": 10,
   "id": "7f6e0b46",
   "metadata": {
    "execution": {
     "iopub.execute_input": "2024-02-29T16:43:03.281844Z",
     "iopub.status.busy": "2024-02-29T16:43:03.280611Z",
     "iopub.status.idle": "2024-02-29T16:43:03.286349Z",
     "shell.execute_reply": "2024-02-29T16:43:03.285253Z"
    },
    "papermill": {
     "duration": 0.017165,
     "end_time": "2024-02-29T16:43:03.288652",
     "exception": false,
     "start_time": "2024-02-29T16:43:03.271487",
     "status": "completed"
    },
    "tags": []
   },
   "outputs": [],
   "source": [
    "# from sklearn.base import BaseEstimator, TransformerMixin\n",
    "# class CustomTransformer(BaseEstimator, TransformerMixin):\n",
    "#     def __init__(self):\n",
    "# #         self.parameter1 = parameter1\n",
    "# #         self.parameter2 = parameter2\n",
    "#         pass\n",
    "#     def fit(self, X, y=None):\n",
    "#         # Calculate statistics or learn parameters from X if needed\n",
    "#         return self\n",
    "\n",
    "#     def transform(self, X):\n",
    "#         # Apply the transformation to X\n",
    "#         print(\"Total transforms:\", X.shape)\n",
    "#         X = X.apply(processRow, axis=1)\n",
    "#         print(\"transformer done\")\n",
    "        \n",
    "      \n",
    "#         return X"
   ]
  },
  {
   "cell_type": "code",
   "execution_count": 11,
   "id": "3ac99f22",
   "metadata": {
    "execution": {
     "iopub.execute_input": "2024-02-29T16:43:03.306669Z",
     "iopub.status.busy": "2024-02-29T16:43:03.306274Z",
     "iopub.status.idle": "2024-02-29T16:43:03.311199Z",
     "shell.execute_reply": "2024-02-29T16:43:03.310407Z"
    },
    "papermill": {
     "duration": 0.016146,
     "end_time": "2024-02-29T16:43:03.313020",
     "exception": false,
     "start_time": "2024-02-29T16:43:03.296874",
     "status": "completed"
    },
    "tags": []
   },
   "outputs": [],
   "source": [
    "# TIME_BINS_PER_SECOND = 10\n",
    "# BIN_LENGTH = int((1/TIME_BINS_PER_SECOND)*EEG_SAMPLING_RATE)\n",
    "# def extract_time_bins(row_eeg, key):\n",
    "#     middle_10 = row_eeg.iloc[20*EEG_SAMPLING_RATE:30*EEG_SAMPLING_RATE]\n",
    "#     new_fts = pd.DataFrame()\n",
    "#     for chan in range(middle_10.shape[1]):\n",
    "#         col_eeg = middle_10.iloc[:, chan]\n",
    "#         col_eeg = col_eeg.reset_index(drop=True)\n",
    "#         plt.plot(col_eeg)\n",
    "#         bin_mns = []\n",
    "#         for bin_index in range(100):\n",
    "#             start_index = bin_index * BIN_LENGTH\n",
    "#             end_index = start_index + BIN_LENGTH\n",
    "# #             print(start_index)\n",
    "# #             print(end_index)\n",
    "            \n",
    "#             bin_eeg = col_eeg[start_index:end_index]\n",
    "\n",
    "# #             print(col_eeg.loc[start_index])\n",
    "#             mn = bin_eeg.mean()\n",
    "#             bin_mns.append(mn)\n",
    "# #             print(mn)\n",
    "# #         print(bin_mns)\n",
    "# #         break\n",
    "#         new_fts[\"ch\"+str(chan)] = bin_mns\n",
    "# #         print(new_fts)\n",
    "#         break\n",
    "\n",
    "#     return new_fts\n",
    "            \n",
    "# #         print(type(col_eeg))\n",
    "# #         print(col_eeg)\n",
    "# #         break"
   ]
  },
  {
   "cell_type": "code",
   "execution_count": 12,
   "id": "4420f547",
   "metadata": {
    "execution": {
     "iopub.execute_input": "2024-02-29T16:43:03.330927Z",
     "iopub.status.busy": "2024-02-29T16:43:03.330337Z",
     "iopub.status.idle": "2024-02-29T16:43:03.333974Z",
     "shell.execute_reply": "2024-02-29T16:43:03.333052Z"
    },
    "papermill": {
     "duration": 0.014646,
     "end_time": "2024-02-29T16:43:03.335722",
     "exception": false,
     "start_time": "2024-02-29T16:43:03.321076",
     "status": "completed"
    },
    "tags": []
   },
   "outputs": [],
   "source": [
    "# def find_eeg_id(eeg_id):\n",
    "#     row = data.loc[data['eeg_id'] == eeg_id].head(1)\n",
    "#     return row\n",
    "\n",
    "    \n",
    "# find_eeg_id(1969473879)"
   ]
  },
  {
   "cell_type": "code",
   "execution_count": 13,
   "id": "0b18bea6",
   "metadata": {
    "execution": {
     "iopub.execute_input": "2024-02-29T16:43:03.353486Z",
     "iopub.status.busy": "2024-02-29T16:43:03.352927Z",
     "iopub.status.idle": "2024-02-29T16:43:03.356444Z",
     "shell.execute_reply": "2024-02-29T16:43:03.355662Z"
    },
    "papermill": {
     "duration": 0.014506,
     "end_time": "2024-02-29T16:43:03.358259",
     "exception": false,
     "start_time": "2024-02-29T16:43:03.343753",
     "status": "completed"
    },
    "tags": []
   },
   "outputs": [],
   "source": [
    "# row = data.iloc[10827]\n",
    "# display(row)\n",
    "# row_eeg = getEEG(data.iloc[0], \"train\")\n",
    "# key = str(row.eeg_id) + \"-\" + str(row.eeg_sub_id)\n",
    "# new_fts = extract_time_bins(row_eeg, key)\n",
    "# display(new_fts)"
   ]
  },
  {
   "cell_type": "code",
   "execution_count": null,
   "id": "eba9dea8",
   "metadata": {
    "papermill": {
     "duration": 0.0078,
     "end_time": "2024-02-29T16:43:03.374108",
     "exception": false,
     "start_time": "2024-02-29T16:43:03.366308",
     "status": "completed"
    },
    "tags": []
   },
   "outputs": [],
   "source": []
  },
  {
   "cell_type": "code",
   "execution_count": 14,
   "id": "d8c74177",
   "metadata": {
    "execution": {
     "iopub.execute_input": "2024-02-29T16:43:03.391900Z",
     "iopub.status.busy": "2024-02-29T16:43:03.391336Z",
     "iopub.status.idle": "2024-02-29T16:43:06.632446Z",
     "shell.execute_reply": "2024-02-29T16:43:06.631556Z"
    },
    "papermill": {
     "duration": 3.252827,
     "end_time": "2024-02-29T16:43:06.634879",
     "exception": false,
     "start_time": "2024-02-29T16:43:03.382052",
     "status": "completed"
    },
    "tags": []
   },
   "outputs": [],
   "source": [
    "from scipy import signal\n",
    "from scipy.stats import skew, kurtosis\n",
    "import matplotlib.pyplot as plt\n",
    "import torch\n",
    "import torch.utils.data as data_utils\n",
    "import math\n",
    "\n",
    "def extract_features(row_eeg, key):\n",
    "#     print(row_eeg)\n",
    "    data = []\n",
    "    for chan in range(row_eeg.shape[1]):\n",
    "        col_eeg = row_eeg.iloc[:, chan]\n",
    "        \n",
    "        # display(row_eeg.iloc[:, 0])\n",
    "        frequencies, psd = signal.welch(col_eeg, EEG_SAMPLING_RATE, nperseg=512)\n",
    "        # Select frequencies below 20 Hz\n",
    "        indices_below_20Hz = frequencies < 20\n",
    "        selected_frequencies = frequencies[indices_below_20Hz]\n",
    "        selected_psd = psd[indices_below_20Hz]\n",
    "\n",
    "\n",
    "        # print(col_eeg)\n",
    "        mean_value = np.mean(col_eeg)\n",
    "        variance_value = np.var(col_eeg)\n",
    "        skewness_value = float(skew(col_eeg))\n",
    "        if math.isnan(skewness_value):\n",
    "            skewness_value = 0\n",
    "        kurtosis_value = kurtosis(col_eeg)\n",
    "        if math.isnan(float(kurtosis_value)):\n",
    "            kurtosis_value = 0\n",
    "        \n",
    "        tmp = [mean_value, variance_value, skewness_value, kurtosis_value]\n",
    "        tmp.extend(selected_psd)\n",
    "        if (np.isnan(tmp).any()):\n",
    "#             freq_plot(selected_frequencies, selected_psd)\n",
    "            print(\"WARNING NAN\", key)\n",
    "            print(\"isnan4\", [mean_value, variance_value, skewness_value, kurtosis_value])\n",
    "            print(selected_frequencies)\n",
    "            print(selected_psd)\n",
    "            print(col_eeg)\n",
    "            print(\"eeg has nan\", np.count_nonzero(np.isnan(data)))\n",
    "#             return False\n",
    "#         print(selected_psd.shape)\n",
    "#         tmp = torch.tensor(tmp, dtype=torch.float32)\n",
    "        \n",
    "        data.append(tmp)\n",
    "#     print(data)\n",
    "    return data\n",
    "#                                     pd.DataFrame(data)"
   ]
  },
  {
   "cell_type": "code",
   "execution_count": 15,
   "id": "94654df5",
   "metadata": {
    "execution": {
     "iopub.execute_input": "2024-02-29T16:43:06.653753Z",
     "iopub.status.busy": "2024-02-29T16:43:06.653214Z",
     "iopub.status.idle": "2024-02-29T16:43:06.660211Z",
     "shell.execute_reply": "2024-02-29T16:43:06.658907Z"
    },
    "papermill": {
     "duration": 0.01871,
     "end_time": "2024-02-29T16:43:06.662375",
     "exception": false,
     "start_time": "2024-02-29T16:43:06.643665",
     "status": "completed"
    },
    "tags": []
   },
   "outputs": [],
   "source": [
    "# Plot the results\n",
    "def freq_plot(selected_frequencies, selected_psd):\n",
    "    plt.figure(figsize=(8, 4))\n",
    "    plt.semilogy(selected_frequencies, selected_psd)\n",
    "    plt.xlabel('Frequency [Hz]')\n",
    "    plt.ylabel('PSD [V**2/Hz]')\n",
    "    plt.title('Power Spectral Density (Below 20 Hz)')\n",
    "    plt.grid(True)\n",
    "    plt.show()\n",
    "#     print(selected_frequencies)"
   ]
  },
  {
   "cell_type": "code",
   "execution_count": 16,
   "id": "c40c628e",
   "metadata": {
    "execution": {
     "iopub.execute_input": "2024-02-29T16:43:06.685019Z",
     "iopub.status.busy": "2024-02-29T16:43:06.683962Z",
     "iopub.status.idle": "2024-02-29T16:43:06.689292Z",
     "shell.execute_reply": "2024-02-29T16:43:06.687880Z"
    },
    "papermill": {
     "duration": 0.020833,
     "end_time": "2024-02-29T16:43:06.691923",
     "exception": false,
     "start_time": "2024-02-29T16:43:06.671090",
     "status": "completed"
    },
    "tags": []
   },
   "outputs": [],
   "source": [
    "features_dict = {}"
   ]
  },
  {
   "cell_type": "code",
   "execution_count": 17,
   "id": "85a2b793",
   "metadata": {
    "execution": {
     "iopub.execute_input": "2024-02-29T16:43:06.713851Z",
     "iopub.status.busy": "2024-02-29T16:43:06.713132Z",
     "iopub.status.idle": "2024-02-29T16:43:06.720526Z",
     "shell.execute_reply": "2024-02-29T16:43:06.719662Z"
    },
    "papermill": {
     "duration": 0.021216,
     "end_time": "2024-02-29T16:43:06.723798",
     "exception": false,
     "start_time": "2024-02-29T16:43:06.702582",
     "status": "completed"
    },
    "tags": []
   },
   "outputs": [],
   "source": [
    "def getAndExtractEEG(row, data_type):\n",
    "    key = str(row.eeg_id) + \"-\" + str(row.eeg_sub_id)\n",
    "    if not key in features_dict:\n",
    "        print(\"New\", end = \" \")\n",
    "        row_eeg = getEEG(row, data_type)\n",
    "        features = extract_features(row_eeg, key)\n",
    "#         if not features:\n",
    "#             return\n",
    "        features_dict[key] = features\n",
    "        return features\n",
    "    print(\"mem\", end=\" \")\n",
    "    return features_dict[key]\n",
    "#     eeg = eeg_dict[row.eeg_id]\n",
    "    \n"
   ]
  },
  {
   "cell_type": "code",
   "execution_count": 18,
   "id": "89b06a70",
   "metadata": {
    "execution": {
     "iopub.execute_input": "2024-02-29T16:43:06.747218Z",
     "iopub.status.busy": "2024-02-29T16:43:06.746238Z",
     "iopub.status.idle": "2024-02-29T16:43:06.751415Z",
     "shell.execute_reply": "2024-02-29T16:43:06.750017Z"
    },
    "papermill": {
     "duration": 0.019151,
     "end_time": "2024-02-29T16:43:06.754381",
     "exception": false,
     "start_time": "2024-02-29T16:43:06.735230",
     "status": "completed"
    },
    "tags": []
   },
   "outputs": [],
   "source": [
    "# df = eeg_dict[3630961636]\n",
    "# df[df.isna().any(axis=1)]\n",
    "# # df.iloc[4802]"
   ]
  },
  {
   "cell_type": "code",
   "execution_count": 19,
   "id": "54c6e285",
   "metadata": {
    "execution": {
     "iopub.execute_input": "2024-02-29T16:43:06.776697Z",
     "iopub.status.busy": "2024-02-29T16:43:06.775825Z",
     "iopub.status.idle": "2024-02-29T16:43:06.781034Z",
     "shell.execute_reply": "2024-02-29T16:43:06.779745Z"
    },
    "papermill": {
     "duration": 0.017962,
     "end_time": "2024-02-29T16:43:06.783245",
     "exception": false,
     "start_time": "2024-02-29T16:43:06.765283",
     "status": "completed"
    },
    "tags": []
   },
   "outputs": [],
   "source": [
    "# df = data.loc[data['eeg_id'] == 3630961636]\n",
    "# print(df.iloc[)\n",
    "# getAndExtractEEG(df.iloc[0]) \n",
    "# 3630961636-0"
   ]
  },
  {
   "cell_type": "code",
   "execution_count": 20,
   "id": "d2c24e17",
   "metadata": {
    "execution": {
     "iopub.execute_input": "2024-02-29T16:43:06.804397Z",
     "iopub.status.busy": "2024-02-29T16:43:06.803667Z",
     "iopub.status.idle": "2024-02-29T16:43:06.809968Z",
     "shell.execute_reply": "2024-02-29T16:43:06.808820Z"
    },
    "papermill": {
     "duration": 0.017644,
     "end_time": "2024-02-29T16:43:06.811980",
     "exception": false,
     "start_time": "2024-02-29T16:43:06.794336",
     "status": "completed"
    },
    "tags": []
   },
   "outputs": [
    {
     "name": "stdout",
     "output_type": "stream",
     "text": [
      "cpu\n"
     ]
    }
   ],
   "source": [
    "# This piece of code is required to make use of the GPU instead of CPU for faster processing\n",
    "device = torch.device(\"cuda:0\" if torch.cuda.is_available() else \"cpu\")\n",
    "print(device)"
   ]
  },
  {
   "cell_type": "code",
   "execution_count": 21,
   "id": "eea4a1a0",
   "metadata": {
    "execution": {
     "iopub.execute_input": "2024-02-29T16:43:06.830193Z",
     "iopub.status.busy": "2024-02-29T16:43:06.829795Z",
     "iopub.status.idle": "2024-02-29T16:43:06.835833Z",
     "shell.execute_reply": "2024-02-29T16:43:06.834760Z"
    },
    "papermill": {
     "duration": 0.017527,
     "end_time": "2024-02-29T16:43:06.837866",
     "exception": false,
     "start_time": "2024-02-29T16:43:06.820339",
     "status": "completed"
    },
    "tags": []
   },
   "outputs": [],
   "source": [
    "import torch\n",
    "from torch.utils.data import Dataset\n",
    "\n",
    "class MyDataset(Dataset):\n",
    "    def __init__(self, X, y):\n",
    "        self.X = X\n",
    "        self.y = y\n",
    "\n",
    "    def __len__(self):\n",
    "        return len(self.X)\n",
    "\n",
    "    def __getitem__(self, idx):\n",
    "        return self.X[idx], self.y[idx]\n"
   ]
  },
  {
   "cell_type": "code",
   "execution_count": 22,
   "id": "441ef927",
   "metadata": {
    "execution": {
     "iopub.execute_input": "2024-02-29T16:43:06.856062Z",
     "iopub.status.busy": "2024-02-29T16:43:06.855333Z",
     "iopub.status.idle": "2024-02-29T16:43:06.859914Z",
     "shell.execute_reply": "2024-02-29T16:43:06.859113Z"
    },
    "papermill": {
     "duration": 0.01594,
     "end_time": "2024-02-29T16:43:06.861902",
     "exception": false,
     "start_time": "2024-02-29T16:43:06.845962",
     "status": "completed"
    },
    "tags": []
   },
   "outputs": [],
   "source": [
    "\n",
    "# torch.autograd.set_detect_anomaly(True)"
   ]
  },
  {
   "cell_type": "code",
   "execution_count": 23,
   "id": "f4d878e6",
   "metadata": {
    "execution": {
     "iopub.execute_input": "2024-02-29T16:43:06.880305Z",
     "iopub.status.busy": "2024-02-29T16:43:06.879472Z",
     "iopub.status.idle": "2024-02-29T16:43:06.884144Z",
     "shell.execute_reply": "2024-02-29T16:43:06.883356Z"
    },
    "papermill": {
     "duration": 0.015939,
     "end_time": "2024-02-29T16:43:06.886130",
     "exception": false,
     "start_time": "2024-02-29T16:43:06.870191",
     "status": "completed"
    },
    "tags": []
   },
   "outputs": [],
   "source": [
    "# import pickle\n",
    "# with open('my_dict.pkl', 'rb') as file:\n",
    "#     features_dict = pickle.load(file)"
   ]
  },
  {
   "cell_type": "code",
   "execution_count": 24,
   "id": "f9ae0707",
   "metadata": {
    "execution": {
     "iopub.execute_input": "2024-02-29T16:43:06.904488Z",
     "iopub.status.busy": "2024-02-29T16:43:06.903464Z",
     "iopub.status.idle": "2024-02-29T16:43:06.912821Z",
     "shell.execute_reply": "2024-02-29T16:43:06.912057Z"
    },
    "papermill": {
     "duration": 0.02031,
     "end_time": "2024-02-29T16:43:06.914629",
     "exception": false,
     "start_time": "2024-02-29T16:43:06.894319",
     "status": "completed"
    },
    "tags": []
   },
   "outputs": [],
   "source": [
    "import torch\n",
    "import torch.nn as nn\n",
    "\n",
    "class MLP(nn.Module):\n",
    "    def __init__(self, input_dim, hidden_dim, output_dim):\n",
    "        super(MLP, self).__init__()\n",
    "        self.fc1 = nn.Linear(input_dim, hidden_dim)\n",
    "#         self.batch_norm = nn.BatchNorm1d(hidden_dim)\n",
    "        self.relu1 = nn.ReLU()\n",
    "        self.fc2 = nn.Linear(hidden_dim, hidden_dim)\n",
    "        self.relu2 = nn.ReLU()\n",
    "        self.batch_norm2 = nn.BatchNorm1d(hidden_dim)\n",
    "        self.dropout = nn.Dropout(p=0.5)  # Add dropout layer\n",
    "        self.fc4 = nn.Linear(hidden_dim, 600)\n",
    "        self.sigmoid = nn.Sigmoid()\n",
    "        self.fc3 = nn.Linear(600, output_dim)\n",
    "        self.softmax = nn.Softmax(dim=1)\n",
    "\n",
    "    def forward(self, x):\n",
    "        x = self.fc1(x)\n",
    "        x = self.relu1(x)\n",
    "        x = self.fc2(x)\n",
    "        x = self.relu2(x)\n",
    "        x = self.batch_norm2(x)\n",
    "        x = self.dropout(x)  # Apply dropout\n",
    "\n",
    "        x = self.fc4(x)\n",
    "        x = self.sigmoid(x)\n",
    "        x = self.fc3(x)\n",
    "        output = self.softmax(x)\n",
    "        return output\n",
    "\n",
    "# Example usage\n",
    "input_dim = (52 + 4) * AMOUNT_OF_CHANNELS\n",
    "hidden_dim = 800\n",
    "output_dim = 6\n"
   ]
  },
  {
   "cell_type": "code",
   "execution_count": 25,
   "id": "58f23524",
   "metadata": {
    "execution": {
     "iopub.execute_input": "2024-02-29T16:43:06.932593Z",
     "iopub.status.busy": "2024-02-29T16:43:06.932160Z",
     "iopub.status.idle": "2024-02-29T16:52:44.465775Z",
     "shell.execute_reply": "2024-02-29T16:52:44.464691Z"
    },
    "papermill": {
     "duration": 577.6924,
     "end_time": "2024-02-29T16:52:44.615060",
     "exception": false,
     "start_time": "2024-02-29T16:43:06.922660",
     "status": "completed"
    },
    "tags": []
   },
   "outputs": [
    {
     "name": "stdout",
     "output_type": "stream",
     "text": [
      "New New New New New New New New New New New New New New New New New New New New New New New New New New New New New New New New New New New New New New New New New New New New New New New New New New New New New New New New New New New New New New New New New New New New New New New New New New New New New New New New New New New New New New New New New New New New New New New New New New New New New New New New New New New New New New New New New New New New New New New New New New New New New New New New New New New New New New New New New New New New New New New New New New New New New New New New New New New New New New New New New New New New New New New New New New New New New New New New New New New New New New New New New New New New New New New New New New New New New New New New New New New New New New New New New New New New New New New New New New New New New New New New New New New New New New New New New New New New New New New New New New New New New New New New New New New New New New New New New New New New New New New New New New New New New New New New New New New New New New New New New New New New New New New New New New New New New New New New New New New New New New New New New New New New New New New New New New New New New New New New New New New New New New New New New New New New New New New New New New New New New New New New New New New New New New New New New New New New New New New New New New New New New New New New New New New New New New New New New New New New New New New New New New New New New New New New New New New New New New New New New New New New New New New New New New New New New New New New New New New New New New New New New New New New New New New New New New New New New New New New New New New New New New New New New New New New New New New New New New New New New New New New New New New New New New New New New New New New New New New New New New New New New New New New New New New New New New New New New New New New New New New New New New New New New New New New New New New New New New New New New New New New New New New New New New New New New New New New New New New New New New New New New New New New New New New New New New New New New New New New New New New New New New New New New New New New New New New New New New New New New New New New New New New New New New New New New New New New New New New New New New New New New New New New New New New New New New New New New New New New New New New New New New New New New New New New New New New New New New New New New New New New New New New New New New New New New New New New New New New New New New New New New New New New New New New New New New New New New New New New New New New New New New New New New New New New New New New New New New New New New New New New New New New New New New New New New New New New New New New New New New New New New New New New New New New New New New New New New New New New New New New New New New New New New New New New New New New New New New New New New New New New New New New New New New New New New New New New New New New New New New New New New New New New New New New New New New New New New New New New New New New New New New New New New New New New New New New New New New New New New New New New New New New New New New New New New New New New New New New New New New New New New New New New New New New New New New New New New New New New New New New New New New New New New New New New New New New New New New New New New New New New New New New New New New New New New New New New New New New New New New New New New New New New New New New New New New New New New New New New New New New New New New New New New New New New New New New New New New New New New New New New New New New New New New New New New New New New New New New New New New New New New New New New New New New New New New New New New New New New New New New New New New New New New New New New New New New New New New New New New New New New New New New New New New New New New New New New New New New New New New New New New New New New New New New New New New New New New New New New New New New New New New New New New New New New New New New New New New New New New New New New New New New New New New New New New New New New New New New New New New New New New New New New New New New New New New New New New New New New New New New New New New New New New New New New New New New New New New New New New New New New New New New New New New New New New New New New New New New New New New New New New New New New New New New New New New New New New New New New New New New New New New New New New New New New New New New New New New New New New New New New New New New New New New New New New New New New New New New New New New New New New New New New New New New New New New New New New New New New New New New New New New New New New New New New New New New New New New New New New New New New New New New New New New New New New New New New New New New New New New New New New New New New New New New New New New New New New New New New New New New New New New New New New New New New New New New New New New New New New New New New New New New New New New New New New New New New New New New New New New New New New New New New New New New New New New New New New New New New New New New New New New New New New New New New New New New New New New New New New New New New New New New New New New New New New New New New New New New New New New New New New New New New New New New New New New New New New New New New New New New New New New New New New New New New New New New New New New New New New New New New New New New New New New New New New New New New New New New New New New New New New New New New New New New New New New New New New New New New New New New New New New New New New New New New New New New New New New New New New New New New New New New New New New New New New New New New New New New New New New New New New New New New New New New New New New New New New New New New New New New New New New New New New New New New New New New New New New New New New New New New New New New New New New New New New New New New New New New New New New New New New New New New New New New New New New New New New New New New New New New New New New New New New New New New New New New New New New New New New New New New New New New New New New New New New New New New New New New New New New New New New New New New New New New New New New New New New New New New New New New New New New New New New New New New New New New New New New New New New New New New New New New New New New New New New New New New New New New New New New New New New New New New New New New New New New New New New New New New New New New New New New New New New New New New New New New New New New New New New New New New New New New New New New New New New New New New New New New New New New New New New New New New New New New New New New New New New New New New New New New New New New New New New New New New New New New New New New New New New New New New New New New New New New New New New New New New New New New New New New New New New New New New New New New New New New New New New New New New New New New New New New New New New New New New New New New New New New New New New New New New New New New New New New New New New New New New New New New New New New New New New New New New New New New New New New New New New New New New New New New New New New New New New New New New New New New New New New New New New New New New New New New New New New New New New New New New New New New New New New New New New New New New New New New New New New New New New New New New New New New New New New New New New New New New New New New New New New New New New New New New New New New New New New New New New New New New New New New New New New New New New New New New New New New New New New New New New New New New New New New New New New New New New New New New New New New New New New New New New New New New New New New New New New New New New New New New New New New New New New New New New New New New New New New New New New New New New New New New New New New New New New New New New New New New New New New New New New New New New New New New New New New New New New New New New New New New New New New New New New New New New New New New New New New New New New New New New New New New New New New New New New New New New New New New New New New New New New New New New New New New New New New New New New New New New New New New New New New New New New New New New New New New New New New New New New New New New New New New New New New New New New New New New New New New New New New New New New New New New New New New New New New New New New New New New New New New New New New New New New New New New New New New New New New New New New New New New New New New New New New New New New New New New New New New New New New New New New New New New New New New New New New New New New New New New New New New New New New New New New New New New New New New New New New New New New New New New New New New New New New New New New New New New New New New New New New New New New New New New New New New New New New New New New New New New New New New New New New New New New New New New New New New New New New New New New New New New New New New New New New New New New New New New New New New New New New New New New New New New New New New New New New New New New New New New New New New New New New New New New New New New New New New New New New New New New New New New New New New New New New New New New New New New New New New New New New New New New New New New New New New New New New New New New New New New New New New New New New New New New New New New New New New New New New New New New New New New New New New New New New New New New New New New New New New New New New New New New New New New New New New New New New New New New New New New New New New New New New New New New New New New New New New New New New New New New New New New New New New New New New New New New New New New New New New New New New New New New New New New New New New New New New New New New New New New New New New New New New New New New New New New New New New New New New New New New New New New New New New New New New New New New New New New New New New New New New New New New New New New New New New New New New New New New New New New New New New New New New New New New New New New New New New New New New New New New New New New New New New New New New New New New New New New New New New New New New New New New New New New New New New New New New New New New New New New New New New New New New New New New New New New New New New New New New New New New New New New New New New New New New New New New New New New New New New New New New New New New New New New New New New New New New New New New New New New New New New New New New New New New New New New New New New New New New New New New New New New New New New New New New New New New New New New New New New New New New New New New New New New New New New New New New New New New New New New New New New New New New New New New New New New New New New New New New New New New New New New New New New New New New New New New New New New New New New New New New New New New New New New New New New New New New New New New New New New New New New New New New New New New New New New New New New New New New New New New New New New New New New New New New New New New New New New New New New New New New New New New New New New New New New New New New New New New New New New New New New New New New New New New New New New New New New New New New New New New New New New New New New New New New New New New New New New New New New New New New New New New New New New New New New New New New New New New New New New New New New New New New New New New New New New New New New New New New New New New New New New New New New New New New New New New New New New New New New New New New New New New New New New New New New New New New New New New New New New New New New New New New New New New New New New New New New New New New New New New New New New New New New New New New New New New New New New New New New New New New New New New New New New New New New New New New New New New New New New New New New New New New New New New New New New New New New New New New New New New New New New New New New New New New New New New New New New New New New New New New New New New New New New New New New New New New New New New New New New New New New New New New New New New New New New New New New New New New New New New New New New New New New New New New New New New New New New New New New New New New New New New New New New New New New New New New New New New New New New New New New New New New New New New New New New New New New New New New New New New New New New New New New New New New New New New New New New New New New New New New New New New New New New New New New New New New New New New New New New New New New New New New New New New New New New New New New New New New New New New New New New New New New New New New New New New New New New New New New New New New New New New New New New New New New New New New New New New New New New New New New New New New New New New New New New New New New New New New New New New New New New New New New New New New New New New New New New New New New New New New New New New New New New New New New New New New New New New New New New New New New New New New New New New New New New New New New New New New New New New New New New New New New New New New New New New New New New New New New New New New New New New New New New New New New New New New New New New New New New New New New New New New New New New New New New New New New New New New New New New New New New New New New New New New New New New New New New New New New New New New New New New New New New New New New New New New New New New New New New New New New New New New New New New New New New New New New New New New New New New New New New New New New New New New New New New New New New New New New New New New New New New New New New New New New New New New New New New New New New New New New New New New New New New New New New New New New New New New New New New New New New New New New New New New New New New New New New New New New New New New New New New New New New New New New New New New New New New New New New New New New New New New New New New New New New New New New New New New New New New New New New New New New New New New New New New New New New New New New New New New New New New New New New New New New New New New New New New New New New New New New New New New New New New New New New New New New New New New New New New New New New New New New New New New New New New New New New New New New New New New New New New New New New New New New New New New New New New New New New New New New New New New New New New New New New New New New New New New New New New New New New New New New New New New New New New New New New New New New New New New New New New New New New New New New New New New New New New New New New New New New New New New New New New New New New New New New New New New New New New New New New New New New New New New New New New New New New New New New New New New New New New New New New New New New New New New New New New New New New New New New New New New New New New New New New New New New New New New New New New New New New New New New New New New New New New New New New New New New New New New New New New New New New New New New New New New New New New New New New New New New New New New New New New New New New New New New New New New New New New New New New New New New New New New New New New New New New New New New New New New New New New New New New New New New New New New New New New New New New New New New New New New New New New New New New New New New New New New New New New New New New New New New New New New New New New New New New New New New New New New New New New New New New New New New New New New New New New New New New New New New New New New New New New New New New New New New New New New New New New New New New New New New New New New New New New New New New New New New New New New New New New New New New New New New New New New New New New New New New New New New New New New New New New New New New New New New New New New New New New New New New New New New New New New New New New New New New New New New New New New New New New New New New New New New New New New New New New New New New New New New New New New New New New New New New New New New New New New New New New New New New New New New New New New New New New New New New New New New New New New New New New New New New New New New New New New New New New New New New New New New New New New New New New New New New New New New New New New New New New New New New New New New New New New New New New New New New New New New New New New New New New New New New New New New New New New New New New New New New New New New New New New New New New New New New New New New New New New New New New New New New New New New New New New New New New New New New New New New New New New New New New New New New New New New New New New New New New New New New New New New New New New New New New New New New New New New New New New New New New New New New New New New New New New New New New New New New New New New New New New New New New New New New New New New New New New New New New New New New New New New New New New New New New New New New New New New New New New New New New New New New New New New New New New New New New New New New New New New New New New New New New New New New New New New New New New New New New New New New New New New New New New New New New New New New New New New New New New New New New New New New New New New New New New New New New New New New New New New New New New New New New New New New New New New New New New New New New New New New New New New New New New New New New New New New New New New New New New New New New New New New New New New New New New New New New New New New New New New New New New New New New New New New New New New New New New New New New New New New New New New New New New New New New New New New New New New New New New New New New New New New New New New New New New New New New New New New New New New New New New New New New New New New New New New New New New New New New New New New New New New New New New New New New New New New New New New New New New New New New New New New New New New New New New New New New New New New New New New New New New New New New New New New New New New New New New New New New New New New New New New New New New New New New New New New New New New New New New New New New New New New New New New New New New New New New New New New New New New New New New New New New New New New New New New New New New New New New New New New New New New New New New New New New New New New New New New New New New New New New New New New New New New New New New New New New New New New New New New New New New New New New New New New New New New New New New New New New New New New New New New New New New New New New New New New New New New New New New New New New New New New New New New New New New New New New New New New New New New New New New New New New New New New New New New New New New New New New New New New New New New New New New New New New New New New New New New New New New New New New New New New New New New New New New New New New New New New New New New New New New New New New New New New New New New New New New New New New New New New New New New New New New New New New New New New New New New New New New New New New New New New New New New New New New New New New New New New New New New New New New New New New New New New New New New New New New New New New New New New New New New New New New New New New New New New New New New New New New New New New New New New New New New New New New New New New New New New New New New New New New New New New New New New New New New New New New New New New New New New New New New New New New New New New New New New New New New New New New New New New New New New New New New New New New New New New New New New New New New New New New New New New New New New New New New New New New New New New New New New New New New New New New New New New New New New New New New New New New New New New New New New New New New New New New New New New New New New New New New New New New New New New New New New New New New New New New New New New New New New New New New New New New New New New New New New New New New New New New New New New New New New New New New New New New New New New New New New New New New New New New New New New New New New New New New New New New New New New New New New New New New New New New New New New New New New New New New New New New New New New New New New New New New New New New New New New New New New New New New New New New New New New New New New New New New New New New New New New New New New New New New New New New New New New New New New New New New New New New New New New New New New New New New New New New New New New New New New New New New New New New New New New New New New New New New New New New New New New New New New New New New New New New New New New New New New New New New New New New New New New New New New New New New New New New New New New New New New New New New New New New New New New New New New New New New New New New New New New New New New New New New New New New New New New New New New New New New New New New New New New New New New New New New New New New New New New New New New New New New New New New New New New New New New New New New New New New New New New New New New New New New New New New New New New New New New New New New New New New New New New New New New New New New New New New New New New New New New New New New New New New New New New New New New New New New New New New New New New New New New New New New New New New New New New New New New New New New New New New New New New New New New New New New New New New New New New New New New New New New New New New New New New New New New New New New New New New New New New New New New New New New New New New New New New New New New New New New New New New New New New New New New New New New New New New New New New New New New New New New New New New New New New New New New New New New New New New New New New New New New New New New New New New New New New New New New New New New New New New New New New New New New New New New New New New New New New New New New New New New New New New New New New New New New New New New New New New New New New New New New New New New New New New New New New New New New New New New New New New New New New New New New New New New New New New New New New New New New New New New New New New New New New New New New New New New New New New New New New New New New New New New New New New New New New New New New New New New New New New New New New New New New New New New New New New New New New New New New New New New New New New New New New New New New New New New New New New New New New New New New New New New New New New New New New New New New New New New New New New New New New New New New New New New New New New New New New New New New New New New New New New New New New New New New New New New New New New New New New New New New New New New New New New New New New New New New New New New New New New New New New New New New New New New New New New New New New New New New New New New New New New New New New New New New New New New New New New New New New New New New New New New New New New New New New New New New New New New New New New New New New New New New New New New New New New New New New New New New New New New New New New New New New New New New New New New New New New New New New New New New New New New New New New New New New New New New New New New New New New New New New New New New New New New New New New New New New New New New New New New New New New New New New New New New New New New New New New New New New New New New New New New New New New New New New New New New New New New New New New New New New New New New New New New New New New New New New New New New New New New New New New New New New New New New New New New New New New New New New New New New New New New New New New New New New New New New New New New New New New New New New New New New New New New New New New New New New New New New New New New New New New New New New New New New New New New New New New New New New New New New New New New New New New New New New New New New New New New New New New New New New New New New New New New New New New New New New New New New New New New New New New New New New New New New New New New New New New New New New New New New New New New New New New New New New New New New New New New New New New New New New New New New New New New New New New New New New New New New New New New New New New New New New New New New New New New New New New New New New New New New New New New New New New New New New New New New New New New New New New New New New New New New New New New New New New New New New New New New New New New New New New New New New New New New New New New New New New New New New New New New New New New New New New New New New New New New New New New New New New New New New New New New New New New New New New New New New New New New New New New New New New New New New New New New New New New New New New New New New New New New New New New New New New New New New New New New New New New New New New New New New New New New New New New New New New New New New New New New New New New New New New New New New New New New New New New New New New New New New New New New New New New New New New New New New New New New New New New New New New New New New New New New New New New New New New New New New New New New New New New New New New New New New New New New New New New New New New New New New New New New New New New New New New New New New New New New New New New New New New New New New New New New New New New New New New New New New New New New New New New New New New New New New New New New New New New New New New New New New New New New New New New New New New New New New New New New New New New New New New New New New New New New New New New New New New New New New New New New New New New New New New New New New New New New New New New New New New New New New New New New New New New New New New New New New New New New New New New New New New New New New New New New New New New New New New New New New New New New New New New New New New New New New New New New New New New New New New New New New New New New New New New New New New New New New New New New New New New New New New New New New New New New New New New New New New New New New New New New New New New New New New New New New New New New New New New New New New New New New New New New New New New New New New New New New New New New New New New New New New New New New New New New New New New New New New New New New New New New New New New New New New New New New New New New New New New New New New New New New New New New New New New New New New New New New New New New New New New New New New New New New New New New New New New New New New New New New New New New New New New New New New New New New New New New New New New New New New New New New New New New New New New New New New New New New New New New New New New New New New New New New New New New New New New New New New New New New New New New New New New New New New New New New New New New New New New New New New New New New New New New New New New New New New New New New New New New New New New New New New New New New New New New New New New New New New New New New New New New New New New New New New New New New New New New New New New New New New New New New New New New New New New New New New New New New New New New New New New New New New New New New New New New New New New New New New New New New New New New New New New New New New New New New New New New New New New New New New New New New New New New New New New New New New New New New New New New New New New New New New New New New New New New New New New New New New New New New New New New New New New New New New New New New New New New New New New New New New New New New New New New New New New New New New New New New New New New New New New New New New New New New New New New New New New New New New New New New New New New New New New New New New New New New New New New New New New New New New New New New New New New New New New New New New New New New New New New New New New New New New New New New New New New New New New New New New New New New New New New New New New New New New New New New New New New New New New New New New New New New New New New New New New New New New New New New New New New New New New New New New New New New New New New New New New New New New New New New New New New New New New New New New New New New New New New New New New New New New New New New New New New New New New New New New New New New New New New New New New New New New New New New New New New New New New New New New New New New New New New New New New New New New New New New New New New New New New New New New New New New New New New New New New New New New New New New New New New New New New New New New New New New New New New New New New New New New New New New New New New New New New New New New New New New New New New New New New New New New New New New New New New New New New New New New New New New New New New New New New New New New New New New New New New New New New New New New New New New New New New New New New New New New New New New New New New New New New New New New New New New New New New New New New New New New New New New New New New New New New New New New New New New New New New New New New New New New New New New New New New New New New New New New New New New New New New New New New New New New New New New New New New New New New New New New New New New New New New New New New New New New New New New New New New New New New New New New New New New New New New New New New New New New New New New New New New New New New New New New New New New New New New New New New New New New New New New New New New New New New New New New New New New New New New New New New New New New New New New New New New New New New New New New New New New New New New New New New New New New New New New New New New New New New New New New New New New New New New New New New New New New New New New New New New New New New New New New New New New New New New New New New New New New New New New New New New New New New New New New New New New New New New New New New New New New New New New New New New New New New New New New New New New New New New New New New New New New New New New New New New New New New New New New New New New New New New New New New New New New New New New New New New New New New New New New New New New New New New New New New New New New New New New New New New New New New New New New New New New New New New New New New New New New New New New New New New New New New New New New New New New New New New New New New New New New New New New New New New New New New New New New New New New New New New New New New New New New New New New New New New New New New New New New New New New New New New New New New New New New New New New New New New New New New New New New New New New New New New New New New New New New New New New New New New New New New New New New New New New New New New New New New New New New New New New New New New New New New New New New New New New New New New New New New New New New New New New New New New New New New New New New New New New New New New New New New New New New New New New New New New New New New New New New New New New New New New New New New New New New New New New New New New New New New New New New New New New New New New New New New New New New New New New New New New New New New New New New New New New New New New New New New New New New New New New New New New New New New New New New New New New New New New New New New New New New New New New New New New New New New New New New New New New New New New New New New New New New New New New New New New New New New New New New New New New New New New New New New New New New New New New New New New New New New New New New New New New New New New New New New New New New New New New New New New New New New New New New New New New New New New New New New New New New New New New New New New New New New New New New New New New New New New New New New New New New New New New New New New New New New New New New New New New New New New New New New New New New New New New New New New New New New New New New New New New New New New New New New New New New New New New New New New New New New New New New New New New New New New New New New New New New New New New New New New New New New New New New New New New New New New New New New New New New New New New New New New New New New New New New New New New New New New New New New New New New New New New New New New New New New New New New New New New New New New New New New New New New New New New New New New New New New New New New New New New New New New New New New New New New New New New New New New New New New New New New New New New New New New New New New New New New New New New New New New New New New New New New New New New New New New New New New New New New New New New New New New New New New New New New New New New New New New New New New New New New New New New New New New New New New New New New New New New New New New New New New New New New New New New New New New New New New New New New New New New New New New New New New New New New New New New New New New New New New New New New New New New New New New New New New New New New New New New New New New New New New New New New New New New New New New New New New New New New New New New New New New New New New New New New New New New New New New New New New New New New New New New New New New New New New New New New New New New New New New New New New New New New New New New New New New New New New New New New New New New New New New New New New New New New New New New New New New New New New New New New New New New New New New New New New New New New New New New New New New New New New New New New New New New New New New New New New New New New New New New New New New New New New New New New New New New New New New New New New New New New New New New New New New New New New New New New New New New New New New New New New New New New New New New New New New New New New New New New New New New New New New New New New New New New New New New New New New New New New New New New New New New New New New New New New New New New New New New New New New New New New New New New New New New New New New New New New New New New New New New New New New New New New New New New New New New New New New New New New New New New New New New New New New New New New New New New New New New New New New New New New New New New New New New New New New New New New New New New New New New New New New New New New New New New New New New New New New New New New New New New New New New New New New New New New New New New New New New New New New New New New New New New New New New New New New New New New New New New New New New New New New New New New New New New New New New New New New New New New New New New New New New New New New New New New New New New New New New New New New New New New New New New New New New New New New New New New New New New New New New New New New New New New New New New New New New New New New New New New New New New New New New New New New New New New New New New New New New New New New New New New New New New New New New New New New New New New New New New New New New New New New New New New New New New New New New New New New New New New New New New New New New New New New New New New New New New New New New New New New New New New New New New New New New New New New New New New New New New New New New New New New New New New New New New New New New New New New New New New New New New New New New New New New New New New New New New New New New New New New New New New New New New New New New New New New New New New New New New New New New New New New New New New New New New New New New New New New New New New New New New New New New New New New New New New New New New New New New New New New New New New New New New New New New New New New New New New New New New New New New New New New New New New New New New New New New New New New New New New New New New New New New New New New New New New New New New New New New New New New New New New New New New New New New New New New New New New New New New New New New New New New New New New New New New New New New New New New New New New New New New New New New New New New New New New New New New New New New New New New New New New New New New New New New New New New New New New New New New New New New New New New New New New New New New New New New New New New New New New New New New New New New New New New New New New New New New New New New New New New New New New New New New New New New New New New New New New New New New New New New New New New New New New New New New New New New New New New New New New New New New New New New New New New New New New New New New New New New New New New New New New New New New New New New New New New New New New New New New New New New New New New New New New New New New New New New New New New New New New New New New New New New New New New New New New New New New New New New New New New New New New New New New New New New New New New New New New New New New New New New New New New New New New New New New New New New New New New New New New New New New New New New New New New New New New New New New New New New New New New New New New New New New New New New New New New New New New New New New New New New New New New New New New New New New New New New New New New New New New New New New New New New New New New New New New New New New New New New New New New New New New New New New New New New New New New New New New New New New New New New New New New New New New New New New New New New New New New New New New New New New New New New New New New New New New New New New New New New New New New New New New New New New New New New New New New New New New New New New New New New New New New New New New New New New New New New New New New New New New New New New New New New New New New New New New New New New New New New New New New New New New New New New New New New New New New New New New New New New New New New New New New New New New New New New New New New New New New New New New New New New New New New New New New New New New New New New New New New New New New New New New New New New New New New New New New New New New New New New New New New New New New New New New New New New New New New New New New New New New New New New New New New New New New New New New New New New New New New New New New New New New New New New New New New New New New New New New New New New New New New New New New New New New New New New New New New New New New New New New New New New New New New New New New New New New New New New New New New New New New New New New New New New New New New New New New New New New New New New New New New New New tensor([[-1.1565e+02,  7.4426e+02,  7.9664e-02,  ...,  2.3275e+03,\n",
      "          9.2269e+02,  3.2570e+02],\n",
      "        [ 5.3465e+00,  1.9987e+03, -1.8597e-01,  ...,  1.5120e+00,\n",
      "          1.2887e+00,  1.7303e+00],\n",
      "        [ 3.2489e+00,  1.6415e+04, -2.7895e-01,  ...,  3.6171e+02,\n",
      "          3.3840e+02,  5.2941e+02],\n",
      "        ...,\n",
      "        [ 2.5670e+01,  1.6011e+02,  9.0376e-04,  ...,  1.8838e+02,\n",
      "          2.4701e+02,  2.1979e+02],\n",
      "        [-4.7488e+01,  2.6369e+03, -1.2515e-02,  ...,  3.8862e+01,\n",
      "          1.6775e+02,  6.5091e+01],\n",
      "        [-6.4199e+00,  1.7963e+04,  3.7341e-03,  ...,  8.5528e+00,\n",
      "          8.3378e+01,  3.8430e+02]])\n",
      "tensor([[6.1613e-01, 3.0414e-05, 3.9302e-05, 6.6375e-05, 3.5802e-01, 2.5711e-02],\n",
      "        [6.1625e-01, 3.0437e-05, 3.9331e-05, 6.6430e-05, 3.5782e-01, 2.5793e-02],\n",
      "        [6.0072e-01, 3.1076e-05, 4.0113e-05, 6.7879e-05, 3.7152e-01, 2.7627e-02],\n",
      "        ...,\n",
      "        [6.2055e-01, 3.0308e-05, 3.9167e-05, 6.6170e-05, 3.5377e-01, 2.5543e-02],\n",
      "        [6.1932e-01, 3.0344e-05, 3.9213e-05, 6.6243e-05, 3.5493e-01, 2.5614e-02],\n",
      "        [4.3562e-14, 5.3924e-14, 5.6128e-14, 2.1367e-13, 1.0168e-12, 1.0000e+00]])\n",
      "tensor([[1.0000, 0.0000, 0.0000, 0.0000, 0.0000, 0.0000],\n",
      "        [0.0000, 0.0625, 0.0000, 0.8750, 0.0000, 0.0625],\n",
      "        [1.0000, 0.0000, 0.0000, 0.0000, 0.0000, 0.0000],\n",
      "        ...,\n",
      "        [0.0000, 0.0000, 0.0000, 1.0000, 0.0000, 0.0000],\n",
      "        [0.0000, 0.0000, 0.0000, 0.0000, 0.3333, 0.6667],\n",
      "        [0.0000, 0.0000, 0.0000, 0.0000, 0.0000, 1.0000]])\n",
      "kl_divergence: tensor(-0.6122)\n",
      "ys [22309.7317031  14293.95067231 13438.03744835 14561.66156963\n",
      " 19718.95452979 20177.66510618]\n"
     ]
    }
   ],
   "source": [
    "# from sklearn.pipeline import Pipeline\n",
    "import torch.nn.functional as F\n",
    "\n",
    "\n",
    "kf = KFold(n_splits=20, shuffle=True, random_state=42)\n",
    "    \n",
    "  # Store scores from each fold\n",
    "cv_scores = []\n",
    "\n",
    "cv_data = data.iloc[:10000]\n",
    "\n",
    "# cv_data = data.sample(10000)\n",
    "# print(type(cv_data))\n",
    "# print(cv_data)\n",
    "\n",
    "# print(data)\n",
    "  # Iterate through each fold\n",
    "    \n",
    "batch_size = 32\n",
    "num_epochs = 11\n",
    "for train_index, test_index in kf.split(cv_data):\n",
    "    # Split data into training and testing sets\n",
    "    X_train, X_test = cv_data.iloc[train_index], cv_data.iloc[test_index]\n",
    "    y_train, y_test = cv_data.iloc[train_index][TARGETS], cv_data.iloc[test_index][TARGETS]\n",
    "   \n",
    "#     X_train = X_train.apply(getAndExtractEEG, axis=1)\n",
    "    X_train_proc = []\n",
    "    for index, row in X_train.iterrows():\n",
    "        X_train_proc.append(getAndExtractEEG(row, \"train\"))\n",
    "    X_train_proc = torch.FloatTensor(X_train_proc)\n",
    "    \n",
    "    X_test_proc = []\n",
    "    for index, row in X_test.iterrows():\n",
    "        X_test_proc.append(getAndExtractEEG(row, \"train\"))\n",
    "    X_test_proc = torch.FloatTensor(X_test_proc)\n",
    "    X_test_proc= X_test_proc.view(-1, input_dim)\n",
    "        \n",
    "#     X_test = X_test.apply(getAndExtractEEG, axis=1)\n",
    "    \n",
    "    y_train = torch.tensor(np.asarray(y_train), dtype=torch.float32)\n",
    "    y_test = torch.tensor(np.asarray(y_test), dtype=torch.float32)\n",
    "    \n",
    "    train_dataset = MyDataset(X_train_proc, y_train)\n",
    "    train_loader = torch.utils.data.DataLoader(train_dataset, batch_size=batch_size, shuffle=True)\n",
    "    \n",
    "    model = MLP(input_dim, hidden_dim, output_dim)\n",
    "    # Define loss function and optimizer (replace with your choices if needed)\n",
    "    criterion = nn.KLDivLoss(reduction=\"batchmean\")\n",
    "    optimizer = torch.optim.Adam(model.parameters(), lr=0.001)\n",
    "    \n",
    "    seen_ys = [0,0,0,0,0,0]\n",
    "    \n",
    "    for epoch in range(num_epochs):\n",
    "        \n",
    "        for batch_X, batch_y in train_loader:\n",
    "#             print(batch_X.shape)\n",
    "            batch_X= batch_X.view(-1, input_dim)\n",
    "            batch_X = batch_X.to(device)\n",
    "        \n",
    "            seen_ys = seen_ys+ torch.sum(batch_y, dim=0).numpy()\n",
    "            \n",
    "            batch_y = batch_y.to(device)\n",
    "            \n",
    "            \n",
    "\n",
    "            optimizer.zero_grad()\n",
    "\n",
    "            # Your model forward pass here\n",
    "            prediction = model(batch_X)\n",
    "            \n",
    "            # Calculate loss\n",
    "            loss = criterion(prediction, batch_y)\n",
    "            # Compute gradients\n",
    "            loss.backward()\n",
    "#             torch.nn.utils.clip_grad_norm_(model.parameters(), max_norm=args.clip)\n",
    "            # Update weights\n",
    "            optimizer.step()\n",
    "#             print(\"One step done\")\n",
    "            \n",
    "    # Evaluate the model on the validation set\n",
    "    with torch.no_grad():\n",
    "        model.eval()\n",
    "        print(X_test_proc)\n",
    "        pred_probs = model(X_test_proc)\n",
    "        print(pred_probs)\n",
    "        print(y_test)\n",
    "#         kl_divergence = F.kl_div(pred_probs.log(), y_test, reduction='batchmean')\n",
    "        loss = criterion(pred_probs, y_test)\n",
    "        print(\"kl_divergence:\", loss)\n",
    "    print(\"ys\", seen_ys)\n",
    "    break\n",
    "    \n",
    "# print(y_train)\n",
    "#     pipeline = Pipeline([\n",
    "#         ('eeg_feautures', CustomTransformer()),\n",
    "#         ('classifier', MLPClassifier(solver='lbfgs', activation='relu', random_state=42, \n",
    "#                     hidden_layer_sizes=(100, 50)))\n",
    "#     ])\n",
    "\n",
    "    # Train the model on the training data\n",
    "#     lda = LinearDiscriminantAnalysis()\n",
    "#     lda.fit(X_train, y_train)\n",
    "\n",
    "#     pipeline.fit(X_train, y_train)\n",
    "\n",
    "    # Evaluate the model on the testing data\n",
    "#     score = pipeline.score(X_test, y_test)\n",
    "#     print(\"cv score:\", score)\n",
    "\n",
    "    # Append the score to the list\n",
    "#     cv_scores.append(score)\n",
    "#     break\n",
    "\n",
    "# 2415314690-0\n",
    "# 3630961636-0 -- no nans"
   ]
  },
  {
   "cell_type": "code",
   "execution_count": 26,
   "id": "6b6d4290",
   "metadata": {
    "execution": {
     "iopub.execute_input": "2024-02-29T16:52:44.905079Z",
     "iopub.status.busy": "2024-02-29T16:52:44.903696Z",
     "iopub.status.idle": "2024-02-29T16:52:45.007841Z",
     "shell.execute_reply": "2024-02-29T16:52:45.006815Z"
    },
    "papermill": {
     "duration": 0.251604,
     "end_time": "2024-02-29T16:52:45.009980",
     "exception": false,
     "start_time": "2024-02-29T16:52:44.758376",
     "status": "completed"
    },
    "tags": []
   },
   "outputs": [
    {
     "name": "stdout",
     "output_type": "stream",
     "text": [
      "Test shape (1, 5)\n"
     ]
    },
    {
     "data": {
      "text/html": [
       "<div>\n",
       "<style scoped>\n",
       "    .dataframe tbody tr th:only-of-type {\n",
       "        vertical-align: middle;\n",
       "    }\n",
       "\n",
       "    .dataframe tbody tr th {\n",
       "        vertical-align: top;\n",
       "    }\n",
       "\n",
       "    .dataframe thead th {\n",
       "        text-align: right;\n",
       "    }\n",
       "</style>\n",
       "<table border=\"1\" class=\"dataframe\">\n",
       "  <thead>\n",
       "    <tr style=\"text-align: right;\">\n",
       "      <th></th>\n",
       "      <th>spectrogram_id</th>\n",
       "      <th>eeg_id</th>\n",
       "      <th>patient_id</th>\n",
       "      <th>eeg_sub_id</th>\n",
       "      <th>eeg_label_offset_seconds</th>\n",
       "    </tr>\n",
       "  </thead>\n",
       "  <tbody>\n",
       "    <tr>\n",
       "      <th>0</th>\n",
       "      <td>853520</td>\n",
       "      <td>3911565283</td>\n",
       "      <td>6885</td>\n",
       "      <td>h</td>\n",
       "      <td>0</td>\n",
       "    </tr>\n",
       "  </tbody>\n",
       "</table>\n",
       "</div>"
      ],
      "text/plain": [
       "   spectrogram_id      eeg_id  patient_id eeg_sub_id  eeg_label_offset_seconds\n",
       "0          853520  3911565283        6885          h                         0"
      ]
     },
     "metadata": {},
     "output_type": "display_data"
    },
    {
     "name": "stdout",
     "output_type": "stream",
     "text": [
      "New tensor([[6.1637e-01, 3.0420e-05, 3.9310e-05, 6.6391e-05, 3.5776e-01, 2.5741e-02]])\n"
     ]
    }
   ],
   "source": [
    "# TEST_PATH_EEG = '/kaggle/input/hms-harmful-brain-activity-classification/test_eegs/'\n",
    "test = pd.read_csv('/kaggle/input/hms-harmful-brain-activity-classification/test.csv')\n",
    "test = test.assign(eeg_sub_id='h') \n",
    "test = test.assign(eeg_label_offset_seconds=0) \n",
    "# test.loc[1] = test.loc[0]\n",
    "print('Test shape',test.shape)\n",
    "display(test.head())\n",
    "\n",
    "test_feats = test.apply(lambda row: getAndExtractEEG(row, data_type=\"test\"), axis=1)\n",
    "test_feats = torch.FloatTensor(test_feats)\n",
    "test_feats= test_feats.view(-1, input_dim)\n",
    "\n",
    "with torch.no_grad():\n",
    "    model.eval()\n",
    "    preds = model(test_feats)\n",
    "    print(preds)\n",
    "\n"
   ]
  },
  {
   "cell_type": "code",
   "execution_count": 27,
   "id": "0550665a",
   "metadata": {
    "execution": {
     "iopub.execute_input": "2024-02-29T16:52:45.314675Z",
     "iopub.status.busy": "2024-02-29T16:52:45.313935Z",
     "iopub.status.idle": "2024-02-29T16:52:45.338158Z",
     "shell.execute_reply": "2024-02-29T16:52:45.337233Z"
    },
    "papermill": {
     "duration": 0.184023,
     "end_time": "2024-02-29T16:52:45.339966",
     "exception": false,
     "start_time": "2024-02-29T16:52:45.155943",
     "status": "completed"
    },
    "tags": []
   },
   "outputs": [
    {
     "name": "stdout",
     "output_type": "stream",
     "text": [
      "Submissionn shape (1, 7)\n"
     ]
    },
    {
     "data": {
      "text/html": [
       "<div>\n",
       "<style scoped>\n",
       "    .dataframe tbody tr th:only-of-type {\n",
       "        vertical-align: middle;\n",
       "    }\n",
       "\n",
       "    .dataframe tbody tr th {\n",
       "        vertical-align: top;\n",
       "    }\n",
       "\n",
       "    .dataframe thead th {\n",
       "        text-align: right;\n",
       "    }\n",
       "</style>\n",
       "<table border=\"1\" class=\"dataframe\">\n",
       "  <thead>\n",
       "    <tr style=\"text-align: right;\">\n",
       "      <th></th>\n",
       "      <th>eeg_id</th>\n",
       "      <th>seizure_vote</th>\n",
       "      <th>lpd_vote</th>\n",
       "      <th>gpd_vote</th>\n",
       "      <th>lrda_vote</th>\n",
       "      <th>grda_vote</th>\n",
       "      <th>other_vote</th>\n",
       "    </tr>\n",
       "  </thead>\n",
       "  <tbody>\n",
       "    <tr>\n",
       "      <th>0</th>\n",
       "      <td>3911565283</td>\n",
       "      <td>0.616366</td>\n",
       "      <td>0.00003</td>\n",
       "      <td>0.000039</td>\n",
       "      <td>0.000066</td>\n",
       "      <td>0.357757</td>\n",
       "      <td>0.025741</td>\n",
       "    </tr>\n",
       "  </tbody>\n",
       "</table>\n",
       "</div>"
      ],
      "text/plain": [
       "       eeg_id  seizure_vote  lpd_vote  gpd_vote  lrda_vote  grda_vote  \\\n",
       "0  3911565283      0.616366   0.00003  0.000039   0.000066   0.357757   \n",
       "\n",
       "   other_vote  \n",
       "0    0.025741  "
      ]
     },
     "execution_count": 27,
     "metadata": {},
     "output_type": "execute_result"
    }
   ],
   "source": [
    "sub = pd.DataFrame({'eeg_id':test.eeg_id.values})\n",
    "sub[TARGETS] = preds\n",
    "sub.to_csv('submission.csv',index=False)\n",
    "print('Submissionn shape',sub.shape)\n",
    "sub.head()"
   ]
  },
  {
   "cell_type": "code",
   "execution_count": 28,
   "id": "491d453e",
   "metadata": {
    "execution": {
     "iopub.execute_input": "2024-02-29T16:52:45.652631Z",
     "iopub.status.busy": "2024-02-29T16:52:45.651649Z",
     "iopub.status.idle": "2024-02-29T16:52:45.658901Z",
     "shell.execute_reply": "2024-02-29T16:52:45.657426Z"
    },
    "papermill": {
     "duration": 0.173171,
     "end_time": "2024-02-29T16:52:45.660366",
     "exception": true,
     "start_time": "2024-02-29T16:52:45.487195",
     "status": "failed"
    },
    "tags": []
   },
   "outputs": [
    {
     "ename": "SyntaxError",
     "evalue": "invalid syntax (909394761.py, line 1)",
     "output_type": "error",
     "traceback": [
      "\u001b[0;36m  Cell \u001b[0;32mIn[28], line 1\u001b[0;36m\u001b[0m\n\u001b[0;31m    torch.cuda.is_available():\u001b[0m\n\u001b[0m                             ^\u001b[0m\n\u001b[0;31mSyntaxError\u001b[0m\u001b[0;31m:\u001b[0m invalid syntax\n"
     ]
    }
   ],
   "source": [
    "torch.cuda.is_available():\n",
    "# with open('my_dict.pkl', 'wb') as file:\n",
    "#     pickle.dump(features_dict, file)\n",
    "    \n",
    "    "
   ]
  },
  {
   "cell_type": "code",
   "execution_count": null,
   "id": "91ecd5ce",
   "metadata": {
    "papermill": {
     "duration": null,
     "end_time": null,
     "exception": null,
     "start_time": null,
     "status": "pending"
    },
    "tags": []
   },
   "outputs": [],
   "source": []
  },
  {
   "cell_type": "code",
   "execution_count": null,
   "id": "ae43538b",
   "metadata": {
    "papermill": {
     "duration": null,
     "end_time": null,
     "exception": null,
     "start_time": null,
     "status": "pending"
    },
    "tags": []
   },
   "outputs": [],
   "source": [
    "# pipeline = Pipeline([\n",
    "#     ('eeg_feautures', CustomTransformer()),\n",
    "#     ('classifier', LinearDiscriminantAnalysis())\n",
    "# ])\n",
    "\n",
    "# sub_data = data.iloc[:10]\n",
    "# sub_labels = labels.iloc[:10]\n",
    "# pipeline.fit(sub_data, sub_labels)"
   ]
  },
  {
   "cell_type": "code",
   "execution_count": null,
   "id": "06b6fbc9",
   "metadata": {
    "papermill": {
     "duration": null,
     "end_time": null,
     "exception": null,
     "start_time": null,
     "status": "pending"
    },
    "tags": []
   },
   "outputs": [],
   "source": [
    "# test_data = data.iloc[88:99]\n",
    "# preds = pipeline.predict(test_data)\n",
    "\n",
    "# print(preds)"
   ]
  },
  {
   "cell_type": "code",
   "execution_count": null,
   "id": "212beaba",
   "metadata": {
    "papermill": {
     "duration": null,
     "end_time": null,
     "exception": null,
     "start_time": null,
     "status": "pending"
    },
    "tags": []
   },
   "outputs": [],
   "source": []
  },
  {
   "cell_type": "code",
   "execution_count": null,
   "id": "b3d3b411",
   "metadata": {
    "papermill": {
     "duration": null,
     "end_time": null,
     "exception": null,
     "start_time": null,
     "status": "pending"
    },
    "tags": []
   },
   "outputs": [],
   "source": []
  },
  {
   "cell_type": "code",
   "execution_count": null,
   "id": "82ec9d82",
   "metadata": {
    "papermill": {
     "duration": null,
     "end_time": null,
     "exception": null,
     "start_time": null,
     "status": "pending"
    },
    "tags": []
   },
   "outputs": [],
   "source": []
  }
 ],
 "metadata": {
  "kaggle": {
   "accelerator": "none",
   "dataSources": [
    {
     "databundleVersionId": 7469972,
     "sourceId": 59093,
     "sourceType": "competition"
    }
   ],
   "dockerImageVersionId": 30646,
   "isGpuEnabled": false,
   "isInternetEnabled": false,
   "language": "python",
   "sourceType": "notebook"
  },
  "kernelspec": {
   "display_name": "Python 3",
   "language": "python",
   "name": "python3"
  },
  "language_info": {
   "codemirror_mode": {
    "name": "ipython",
    "version": 3
   },
   "file_extension": ".py",
   "mimetype": "text/x-python",
   "name": "python",
   "nbconvert_exporter": "python",
   "pygments_lexer": "ipython3",
   "version": "3.10.13"
  },
  "papermill": {
   "default_parameters": {},
   "duration": 590.080606,
   "end_time": "2024-02-29T16:52:47.834282",
   "environment_variables": {},
   "exception": true,
   "input_path": "__notebook__.ipynb",
   "output_path": "__notebook__.ipynb",
   "parameters": {},
   "start_time": "2024-02-29T16:42:57.753676",
   "version": "2.5.0"
  }
 },
 "nbformat": 4,
 "nbformat_minor": 5
}
