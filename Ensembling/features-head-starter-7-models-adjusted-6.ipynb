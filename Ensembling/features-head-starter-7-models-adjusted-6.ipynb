{
 "cells": [
  {
   "cell_type": "markdown",
   "id": "c1ec856b",
   "metadata": {
    "papermill": {
     "duration": 0.008011,
     "end_time": "2024-03-11T15:38:17.433007",
     "exception": false,
     "start_time": "2024-03-11T15:38:17.424996",
     "status": "completed"
    },
    "tags": []
   },
   "source": [
    "## Features+Head Ensemble Starter [LB 0.34] for HMS Brain Comp\n",
    "We can train 7 model and data variations: (all models included)\n",
    "\n",
    "**The Ensemble achieves LB 0.34**\n",
    "\n",
    "| MODEL | DATA TYPE | CV | LB | NOTES |\n",
    "|----------------|-----------|----------|---|--|\n",
    "| EfficientNetB2 | K | 0.6123 | 0.41 |K: Kaggle's spectrograms|\n",
    "| EfficientNetB2 | E | 0.6288 | 0.39 |E: EEG's spectrograms|\n",
    "| WaveNet | R | 0.6992 | 0.41 |R: Raw EEG signals|\n",
    "| EfficientNetB2 | KE | 0.5646 | 0.37 |KE: Kaggle's and EEG's spectrograms|\n",
    "| EfficientNetB2 + WaveNet | KR | 0.5912 | 0.39 |KR: Kaggle's spectrograms and Raw EEG signals|\n",
    "| EfficientNetB2 + WaveNet | ER | 0.6085 | 0.38 |ER: EEG's spectrograms and Raw EEG signals|\n",
    "| EfficientNetB2 + WaveNet | KER | - | 0.36 |KER: Kaggle's, EEG's spectrograms and Raw EEG signals|\n",
    "\n",
    "Great discussion [here][5] by @KOLOO that led to the latest scores!\n",
    "\n",
    "Features+Head Starter uses Chris Deotte's Kaggle dataset [here][1]. Also Uses Chris's EEG spectrograms [here][3] (modified version). The Raw EEG signals can be found [here][6]. This notebook is a direct descendent of Chris's notebooks [EfficientNet][2] and [WaveNet][4]\n",
    "\n",
    "[1]: https://www.kaggle.com/datasets/cdeotte/brain-spectrograms\n",
    "[2]: https://www.kaggle.com/code/cdeotte/efficientnetb2-starter-lb-0-57\n",
    "[3]: https://www.kaggle.com/datasets/nartaa/eeg-spectrograms\n",
    "[4]: https://www.kaggle.com/competitions/hms-harmful-brain-activity-classification/discussion/468684\n",
    "[5]: https://www.kaggle.com/competitions/hms-harmful-brain-activity-classification/discussion/477461\n",
    "[6]: https://www.kaggle.com/datasets/nartaa/hms-eeg"
   ]
  },
  {
   "cell_type": "code",
   "execution_count": 1,
   "id": "af1e3458",
   "metadata": {
    "execution": {
     "iopub.execute_input": "2024-03-11T15:38:17.449662Z",
     "iopub.status.busy": "2024-03-11T15:38:17.449091Z",
     "iopub.status.idle": "2024-03-11T15:38:32.862249Z",
     "shell.execute_reply": "2024-03-11T15:38:32.861014Z"
    },
    "papermill": {
     "duration": 15.423996,
     "end_time": "2024-03-11T15:38:32.864502",
     "exception": false,
     "start_time": "2024-03-11T15:38:17.440506",
     "status": "completed"
    },
    "tags": []
   },
   "outputs": [
    {
     "name": "stderr",
     "output_type": "stream",
     "text": [
      "/opt/conda/lib/python3.10/site-packages/scipy/__init__.py:146: UserWarning: A NumPy version >=1.16.5 and <1.23.0 is required for this version of SciPy (detected version 1.24.3\n",
      "  warnings.warn(f\"A NumPy version >={np_minversion} and <{np_maxversion}\"\n"
     ]
    },
    {
     "name": "stdout",
     "output_type": "stream",
     "text": [
      "Using 2 GPUs\n"
     ]
    }
   ],
   "source": [
    "import os, random\n",
    "import tensorflow as tf\n",
    "import tensorflow\n",
    "import tensorflow.keras.backend as K\n",
    "import pandas as pd, numpy as np\n",
    "import matplotlib.pyplot as plt\n",
    "from tensorflow.keras.models import load_model\n",
    "\n",
    "LOAD_BACKBONE_FROM = '/kaggle/input/efficientnetb-tf-keras/EfficientNetB2.h5'\n",
    "LOAD_MODELS_FROM = '/kaggle/input/features-head-starter-models'\n",
    "HMS_PATH = '/kaggle/input/hms-harmful-brain-activity-classification'\n",
    "VER = 50\n",
    "DATA_TYPE = 'KER' # K|E|R|KE|KR|ER|KER\n",
    "USE_PROCESSED = True # Use processed downsampled Raw EEG \n",
    "submission = True\n",
    "\n",
    "# Setup for ensemble\n",
    "ENSEMBLE = True\n",
    "LBs = [0.99,0.99,0.01,0.99,0.8,0.8,0.8] # K|E|R|KE|KR|ER|KER for weighted ensemble we use LBs of each model\n",
    "VER_K = 43 # Kaggle's spectrogram model version\n",
    "VER_E = 42 # EEG's spectrogram model version\n",
    "VER_R = 37 # EEG's Raw wavenet model version, trained on single GPU\n",
    "VER_KE = 47 # Kaggle's and EEG's spectrogram model version\n",
    "VER_KR = 48 # Kaggle's spectrogram and Raw model version\n",
    "VER_ER = 49 # EEG's spectrogram and Raw model version\n",
    "VER_KER = 50 # EEG's, Kaggle's spectrograms and Raw model version\n",
    "\n",
    "np.random.seed(42)\n",
    "random.seed(42)\n",
    "tf.random.set_seed(42)\n",
    "\n",
    "# USE SINGLE GPU, MULTIPLE GPUS \n",
    "gpus = tf.config.list_physical_devices('GPU')\n",
    "# WE USE MIXED PRECISION\n",
    "tf.config.optimizer.set_experimental_options({\"auto_mixed_precision\": True})\n",
    "if len(gpus)>1:\n",
    "    strategy = tf.distribute.MirroredStrategy()\n",
    "    print(f'Using {len(gpus)} GPUs')\n",
    "else:\n",
    "    strategy = tf.distribute.OneDeviceStrategy(device=\"/gpu:0\")\n",
    "    print(f'Using {len(gpus)} GPU')"
   ]
  },
  {
   "cell_type": "markdown",
   "id": "483eb3e4",
   "metadata": {
    "papermill": {
     "duration": 0.007506,
     "end_time": "2024-03-11T15:38:32.879853",
     "exception": false,
     "start_time": "2024-03-11T15:38:32.872347",
     "status": "completed"
    },
    "tags": []
   },
   "source": [
    "# Load and create Non-Overlapping Eeg Id Train Data\n",
    "The competition data description says that test data does not have multiple crops from the same `eeg_id`. Therefore we will train and validate using only 1 crop per `eeg_id`. There is a discussion about this [here][1].\n",
    "\n",
    "[1]: https://www.kaggle.com/competitions/hms-harmful-brain-activity-classification/discussion/467021"
   ]
  },
  {
   "cell_type": "code",
   "execution_count": 2,
   "id": "768105b9",
   "metadata": {
    "execution": {
     "iopub.execute_input": "2024-03-11T15:38:32.896901Z",
     "iopub.status.busy": "2024-03-11T15:38:32.895741Z",
     "iopub.status.idle": "2024-03-11T15:38:32.904507Z",
     "shell.execute_reply": "2024-03-11T15:38:32.903804Z"
    },
    "papermill": {
     "duration": 0.019426,
     "end_time": "2024-03-11T15:38:32.906623",
     "exception": false,
     "start_time": "2024-03-11T15:38:32.887197",
     "status": "completed"
    },
    "tags": []
   },
   "outputs": [],
   "source": [
    "TARGETS = ['seizure_vote', 'lpd_vote', 'gpd_vote', 'lrda_vote', 'grda_vote', 'other_vote']\n",
    "\n",
    "def add_kl(data):\n",
    "    labels = data[TARGETS].values + 1e-5\n",
    "    data['kl'] = tf.keras.losses.KLDivergence(reduction='none')(\n",
    "        np.array([[1/6]*6]*len(data)),labels)\n",
    "    return data\n",
    "    \n",
    "if not submission:\n",
    "    train = pd.read_csv('/kaggle/input/hms-harmful-brain-activity-classification/train.csv')\n",
    "    TARGETS = ['seizure_vote', 'lpd_vote', 'gpd_vote', 'lrda_vote', 'grda_vote', 'other_vote']\n",
    "    META = ['spectrogram_id','spectrogram_label_offset_seconds','patient_id','expert_consensus']\n",
    "    train = train.groupby('eeg_id')[META+TARGETS\n",
    "                           ].agg({**{m:'first' for m in META},**{t:'sum' for t in TARGETS}}).reset_index() \n",
    "    train[TARGETS] = train[TARGETS]/train[TARGETS].values.sum(axis=1,keepdims=True)\n",
    "    train.columns = ['eeg_id','spec_id','offset','patient_id','target'] + TARGETS\n",
    "    train = add_kl(train)\n",
    "    print(train.head(1).to_string())"
   ]
  },
  {
   "cell_type": "markdown",
   "id": "2b817f08",
   "metadata": {
    "papermill": {
     "duration": 0.007106,
     "end_time": "2024-03-11T15:38:32.921263",
     "exception": false,
     "start_time": "2024-03-11T15:38:32.914157",
     "status": "completed"
    },
    "tags": []
   },
   "source": [
    "# Read Train Spectrograms and EEGs\n",
    "\n",
    "We can read 3 file from Chris's [Kaggle dataset here][1] which contains all the 11k spectrograms. From Chris's modified EEG spectrogram [here][2]. From Raw EEG signals [here][3]\n",
    "\n",
    "[1]: https://www.kaggle.com/datasets/cdeotte/brain-spectrograms\n",
    "[2]: https://www.kaggle.com/datasets/nartaa/eeg-spectrograms\n",
    "[3]: https://www.kaggle.com/datasets/nartaa/hms-eeg"
   ]
  },
  {
   "cell_type": "code",
   "execution_count": 3,
   "id": "18f6f0a6",
   "metadata": {
    "execution": {
     "iopub.execute_input": "2024-03-11T15:38:32.936989Z",
     "iopub.status.busy": "2024-03-11T15:38:32.936709Z",
     "iopub.status.idle": "2024-03-11T15:38:32.943596Z",
     "shell.execute_reply": "2024-03-11T15:38:32.942830Z"
    },
    "papermill": {
     "duration": 0.017203,
     "end_time": "2024-03-11T15:38:32.945724",
     "exception": false,
     "start_time": "2024-03-11T15:38:32.928521",
     "status": "completed"
    },
    "tags": []
   },
   "outputs": [
    {
     "name": "stdout",
     "output_type": "stream",
     "text": [
      "CPU times: user 4 µs, sys: 1e+03 ns, total: 5 µs\n",
      "Wall time: 8.34 µs\n"
     ]
    }
   ],
   "source": [
    "%%time\n",
    "if not submission:\n",
    "    spectrograms = None\n",
    "    all_eegs = None\n",
    "    all_raw_eegs = None\n",
    "    if DATA_TYPE in ['K','KE','KR','KER']:\n",
    "        spectrograms = np.load('/kaggle/input/brain-spectrograms/specs.npy',allow_pickle=True).item()\n",
    "    if DATA_TYPE in ['E','KE','ER','KER']:\n",
    "        all_eegs = np.load('/kaggle/input/eeg-spectrograms/eeg_specs.npy',allow_pickle=True).item()\n",
    "    if DATA_TYPE in ['R','KR','ER','KER']:\n",
    "        if USE_PROCESSED:\n",
    "            all_raw_eegs = np.load('/kaggle/input/hms-eeg/eegs_processed.npy',allow_pickle=True).item()\n",
    "        else:\n",
    "            all_raw_eegs = np.load('/kaggle/input/hms-eeg/eegs.npy',allow_pickle=True).item()"
   ]
  },
  {
   "cell_type": "markdown",
   "id": "68ac7689",
   "metadata": {
    "papermill": {
     "duration": 0.007325,
     "end_time": "2024-03-11T15:38:32.960481",
     "exception": false,
     "start_time": "2024-03-11T15:38:32.953156",
     "status": "completed"
    },
    "tags": []
   },
   "source": [
    "# DATA GENERATOR\n",
    "This data generator outputs 512x512x3, the spectrogram and eeg images are concatenated all togother in a single image. For using data augmention you can set `augment = True` when creating the train data generator."
   ]
  },
  {
   "cell_type": "code",
   "execution_count": 4,
   "id": "acc67b9a",
   "metadata": {
    "execution": {
     "iopub.execute_input": "2024-03-11T15:38:32.976709Z",
     "iopub.status.busy": "2024-03-11T15:38:32.976444Z",
     "iopub.status.idle": "2024-03-11T15:38:35.318301Z",
     "shell.execute_reply": "2024-03-11T15:38:35.317491Z"
    },
    "papermill": {
     "duration": 2.352482,
     "end_time": "2024-03-11T15:38:35.320449",
     "exception": false,
     "start_time": "2024-03-11T15:38:32.967967",
     "status": "completed"
    },
    "tags": []
   },
   "outputs": [],
   "source": [
    "import albumentations as albu\n",
    "from scipy.signal import butter, lfilter\n",
    "import librosa\n",
    "\n",
    "FEATS2 = ['Fp1','T3','C3','O1','Fp2','C4','T4','O2']\n",
    "FEAT2IDX = {x:y for x,y in zip(FEATS2,range(len(FEATS2)))}\n",
    "FEATS = [['Fp1','F7','T3','T5','O1'],\n",
    "         ['Fp1','F3','C3','P3','O1'],\n",
    "         ['Fp2','F8','T4','T6','O2'],\n",
    "         ['Fp2','F4','C4','P4','O2']]\n",
    "    \n",
    "class DataGenerator():\n",
    "    'Generates data for Keras'\n",
    "    def __init__(self, data, specs=None, eeg_specs=None, raw_eegs=None , augment=False, mode='train', data_type=DATA_TYPE): \n",
    "        self.data = data\n",
    "        self.augment = augment\n",
    "        self.mode = mode\n",
    "        self.data_type = data_type\n",
    "        self.specs = specs\n",
    "        self.eeg_specs = eeg_specs\n",
    "        self.raw_eegs = raw_eegs\n",
    "        self.on_epoch_end()\n",
    "        \n",
    "    def __len__(self):\n",
    "        return self.data.shape[0]\n",
    "\n",
    "    def __getitem__(self, index):\n",
    "        X, y = self.data_generation(index)\n",
    "        if self.augment: X = self.augmentation(X)\n",
    "        return X, y\n",
    "    \n",
    "    def __call__(self):\n",
    "        for i in range(self.__len__()):\n",
    "            yield self.__getitem__(i)\n",
    "            \n",
    "            if i == self.__len__()-1:\n",
    "                self.on_epoch_end()\n",
    "                \n",
    "    def on_epoch_end(self):\n",
    "        if self.mode=='train': \n",
    "            self.data = self.data.sample(frac=1).reset_index(drop=True)\n",
    "    \n",
    "    def data_generation(self, index):\n",
    "        if self.data_type == 'KE':\n",
    "            X,y = self.generate_all_specs(index)\n",
    "        elif self.data_type == 'E' or self.data_type == 'K':\n",
    "            X,y = self.generate_specs(index)\n",
    "        elif self.data_type == 'R':\n",
    "            X,y = self.generate_raw(index)\n",
    "        elif self.data_type in ['ER','KR']:\n",
    "            X1,y = self.generate_specs(index)\n",
    "            X2,y = self.generate_raw(index)\n",
    "            X = (X1,X2)\n",
    "        elif self.data_type in ['KER']:\n",
    "            X1,y = self.generate_all_specs(index)\n",
    "            X2,y = self.generate_raw(index)\n",
    "            X = (X1,X2)\n",
    "        return X,y\n",
    "    \n",
    "    def generate_all_specs(self, index):\n",
    "        X = np.zeros((512,512,3),dtype='float32')\n",
    "        y = np.zeros((6,),dtype='float32')\n",
    "        \n",
    "        row = self.data.iloc[index]\n",
    "        if self.mode=='test': \n",
    "            offset = 0\n",
    "        else:\n",
    "            offset = int(row.offset/2)\n",
    "        \n",
    "        eeg = self.eeg_specs[row.eeg_id]\n",
    "        spec = self.specs[row.spec_id]\n",
    "        \n",
    "        imgs = [spec[offset:offset+300,k*100:(k+1)*100].T for k in [0,2,1,3]] # to match kaggle with eeg\n",
    "        img = np.stack(imgs,axis=-1)\n",
    "        # LOG TRANSFORM SPECTROGRAM\n",
    "        img = np.clip(img,np.exp(-4),np.exp(8))\n",
    "        img = np.log(img)\n",
    "            \n",
    "        # STANDARDIZE PER IMAGE\n",
    "        img = np.nan_to_num(img, nan=0.0)    \n",
    "            \n",
    "        mn = img.flatten().min()\n",
    "        mx = img.flatten().max()\n",
    "        ep = 1e-5\n",
    "        img = 255 * (img - mn) / (mx - mn + ep)\n",
    "        \n",
    "        X[0_0+56:100+56,:256,0] = img[:,22:-22,0] # LL_k\n",
    "        X[100+56:200+56,:256,0] = img[:,22:-22,2] # RL_k\n",
    "        X[0_0+56:100+56,:256,1] = img[:,22:-22,1] # LP_k\n",
    "        X[100+56:200+56,:256,1] = img[:,22:-22,3] # RP_k\n",
    "        X[0_0+56:100+56,:256,2] = img[:,22:-22,2] # RL_k\n",
    "        X[100+56:200+56,:256,2] = img[:,22:-22,1] # LP_k\n",
    "        \n",
    "        X[0_0+56:100+56,256:,0] = img[:,22:-22,0] # LL_k\n",
    "        X[100+56:200+56,256:,0] = img[:,22:-22,2] # RL_k\n",
    "        X[0_0+56:100+56,256:,1] = img[:,22:-22,1] # LP_k\n",
    "        X[100+56:200+56,256:,1] = img[:,22:-22,3] # RP_K\n",
    "        \n",
    "        # EEG\n",
    "        img = eeg\n",
    "        mn = img.flatten().min()\n",
    "        mx = img.flatten().max()\n",
    "        ep = 1e-5\n",
    "        img = 255 * (img - mn) / (mx - mn + ep)\n",
    "        X[200+56:300+56,:256,0] = img[:,22:-22,0] # LL_e\n",
    "        X[300+56:400+56,:256,0] = img[:,22:-22,2] # RL_e\n",
    "        X[200+56:300+56,:256,1] = img[:,22:-22,1] # LP_e\n",
    "        X[300+56:400+56,:256,1] = img[:,22:-22,3] # RP_e\n",
    "        X[200+56:300+56,:256,2] = img[:,22:-22,2] # RL_e\n",
    "        X[300+56:400+56,:256,2] = img[:,22:-22,1] # LP_e\n",
    "        \n",
    "        X[200+56:300+56,256:,0] = img[:,22:-22,0] # LL_e\n",
    "        X[300+56:400+56,256:,0] = img[:,22:-22,2] # RL_e\n",
    "        X[200+56:300+56,256:,1] = img[:,22:-22,1] # LP_e\n",
    "        X[300+56:400+56,256:,1] = img[:,22:-22,3] # RP_e\n",
    "\n",
    "        if self.mode!='test':\n",
    "            y[:] = row[TARGETS]\n",
    "        \n",
    "        return X,y\n",
    "    \n",
    "    def generate_specs(self, index):\n",
    "        X = np.zeros((512,512,3),dtype='float32')\n",
    "        y = np.zeros((6,),dtype='float32')\n",
    "        \n",
    "        row = self.data.iloc[index]\n",
    "        if self.mode=='test': \n",
    "            offset = 0\n",
    "        else:\n",
    "            offset = int(row.offset/2)\n",
    "            \n",
    "        if self.data_type in ['E','ER']:\n",
    "            img = self.eeg_specs[row.eeg_id]\n",
    "        elif self.data_type in ['K','KR']:\n",
    "            spec = self.specs[row.spec_id]\n",
    "            imgs = [spec[offset:offset+300,k*100:(k+1)*100].T for k in [0,2,1,3]] # to match kaggle with eeg\n",
    "            img = np.stack(imgs,axis=-1)\n",
    "            # LOG TRANSFORM SPECTROGRAM\n",
    "            img = np.clip(img,np.exp(-4),np.exp(8))\n",
    "            img = np.log(img)\n",
    "            \n",
    "            # STANDARDIZE PER IMAGE\n",
    "            img = np.nan_to_num(img, nan=0.0)    \n",
    "            \n",
    "        mn = img.flatten().min()\n",
    "        mx = img.flatten().max()\n",
    "        ep = 1e-5\n",
    "        img = 255 * (img - mn) / (mx - mn + ep)\n",
    "        \n",
    "        X[0_0+56:100+56,:256,0] = img[:,22:-22,0]\n",
    "        X[100+56:200+56,:256,0] = img[:,22:-22,2]\n",
    "        X[0_0+56:100+56,:256,1] = img[:,22:-22,1]\n",
    "        X[100+56:200+56,:256,1] = img[:,22:-22,3]\n",
    "        X[0_0+56:100+56,:256,2] = img[:,22:-22,2]\n",
    "        X[100+56:200+56,:256,2] = img[:,22:-22,1]\n",
    "        \n",
    "        X[0_0+56:100+56,256:,0] = img[:,22:-22,0]\n",
    "        X[100+56:200+56,256:,0] = img[:,22:-22,1]\n",
    "        X[0_0+56:100+56,256:,1] = img[:,22:-22,2]\n",
    "        X[100+56:200+56,256:,1] = img[:,22:-22,3]\n",
    "        \n",
    "        X[200+56:300+56,:256,0] = img[:,22:-22,0]\n",
    "        X[300+56:400+56,:256,0] = img[:,22:-22,1]\n",
    "        X[200+56:300+56,:256,1] = img[:,22:-22,2]\n",
    "        X[300+56:400+56,:256,1] = img[:,22:-22,3]\n",
    "        X[200+56:300+56,:256,2] = img[:,22:-22,3]\n",
    "        X[300+56:400+56,:256,2] = img[:,22:-22,2]\n",
    "        \n",
    "        X[200+56:300+56,256:,0] = img[:,22:-22,0]\n",
    "        X[300+56:400+56,256:,0] = img[:,22:-22,2]\n",
    "        X[200+56:300+56,256:,1] = img[:,22:-22,1]\n",
    "        X[300+56:400+56,256:,1] = img[:,22:-22,3]\n",
    "        \n",
    "        if self.mode!='test':\n",
    "            y[:] = row[TARGETS]\n",
    "        \n",
    "        return X,y\n",
    "    \n",
    "    def generate_raw(self,index):\n",
    "        if USE_PROCESSED and self.mode!='test':\n",
    "            X = np.zeros((2_000,8),dtype='float32')\n",
    "            y = np.zeros((6,),dtype='float32')\n",
    "            row = self.data.iloc[index]\n",
    "            X = self.raw_eegs[row.eeg_id]\n",
    "            y[:] = row[TARGETS]\n",
    "            return X,y\n",
    "        \n",
    "        X = np.zeros((10_000,8),dtype='float32')\n",
    "        y = np.zeros((6,),dtype='float32')\n",
    "        \n",
    "        row = self.data.iloc[index]\n",
    "        eeg = self.raw_eegs[row.eeg_id]\n",
    "            \n",
    "        # FEATURE ENGINEER\n",
    "        X[:,0] = eeg[:,FEAT2IDX['Fp1']] - eeg[:,FEAT2IDX['T3']]\n",
    "        X[:,1] = eeg[:,FEAT2IDX['T3']] - eeg[:,FEAT2IDX['O1']]\n",
    "            \n",
    "        X[:,2] = eeg[:,FEAT2IDX['Fp1']] - eeg[:,FEAT2IDX['C3']]\n",
    "        X[:,3] = eeg[:,FEAT2IDX['C3']] - eeg[:,FEAT2IDX['O1']]\n",
    "            \n",
    "        X[:,4] = eeg[:,FEAT2IDX['Fp2']] - eeg[:,FEAT2IDX['C4']]\n",
    "        X[:,5] = eeg[:,FEAT2IDX['C4']] - eeg[:,FEAT2IDX['O2']]\n",
    "            \n",
    "        X[:,6] = eeg[:,FEAT2IDX['Fp2']] - eeg[:,FEAT2IDX['T4']]\n",
    "        X[:,7] = eeg[:,FEAT2IDX['T4']] - eeg[:,FEAT2IDX['O2']]\n",
    "            \n",
    "        # STANDARDIZE\n",
    "        X = np.clip(X,-1024,1024)\n",
    "        X = np.nan_to_num(X, nan=0) / 32.0\n",
    "            \n",
    "        # BUTTER LOW-PASS FILTER\n",
    "        X = self.butter_lowpass_filter(X)\n",
    "        # Downsample\n",
    "        X = X[::5,:]\n",
    "        \n",
    "        if self.mode!='test':\n",
    "            y[:] = row[TARGETS]\n",
    "                \n",
    "        return X,y\n",
    "        \n",
    "    def butter_lowpass_filter(self, data, cutoff_freq=20, sampling_rate=200, order=4):\n",
    "        nyquist = 0.5 * sampling_rate\n",
    "        normal_cutoff = cutoff_freq / nyquist\n",
    "        b, a = butter(order, normal_cutoff, btype='low', analog=False)\n",
    "        filtered_data = lfilter(b, a, data, axis=0)\n",
    "        return filtered_data\n",
    "    \n",
    "    def resize(self, img,size):\n",
    "        composition = albu.Compose([\n",
    "                albu.Resize(size[0],size[1])\n",
    "            ])\n",
    "        return composition(image=img)['image']\n",
    "            \n",
    "    def augmentation(self, img):\n",
    "        composition = albu.Compose([\n",
    "                albu.HorizontalFlip(p=0.4)\n",
    "            ])\n",
    "        return composition(image=img)['image']\n",
    "\n",
    "def spectrogram_from_eeg(parquet_path):\n",
    "    \n",
    "    # LOAD MIDDLE 50 SECONDS OF EEG SERIES\n",
    "    eeg = pd.read_parquet(parquet_path)\n",
    "    middle = (len(eeg)-10_000)//2\n",
    "    eeg = eeg.iloc[middle:middle+10_000]\n",
    "    \n",
    "    # VARIABLE TO HOLD SPECTROGRAM\n",
    "    img = np.zeros((100,300,4),dtype='float32')\n",
    "\n",
    "    for k in range(4):\n",
    "        COLS = FEATS[k]\n",
    "        \n",
    "        for kk in range(4):\n",
    "            # FILL NANS\n",
    "            x1 = eeg[COLS[kk]].values\n",
    "            x2 = eeg[COLS[kk+1]].values\n",
    "            m = np.nanmean(x1)\n",
    "            if np.isnan(x1).mean()<1: x1 = np.nan_to_num(x1,nan=m)\n",
    "            else: x1[:] = 0\n",
    "            m = np.nanmean(x2)\n",
    "            if np.isnan(x2).mean()<1: x2 = np.nan_to_num(x2,nan=m)\n",
    "            else: x2[:] = 0\n",
    "                \n",
    "            # COMPUTE PAIR DIFFERENCES\n",
    "            x = x1 - x2\n",
    "\n",
    "            # RAW SPECTROGRAM\n",
    "            mel_spec = librosa.feature.melspectrogram(y=x, sr=200, hop_length=len(x)//300, \n",
    "                  n_fft=1024, n_mels=100, fmin=0, fmax=20, win_length=128)\n",
    "            \n",
    "            # LOG TRANSFORM\n",
    "            width = (mel_spec.shape[1]//30)*30\n",
    "            mel_spec_db = librosa.power_to_db(mel_spec, ref=np.max).astype(np.float32)[:,:width]\n",
    "            img[:,:,k] += mel_spec_db\n",
    "                \n",
    "        # AVERAGE THE 4 MONTAGE DIFFERENCES\n",
    "        img[:,:,k] /= 4.0\n",
    "          \n",
    "    return img\n",
    "\n",
    "def eeg_from_parquet(parquet_path):\n",
    "\n",
    "    eeg = pd.read_parquet(parquet_path, columns=FEATS2)\n",
    "    rows = len(eeg)\n",
    "    offset = (rows-10_000)//2\n",
    "    eeg = eeg.iloc[offset:offset+10_000]\n",
    "    data = np.zeros((10_000,len(FEATS2)))\n",
    "    for j,col in enumerate(FEATS2):\n",
    "        \n",
    "        # FILL NAN\n",
    "        x = eeg[col].values.astype('float32')\n",
    "        m = np.nanmean(x)\n",
    "        if np.isnan(x).mean()<1: x = np.nan_to_num(x,nan=m)\n",
    "        else: x[:] = 0\n",
    "        \n",
    "        data[:,j] = x\n",
    "\n",
    "    return data"
   ]
  },
  {
   "cell_type": "markdown",
   "id": "f2010ed0",
   "metadata": {
    "papermill": {
     "duration": 0.007719,
     "end_time": "2024-03-11T15:38:35.336192",
     "exception": false,
     "start_time": "2024-03-11T15:38:35.328473",
     "status": "completed"
    },
    "tags": []
   },
   "source": [
    "# DISPLAY DATA GENERATOR\n",
    "Below we display example data generator spectrogram images and raw EEG signals."
   ]
  },
  {
   "cell_type": "code",
   "execution_count": 5,
   "id": "e8fee351",
   "metadata": {
    "execution": {
     "iopub.execute_input": "2024-03-11T15:38:35.363459Z",
     "iopub.status.busy": "2024-03-11T15:38:35.361884Z",
     "iopub.status.idle": "2024-03-11T15:38:35.375354Z",
     "shell.execute_reply": "2024-03-11T15:38:35.374540Z"
    },
    "papermill": {
     "duration": 0.030088,
     "end_time": "2024-03-11T15:38:35.377606",
     "exception": false,
     "start_time": "2024-03-11T15:38:35.347518",
     "status": "completed"
    },
    "tags": []
   },
   "outputs": [],
   "source": [
    "if not submission: \n",
    "    params = {'specs':spectrograms, 'eeg_specs':all_eegs, 'raw_eegs':all_raw_eegs}\n",
    "    gen = DataGenerator(train, augment=False, **params)\n",
    "    for x,y in gen:\n",
    "        break\n",
    "        \n",
    "    if DATA_TYPE in ['E','K','KE','KR','ER','KER']:\n",
    "        x1 = x[0] if DATA_TYPE in ['KR','ER','KER'] else x\n",
    "        plt.imshow(x1[:,:,0])\n",
    "        plt.title(f'Target = {y.round(1)}',size=12)\n",
    "        plt.yticks([])\n",
    "        plt.ylabel('Frequencies (Hz)',size=12)\n",
    "        plt.xlabel('Time (sec)',size=12)\n",
    "    \n",
    "    if DATA_TYPE in ['R','KR','ER','KER']:\n",
    "        x1 = x[1] if DATA_TYPE in ['KR','ER','KER'] else x\n",
    "        plt.figure(figsize=(20,4))\n",
    "        offset = 0\n",
    "        for j in range(x1.shape[-1]):\n",
    "            if j!=0: offset -= x1[:,j].min()\n",
    "            plt.plot(range(2_000),x1[:,j]+offset,label=f'feature {j+1}')\n",
    "            offset += x1[:,j].max()\n",
    "        plt.legend()\n",
    "        \n",
    "    plt.show()"
   ]
  },
  {
   "cell_type": "markdown",
   "id": "4371ca61",
   "metadata": {
    "papermill": {
     "duration": 0.00856,
     "end_time": "2024-03-11T15:38:35.395870",
     "exception": false,
     "start_time": "2024-03-11T15:38:35.387310",
     "status": "completed"
    },
    "tags": []
   },
   "source": [
    "# TRAINING"
   ]
  },
  {
   "cell_type": "markdown",
   "id": "9d291894",
   "metadata": {
    "papermill": {
     "duration": 0.008344,
     "end_time": "2024-03-11T15:38:35.413571",
     "exception": false,
     "start_time": "2024-03-11T15:38:35.405227",
     "status": "completed"
    },
    "tags": []
   },
   "source": [
    "## LEARNING RATE"
   ]
  },
  {
   "cell_type": "code",
   "execution_count": 6,
   "id": "83dccc46",
   "metadata": {
    "execution": {
     "iopub.execute_input": "2024-03-11T15:38:35.432282Z",
     "iopub.status.busy": "2024-03-11T15:38:35.431968Z",
     "iopub.status.idle": "2024-03-11T15:38:35.438012Z",
     "shell.execute_reply": "2024-03-11T15:38:35.437097Z"
    },
    "papermill": {
     "duration": 0.017632,
     "end_time": "2024-03-11T15:38:35.440000",
     "exception": false,
     "start_time": "2024-03-11T15:38:35.422368",
     "status": "completed"
    },
    "tags": []
   },
   "outputs": [],
   "source": [
    "\n",
    "if not submission:\n",
    "\n",
    "    def lrfn(epoch):\n",
    "        e3 = 1e-3 if DATA_TYPE in ['R'] else 1e-4\n",
    "        return [1e-3,1e-3,e3,1e-4,1e-5][epoch]\n",
    "\n",
    "    LR = tf.keras.callbacks.LearningRateScheduler(lrfn, verbose = True)\n",
    "    \n",
    "    def lrfn2(epoch):\n",
    "        return [1e-5,1e-5,1e-6][epoch]\n",
    "\n",
    "    LR2 = tf.keras.callbacks.LearningRateScheduler(lrfn2, verbose = True)"
   ]
  },
  {
   "cell_type": "markdown",
   "id": "5e8148e1",
   "metadata": {
    "papermill": {
     "duration": 0.008324,
     "end_time": "2024-03-11T15:38:35.456700",
     "exception": false,
     "start_time": "2024-03-11T15:38:35.448376",
     "status": "completed"
    },
    "tags": []
   },
   "source": [
    "## MODEL AND UTILITY FUNCTIONS"
   ]
  },
  {
   "cell_type": "code",
   "execution_count": 7,
   "id": "16458653",
   "metadata": {
    "execution": {
     "iopub.execute_input": "2024-03-11T15:38:35.475207Z",
     "iopub.status.busy": "2024-03-11T15:38:35.474925Z",
     "iopub.status.idle": "2024-03-11T15:38:35.514026Z",
     "shell.execute_reply": "2024-03-11T15:38:35.513152Z"
    },
    "papermill": {
     "duration": 0.050931,
     "end_time": "2024-03-11T15:38:35.516165",
     "exception": false,
     "start_time": "2024-03-11T15:38:35.465234",
     "status": "completed"
    },
    "tags": []
   },
   "outputs": [],
   "source": [
    "from tensorflow.keras.layers import Input, Dense, Multiply, Add, Conv1D, Concatenate, LayerNormalization\n",
    "\n",
    "\n",
    "def build_model():\n",
    "    K.clear_session()\n",
    "    with strategy.scope():\n",
    "        if DATA_TYPE in ['R']:\n",
    "            model = build_wave_model()\n",
    "        elif DATA_TYPE in ['K','E','KE']:\n",
    "            model = build_spec_model()\n",
    "        elif DATA_TYPE in ['KR','ER','KER']:\n",
    "            model = build_hybrid_model()\n",
    "    return model\n",
    "\n",
    "def build_spec_model(hybrid=False):  \n",
    "    inp = tf.keras.layers.Input((512,512,3))\n",
    "    base_model = load_model(f'{LOAD_BACKBONE_FROM}')    \n",
    "    x = base_model(inp)\n",
    "    x = tf.keras.layers.GlobalAveragePooling2D()(x)\n",
    "    if not hybrid:\n",
    "        x = tf.keras.layers.Dense(6,activation='softmax', dtype='float32')(x)\n",
    "    model = tf.keras.Model(inputs=inp, outputs=x)\n",
    "    opt = tf.keras.optimizers.Adam(learning_rate = 1e-3)\n",
    "    loss = tf.keras.losses.KLDivergence()\n",
    "    model.compile(loss=loss, optimizer=opt)  \n",
    "    return model\n",
    "\n",
    "def wave_block(x, filters, kernel_size, n):\n",
    "    dilation_rates = [2**i for i in range(n)]\n",
    "    x = Conv1D(filters = filters,\n",
    "               kernel_size = 1,\n",
    "               padding = 'same')(x)\n",
    "    res_x = x\n",
    "    for dilation_rate in dilation_rates:\n",
    "        tanh_out = Conv1D(filters = filters,\n",
    "                          kernel_size = kernel_size,\n",
    "                          padding = 'same', \n",
    "                          activation = 'tanh', \n",
    "                          dilation_rate = dilation_rate)(x)\n",
    "        sigm_out = Conv1D(filters = filters,\n",
    "                          kernel_size = kernel_size,\n",
    "                          padding = 'same',\n",
    "                          activation = 'sigmoid', \n",
    "                          dilation_rate = dilation_rate)(x)\n",
    "        x = Multiply()([tanh_out, sigm_out])\n",
    "        x = Conv1D(filters = filters,\n",
    "                   kernel_size = 1,\n",
    "                   padding = 'same')(x)\n",
    "        res_x = Add()([res_x, x])\n",
    "    return res_x\n",
    "\n",
    "def build_wave_model(hybrid=False):\n",
    "        \n",
    "    # INPUT \n",
    "    inp = tf.keras.Input(shape=(2_000,8))\n",
    "    \n",
    "    ############\n",
    "    # FEATURE EXTRACTION SUB MODEL\n",
    "    inp2 = tf.keras.Input(shape=(2_000,1))\n",
    "    x = wave_block(inp2, 8, 4, 6)\n",
    "    x = wave_block(x, 16, 4, 6)\n",
    "    x = wave_block(x, 32, 4, 6)\n",
    "    x = wave_block(x, 64, 4, 6)\n",
    "    model2 = tf.keras.Model(inputs=inp2, outputs=x)\n",
    "    ###########\n",
    "    \n",
    "    # LEFT TEMPORAL CHAIN\n",
    "    x1 = model2(inp[:,:,0:1])\n",
    "    x1 = tf.keras.layers.GlobalAveragePooling1D()(x1)\n",
    "    x2 = model2(inp[:,:,1:2])\n",
    "    x2 = tf.keras.layers.GlobalAveragePooling1D()(x2)\n",
    "    z1 = tf.keras.layers.Average()([x1,x2])\n",
    "    \n",
    "    # LEFT PARASAGITTAL CHAIN\n",
    "    x1 = model2(inp[:,:,2:3])\n",
    "    x1 = tf.keras.layers.GlobalAveragePooling1D()(x1)\n",
    "    x2 = model2(inp[:,:,3:4])\n",
    "    x2 = tf.keras.layers.GlobalAveragePooling1D()(x2)\n",
    "    z2 = tf.keras.layers.Average()([x1,x2])\n",
    "    \n",
    "    # RIGHT PARASAGITTAL CHAIN\n",
    "    x1 = model2(inp[:,:,4:5])\n",
    "    x1 = tf.keras.layers.GlobalAveragePooling1D()(x1)\n",
    "    x2 = model2(inp[:,:,5:6])\n",
    "    x2 = tf.keras.layers.GlobalAveragePooling1D()(x2)\n",
    "    z3 = tf.keras.layers.Average()([x1,x2])\n",
    "    \n",
    "    # RIGHT TEMPORAL CHAIN\n",
    "    x1 = model2(inp[:,:,6:7])\n",
    "    x1 = tf.keras.layers.GlobalAveragePooling1D()(x1)\n",
    "    x2 = model2(inp[:,:,7:8])\n",
    "    x2 = tf.keras.layers.GlobalAveragePooling1D()(x2)\n",
    "    z4 = tf.keras.layers.Average()([x1,x2])\n",
    "    \n",
    "    # COMBINE CHAINS\n",
    "    y = tf.keras.layers.Concatenate()([z1,z2,z3,z4])\n",
    "    if not hybrid:\n",
    "        y = tf.keras.layers.Dense(64, activation='relu')(y)\n",
    "        y = tf.keras.layers.Dense(6,activation='softmax', dtype='float32')(y)\n",
    "    \n",
    "    # COMPILE MODEL\n",
    "    model = tf.keras.Model(inputs=inp, outputs=y)\n",
    "    opt = tf.keras.optimizers.Adam(learning_rate = 1e-3)\n",
    "    loss = tf.keras.losses.KLDivergence()\n",
    "    model.compile(loss=loss, optimizer = opt)\n",
    "    \n",
    "    return model\n",
    "\n",
    "def build_hybrid_model():\n",
    "    model_spec = build_spec_model(True)\n",
    "    model_wave = build_wave_model(True)\n",
    "    inputs = [model_spec.input, model_wave.input]\n",
    "    x = [model_spec.output, model_wave.output]\n",
    "    x = tf.keras.layers.Concatenate()(x)\n",
    "    x = tf.keras.layers.Dense(6,activation='softmax', dtype='float32')(x)\n",
    "    \n",
    "    # COMPILE MODEL\n",
    "    model = tf.keras.Model(inputs=inputs, outputs=x)\n",
    "    opt = tf.keras.optimizers.Adam(learning_rate = 1e-3)\n",
    "    loss = tf.keras.losses.KLDivergence()\n",
    "    model.compile(loss=loss, optimizer = opt)\n",
    "    \n",
    "    return model\n",
    "\n",
    "def score(y_true, y_pred):\n",
    "    kl = tf.keras.metrics.KLDivergence()\n",
    "    return kl(y_true, y_pred)\n",
    "\n",
    "def plot_hist(hist):\n",
    "    metrics = ['loss']\n",
    "    for i,metric in enumerate(metrics):\n",
    "        plt.figure(figsize=(10,4))\n",
    "        plt.subplot(1,2,i+1)\n",
    "        plt.plot(hist[metric])\n",
    "        plt.plot(hist[f'val_{metric}'])\n",
    "        plt.title(f'{metric}',size=12)\n",
    "        plt.ylabel(f'{metric}',size=12)\n",
    "        plt.xlabel('epoch',size=12)\n",
    "        plt.legend([\"train\", \"validation\"], loc=\"upper left\")\n",
    "        plt.show()\n",
    "        \n",
    "def dataset(data, mode='train', batch_size=8, data_type=DATA_TYPE, \n",
    "            augment=False, specs=None, eeg_specs=None, raw_eegs=None):\n",
    "    \n",
    "    BATCH_SIZE_PER_REPLICA = batch_size\n",
    "    BATCH_SIZE = BATCH_SIZE_PER_REPLICA * strategy.num_replicas_in_sync\n",
    "    gen = DataGenerator(data,mode=mode, data_type=data_type, augment=augment,\n",
    "                       specs=specs, eeg_specs=eeg_specs, raw_eegs=raw_eegs)\n",
    "    if data_type in ['K','E','KE']: \n",
    "        inp = tf.TensorSpec(shape=(512,512,3), dtype=tf.float32)\n",
    "    elif data_type in ['KR','ER','KER']:\n",
    "        inp = (tf.TensorSpec(shape=(512,512,3), dtype=tf.float32),tf.TensorSpec(shape=(2000,8), dtype=tf.float32))\n",
    "    elif data_type in ['R']:\n",
    "        inp = tf.TensorSpec(shape=(2000,8), dtype=tf.float32)\n",
    "        \n",
    "    output_signature = (inp,tf.TensorSpec(shape=(6,), dtype=tf.float32))\n",
    "    dataset = tf.data.Dataset.from_generator(generator=gen, output_signature=output_signature).batch(\n",
    "        BATCH_SIZE)\n",
    "    return dataset\n",
    "\n",
    "def reset_seed(seed):\n",
    "    np.random.seed(seed)\n",
    "    random.seed(seed)\n",
    "    tf.random.set_seed(seed)"
   ]
  },
  {
   "cell_type": "markdown",
   "id": "0b5c10d1",
   "metadata": {
    "papermill": {
     "duration": 0.007387,
     "end_time": "2024-03-11T15:38:35.532097",
     "exception": false,
     "start_time": "2024-03-11T15:38:35.524710",
     "status": "completed"
    },
    "tags": []
   },
   "source": [
    "## TRANSFER LEARNING"
   ]
  },
  {
   "cell_type": "code",
   "execution_count": 8,
   "id": "86e9bce6",
   "metadata": {
    "execution": {
     "iopub.execute_input": "2024-03-11T15:38:35.548051Z",
     "iopub.status.busy": "2024-03-11T15:38:35.547756Z",
     "iopub.status.idle": "2024-03-11T15:38:35.559681Z",
     "shell.execute_reply": "2024-03-11T15:38:35.558886Z"
    },
    "papermill": {
     "duration": 0.02205,
     "end_time": "2024-03-11T15:38:35.561567",
     "exception": false,
     "start_time": "2024-03-11T15:38:35.539517",
     "status": "completed"
    },
    "tags": []
   },
   "outputs": [],
   "source": [
    "from sklearn.model_selection import KFold, GroupKFold\n",
    "import tensorflow.keras.backend as K, gc\n",
    "\n",
    "if not submission:\n",
    "    reset_seed(42)\n",
    "    all_oof = []\n",
    "    all_true = []\n",
    "    losses = []\n",
    "    val_losses = []\n",
    "    total_hist = {}\n",
    "\n",
    "    gkf = GroupKFold(n_splits=5)\n",
    "    for i, (train_index, valid_index) in enumerate(gkf.split(train, train.target, train.patient_id)):   \n",
    "        print('#'*25)\n",
    "        print(f'### Fold {i+1}')\n",
    "        \n",
    "        EPOCHS = 5\n",
    "        params = {'specs':spectrograms, 'eeg_specs':all_eegs, 'raw_eegs':all_raw_eegs}\n",
    "        data, val = train.iloc[train_index],train.iloc[valid_index]\n",
    "        train_dataset = dataset(data, **params)\n",
    "        val_dataset = dataset(val,mode='valid', **params)\n",
    "        data = data[data['kl']<5.5]\n",
    "        train_dataset2 = dataset(data, **params)\n",
    "        \n",
    "        print(f'### train size {len(train_index)}, valid size {len(valid_index)}')\n",
    "        print('#'*25)\n",
    "        model = build_model()\n",
    "        hist = model.fit(train_dataset, validation_data = val_dataset, \n",
    "                         epochs=EPOCHS, callbacks=[LR])\n",
    "        print(f'### seconds stage train size {len(data)}, valid size {len(val)}')\n",
    "        print('#'*25)\n",
    "        hist2 = model.fit(train_dataset2, validation_data = val_dataset, \n",
    "                         epochs=3, callbacks=[LR2])\n",
    "        losses.append(hist.history['loss']+hist2.history['loss'])\n",
    "        val_losses.append(hist.history['val_loss']+hist2.history['val_loss'])\n",
    "        with strategy.scope():\n",
    "            model.save_weights(f'model_{DATA_TYPE}_{VER}_{i}.weights.h5')\n",
    "        oof = model.predict(val_dataset, verbose=1)\n",
    "        all_oof.append(oof)\n",
    "        all_true.append(train.iloc[valid_index][TARGETS].values)    \n",
    "        del model, oof\n",
    "        gc.collect()\n",
    "        \n",
    "    total_hist['loss'] = np.mean(losses,axis=0)\n",
    "    total_hist['val_loss'] = np.mean(val_losses,axis=0)\n",
    "    all_oof = np.concatenate(all_oof)\n",
    "    all_true = np.concatenate(all_true)\n",
    "    plot_hist(total_hist)\n",
    "    print('#'*25)\n",
    "    print(f'CV KL SCORE: {score(all_true,all_oof)}')"
   ]
  },
  {
   "cell_type": "markdown",
   "id": "e5606f66",
   "metadata": {
    "papermill": {
     "duration": 0.007259,
     "end_time": "2024-03-11T15:38:35.576318",
     "exception": false,
     "start_time": "2024-03-11T15:38:35.569059",
     "status": "completed"
    },
    "tags": []
   },
   "source": [
    "# Infer Test and Create Submission CSV\n",
    "Infer the test data and create a `submission.csv` file."
   ]
  },
  {
   "cell_type": "code",
   "execution_count": 9,
   "id": "252f4cee",
   "metadata": {
    "execution": {
     "iopub.execute_input": "2024-03-11T15:38:35.592539Z",
     "iopub.status.busy": "2024-03-11T15:38:35.592273Z",
     "iopub.status.idle": "2024-03-11T15:38:35.608610Z",
     "shell.execute_reply": "2024-03-11T15:38:35.607145Z"
    },
    "papermill": {
     "duration": 0.027081,
     "end_time": "2024-03-11T15:38:35.610837",
     "exception": false,
     "start_time": "2024-03-11T15:38:35.583756",
     "status": "completed"
    },
    "tags": []
   },
   "outputs": [
    {
     "name": "stdout",
     "output_type": "stream",
     "text": [
      "Test shape (1, 3)\n"
     ]
    }
   ],
   "source": [
    "if submission:\n",
    "    test = pd.read_csv('/kaggle/input/hms-harmful-brain-activity-classification/test.csv')\n",
    "    print('Test shape',test.shape)\n",
    "    test.head()"
   ]
  },
  {
   "cell_type": "code",
   "execution_count": 10,
   "id": "d4e3602f",
   "metadata": {
    "execution": {
     "iopub.execute_input": "2024-03-11T15:38:35.627418Z",
     "iopub.status.busy": "2024-03-11T15:38:35.627133Z",
     "iopub.status.idle": "2024-03-11T15:38:35.848960Z",
     "shell.execute_reply": "2024-03-11T15:38:35.848152Z"
    },
    "papermill": {
     "duration": 0.232333,
     "end_time": "2024-03-11T15:38:35.851035",
     "exception": false,
     "start_time": "2024-03-11T15:38:35.618702",
     "status": "completed"
    },
    "tags": []
   },
   "outputs": [
    {
     "name": "stdout",
     "output_type": "stream",
     "text": [
      "There are 1 test spectrogram parquets\n",
      "0 , "
     ]
    }
   ],
   "source": [
    "# READ ALL SPECTROGRAMS\n",
    "if submission:\n",
    "    PATH2 = '/kaggle/input/hms-harmful-brain-activity-classification/test_spectrograms'\n",
    "    files2 = os.listdir(PATH2)\n",
    "    print(f'There are {len(files2)} test spectrogram parquets')\n",
    "    \n",
    "    spectrograms2 = {}\n",
    "    for i,f in enumerate(files2):\n",
    "        if i%100==0: print(i,', ',end='')\n",
    "        tmp = pd.read_parquet(f'{PATH2}/{f}')\n",
    "        name = int(f.split('.')[0])\n",
    "        spectrograms2[name] = tmp.iloc[:,1:].values\n",
    "    \n",
    "    # RENAME FOR DATA GENERATOR\n",
    "    test = test.rename({'spectrogram_id':'spec_id'},axis=1)"
   ]
  },
  {
   "cell_type": "code",
   "execution_count": 11,
   "id": "88be0fbb",
   "metadata": {
    "execution": {
     "iopub.execute_input": "2024-03-11T15:38:35.869062Z",
     "iopub.status.busy": "2024-03-11T15:38:35.868726Z",
     "iopub.status.idle": "2024-03-11T15:38:45.850274Z",
     "shell.execute_reply": "2024-03-11T15:38:45.848736Z"
    },
    "papermill": {
     "duration": 9.994541,
     "end_time": "2024-03-11T15:38:45.854177",
     "exception": false,
     "start_time": "2024-03-11T15:38:35.859636",
     "status": "completed"
    },
    "tags": []
   },
   "outputs": [
    {
     "name": "stdout",
     "output_type": "stream",
     "text": [
      "Converting Test EEG to Spectrograms...\n",
      "\n"
     ]
    }
   ],
   "source": [
    "# READ ALL EEG SPECTROGRAMS\n",
    "if submission:\n",
    "    PATH2 = '/kaggle/input/hms-harmful-brain-activity-classification/test_eegs'\n",
    "    DISPLAY = 0\n",
    "    EEG_IDS2 = test.eeg_id.unique()\n",
    "    all_eegs2 = {}\n",
    "\n",
    "    print('Converting Test EEG to Spectrograms...'); print()\n",
    "    for i,eeg_id in enumerate(EEG_IDS2):\n",
    "        \n",
    "        # CREATE SPECTROGRAM FROM EEG PARQUET\n",
    "        img = spectrogram_from_eeg(f'{PATH2}/{eeg_id}.parquet')\n",
    "        all_eegs2[eeg_id] = img"
   ]
  },
  {
   "cell_type": "code",
   "execution_count": 12,
   "id": "6425b245",
   "metadata": {
    "execution": {
     "iopub.execute_input": "2024-03-11T15:38:45.892296Z",
     "iopub.status.busy": "2024-03-11T15:38:45.891214Z",
     "iopub.status.idle": "2024-03-11T15:38:45.922066Z",
     "shell.execute_reply": "2024-03-11T15:38:45.920698Z"
    },
    "papermill": {
     "duration": 0.054146,
     "end_time": "2024-03-11T15:38:45.926102",
     "exception": false,
     "start_time": "2024-03-11T15:38:45.871956",
     "status": "completed"
    },
    "tags": []
   },
   "outputs": [
    {
     "name": "stdout",
     "output_type": "stream",
     "text": [
      "Processing Test EEG parquets...\n",
      "\n"
     ]
    }
   ],
   "source": [
    "# READ ALL RAW EEG SIGNALS\n",
    "if submission :\n",
    "    all_raw_eegs2 = {}\n",
    "    EEG_IDS2 = test.eeg_id.unique()\n",
    "    PATH2 = '/kaggle/input/hms-harmful-brain-activity-classification/test_eegs'\n",
    "\n",
    "    print('Processing Test EEG parquets...'); print()\n",
    "    for i,eeg_id in enumerate(EEG_IDS2):\n",
    "        \n",
    "        # SAVE EEG TO PYTHON DICTIONARY OF NUMPY ARRAYS\n",
    "        data = eeg_from_parquet(f'{PATH2}/{eeg_id}.parquet')\n",
    "        all_raw_eegs2[eeg_id] = data"
   ]
  },
  {
   "cell_type": "code",
   "execution_count": 13,
   "id": "ed4abdf9",
   "metadata": {
    "execution": {
     "iopub.execute_input": "2024-03-11T15:38:45.965508Z",
     "iopub.status.busy": "2024-03-11T15:38:45.964905Z",
     "iopub.status.idle": "2024-03-11T15:38:45.977381Z",
     "shell.execute_reply": "2024-03-11T15:38:45.976288Z"
    },
    "papermill": {
     "duration": 0.034317,
     "end_time": "2024-03-11T15:38:45.980334",
     "exception": false,
     "start_time": "2024-03-11T15:38:45.946017",
     "status": "completed"
    },
    "tags": []
   },
   "outputs": [],
   "source": [
    "# Submission ON TEST without ensemble\n",
    "if submission and not ENSEMBLE:\n",
    "    preds = []\n",
    "    \n",
    "    test_dataset = dataset(test,mode='test',specs=spectrograms2, eeg_specs=all_eegs2, raw_eegs=all_raw_eegs2)\n",
    "    model = build_model()\n",
    "\n",
    "    for i in range(5):\n",
    "        print(f'Fold {i+1}')\n",
    "        model.load_weights(f'{LOAD_MODELS_FROM}/model_{DATA_TYPE}_{VER}_{i}.weights.h5')\n",
    "        pred = model.predict(test_dataset, verbose=1)\n",
    "        preds.append(pred)\n",
    "        \n",
    "    pred = np.mean(preds,axis=0)\n",
    "    print('Test preds shape',pred.shape)"
   ]
  },
  {
   "cell_type": "code",
   "execution_count": 14,
   "id": "af665b82",
   "metadata": {
    "execution": {
     "iopub.execute_input": "2024-03-11T15:38:45.997853Z",
     "iopub.status.busy": "2024-03-11T15:38:45.997551Z",
     "iopub.status.idle": "2024-03-11T15:41:02.821511Z",
     "shell.execute_reply": "2024-03-11T15:41:02.820415Z"
    },
    "papermill": {
     "duration": 136.835704,
     "end_time": "2024-03-11T15:41:02.823913",
     "exception": false,
     "start_time": "2024-03-11T15:38:45.988209",
     "status": "completed"
    },
    "tags": []
   },
   "outputs": [
    {
     "name": "stdout",
     "output_type": "stream",
     "text": [
      "Fold 1\n",
      "1/1 [==============================] - 4s 4s/step\n",
      "1/1 [==============================] - 0s 102ms/step\n",
      "1/1 [==============================] - 11s 11s/step\n",
      "1/1 [==============================] - 0s 102ms/step\n",
      "1/1 [==============================] - 14s 14s/step\n",
      "1/1 [==============================] - 0s 141ms/step\n",
      "1/1 [==============================] - 0s 124ms/step\n",
      "Fold 2\n",
      "1/1 [==============================] - 0s 97ms/step\n",
      "1/1 [==============================] - 0s 99ms/step\n",
      "1/1 [==============================] - 0s 113ms/step\n",
      "1/1 [==============================] - 0s 94ms/step\n",
      "1/1 [==============================] - 0s 107ms/step\n",
      "1/1 [==============================] - 0s 107ms/step\n",
      "1/1 [==============================] - 0s 128ms/step\n",
      "Fold 3\n",
      "1/1 [==============================] - 0s 91ms/step\n",
      "1/1 [==============================] - 0s 89ms/step\n",
      "1/1 [==============================] - 0s 113ms/step\n",
      "1/1 [==============================] - 0s 89ms/step\n",
      "1/1 [==============================] - 0s 132ms/step\n",
      "1/1 [==============================] - 0s 129ms/step\n",
      "1/1 [==============================] - 0s 127ms/step\n",
      "Fold 4\n",
      "1/1 [==============================] - 0s 89ms/step\n",
      "1/1 [==============================] - 0s 92ms/step\n",
      "1/1 [==============================] - 0s 104ms/step\n",
      "1/1 [==============================] - 0s 87ms/step\n",
      "1/1 [==============================] - 0s 105ms/step\n",
      "1/1 [==============================] - 0s 103ms/step\n",
      "1/1 [==============================] - 0s 101ms/step\n",
      "Fold 5\n",
      "1/1 [==============================] - 0s 88ms/step\n",
      "1/1 [==============================] - 0s 90ms/step\n",
      "1/1 [==============================] - 0s 102ms/step\n",
      "1/1 [==============================] - 0s 87ms/step\n",
      "1/1 [==============================] - 0s 132ms/step\n",
      "1/1 [==============================] - 0s 133ms/step\n",
      "1/1 [==============================] - 0s 130ms/step\n",
      "Test preds shape (1, 6)\n"
     ]
    }
   ],
   "source": [
    "# Submission ON TEST with ensemble\n",
    "if submission and ENSEMBLE:\n",
    "    preds = []\n",
    "    params = {'specs':spectrograms2, 'eeg_specs':all_eegs2, 'raw_eegs':all_raw_eegs2}\n",
    "    test_dataset_K = dataset(test, data_type='K', mode='test', **params)\n",
    "    test_dataset_E = dataset(test, data_type='E', mode='test', **params)\n",
    "    test_dataset_R = dataset(test, data_type='R', mode='test', **params)\n",
    "    test_dataset_KE = dataset(test, data_type='KE', mode='test', **params)\n",
    "    test_dataset_KR = dataset(test, data_type='KR', mode='test', **params)\n",
    "    test_dataset_ER = dataset(test, data_type='ER', mode='test', **params)\n",
    "    test_dataset_KER = dataset(test, data_type='KER', mode='test', **params)\n",
    "\n",
    "    # LB SCORE WEIGHTS FOR EACH MODEL\n",
    "    lbs = 1 - np.array(LBs)\n",
    "    weights = lbs/lbs.sum()\n",
    "    model_spec = build_spec_model()\n",
    "    model_wave = build_wave_model()\n",
    "    model_hybrid = build_hybrid_model()\n",
    "    \n",
    "    for i in range(5):\n",
    "        print(f'Fold {i+1}')\n",
    "        \n",
    "        model_spec.load_weights(f'{LOAD_MODELS_FROM}/model_K_{VER_K}_{i}.weights.h5')\n",
    "        pred_K = model_spec.predict(test_dataset_K, verbose=1)\n",
    "        \n",
    "        model_spec.load_weights(f'{LOAD_MODELS_FROM}/model_E_{VER_E}_{i}.weights.h5')\n",
    "        pred_E = model_spec.predict(test_dataset_E, verbose=1)\n",
    "\n",
    "        model_wave.load_weights(f'{LOAD_MODELS_FROM}/model_R_{VER_R}_{i}.weights.h5')\n",
    "        pred_R = model_wave.predict(test_dataset_R, verbose=1)\n",
    "        \n",
    "        model_spec.load_weights(f'{LOAD_MODELS_FROM}/model_KE_{VER_KE}_{i}.weights.h5')\n",
    "        pred_KE = model_spec.predict(test_dataset_KE, verbose=1)\n",
    "        \n",
    "        model_hybrid.load_weights(f'{LOAD_MODELS_FROM}/model_KR_{VER_KR}_{i}.weights.h5')\n",
    "        pred_KR = model_hybrid.predict(test_dataset_KR, verbose=1)\n",
    "        \n",
    "        model_hybrid.load_weights(f'{LOAD_MODELS_FROM}/model_ER_{VER_ER}_{i}.weights.h5')\n",
    "        pred_ER = model_hybrid.predict(test_dataset_ER, verbose=1)\n",
    "        \n",
    "        model_hybrid.load_weights(f'{LOAD_MODELS_FROM}/model_KER_{VER_KER}_{i}.weights.h5')\n",
    "        pred_KER = model_hybrid.predict(test_dataset_KER, verbose=1)\n",
    "        \n",
    "        pred = np.array([pred_K,pred_E,pred_R,pred_KE,pred_KR,pred_ER,pred_KER])\n",
    "        pred = np.average(pred,axis=0,weights=weights)\n",
    "        preds.append(pred)\n",
    "        \n",
    "    pred = np.mean(preds,axis=0)\n",
    "    print('Test preds shape',pred.shape)"
   ]
  },
  {
   "cell_type": "code",
   "execution_count": 15,
   "id": "63641f9e",
   "metadata": {
    "execution": {
     "iopub.execute_input": "2024-03-11T15:41:02.854023Z",
     "iopub.status.busy": "2024-03-11T15:41:02.853716Z",
     "iopub.status.idle": "2024-03-11T15:41:02.869207Z",
     "shell.execute_reply": "2024-03-11T15:41:02.868272Z"
    },
    "papermill": {
     "duration": 0.031926,
     "end_time": "2024-03-11T15:41:02.871022",
     "exception": false,
     "start_time": "2024-03-11T15:41:02.839096",
     "status": "completed"
    },
    "tags": []
   },
   "outputs": [
    {
     "name": "stdout",
     "output_type": "stream",
     "text": [
      "Submissionn shape (1, 7)\n",
      "\n",
      "       eeg_id  seizure_vote  lpd_vote  gpd_vote  lrda_vote  grda_vote  other_vote\n",
      "0  3911565283      0.044722  0.042331  0.001224   0.349883    0.06987    0.491969\n"
     ]
    }
   ],
   "source": [
    "if submission:\n",
    "    sub = pd.DataFrame({'eeg_id':test.eeg_id.values})\n",
    "    sub[TARGETS] = pred\n",
    "    sub.to_csv('submission.csv',index=False)\n",
    "    print('Submissionn shape',sub.shape)\n",
    "    print()\n",
    "    print(sub.head().to_string())"
   ]
  },
  {
   "cell_type": "code",
   "execution_count": 16,
   "id": "cab34546",
   "metadata": {
    "execution": {
     "iopub.execute_input": "2024-03-11T15:41:02.899676Z",
     "iopub.status.busy": "2024-03-11T15:41:02.899399Z",
     "iopub.status.idle": "2024-03-11T15:41:02.905617Z",
     "shell.execute_reply": "2024-03-11T15:41:02.904729Z"
    },
    "papermill": {
     "duration": 0.023114,
     "end_time": "2024-03-11T15:41:02.907700",
     "exception": false,
     "start_time": "2024-03-11T15:41:02.884586",
     "status": "completed"
    },
    "tags": []
   },
   "outputs": [
    {
     "name": "stdout",
     "output_type": "stream",
     "text": [
      "0    1.0\n"
     ]
    }
   ],
   "source": [
    "# SANITY CHECK TO CONFIRM PREDICTIONS SUM TO ONE\n",
    "if submission:\n",
    "    print(sub.iloc[:,-6:].sum(axis=1).to_string())"
   ]
  }
 ],
 "metadata": {
  "kaggle": {
   "accelerator": "nvidiaTeslaT4",
   "dataSources": [
    {
     "databundleVersionId": 7469972,
     "sourceId": 59093,
     "sourceType": "competition"
    },
    {
     "datasetId": 4297782,
     "sourceId": 7392775,
     "sourceType": "datasetVersion"
    },
    {
     "datasetId": 4407194,
     "sourceId": 7570342,
     "sourceType": "datasetVersion"
    },
    {
     "datasetId": 4382744,
     "sourceId": 7752462,
     "sourceType": "datasetVersion"
    },
    {
     "datasetId": 4550181,
     "sourceId": 7776446,
     "sourceType": "datasetVersion"
    },
    {
     "datasetId": 4417235,
     "sourceId": 7788155,
     "sourceType": "datasetVersion"
    }
   ],
   "dockerImageVersionId": 30636,
   "isGpuEnabled": true,
   "isInternetEnabled": false,
   "language": "python",
   "sourceType": "notebook"
  },
  "kernelspec": {
   "display_name": "Python 3",
   "language": "python",
   "name": "python3"
  },
  "language_info": {
   "codemirror_mode": {
    "name": "ipython",
    "version": 3
   },
   "file_extension": ".py",
   "mimetype": "text/x-python",
   "name": "python",
   "nbconvert_exporter": "python",
   "pygments_lexer": "ipython3",
   "version": "3.10.12"
  },
  "papermill": {
   "default_parameters": {},
   "duration": 172.774402,
   "end_time": "2024-03-11T15:41:06.572850",
   "environment_variables": {},
   "exception": null,
   "input_path": "__notebook__.ipynb",
   "output_path": "__notebook__.ipynb",
   "parameters": {},
   "start_time": "2024-03-11T15:38:13.798448",
   "version": "2.4.0"
  }
 },
 "nbformat": 4,
 "nbformat_minor": 5
}
