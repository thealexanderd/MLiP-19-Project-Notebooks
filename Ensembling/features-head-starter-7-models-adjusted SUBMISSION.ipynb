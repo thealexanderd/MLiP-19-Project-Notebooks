{
 "cells": [
  {
   "cell_type": "markdown",
   "id": "52379046",
   "metadata": {
    "papermill": {
     "duration": 0.007878,
     "end_time": "2024-03-13T10:30:45.616698",
     "exception": false,
     "start_time": "2024-03-13T10:30:45.608820",
     "status": "completed"
    },
    "tags": []
   },
   "source": [
    "## Features+Head Ensemble Starter [LB 0.34] for HMS Brain Comp\n",
    "We can train 7 model and data variations: (all models included)\n",
    "\n",
    "**The Ensemble achieves LB 0.34**\n",
    "\n",
    "| MODEL | DATA TYPE | CV | LB | NOTES |\n",
    "|----------------|-----------|----------|---|--|\n",
    "| EfficientNetB2 | K | 0.6123 | 0.41 |K: Kaggle's spectrograms|\n",
    "| EfficientNetB2 | E | 0.6288 | 0.39 |E: EEG's spectrograms|\n",
    "| WaveNet | R | 0.6992 | 0.41 |R: Raw EEG signals|\n",
    "| EfficientNetB2 | KE | 0.5646 | 0.37 |KE: Kaggle's and EEG's spectrograms|\n",
    "| EfficientNetB2 + WaveNet | KR | 0.5912 | 0.39 |KR: Kaggle's spectrograms and Raw EEG signals|\n",
    "| EfficientNetB2 + WaveNet | ER | 0.6085 | 0.38 |ER: EEG's spectrograms and Raw EEG signals|\n",
    "| EfficientNetB2 + WaveNet | KER | - | 0.36 |KER: Kaggle's, EEG's spectrograms and Raw EEG signals|\n",
    "\n",
    "Great discussion [here][5] by @KOLOO that led to the latest scores!\n",
    "\n",
    "Features+Head Starter uses Chris Deotte's Kaggle dataset [here][1]. Also Uses Chris's EEG spectrograms [here][3] (modified version). The Raw EEG signals can be found [here][6]. This notebook is a direct descendent of Chris's notebooks [EfficientNet][2] and [WaveNet][4]\n",
    "\n",
    "[1]: https://www.kaggle.com/datasets/cdeotte/brain-spectrograms\n",
    "[2]: https://www.kaggle.com/code/cdeotte/efficientnetb2-starter-lb-0-57\n",
    "[3]: https://www.kaggle.com/datasets/nartaa/eeg-spectrograms\n",
    "[4]: https://www.kaggle.com/competitions/hms-harmful-brain-activity-classification/discussion/468684\n",
    "[5]: https://www.kaggle.com/competitions/hms-harmful-brain-activity-classification/discussion/477461\n",
    "[6]: https://www.kaggle.com/datasets/nartaa/hms-eeg"
   ]
  },
  {
   "cell_type": "code",
   "execution_count": 1,
   "id": "7f69db5f",
   "metadata": {
    "execution": {
     "iopub.execute_input": "2024-03-13T10:30:45.632934Z",
     "iopub.status.busy": "2024-03-13T10:30:45.632193Z",
     "iopub.status.idle": "2024-03-13T10:30:58.660355Z",
     "shell.execute_reply": "2024-03-13T10:30:58.659381Z"
    },
    "papermill": {
     "duration": 13.03864,
     "end_time": "2024-03-13T10:30:58.662621",
     "exception": false,
     "start_time": "2024-03-13T10:30:45.623981",
     "status": "completed"
    },
    "tags": []
   },
   "outputs": [
    {
     "name": "stderr",
     "output_type": "stream",
     "text": [
      "/opt/conda/lib/python3.10/site-packages/scipy/__init__.py:146: UserWarning: A NumPy version >=1.16.5 and <1.23.0 is required for this version of SciPy (detected version 1.24.3\n",
      "  warnings.warn(f\"A NumPy version >={np_minversion} and <{np_maxversion}\"\n"
     ]
    },
    {
     "name": "stdout",
     "output_type": "stream",
     "text": [
      "Using 2 GPUs\n"
     ]
    }
   ],
   "source": [
    "import os, random\n",
    "import tensorflow as tf\n",
    "import tensorflow\n",
    "import tensorflow.keras.backend as K\n",
    "import pandas as pd, numpy as np\n",
    "import matplotlib.pyplot as plt\n",
    "from tensorflow.keras.models import load_model\n",
    "\n",
    "LOAD_BACKBONE_FROM = '/kaggle/input/efficientnetb-tf-keras/EfficientNetB2.h5'\n",
    "LOAD_MODELS_FROM = '/kaggle/input/features-head-starter-models'\n",
    "HMS_PATH = '/kaggle/input/hms-harmful-brain-activity-classification'\n",
    "VER = 50\n",
    "DATA_TYPE = 'KER' # K|E|R|KE|KR|ER|KER\n",
    "USE_PROCESSED = True # Use processed downsampled Raw EEG \n",
    "submission = True\n",
    "\n",
    "# Setup for ensemble\n",
    "ENSEMBLE = True\n",
    "LBs = [13, 13, 18.00, 14.5, 13.5, 13.5, 14.5] # K|E|R|KE|KR|ER|KER for weighted ensemble we use LBs of each model\n",
    "VER_K = 43 # Kaggle's spectrogram model version\n",
    "VER_E = 42 # EEG's spectrogram model version\n",
    "VER_R = 37 # EEG's Raw wavenet model version, trained on single GPU\n",
    "VER_KE = 47 # Kaggle's and EEG's spectrogram model version\n",
    "VER_KR = 48 # Kaggle's spectrogram and Raw model version\n",
    "VER_ER = 49 # EEG's spectrogram and Raw model version\n",
    "VER_KER = 50 # EEG's, Kaggle's spectrograms and Raw model version\n",
    "\n",
    "np.random.seed(42)\n",
    "random.seed(42)\n",
    "tf.random.set_seed(42)\n",
    "\n",
    "# USE SINGLE GPU, MULTIPLE GPUS \n",
    "gpus = tf.config.list_physical_devices('GPU')\n",
    "# WE USE MIXED PRECISION\n",
    "tf.config.optimizer.set_experimental_options({\"auto_mixed_precision\": True})\n",
    "if len(gpus)>1:\n",
    "    strategy = tf.distribute.MirroredStrategy()\n",
    "    print(f'Using {len(gpus)} GPUs')\n",
    "else:\n",
    "    strategy = tf.distribute.OneDeviceStrategy(device=\"/gpu:0\")\n",
    "    print(f'Using {len(gpus)} GPU')"
   ]
  },
  {
   "cell_type": "markdown",
   "id": "efcdf3d3",
   "metadata": {
    "papermill": {
     "duration": 0.0075,
     "end_time": "2024-03-13T10:30:58.677751",
     "exception": false,
     "start_time": "2024-03-13T10:30:58.670251",
     "status": "completed"
    },
    "tags": []
   },
   "source": [
    "# Load and create Non-Overlapping Eeg Id Train Data\n",
    "The competition data description says that test data does not have multiple crops from the same `eeg_id`. Therefore we will train and validate using only 1 crop per `eeg_id`. There is a discussion about this [here][1].\n",
    "\n",
    "[1]: https://www.kaggle.com/competitions/hms-harmful-brain-activity-classification/discussion/467021"
   ]
  },
  {
   "cell_type": "code",
   "execution_count": 2,
   "id": "9249cde5",
   "metadata": {
    "execution": {
     "iopub.execute_input": "2024-03-13T10:30:58.693949Z",
     "iopub.status.busy": "2024-03-13T10:30:58.693453Z",
     "iopub.status.idle": "2024-03-13T10:30:58.701968Z",
     "shell.execute_reply": "2024-03-13T10:30:58.701099Z"
    },
    "papermill": {
     "duration": 0.01868,
     "end_time": "2024-03-13T10:30:58.703790",
     "exception": false,
     "start_time": "2024-03-13T10:30:58.685110",
     "status": "completed"
    },
    "tags": []
   },
   "outputs": [],
   "source": [
    "TARGETS = ['seizure_vote', 'lpd_vote', 'gpd_vote', 'lrda_vote', 'grda_vote', 'other_vote']\n",
    "\n",
    "def add_kl(data):\n",
    "    labels = data[TARGETS].values + 1e-5\n",
    "    data['kl'] = tf.keras.losses.KLDivergence(reduction='none')(\n",
    "        np.array([[1/6]*6]*len(data)),labels)\n",
    "    return data\n",
    "    \n",
    "if not submission:\n",
    "    train = pd.read_csv('/kaggle/input/hms-harmful-brain-activity-classification/train.csv')\n",
    "    TARGETS = ['seizure_vote', 'lpd_vote', 'gpd_vote', 'lrda_vote', 'grda_vote', 'other_vote']\n",
    "    META = ['spectrogram_id','spectrogram_label_offset_seconds','patient_id','expert_consensus']\n",
    "    train = train.groupby('eeg_id')[META+TARGETS\n",
    "                           ].agg({**{m:'first' for m in META},**{t:'sum' for t in TARGETS}}).reset_index() \n",
    "    train[TARGETS] = train[TARGETS]/train[TARGETS].values.sum(axis=1,keepdims=True)\n",
    "    train.columns = ['eeg_id','spec_id','offset','patient_id','target'] + TARGETS\n",
    "    train = add_kl(train)\n",
    "    print(train.head(1).to_string())"
   ]
  },
  {
   "cell_type": "markdown",
   "id": "d72cc218",
   "metadata": {
    "papermill": {
     "duration": 0.007139,
     "end_time": "2024-03-13T10:30:58.718398",
     "exception": false,
     "start_time": "2024-03-13T10:30:58.711259",
     "status": "completed"
    },
    "tags": []
   },
   "source": [
    "# Read Train Spectrograms and EEGs\n",
    "\n",
    "We can read 3 file from Chris's [Kaggle dataset here][1] which contains all the 11k spectrograms. From Chris's modified EEG spectrogram [here][2]. From Raw EEG signals [here][3]\n",
    "\n",
    "[1]: https://www.kaggle.com/datasets/cdeotte/brain-spectrograms\n",
    "[2]: https://www.kaggle.com/datasets/nartaa/eeg-spectrograms\n",
    "[3]: https://www.kaggle.com/datasets/nartaa/hms-eeg"
   ]
  },
  {
   "cell_type": "code",
   "execution_count": 3,
   "id": "9c90db4b",
   "metadata": {
    "execution": {
     "iopub.execute_input": "2024-03-13T10:30:58.734545Z",
     "iopub.status.busy": "2024-03-13T10:30:58.733886Z",
     "iopub.status.idle": "2024-03-13T10:30:58.740947Z",
     "shell.execute_reply": "2024-03-13T10:30:58.740021Z"
    },
    "papermill": {
     "duration": 0.017406,
     "end_time": "2024-03-13T10:30:58.743030",
     "exception": false,
     "start_time": "2024-03-13T10:30:58.725624",
     "status": "completed"
    },
    "tags": []
   },
   "outputs": [
    {
     "name": "stdout",
     "output_type": "stream",
     "text": [
      "CPU times: user 3 µs, sys: 1e+03 ns, total: 4 µs\n",
      "Wall time: 7.63 µs\n"
     ]
    }
   ],
   "source": [
    "%%time\n",
    "if not submission:\n",
    "    spectrograms = None\n",
    "    all_eegs = None\n",
    "    all_raw_eegs = None\n",
    "    if DATA_TYPE in ['K','KE','KR','KER']:\n",
    "        spectrograms = np.load('/kaggle/input/brain-spectrograms/specs.npy',allow_pickle=True).item()\n",
    "    if DATA_TYPE in ['E','KE','ER','KER']:\n",
    "        all_eegs = np.load('/kaggle/input/eeg-spectrograms/eeg_specs.npy',allow_pickle=True).item()\n",
    "    if DATA_TYPE in ['R','KR','ER','KER']:\n",
    "        if USE_PROCESSED:\n",
    "            all_raw_eegs = np.load('/kaggle/input/hms-eeg/eegs_processed.npy',allow_pickle=True).item()\n",
    "        else:\n",
    "            all_raw_eegs = np.load('/kaggle/input/hms-eeg/eegs.npy',allow_pickle=True).item()"
   ]
  },
  {
   "cell_type": "markdown",
   "id": "577c6334",
   "metadata": {
    "papermill": {
     "duration": 0.00739,
     "end_time": "2024-03-13T10:30:58.758150",
     "exception": false,
     "start_time": "2024-03-13T10:30:58.750760",
     "status": "completed"
    },
    "tags": []
   },
   "source": [
    "# DATA GENERATOR\n",
    "This data generator outputs 512x512x3, the spectrogram and eeg images are concatenated all togother in a single image. For using data augmention you can set `augment = True` when creating the train data generator."
   ]
  },
  {
   "cell_type": "code",
   "execution_count": 4,
   "id": "d01c92a6",
   "metadata": {
    "execution": {
     "iopub.execute_input": "2024-03-13T10:30:58.774718Z",
     "iopub.status.busy": "2024-03-13T10:30:58.774454Z",
     "iopub.status.idle": "2024-03-13T10:31:00.713670Z",
     "shell.execute_reply": "2024-03-13T10:31:00.712889Z"
    },
    "papermill": {
     "duration": 1.950203,
     "end_time": "2024-03-13T10:31:00.715988",
     "exception": false,
     "start_time": "2024-03-13T10:30:58.765785",
     "status": "completed"
    },
    "tags": []
   },
   "outputs": [],
   "source": [
    "import albumentations as albu\n",
    "from scipy.signal import butter, lfilter\n",
    "import librosa\n",
    "\n",
    "FEATS2 = ['Fp1','T3','C3','O1','Fp2','C4','T4','O2']\n",
    "FEAT2IDX = {x:y for x,y in zip(FEATS2,range(len(FEATS2)))}\n",
    "FEATS = [['Fp1','F7','T3','T5','O1'],\n",
    "         ['Fp1','F3','C3','P3','O1'],\n",
    "         ['Fp2','F8','T4','T6','O2'],\n",
    "         ['Fp2','F4','C4','P4','O2']]\n",
    "    \n",
    "class DataGenerator():\n",
    "    'Generates data for Keras'\n",
    "    def __init__(self, data, specs=None, eeg_specs=None, raw_eegs=None , augment=False, mode='train', data_type=DATA_TYPE): \n",
    "        self.data = data\n",
    "        self.augment = augment\n",
    "        self.mode = mode\n",
    "        self.data_type = data_type\n",
    "        self.specs = specs\n",
    "        self.eeg_specs = eeg_specs\n",
    "        self.raw_eegs = raw_eegs\n",
    "        self.on_epoch_end()\n",
    "        \n",
    "    def __len__(self):\n",
    "        return self.data.shape[0]\n",
    "\n",
    "    def __getitem__(self, index):\n",
    "        X, y = self.data_generation(index)\n",
    "        if self.augment: X = self.augmentation(X)\n",
    "        return X, y\n",
    "    \n",
    "    def __call__(self):\n",
    "        for i in range(self.__len__()):\n",
    "            yield self.__getitem__(i)\n",
    "            \n",
    "            if i == self.__len__()-1:\n",
    "                self.on_epoch_end()\n",
    "                \n",
    "    def on_epoch_end(self):\n",
    "        if self.mode=='train': \n",
    "            self.data = self.data.sample(frac=1).reset_index(drop=True)\n",
    "    \n",
    "    def data_generation(self, index):\n",
    "        if self.data_type == 'KE':\n",
    "            X,y = self.generate_all_specs(index)\n",
    "        elif self.data_type == 'E' or self.data_type == 'K':\n",
    "            X,y = self.generate_specs(index)\n",
    "        elif self.data_type == 'R':\n",
    "            X,y = self.generate_raw(index)\n",
    "        elif self.data_type in ['ER','KR']:\n",
    "            X1,y = self.generate_specs(index)\n",
    "            X2,y = self.generate_raw(index)\n",
    "            X = (X1,X2)\n",
    "        elif self.data_type in ['KER']:\n",
    "            X1,y = self.generate_all_specs(index)\n",
    "            X2,y = self.generate_raw(index)\n",
    "            X = (X1,X2)\n",
    "        return X,y\n",
    "    \n",
    "    def generate_all_specs(self, index):\n",
    "        X = np.zeros((512,512,3),dtype='float32')\n",
    "        y = np.zeros((6,),dtype='float32')\n",
    "        \n",
    "        row = self.data.iloc[index]\n",
    "        if self.mode=='test': \n",
    "            offset = 0\n",
    "        else:\n",
    "            offset = int(row.offset/2)\n",
    "        \n",
    "        eeg = self.eeg_specs[row.eeg_id]\n",
    "        spec = self.specs[row.spec_id]\n",
    "        \n",
    "        imgs = [spec[offset:offset+300,k*100:(k+1)*100].T for k in [0,2,1,3]] # to match kaggle with eeg\n",
    "        img = np.stack(imgs,axis=-1)\n",
    "        # LOG TRANSFORM SPECTROGRAM\n",
    "        img = np.clip(img,np.exp(-4),np.exp(8))\n",
    "        img = np.log(img)\n",
    "            \n",
    "        # STANDARDIZE PER IMAGE\n",
    "        img = np.nan_to_num(img, nan=0.0)    \n",
    "            \n",
    "        mn = img.flatten().min()\n",
    "        mx = img.flatten().max()\n",
    "        ep = 1e-5\n",
    "        img = 255 * (img - mn) / (mx - mn + ep)\n",
    "        \n",
    "        X[0_0+56:100+56,:256,0] = img[:,22:-22,0] # LL_k\n",
    "        X[100+56:200+56,:256,0] = img[:,22:-22,2] # RL_k\n",
    "        X[0_0+56:100+56,:256,1] = img[:,22:-22,1] # LP_k\n",
    "        X[100+56:200+56,:256,1] = img[:,22:-22,3] # RP_k\n",
    "        X[0_0+56:100+56,:256,2] = img[:,22:-22,2] # RL_k\n",
    "        X[100+56:200+56,:256,2] = img[:,22:-22,1] # LP_k\n",
    "        \n",
    "        X[0_0+56:100+56,256:,0] = img[:,22:-22,0] # LL_k\n",
    "        X[100+56:200+56,256:,0] = img[:,22:-22,2] # RL_k\n",
    "        X[0_0+56:100+56,256:,1] = img[:,22:-22,1] # LP_k\n",
    "        X[100+56:200+56,256:,1] = img[:,22:-22,3] # RP_K\n",
    "        \n",
    "        # EEG\n",
    "        img = eeg\n",
    "        mn = img.flatten().min()\n",
    "        mx = img.flatten().max()\n",
    "        ep = 1e-5\n",
    "        img = 255 * (img - mn) / (mx - mn + ep)\n",
    "        X[200+56:300+56,:256,0] = img[:,22:-22,0] # LL_e\n",
    "        X[300+56:400+56,:256,0] = img[:,22:-22,2] # RL_e\n",
    "        X[200+56:300+56,:256,1] = img[:,22:-22,1] # LP_e\n",
    "        X[300+56:400+56,:256,1] = img[:,22:-22,3] # RP_e\n",
    "        X[200+56:300+56,:256,2] = img[:,22:-22,2] # RL_e\n",
    "        X[300+56:400+56,:256,2] = img[:,22:-22,1] # LP_e\n",
    "        \n",
    "        X[200+56:300+56,256:,0] = img[:,22:-22,0] # LL_e\n",
    "        X[300+56:400+56,256:,0] = img[:,22:-22,2] # RL_e\n",
    "        X[200+56:300+56,256:,1] = img[:,22:-22,1] # LP_e\n",
    "        X[300+56:400+56,256:,1] = img[:,22:-22,3] # RP_e\n",
    "\n",
    "        if self.mode!='test':\n",
    "            y[:] = row[TARGETS]\n",
    "        \n",
    "        return X,y\n",
    "    \n",
    "    def generate_specs(self, index):\n",
    "        X = np.zeros((512,512,3),dtype='float32')\n",
    "        y = np.zeros((6,),dtype='float32')\n",
    "        \n",
    "        row = self.data.iloc[index]\n",
    "        if self.mode=='test': \n",
    "            offset = 0\n",
    "        else:\n",
    "            offset = int(row.offset/2)\n",
    "            \n",
    "        if self.data_type in ['E','ER']:\n",
    "            img = self.eeg_specs[row.eeg_id]\n",
    "        elif self.data_type in ['K','KR']:\n",
    "            spec = self.specs[row.spec_id]\n",
    "            imgs = [spec[offset:offset+300,k*100:(k+1)*100].T for k in [0,2,1,3]] # to match kaggle with eeg\n",
    "            img = np.stack(imgs,axis=-1)\n",
    "            # LOG TRANSFORM SPECTROGRAM\n",
    "            img = np.clip(img,np.exp(-4),np.exp(8))\n",
    "            img = np.log(img)\n",
    "            \n",
    "            # STANDARDIZE PER IMAGE\n",
    "            img = np.nan_to_num(img, nan=0.0)    \n",
    "            \n",
    "        mn = img.flatten().min()\n",
    "        mx = img.flatten().max()\n",
    "        ep = 1e-5\n",
    "        img = 255 * (img - mn) / (mx - mn + ep)\n",
    "        \n",
    "        X[0_0+56:100+56,:256,0] = img[:,22:-22,0]\n",
    "        X[100+56:200+56,:256,0] = img[:,22:-22,2]\n",
    "        X[0_0+56:100+56,:256,1] = img[:,22:-22,1]\n",
    "        X[100+56:200+56,:256,1] = img[:,22:-22,3]\n",
    "        X[0_0+56:100+56,:256,2] = img[:,22:-22,2]\n",
    "        X[100+56:200+56,:256,2] = img[:,22:-22,1]\n",
    "        \n",
    "        X[0_0+56:100+56,256:,0] = img[:,22:-22,0]\n",
    "        X[100+56:200+56,256:,0] = img[:,22:-22,1]\n",
    "        X[0_0+56:100+56,256:,1] = img[:,22:-22,2]\n",
    "        X[100+56:200+56,256:,1] = img[:,22:-22,3]\n",
    "        \n",
    "        X[200+56:300+56,:256,0] = img[:,22:-22,0]\n",
    "        X[300+56:400+56,:256,0] = img[:,22:-22,1]\n",
    "        X[200+56:300+56,:256,1] = img[:,22:-22,2]\n",
    "        X[300+56:400+56,:256,1] = img[:,22:-22,3]\n",
    "        X[200+56:300+56,:256,2] = img[:,22:-22,3]\n",
    "        X[300+56:400+56,:256,2] = img[:,22:-22,2]\n",
    "        \n",
    "        X[200+56:300+56,256:,0] = img[:,22:-22,0]\n",
    "        X[300+56:400+56,256:,0] = img[:,22:-22,2]\n",
    "        X[200+56:300+56,256:,1] = img[:,22:-22,1]\n",
    "        X[300+56:400+56,256:,1] = img[:,22:-22,3]\n",
    "        \n",
    "        if self.mode!='test':\n",
    "            y[:] = row[TARGETS]\n",
    "        \n",
    "        return X,y\n",
    "    \n",
    "    def generate_raw(self,index):\n",
    "        if USE_PROCESSED and self.mode!='test':\n",
    "            X = np.zeros((2_000,8),dtype='float32')\n",
    "            y = np.zeros((6,),dtype='float32')\n",
    "            row = self.data.iloc[index]\n",
    "            X = self.raw_eegs[row.eeg_id]\n",
    "            y[:] = row[TARGETS]\n",
    "            return X,y\n",
    "        \n",
    "        X = np.zeros((10_000,8),dtype='float32')\n",
    "        y = np.zeros((6,),dtype='float32')\n",
    "        \n",
    "        row = self.data.iloc[index]\n",
    "        eeg = self.raw_eegs[row.eeg_id]\n",
    "            \n",
    "        # FEATURE ENGINEER\n",
    "        X[:,0] = eeg[:,FEAT2IDX['Fp1']] - eeg[:,FEAT2IDX['T3']]\n",
    "        X[:,1] = eeg[:,FEAT2IDX['T3']] - eeg[:,FEAT2IDX['O1']]\n",
    "            \n",
    "        X[:,2] = eeg[:,FEAT2IDX['Fp1']] - eeg[:,FEAT2IDX['C3']]\n",
    "        X[:,3] = eeg[:,FEAT2IDX['C3']] - eeg[:,FEAT2IDX['O1']]\n",
    "            \n",
    "        X[:,4] = eeg[:,FEAT2IDX['Fp2']] - eeg[:,FEAT2IDX['C4']]\n",
    "        X[:,5] = eeg[:,FEAT2IDX['C4']] - eeg[:,FEAT2IDX['O2']]\n",
    "            \n",
    "        X[:,6] = eeg[:,FEAT2IDX['Fp2']] - eeg[:,FEAT2IDX['T4']]\n",
    "        X[:,7] = eeg[:,FEAT2IDX['T4']] - eeg[:,FEAT2IDX['O2']]\n",
    "            \n",
    "        # STANDARDIZE\n",
    "        X = np.clip(X,-1024,1024)\n",
    "        X = np.nan_to_num(X, nan=0) / 32.0\n",
    "            \n",
    "        # BUTTER LOW-PASS FILTER\n",
    "        X = self.butter_lowpass_filter(X)\n",
    "        # Downsample\n",
    "        X = X[::5,:]\n",
    "        \n",
    "        if self.mode!='test':\n",
    "            y[:] = row[TARGETS]\n",
    "                \n",
    "        return X,y\n",
    "        \n",
    "    def butter_lowpass_filter(self, data, cutoff_freq=20, sampling_rate=200, order=4):\n",
    "        nyquist = 0.5 * sampling_rate\n",
    "        normal_cutoff = cutoff_freq / nyquist\n",
    "        b, a = butter(order, normal_cutoff, btype='low', analog=False)\n",
    "        filtered_data = lfilter(b, a, data, axis=0)\n",
    "        return filtered_data\n",
    "    \n",
    "    def resize(self, img,size):\n",
    "        composition = albu.Compose([\n",
    "                albu.Resize(size[0],size[1])\n",
    "            ])\n",
    "        return composition(image=img)['image']\n",
    "            \n",
    "    def augmentation(self, img):\n",
    "        composition = albu.Compose([\n",
    "                albu.HorizontalFlip(p=0.4)\n",
    "            ])\n",
    "        return composition(image=img)['image']\n",
    "\n",
    "def spectrogram_from_eeg(parquet_path):\n",
    "    \n",
    "    # LOAD MIDDLE 50 SECONDS OF EEG SERIES\n",
    "    eeg = pd.read_parquet(parquet_path)\n",
    "    middle = (len(eeg)-10_000)//2\n",
    "    eeg = eeg.iloc[middle:middle+10_000]\n",
    "    \n",
    "    # VARIABLE TO HOLD SPECTROGRAM\n",
    "    img = np.zeros((100,300,4),dtype='float32')\n",
    "\n",
    "    for k in range(4):\n",
    "        COLS = FEATS[k]\n",
    "        \n",
    "        for kk in range(4):\n",
    "            # FILL NANS\n",
    "            x1 = eeg[COLS[kk]].values\n",
    "            x2 = eeg[COLS[kk+1]].values\n",
    "            m = np.nanmean(x1)\n",
    "            if np.isnan(x1).mean()<1: x1 = np.nan_to_num(x1,nan=m)\n",
    "            else: x1[:] = 0\n",
    "            m = np.nanmean(x2)\n",
    "            if np.isnan(x2).mean()<1: x2 = np.nan_to_num(x2,nan=m)\n",
    "            else: x2[:] = 0\n",
    "                \n",
    "            # COMPUTE PAIR DIFFERENCES\n",
    "            x = x1 - x2\n",
    "\n",
    "            # RAW SPECTROGRAM\n",
    "            mel_spec = librosa.feature.melspectrogram(y=x, sr=200, hop_length=len(x)//300, \n",
    "                  n_fft=1024, n_mels=100, fmin=0, fmax=20, win_length=128)\n",
    "            \n",
    "            # LOG TRANSFORM\n",
    "            width = (mel_spec.shape[1]//30)*30\n",
    "            mel_spec_db = librosa.power_to_db(mel_spec, ref=np.max).astype(np.float32)[:,:width]\n",
    "            img[:,:,k] += mel_spec_db\n",
    "                \n",
    "        # AVERAGE THE 4 MONTAGE DIFFERENCES\n",
    "        img[:,:,k] /= 4.0\n",
    "          \n",
    "    return img\n",
    "\n",
    "def eeg_from_parquet(parquet_path):\n",
    "\n",
    "    eeg = pd.read_parquet(parquet_path, columns=FEATS2)\n",
    "    rows = len(eeg)\n",
    "    offset = (rows-10_000)//2\n",
    "    eeg = eeg.iloc[offset:offset+10_000]\n",
    "    data = np.zeros((10_000,len(FEATS2)))\n",
    "    for j,col in enumerate(FEATS2):\n",
    "        \n",
    "        # FILL NAN\n",
    "        x = eeg[col].values.astype('float32')\n",
    "        m = np.nanmean(x)\n",
    "        if np.isnan(x).mean()<1: x = np.nan_to_num(x,nan=m)\n",
    "        else: x[:] = 0\n",
    "        \n",
    "        data[:,j] = x\n",
    "\n",
    "    return data"
   ]
  },
  {
   "cell_type": "markdown",
   "id": "b9478d9a",
   "metadata": {
    "papermill": {
     "duration": 0.007491,
     "end_time": "2024-03-13T10:31:00.731348",
     "exception": false,
     "start_time": "2024-03-13T10:31:00.723857",
     "status": "completed"
    },
    "tags": []
   },
   "source": [
    "# DISPLAY DATA GENERATOR\n",
    "Below we display example data generator spectrogram images and raw EEG signals."
   ]
  },
  {
   "cell_type": "code",
   "execution_count": 5,
   "id": "713a9d2f",
   "metadata": {
    "execution": {
     "iopub.execute_input": "2024-03-13T10:31:00.747894Z",
     "iopub.status.busy": "2024-03-13T10:31:00.746989Z",
     "iopub.status.idle": "2024-03-13T10:31:00.755950Z",
     "shell.execute_reply": "2024-03-13T10:31:00.755191Z"
    },
    "papermill": {
     "duration": 0.019028,
     "end_time": "2024-03-13T10:31:00.757771",
     "exception": false,
     "start_time": "2024-03-13T10:31:00.738743",
     "status": "completed"
    },
    "tags": []
   },
   "outputs": [],
   "source": [
    "if not submission: \n",
    "    params = {'specs':spectrograms, 'eeg_specs':all_eegs, 'raw_eegs':all_raw_eegs}\n",
    "    gen = DataGenerator(train, augment=False, **params)\n",
    "    for x,y in gen:\n",
    "        break\n",
    "        \n",
    "    if DATA_TYPE in ['E','K','KE','KR','ER','KER']:\n",
    "        x1 = x[0] if DATA_TYPE in ['KR','ER','KER'] else x\n",
    "        plt.imshow(x1[:,:,0])\n",
    "        plt.title(f'Target = {y.round(1)}',size=12)\n",
    "        plt.yticks([])\n",
    "        plt.ylabel('Frequencies (Hz)',size=12)\n",
    "        plt.xlabel('Time (sec)',size=12)\n",
    "    \n",
    "    if DATA_TYPE in ['R','KR','ER','KER']:\n",
    "        x1 = x[1] if DATA_TYPE in ['KR','ER','KER'] else x\n",
    "        plt.figure(figsize=(20,4))\n",
    "        offset = 0\n",
    "        for j in range(x1.shape[-1]):\n",
    "            if j!=0: offset -= x1[:,j].min()\n",
    "            plt.plot(range(2_000),x1[:,j]+offset,label=f'feature {j+1}')\n",
    "            offset += x1[:,j].max()\n",
    "        plt.legend()\n",
    "        \n",
    "    plt.show()"
   ]
  },
  {
   "cell_type": "markdown",
   "id": "33d10be3",
   "metadata": {
    "papermill": {
     "duration": 0.008235,
     "end_time": "2024-03-13T10:31:00.773482",
     "exception": false,
     "start_time": "2024-03-13T10:31:00.765247",
     "status": "completed"
    },
    "tags": []
   },
   "source": [
    "# TRAINING"
   ]
  },
  {
   "cell_type": "markdown",
   "id": "8a8e6fb9",
   "metadata": {
    "papermill": {
     "duration": 0.007299,
     "end_time": "2024-03-13T10:31:00.788275",
     "exception": false,
     "start_time": "2024-03-13T10:31:00.780976",
     "status": "completed"
    },
    "tags": []
   },
   "source": [
    "## LEARNING RATE"
   ]
  },
  {
   "cell_type": "code",
   "execution_count": 6,
   "id": "13706aee",
   "metadata": {
    "execution": {
     "iopub.execute_input": "2024-03-13T10:31:00.804157Z",
     "iopub.status.busy": "2024-03-13T10:31:00.803901Z",
     "iopub.status.idle": "2024-03-13T10:31:00.809366Z",
     "shell.execute_reply": "2024-03-13T10:31:00.808532Z"
    },
    "papermill": {
     "duration": 0.015736,
     "end_time": "2024-03-13T10:31:00.811361",
     "exception": false,
     "start_time": "2024-03-13T10:31:00.795625",
     "status": "completed"
    },
    "tags": []
   },
   "outputs": [],
   "source": [
    "\n",
    "if not submission:\n",
    "\n",
    "    def lrfn(epoch):\n",
    "        e3 = 1e-3 if DATA_TYPE in ['R'] else 1e-4\n",
    "        return [1e-3,1e-3,e3,1e-4,1e-5][epoch]\n",
    "\n",
    "    LR = tf.keras.callbacks.LearningRateScheduler(lrfn, verbose = True)\n",
    "    \n",
    "    def lrfn2(epoch):\n",
    "        return [1e-5,1e-5,1e-6][epoch]\n",
    "\n",
    "    LR2 = tf.keras.callbacks.LearningRateScheduler(lrfn2, verbose = True)"
   ]
  },
  {
   "cell_type": "markdown",
   "id": "a733670f",
   "metadata": {
    "papermill": {
     "duration": 0.007191,
     "end_time": "2024-03-13T10:31:00.826004",
     "exception": false,
     "start_time": "2024-03-13T10:31:00.818813",
     "status": "completed"
    },
    "tags": []
   },
   "source": [
    "## MODEL AND UTILITY FUNCTIONS"
   ]
  },
  {
   "cell_type": "code",
   "execution_count": 7,
   "id": "e5551a83",
   "metadata": {
    "execution": {
     "iopub.execute_input": "2024-03-13T10:31:00.842275Z",
     "iopub.status.busy": "2024-03-13T10:31:00.841949Z",
     "iopub.status.idle": "2024-03-13T10:31:00.876545Z",
     "shell.execute_reply": "2024-03-13T10:31:00.875820Z"
    },
    "papermill": {
     "duration": 0.044899,
     "end_time": "2024-03-13T10:31:00.878425",
     "exception": false,
     "start_time": "2024-03-13T10:31:00.833526",
     "status": "completed"
    },
    "tags": []
   },
   "outputs": [],
   "source": [
    "from tensorflow.keras.layers import Input, Dense, Multiply, Add, Conv1D, Concatenate, LayerNormalization\n",
    "\n",
    "\n",
    "def build_model():\n",
    "    K.clear_session()\n",
    "    with strategy.scope():\n",
    "        if DATA_TYPE in ['R']:\n",
    "            model = build_wave_model()\n",
    "        elif DATA_TYPE in ['K','E','KE']:\n",
    "            model = build_spec_model()\n",
    "        elif DATA_TYPE in ['KR','ER','KER']:\n",
    "            model = build_hybrid_model()\n",
    "    return model\n",
    "\n",
    "def build_spec_model(hybrid=False):  \n",
    "    inp = tf.keras.layers.Input((512,512,3))\n",
    "    base_model = load_model(f'{LOAD_BACKBONE_FROM}')    \n",
    "    x = base_model(inp)\n",
    "    x = tf.keras.layers.GlobalAveragePooling2D()(x)\n",
    "    if not hybrid:\n",
    "        x = tf.keras.layers.Dense(6,activation='softmax', dtype='float32')(x)\n",
    "    model = tf.keras.Model(inputs=inp, outputs=x)\n",
    "    opt = tf.keras.optimizers.Adam(learning_rate = 1e-3)\n",
    "    loss = tf.keras.losses.KLDivergence()\n",
    "    model.compile(loss=loss, optimizer=opt)  \n",
    "    return model\n",
    "\n",
    "def wave_block(x, filters, kernel_size, n):\n",
    "    dilation_rates = [2**i for i in range(n)]\n",
    "    x = Conv1D(filters = filters,\n",
    "               kernel_size = 1,\n",
    "               padding = 'same')(x)\n",
    "    res_x = x\n",
    "    for dilation_rate in dilation_rates:\n",
    "        tanh_out = Conv1D(filters = filters,\n",
    "                          kernel_size = kernel_size,\n",
    "                          padding = 'same', \n",
    "                          activation = 'tanh', \n",
    "                          dilation_rate = dilation_rate)(x)\n",
    "        sigm_out = Conv1D(filters = filters,\n",
    "                          kernel_size = kernel_size,\n",
    "                          padding = 'same',\n",
    "                          activation = 'sigmoid', \n",
    "                          dilation_rate = dilation_rate)(x)\n",
    "        x = Multiply()([tanh_out, sigm_out])\n",
    "        x = Conv1D(filters = filters,\n",
    "                   kernel_size = 1,\n",
    "                   padding = 'same')(x)\n",
    "        res_x = Add()([res_x, x])\n",
    "    return res_x\n",
    "\n",
    "def build_wave_model(hybrid=False):\n",
    "        \n",
    "    # INPUT \n",
    "    inp = tf.keras.Input(shape=(2_000,8))\n",
    "    \n",
    "    ############\n",
    "    # FEATURE EXTRACTION SUB MODEL\n",
    "    inp2 = tf.keras.Input(shape=(2_000,1))\n",
    "    x = wave_block(inp2, 8, 4, 6)\n",
    "    x = wave_block(x, 16, 4, 6)\n",
    "    x = wave_block(x, 32, 4, 6)\n",
    "    x = wave_block(x, 64, 4, 6)\n",
    "    model2 = tf.keras.Model(inputs=inp2, outputs=x)\n",
    "    ###########\n",
    "    \n",
    "    # LEFT TEMPORAL CHAIN\n",
    "    x1 = model2(inp[:,:,0:1])\n",
    "    x1 = tf.keras.layers.GlobalAveragePooling1D()(x1)\n",
    "    x2 = model2(inp[:,:,1:2])\n",
    "    x2 = tf.keras.layers.GlobalAveragePooling1D()(x2)\n",
    "    z1 = tf.keras.layers.Average()([x1,x2])\n",
    "    \n",
    "    # LEFT PARASAGITTAL CHAIN\n",
    "    x1 = model2(inp[:,:,2:3])\n",
    "    x1 = tf.keras.layers.GlobalAveragePooling1D()(x1)\n",
    "    x2 = model2(inp[:,:,3:4])\n",
    "    x2 = tf.keras.layers.GlobalAveragePooling1D()(x2)\n",
    "    z2 = tf.keras.layers.Average()([x1,x2])\n",
    "    \n",
    "    # RIGHT PARASAGITTAL CHAIN\n",
    "    x1 = model2(inp[:,:,4:5])\n",
    "    x1 = tf.keras.layers.GlobalAveragePooling1D()(x1)\n",
    "    x2 = model2(inp[:,:,5:6])\n",
    "    x2 = tf.keras.layers.GlobalAveragePooling1D()(x2)\n",
    "    z3 = tf.keras.layers.Average()([x1,x2])\n",
    "    \n",
    "    # RIGHT TEMPORAL CHAIN\n",
    "    x1 = model2(inp[:,:,6:7])\n",
    "    x1 = tf.keras.layers.GlobalAveragePooling1D()(x1)\n",
    "    x2 = model2(inp[:,:,7:8])\n",
    "    x2 = tf.keras.layers.GlobalAveragePooling1D()(x2)\n",
    "    z4 = tf.keras.layers.Average()([x1,x2])\n",
    "    \n",
    "    # COMBINE CHAINS\n",
    "    y = tf.keras.layers.Concatenate()([z1,z2,z3,z4])\n",
    "    if not hybrid:\n",
    "        y = tf.keras.layers.Dense(64, activation='relu')(y)\n",
    "        y = tf.keras.layers.Dense(6,activation='softmax', dtype='float32')(y)\n",
    "    \n",
    "    # COMPILE MODEL\n",
    "    model = tf.keras.Model(inputs=inp, outputs=y)\n",
    "    opt = tf.keras.optimizers.Adam(learning_rate = 1e-3)\n",
    "    loss = tf.keras.losses.KLDivergence()\n",
    "    model.compile(loss=loss, optimizer = opt)\n",
    "    \n",
    "    return model\n",
    "\n",
    "def build_hybrid_model():\n",
    "    model_spec = build_spec_model(True)\n",
    "    model_wave = build_wave_model(True)\n",
    "    inputs = [model_spec.input, model_wave.input]\n",
    "    x = [model_spec.output, model_wave.output]\n",
    "    x = tf.keras.layers.Concatenate()(x)\n",
    "    x = tf.keras.layers.Dense(6,activation='softmax', dtype='float32')(x)\n",
    "    \n",
    "    # COMPILE MODEL\n",
    "    model = tf.keras.Model(inputs=inputs, outputs=x)\n",
    "    opt = tf.keras.optimizers.Adam(learning_rate = 1e-3)\n",
    "    loss = tf.keras.losses.KLDivergence()\n",
    "    model.compile(loss=loss, optimizer = opt)\n",
    "    \n",
    "    return model\n",
    "\n",
    "def score(y_true, y_pred):\n",
    "    kl = tf.keras.metrics.KLDivergence()\n",
    "    return kl(y_true, y_pred)\n",
    "\n",
    "def plot_hist(hist):\n",
    "    metrics = ['loss']\n",
    "    for i,metric in enumerate(metrics):\n",
    "        plt.figure(figsize=(10,4))\n",
    "        plt.subplot(1,2,i+1)\n",
    "        plt.plot(hist[metric])\n",
    "        plt.plot(hist[f'val_{metric}'])\n",
    "        plt.title(f'{metric}',size=12)\n",
    "        plt.ylabel(f'{metric}',size=12)\n",
    "        plt.xlabel('epoch',size=12)\n",
    "        plt.legend([\"train\", \"validation\"], loc=\"upper left\")\n",
    "        plt.show()\n",
    "        \n",
    "def dataset(data, mode='train', batch_size=8, data_type=DATA_TYPE, \n",
    "            augment=False, specs=None, eeg_specs=None, raw_eegs=None):\n",
    "    \n",
    "    BATCH_SIZE_PER_REPLICA = batch_size\n",
    "    BATCH_SIZE = BATCH_SIZE_PER_REPLICA * strategy.num_replicas_in_sync\n",
    "    gen = DataGenerator(data,mode=mode, data_type=data_type, augment=augment,\n",
    "                       specs=specs, eeg_specs=eeg_specs, raw_eegs=raw_eegs)\n",
    "    if data_type in ['K','E','KE']: \n",
    "        inp = tf.TensorSpec(shape=(512,512,3), dtype=tf.float32)\n",
    "    elif data_type in ['KR','ER','KER']:\n",
    "        inp = (tf.TensorSpec(shape=(512,512,3), dtype=tf.float32),tf.TensorSpec(shape=(2000,8), dtype=tf.float32))\n",
    "    elif data_type in ['R']:\n",
    "        inp = tf.TensorSpec(shape=(2000,8), dtype=tf.float32)\n",
    "        \n",
    "    output_signature = (inp,tf.TensorSpec(shape=(6,), dtype=tf.float32))\n",
    "    dataset = tf.data.Dataset.from_generator(generator=gen, output_signature=output_signature).batch(\n",
    "        BATCH_SIZE)\n",
    "    return dataset\n",
    "\n",
    "def reset_seed(seed):\n",
    "    np.random.seed(seed)\n",
    "    random.seed(seed)\n",
    "    tf.random.set_seed(seed)"
   ]
  },
  {
   "cell_type": "markdown",
   "id": "5bd2e518",
   "metadata": {
    "papermill": {
     "duration": 0.007267,
     "end_time": "2024-03-13T10:31:00.893159",
     "exception": false,
     "start_time": "2024-03-13T10:31:00.885892",
     "status": "completed"
    },
    "tags": []
   },
   "source": [
    "## TRANSFER LEARNING"
   ]
  },
  {
   "cell_type": "code",
   "execution_count": 8,
   "id": "86764eee",
   "metadata": {
    "execution": {
     "iopub.execute_input": "2024-03-13T10:31:00.909264Z",
     "iopub.status.busy": "2024-03-13T10:31:00.908985Z",
     "iopub.status.idle": "2024-03-13T10:31:00.920986Z",
     "shell.execute_reply": "2024-03-13T10:31:00.920331Z"
    },
    "papermill": {
     "duration": 0.022284,
     "end_time": "2024-03-13T10:31:00.922850",
     "exception": false,
     "start_time": "2024-03-13T10:31:00.900566",
     "status": "completed"
    },
    "tags": []
   },
   "outputs": [],
   "source": [
    "from sklearn.model_selection import KFold, GroupKFold\n",
    "import tensorflow.keras.backend as K, gc\n",
    "\n",
    "if not submission:\n",
    "    reset_seed(42)\n",
    "    all_oof = []\n",
    "    all_true = []\n",
    "    losses = []\n",
    "    val_losses = []\n",
    "    total_hist = {}\n",
    "\n",
    "    gkf = GroupKFold(n_splits=5)\n",
    "    for i, (train_index, valid_index) in enumerate(gkf.split(train, train.target, train.patient_id)):   \n",
    "        print('#'*25)\n",
    "        print(f'### Fold {i+1}')\n",
    "        \n",
    "        EPOCHS = 5\n",
    "        params = {'specs':spectrograms, 'eeg_specs':all_eegs, 'raw_eegs':all_raw_eegs}\n",
    "        data, val = train.iloc[train_index],train.iloc[valid_index]\n",
    "        train_dataset = dataset(data, **params)\n",
    "        val_dataset = dataset(val,mode='valid', **params)\n",
    "        data = data[data['kl']<5.5]\n",
    "        train_dataset2 = dataset(data, **params)\n",
    "        \n",
    "        print(f'### train size {len(train_index)}, valid size {len(valid_index)}')\n",
    "        print('#'*25)\n",
    "        model = build_model()\n",
    "        hist = model.fit(train_dataset, validation_data = val_dataset, \n",
    "                         epochs=EPOCHS, callbacks=[LR])\n",
    "        print(f'### seconds stage train size {len(data)}, valid size {len(val)}')\n",
    "        print('#'*25)\n",
    "        hist2 = model.fit(train_dataset2, validation_data = val_dataset, \n",
    "                         epochs=3, callbacks=[LR2])\n",
    "        losses.append(hist.history['loss']+hist2.history['loss'])\n",
    "        val_losses.append(hist.history['val_loss']+hist2.history['val_loss'])\n",
    "        with strategy.scope():\n",
    "            model.save_weights(f'model_{DATA_TYPE}_{VER}_{i}.weights.h5')\n",
    "        oof = model.predict(val_dataset, verbose=1)\n",
    "        all_oof.append(oof)\n",
    "        all_true.append(train.iloc[valid_index][TARGETS].values)    \n",
    "        del model, oof\n",
    "        gc.collect()\n",
    "        \n",
    "    total_hist['loss'] = np.mean(losses,axis=0)\n",
    "    total_hist['val_loss'] = np.mean(val_losses,axis=0)\n",
    "    all_oof = np.concatenate(all_oof)\n",
    "    all_true = np.concatenate(all_true)\n",
    "    plot_hist(total_hist)\n",
    "    print('#'*25)\n",
    "    print(f'CV KL SCORE: {score(all_true,all_oof)}')"
   ]
  },
  {
   "cell_type": "markdown",
   "id": "d92e1ed6",
   "metadata": {
    "papermill": {
     "duration": 0.00742,
     "end_time": "2024-03-13T10:31:00.937819",
     "exception": false,
     "start_time": "2024-03-13T10:31:00.930399",
     "status": "completed"
    },
    "tags": []
   },
   "source": [
    "# Infer Test and Create Submission CSV\n",
    "Infer the test data and create a `submission.csv` file."
   ]
  },
  {
   "cell_type": "code",
   "execution_count": 9,
   "id": "b9dbb31e",
   "metadata": {
    "execution": {
     "iopub.execute_input": "2024-03-13T10:31:00.954154Z",
     "iopub.status.busy": "2024-03-13T10:31:00.953539Z",
     "iopub.status.idle": "2024-03-13T10:31:00.970654Z",
     "shell.execute_reply": "2024-03-13T10:31:00.969700Z"
    },
    "papermill": {
     "duration": 0.027214,
     "end_time": "2024-03-13T10:31:00.972512",
     "exception": false,
     "start_time": "2024-03-13T10:31:00.945298",
     "status": "completed"
    },
    "tags": []
   },
   "outputs": [
    {
     "name": "stdout",
     "output_type": "stream",
     "text": [
      "Test shape (1, 3)\n"
     ]
    }
   ],
   "source": [
    "if submission:\n",
    "    test = pd.read_csv('/kaggle/input/hms-harmful-brain-activity-classification/test.csv')\n",
    "    print('Test shape',test.shape)\n",
    "    test.head()"
   ]
  },
  {
   "cell_type": "code",
   "execution_count": 10,
   "id": "ff43edf8",
   "metadata": {
    "execution": {
     "iopub.execute_input": "2024-03-13T10:31:00.988659Z",
     "iopub.status.busy": "2024-03-13T10:31:00.988178Z",
     "iopub.status.idle": "2024-03-13T10:31:01.173789Z",
     "shell.execute_reply": "2024-03-13T10:31:01.172817Z"
    },
    "papermill": {
     "duration": 0.195877,
     "end_time": "2024-03-13T10:31:01.175836",
     "exception": false,
     "start_time": "2024-03-13T10:31:00.979959",
     "status": "completed"
    },
    "tags": []
   },
   "outputs": [
    {
     "name": "stdout",
     "output_type": "stream",
     "text": [
      "There are 1 test spectrogram parquets\n",
      "0 , "
     ]
    }
   ],
   "source": [
    "# READ ALL SPECTROGRAMS\n",
    "if submission:\n",
    "    PATH2 = '/kaggle/input/hms-harmful-brain-activity-classification/test_spectrograms'\n",
    "    files2 = os.listdir(PATH2)\n",
    "    print(f'There are {len(files2)} test spectrogram parquets')\n",
    "    \n",
    "    spectrograms2 = {}\n",
    "    for i,f in enumerate(files2):\n",
    "        if i%100==0: print(i,', ',end='')\n",
    "        tmp = pd.read_parquet(f'{PATH2}/{f}')\n",
    "        name = int(f.split('.')[0])\n",
    "        spectrograms2[name] = tmp.iloc[:,1:].values\n",
    "    \n",
    "    # RENAME FOR DATA GENERATOR\n",
    "    test = test.rename({'spectrogram_id':'spec_id'},axis=1)"
   ]
  },
  {
   "cell_type": "code",
   "execution_count": 11,
   "id": "abc12de2",
   "metadata": {
    "execution": {
     "iopub.execute_input": "2024-03-13T10:31:01.192791Z",
     "iopub.status.busy": "2024-03-13T10:31:01.192504Z",
     "iopub.status.idle": "2024-03-13T10:31:10.776476Z",
     "shell.execute_reply": "2024-03-13T10:31:10.775132Z"
    },
    "papermill": {
     "duration": 9.596786,
     "end_time": "2024-03-13T10:31:10.780460",
     "exception": false,
     "start_time": "2024-03-13T10:31:01.183674",
     "status": "completed"
    },
    "tags": []
   },
   "outputs": [
    {
     "name": "stdout",
     "output_type": "stream",
     "text": [
      "Converting Test EEG to Spectrograms...\n",
      "\n"
     ]
    }
   ],
   "source": [
    "# READ ALL EEG SPECTROGRAMS\n",
    "if submission:\n",
    "    PATH2 = '/kaggle/input/hms-harmful-brain-activity-classification/test_eegs'\n",
    "    DISPLAY = 0\n",
    "    EEG_IDS2 = test.eeg_id.unique()\n",
    "    all_eegs2 = {}\n",
    "\n",
    "    print('Converting Test EEG to Spectrograms...'); print()\n",
    "    for i,eeg_id in enumerate(EEG_IDS2):\n",
    "        \n",
    "        # CREATE SPECTROGRAM FROM EEG PARQUET\n",
    "        img = spectrogram_from_eeg(f'{PATH2}/{eeg_id}.parquet')\n",
    "        all_eegs2[eeg_id] = img"
   ]
  },
  {
   "cell_type": "code",
   "execution_count": 12,
   "id": "b38af70c",
   "metadata": {
    "execution": {
     "iopub.execute_input": "2024-03-13T10:31:10.817557Z",
     "iopub.status.busy": "2024-03-13T10:31:10.816470Z",
     "iopub.status.idle": "2024-03-13T10:31:10.844253Z",
     "shell.execute_reply": "2024-03-13T10:31:10.843214Z"
    },
    "papermill": {
     "duration": 0.048758,
     "end_time": "2024-03-13T10:31:10.847229",
     "exception": false,
     "start_time": "2024-03-13T10:31:10.798471",
     "status": "completed"
    },
    "tags": []
   },
   "outputs": [
    {
     "name": "stdout",
     "output_type": "stream",
     "text": [
      "Processing Test EEG parquets...\n",
      "\n"
     ]
    }
   ],
   "source": [
    "# READ ALL RAW EEG SIGNALS\n",
    "if submission :\n",
    "    all_raw_eegs2 = {}\n",
    "    EEG_IDS2 = test.eeg_id.unique()\n",
    "    PATH2 = '/kaggle/input/hms-harmful-brain-activity-classification/test_eegs'\n",
    "\n",
    "    print('Processing Test EEG parquets...'); print()\n",
    "    for i,eeg_id in enumerate(EEG_IDS2):\n",
    "        \n",
    "        # SAVE EEG TO PYTHON DICTIONARY OF NUMPY ARRAYS\n",
    "        data = eeg_from_parquet(f'{PATH2}/{eeg_id}.parquet')\n",
    "        all_raw_eegs2[eeg_id] = data"
   ]
  },
  {
   "cell_type": "code",
   "execution_count": 13,
   "id": "084db180",
   "metadata": {
    "execution": {
     "iopub.execute_input": "2024-03-13T10:31:10.882111Z",
     "iopub.status.busy": "2024-03-13T10:31:10.881643Z",
     "iopub.status.idle": "2024-03-13T10:31:10.891064Z",
     "shell.execute_reply": "2024-03-13T10:31:10.890198Z"
    },
    "papermill": {
     "duration": 0.030101,
     "end_time": "2024-03-13T10:31:10.894102",
     "exception": false,
     "start_time": "2024-03-13T10:31:10.864001",
     "status": "completed"
    },
    "tags": []
   },
   "outputs": [],
   "source": [
    "# Submission ON TEST without ensemble\n",
    "if submission and not ENSEMBLE:\n",
    "    preds = []\n",
    "    \n",
    "    test_dataset = dataset(test,mode='test',specs=spectrograms2, eeg_specs=all_eegs2, raw_eegs=all_raw_eegs2)\n",
    "    model = build_model()\n",
    "\n",
    "    for i in range(5):\n",
    "        print(f'Fold {i+1}')\n",
    "        model.load_weights(f'{LOAD_MODELS_FROM}/model_{DATA_TYPE}_{VER}_{i}.weights.h5')\n",
    "        pred = model.predict(test_dataset, verbose=1)\n",
    "        preds.append(pred)\n",
    "        \n",
    "    pred = np.mean(preds,axis=0)\n",
    "    print('Test preds shape',pred.shape)"
   ]
  },
  {
   "cell_type": "code",
   "execution_count": 14,
   "id": "e3595904",
   "metadata": {
    "execution": {
     "iopub.execute_input": "2024-03-13T10:31:10.917020Z",
     "iopub.status.busy": "2024-03-13T10:31:10.916786Z",
     "iopub.status.idle": "2024-03-13T10:33:21.959073Z",
     "shell.execute_reply": "2024-03-13T10:33:21.958108Z"
    },
    "papermill": {
     "duration": 131.052884,
     "end_time": "2024-03-13T10:33:21.961130",
     "exception": false,
     "start_time": "2024-03-13T10:31:10.908246",
     "status": "completed"
    },
    "tags": []
   },
   "outputs": [
    {
     "name": "stdout",
     "output_type": "stream",
     "text": [
      "Fold 1\n",
      "1/1 [==============================] - 4s 4s/step\n",
      "1/1 [==============================] - 0s 98ms/step\n",
      "1/1 [==============================] - 11s 11s/step\n",
      "1/1 [==============================] - 0s 97ms/step\n",
      "1/1 [==============================] - 14s 14s/step\n",
      "1/1 [==============================] - 0s 122ms/step\n",
      "1/1 [==============================] - 0s 140ms/step\n",
      "Fold 2\n",
      "1/1 [==============================] - 0s 91ms/step\n",
      "1/1 [==============================] - 0s 88ms/step\n",
      "1/1 [==============================] - 0s 106ms/step\n",
      "1/1 [==============================] - 0s 93ms/step\n",
      "1/1 [==============================] - 0s 125ms/step\n",
      "1/1 [==============================] - 0s 126ms/step\n",
      "1/1 [==============================] - 0s 127ms/step\n",
      "Fold 3\n",
      "1/1 [==============================] - 0s 89ms/step\n",
      "1/1 [==============================] - 0s 102ms/step\n",
      "1/1 [==============================] - 0s 116ms/step\n",
      "1/1 [==============================] - 0s 89ms/step\n",
      "1/1 [==============================] - 0s 110ms/step\n",
      "1/1 [==============================] - 0s 128ms/step\n",
      "1/1 [==============================] - 0s 126ms/step\n",
      "Fold 4\n",
      "1/1 [==============================] - 0s 86ms/step\n",
      "1/1 [==============================] - 0s 86ms/step\n",
      "1/1 [==============================] - 0s 100ms/step\n",
      "1/1 [==============================] - 0s 88ms/step\n",
      "1/1 [==============================] - 0s 126ms/step\n",
      "1/1 [==============================] - 0s 126ms/step\n",
      "1/1 [==============================] - 0s 125ms/step\n",
      "Fold 5\n",
      "1/1 [==============================] - 0s 86ms/step\n",
      "1/1 [==============================] - 0s 86ms/step\n",
      "1/1 [==============================] - 0s 106ms/step\n",
      "1/1 [==============================] - 0s 92ms/step\n",
      "1/1 [==============================] - 0s 105ms/step\n",
      "1/1 [==============================] - 0s 133ms/step\n",
      "1/1 [==============================] - 0s 124ms/step\n",
      "Test preds shape (1, 6)\n"
     ]
    }
   ],
   "source": [
    "# Submission ON TEST with ensemble\n",
    "if submission and ENSEMBLE:\n",
    "    preds = []\n",
    "    params = {'specs':spectrograms2, 'eeg_specs':all_eegs2, 'raw_eegs':all_raw_eegs2}\n",
    "    test_dataset_K = dataset(test, data_type='K', mode='test', **params)\n",
    "    test_dataset_E = dataset(test, data_type='E', mode='test', **params)\n",
    "    test_dataset_R = dataset(test, data_type='R', mode='test', **params)\n",
    "    test_dataset_KE = dataset(test, data_type='KE', mode='test', **params)\n",
    "    test_dataset_KR = dataset(test, data_type='KR', mode='test', **params)\n",
    "    test_dataset_ER = dataset(test, data_type='ER', mode='test', **params)\n",
    "    test_dataset_KER = dataset(test, data_type='KER', mode='test', **params)\n",
    "\n",
    "    # LB SCORE WEIGHTS FOR EACH MODEL\n",
    "    lbs = np.array(LBs)\n",
    "    weights = lbs/lbs.sum()\n",
    "    model_spec = build_spec_model()\n",
    "    model_wave = build_wave_model()\n",
    "    model_hybrid = build_hybrid_model()\n",
    "    \n",
    "    for i in range(5):\n",
    "        print(f'Fold {i+1}')\n",
    "        \n",
    "        model_spec.load_weights(f'{LOAD_MODELS_FROM}/model_K_{VER_K}_{i}.weights.h5')\n",
    "        pred_K = model_spec.predict(test_dataset_K, verbose=1)\n",
    "        \n",
    "        model_spec.load_weights(f'{LOAD_MODELS_FROM}/model_E_{VER_E}_{i}.weights.h5')\n",
    "        pred_E = model_spec.predict(test_dataset_E, verbose=1)\n",
    "\n",
    "        model_wave.load_weights(f'{LOAD_MODELS_FROM}/model_R_{VER_R}_{i}.weights.h5')\n",
    "        pred_R = model_wave.predict(test_dataset_R, verbose=1)\n",
    "        \n",
    "        model_spec.load_weights(f'{LOAD_MODELS_FROM}/model_KE_{VER_KE}_{i}.weights.h5')\n",
    "        pred_KE = model_spec.predict(test_dataset_KE, verbose=1)\n",
    "        \n",
    "        model_hybrid.load_weights(f'{LOAD_MODELS_FROM}/model_KR_{VER_KR}_{i}.weights.h5')\n",
    "        pred_KR = model_hybrid.predict(test_dataset_KR, verbose=1)\n",
    "        \n",
    "        model_hybrid.load_weights(f'{LOAD_MODELS_FROM}/model_ER_{VER_ER}_{i}.weights.h5')\n",
    "        pred_ER = model_hybrid.predict(test_dataset_ER, verbose=1)\n",
    "        \n",
    "        model_hybrid.load_weights(f'{LOAD_MODELS_FROM}/model_KER_{VER_KER}_{i}.weights.h5')\n",
    "        pred_KER = model_hybrid.predict(test_dataset_KER, verbose=1)\n",
    "        \n",
    "        pred = np.array([pred_K,pred_E,pred_R,pred_KE,pred_KR,pred_ER,pred_KER])\n",
    "        pred = np.average(pred,axis=0,weights=weights)\n",
    "        preds.append(pred)\n",
    "        \n",
    "    pred = np.mean(preds,axis=0)\n",
    "    print('Test preds shape',pred.shape)"
   ]
  },
  {
   "cell_type": "code",
   "execution_count": 15,
   "id": "de39f2c6",
   "metadata": {
    "execution": {
     "iopub.execute_input": "2024-03-13T10:33:21.990570Z",
     "iopub.status.busy": "2024-03-13T10:33:21.990259Z",
     "iopub.status.idle": "2024-03-13T10:33:22.004620Z",
     "shell.execute_reply": "2024-03-13T10:33:22.003612Z"
    },
    "papermill": {
     "duration": 0.030841,
     "end_time": "2024-03-13T10:33:22.006596",
     "exception": false,
     "start_time": "2024-03-13T10:33:21.975755",
     "status": "completed"
    },
    "tags": []
   },
   "outputs": [
    {
     "name": "stdout",
     "output_type": "stream",
     "text": [
      "Submissionn shape (1, 7)\n",
      "\n",
      "       eeg_id  seizure_vote  lpd_vote  gpd_vote  lrda_vote  grda_vote  other_vote\n",
      "0  3911565283        0.0534  0.055519   0.00093   0.405246   0.031542    0.453363\n"
     ]
    }
   ],
   "source": [
    "if submission:\n",
    "    sub = pd.DataFrame({'eeg_id':test.eeg_id.values})\n",
    "    sub[TARGETS] = pred\n",
    "    sub.to_csv('submission.csv',index=False)\n",
    "    print('Submissionn shape',sub.shape)\n",
    "    print()\n",
    "    print(sub.head().to_string())"
   ]
  },
  {
   "cell_type": "code",
   "execution_count": 16,
   "id": "84beea94",
   "metadata": {
    "execution": {
     "iopub.execute_input": "2024-03-13T10:33:22.035009Z",
     "iopub.status.busy": "2024-03-13T10:33:22.034710Z",
     "iopub.status.idle": "2024-03-13T10:33:22.041176Z",
     "shell.execute_reply": "2024-03-13T10:33:22.040289Z"
    },
    "papermill": {
     "duration": 0.022935,
     "end_time": "2024-03-13T10:33:22.043102",
     "exception": false,
     "start_time": "2024-03-13T10:33:22.020167",
     "status": "completed"
    },
    "tags": []
   },
   "outputs": [
    {
     "name": "stdout",
     "output_type": "stream",
     "text": [
      "0    1.0\n"
     ]
    }
   ],
   "source": [
    "# SANITY CHECK TO CONFIRM PREDICTIONS SUM TO ONE\n",
    "if submission:\n",
    "    print(sub.iloc[:,-6:].sum(axis=1).to_string())"
   ]
  }
 ],
 "metadata": {
  "kaggle": {
   "accelerator": "nvidiaTeslaT4",
   "dataSources": [
    {
     "databundleVersionId": 7469972,
     "sourceId": 59093,
     "sourceType": "competition"
    },
    {
     "datasetId": 4297782,
     "sourceId": 7392775,
     "sourceType": "datasetVersion"
    },
    {
     "datasetId": 4407194,
     "sourceId": 7570342,
     "sourceType": "datasetVersion"
    },
    {
     "datasetId": 4382744,
     "sourceId": 7752462,
     "sourceType": "datasetVersion"
    },
    {
     "datasetId": 4550181,
     "sourceId": 7776446,
     "sourceType": "datasetVersion"
    },
    {
     "datasetId": 4417235,
     "sourceId": 7788155,
     "sourceType": "datasetVersion"
    }
   ],
   "dockerImageVersionId": 30636,
   "isGpuEnabled": true,
   "isInternetEnabled": false,
   "language": "python",
   "sourceType": "notebook"
  },
  "kernelspec": {
   "display_name": "Python 3",
   "language": "python",
   "name": "python3"
  },
  "language_info": {
   "codemirror_mode": {
    "name": "ipython",
    "version": 3
   },
   "file_extension": ".py",
   "mimetype": "text/x-python",
   "name": "python",
   "nbconvert_exporter": "python",
   "pygments_lexer": "ipython3",
   "version": "3.10.12"
  },
  "papermill": {
   "default_parameters": {},
   "duration": 163.621389,
   "end_time": "2024-03-13T10:33:25.845309",
   "environment_variables": {},
   "exception": null,
   "input_path": "__notebook__.ipynb",
   "output_path": "__notebook__.ipynb",
   "parameters": {},
   "start_time": "2024-03-13T10:30:42.223920",
   "version": "2.4.0"
  }
 },
 "nbformat": 4,
 "nbformat_minor": 5
}
