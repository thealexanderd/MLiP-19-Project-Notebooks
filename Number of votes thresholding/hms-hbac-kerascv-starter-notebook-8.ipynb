{
 "cells": [
  {
   "cell_type": "markdown",
   "id": "394451ce",
   "metadata": {
    "execution": {
     "iopub.execute_input": "2024-01-10T05:24:31.308329Z",
     "iopub.status.busy": "2024-01-10T05:24:31.307595Z",
     "iopub.status.idle": "2024-01-10T05:24:31.313088Z",
     "shell.execute_reply": "2024-01-10T05:24:31.312113Z",
     "shell.execute_reply.started": "2024-01-10T05:24:31.308287Z"
    },
    "papermill": {
     "duration": 0.017872,
     "end_time": "2024-03-09T19:34:48.803188",
     "exception": false,
     "start_time": "2024-03-09T19:34:48.785316",
     "status": "completed"
    },
    "tags": []
   },
   "source": [
    "<center><img src=\"https://keras.io/img/logo-small.png\" alt=\"Keras logo\" width=\"100\"><br/>\n",
    "This starter notebook is provided by the Keras team.</center>"
   ]
  },
  {
   "cell_type": "markdown",
   "id": "31da6939",
   "metadata": {
    "papermill": {
     "duration": 0.016965,
     "end_time": "2024-03-09T19:34:48.837390",
     "exception": false,
     "start_time": "2024-03-09T19:34:48.820425",
     "status": "completed"
    },
    "tags": []
   },
   "source": [
    "# HMS - Harmful Brain Activity Classification with [KerasCV](https://github.com/keras-team/keras-cv) and [Keras](https://github.com/keras-team/keras)\n",
    "\n",
    "> The objective of this competition is to classify seizures and other patterns of harmful brain activity in critically ill patients\n",
    "\n",
    "This notebook guides you through the process of training and inferring a Deep Learning model, specifically EfficientNetV2, using KerasCV on the competition dataset. Specificaclly, this notebook uses spectrogram of the eeg data to classify the patterns.\n",
    "\n",
    "Fun fact: This notebook is backend-agnostic, supporting TensorFlow, PyTorch, and JAX. Utilizing KerasCV and Keras allows us to choose our preferred backend. Explore more details on [Keras](https://keras.io/keras_core/announcement/).\n",
    "\n",
    "In this notebook, you will learn:\n",
    "\n",
    "* Loading the data efficiently using [`tf.data`](https://www.tensorflow.org/guide/data).\n",
    "* Creating the model using KerasCV presets.\n",
    "* Training the model.\n",
    "* Inference and Submission on test data.\n",
    "\n",
    "**Note**: For a more in-depth understanding of KerasCV, refer to the [KerasCV guides](https://keras.io/guides/keras_cv/)."
   ]
  },
  {
   "cell_type": "markdown",
   "id": "b9fc53cc",
   "metadata": {
    "papermill": {
     "duration": 0.017852,
     "end_time": "2024-03-09T19:34:48.872232",
     "exception": false,
     "start_time": "2024-03-09T19:34:48.854380",
     "status": "completed"
    },
    "tags": []
   },
   "source": [
    "# 🛠 | Install Libraries  \n",
    "\n",
    "Since internet access is **disabled** during inference, we cannot install libraries in the usual `!pip install <lib_name>` manner. Instead, we need to install libraries from local files. In the following cell, we will install libraries from our local files. The installation code stays very similar - we just use the `filepath` instead of the `filename` of the library. So now the code is `!pip install <local_filepath>`. \n",
    "\n",
    "> The `filepath` of these local libraries look quite complicated, but don't be intimidated! Also `--no-deps` argument ensures that we are not installing any additional libraries."
   ]
  },
  {
   "cell_type": "code",
   "execution_count": 1,
   "id": "ab9c92c3",
   "metadata": {
    "execution": {
     "iopub.execute_input": "2024-03-09T19:34:48.908764Z",
     "iopub.status.busy": "2024-03-09T19:34:48.908373Z",
     "iopub.status.idle": "2024-03-09T19:36:34.731243Z",
     "shell.execute_reply": "2024-03-09T19:36:34.729998Z"
    },
    "papermill": {
     "duration": 105.844367,
     "end_time": "2024-03-09T19:36:34.733797",
     "exception": false,
     "start_time": "2024-03-09T19:34:48.889430",
     "status": "completed"
    },
    "tags": []
   },
   "outputs": [],
   "source": [
    "!pip install -q /kaggle/input/kerasv3-lib-ds/keras_cv-0.8.2-py3-none-any.whl --no-deps\n",
    "!pip install -q /kaggle/input/kerasv3-lib-ds/tensorflow-2.15.0.post1-cp310-cp310-manylinux_2_17_x86_64.manylinux2014_x86_64.whl --no-deps\n",
    "!pip install -q /kaggle/input/kerasv3-lib-ds/keras-3.0.4-py3-none-any.whl --no-deps"
   ]
  },
  {
   "cell_type": "markdown",
   "id": "3dd2bc45",
   "metadata": {
    "papermill": {
     "duration": 0.017162,
     "end_time": "2024-03-09T19:36:34.768896",
     "exception": false,
     "start_time": "2024-03-09T19:36:34.751734",
     "status": "completed"
    },
    "tags": []
   },
   "source": [
    "# 📚 | Import Libraries "
   ]
  },
  {
   "cell_type": "code",
   "execution_count": 2,
   "id": "fb6ee7fc",
   "metadata": {
    "_kg_hide-output": true,
    "execution": {
     "iopub.execute_input": "2024-03-09T19:36:34.806061Z",
     "iopub.status.busy": "2024-03-09T19:36:34.805002Z",
     "iopub.status.idle": "2024-03-09T19:36:46.354745Z",
     "shell.execute_reply": "2024-03-09T19:36:46.354007Z"
    },
    "papermill": {
     "duration": 11.570772,
     "end_time": "2024-03-09T19:36:46.357059",
     "exception": false,
     "start_time": "2024-03-09T19:36:34.786287",
     "status": "completed"
    },
    "tags": []
   },
   "outputs": [
    {
     "name": "stderr",
     "output_type": "stream",
     "text": [
      "2024-03-09 19:36:39.104896: E external/local_xla/xla/stream_executor/cuda/cuda_dnn.cc:9261] Unable to register cuDNN factory: Attempting to register factory for plugin cuDNN when one has already been registered\n",
      "2024-03-09 19:36:39.104958: E external/local_xla/xla/stream_executor/cuda/cuda_fft.cc:607] Unable to register cuFFT factory: Attempting to register factory for plugin cuFFT when one has already been registered\n",
      "2024-03-09 19:36:39.106662: E external/local_xla/xla/stream_executor/cuda/cuda_blas.cc:1515] Unable to register cuBLAS factory: Attempting to register factory for plugin cuBLAS when one has already been registered\n"
     ]
    }
   ],
   "source": [
    "import os\n",
    "os.environ[\"KERAS_BACKEND\"] = \"jax\" # you can also use tensorflow or torch\n",
    "\n",
    "import keras_cv\n",
    "import keras\n",
    "from keras import ops\n",
    "import tensorflow as tf\n",
    "\n",
    "import cv2\n",
    "import pandas as pd\n",
    "import numpy as np\n",
    "from glob import glob\n",
    "from tqdm.notebook import tqdm\n",
    "import joblib\n",
    "import torch\n",
    "\n",
    "import matplotlib.pyplot as plt "
   ]
  },
  {
   "cell_type": "markdown",
   "id": "d8b2aa51",
   "metadata": {
    "papermill": {
     "duration": 0.017291,
     "end_time": "2024-03-09T19:36:46.392444",
     "exception": false,
     "start_time": "2024-03-09T19:36:46.375153",
     "status": "completed"
    },
    "tags": []
   },
   "source": [
    "## Library Versions"
   ]
  },
  {
   "cell_type": "code",
   "execution_count": 3,
   "id": "0eab444f",
   "metadata": {
    "execution": {
     "iopub.execute_input": "2024-03-09T19:36:46.429086Z",
     "iopub.status.busy": "2024-03-09T19:36:46.428172Z",
     "iopub.status.idle": "2024-03-09T19:36:46.433489Z",
     "shell.execute_reply": "2024-03-09T19:36:46.432604Z"
    },
    "papermill": {
     "duration": 0.025822,
     "end_time": "2024-03-09T19:36:46.435557",
     "exception": false,
     "start_time": "2024-03-09T19:36:46.409735",
     "status": "completed"
    },
    "tags": []
   },
   "outputs": [
    {
     "name": "stdout",
     "output_type": "stream",
     "text": [
      "TensorFlow: 2.15.0\n",
      "Keras: 3.0.4\n",
      "KerasCV: 0.8.2\n"
     ]
    }
   ],
   "source": [
    "print(\"TensorFlow:\", tf.__version__)\n",
    "print(\"Keras:\", keras.__version__)\n",
    "print(\"KerasCV:\", keras_cv.__version__)"
   ]
  },
  {
   "cell_type": "markdown",
   "id": "51591327",
   "metadata": {
    "papermill": {
     "duration": 0.017139,
     "end_time": "2024-03-09T19:36:46.470143",
     "exception": false,
     "start_time": "2024-03-09T19:36:46.453004",
     "status": "completed"
    },
    "tags": []
   },
   "source": [
    "# ⚙️ | Configuration"
   ]
  },
  {
   "cell_type": "code",
   "execution_count": 4,
   "id": "e0155966",
   "metadata": {
    "execution": {
     "iopub.execute_input": "2024-03-09T19:36:46.506038Z",
     "iopub.status.busy": "2024-03-09T19:36:46.505773Z",
     "iopub.status.idle": "2024-03-09T19:36:46.511810Z",
     "shell.execute_reply": "2024-03-09T19:36:46.511008Z"
    },
    "papermill": {
     "duration": 0.026604,
     "end_time": "2024-03-09T19:36:46.513956",
     "exception": false,
     "start_time": "2024-03-09T19:36:46.487352",
     "status": "completed"
    },
    "tags": []
   },
   "outputs": [],
   "source": [
    "class CFG:\n",
    "    verbose = 1  # Verbosity\n",
    "    seed = 42  # Random seed\n",
    "    preset = \"efficientnetv2_b2_imagenet\"  # Name of pretrained classifier\n",
    "    image_size = [400, 300]  # Input image size\n",
    "    epochs = 13 # Training epochs\n",
    "    batch_size = 64  # Batch size\n",
    "    lr_mode = \"cos\" # LR scheduler mode from one of \"cos\", \"step\", \"exp\"\n",
    "    drop_remainder = True  # Drop incomplete batches\n",
    "    num_classes = 6 # Number of classes in the dataset\n",
    "    fold = 0 # Which fold to set as validation data\n",
    "    class_names = ['Seizure', 'LPD', 'GPD', 'LRDA','GRDA', 'Other']\n",
    "    label2name = dict(enumerate(class_names))\n",
    "    name2label = {v:k for k, v in label2name.items()}"
   ]
  },
  {
   "cell_type": "markdown",
   "id": "90be6ea5",
   "metadata": {
    "papermill": {
     "duration": 0.016897,
     "end_time": "2024-03-09T19:36:46.549364",
     "exception": false,
     "start_time": "2024-03-09T19:36:46.532467",
     "status": "completed"
    },
    "tags": []
   },
   "source": [
    "# ♻️ | Reproducibility \n",
    "Sets value for random seed to produce similar result in each run."
   ]
  },
  {
   "cell_type": "code",
   "execution_count": 5,
   "id": "18a8174d",
   "metadata": {
    "execution": {
     "iopub.execute_input": "2024-03-09T19:36:46.584761Z",
     "iopub.status.busy": "2024-03-09T19:36:46.584466Z",
     "iopub.status.idle": "2024-03-09T19:36:46.588783Z",
     "shell.execute_reply": "2024-03-09T19:36:46.587967Z"
    },
    "papermill": {
     "duration": 0.024178,
     "end_time": "2024-03-09T19:36:46.590620",
     "exception": false,
     "start_time": "2024-03-09T19:36:46.566442",
     "status": "completed"
    },
    "tags": []
   },
   "outputs": [],
   "source": [
    "keras.utils.set_random_seed(CFG.seed)"
   ]
  },
  {
   "cell_type": "markdown",
   "id": "c372ce54",
   "metadata": {
    "papermill": {
     "duration": 0.017156,
     "end_time": "2024-03-09T19:36:46.625050",
     "exception": false,
     "start_time": "2024-03-09T19:36:46.607894",
     "status": "completed"
    },
    "tags": []
   },
   "source": [
    "# 📁 | Dataset Path "
   ]
  },
  {
   "cell_type": "code",
   "execution_count": 6,
   "id": "b0345c35",
   "metadata": {
    "execution": {
     "iopub.execute_input": "2024-03-09T19:36:46.660881Z",
     "iopub.status.busy": "2024-03-09T19:36:46.660287Z",
     "iopub.status.idle": "2024-03-09T19:36:46.665090Z",
     "shell.execute_reply": "2024-03-09T19:36:46.664397Z"
    },
    "papermill": {
     "duration": 0.024699,
     "end_time": "2024-03-09T19:36:46.666900",
     "exception": false,
     "start_time": "2024-03-09T19:36:46.642201",
     "status": "completed"
    },
    "tags": []
   },
   "outputs": [],
   "source": [
    "BASE_PATH = \"/kaggle/input/hms-harmful-brain-activity-classification\"\n",
    "\n",
    "SPEC_DIR = \"/tmp/dataset/hms-hbac\"\n",
    "os.makedirs(SPEC_DIR+'/train_spectrograms', exist_ok=True)\n",
    "os.makedirs(SPEC_DIR+'/test_spectrograms', exist_ok=True)"
   ]
  },
  {
   "cell_type": "markdown",
   "id": "224287d9",
   "metadata": {
    "papermill": {
     "duration": 0.016928,
     "end_time": "2024-03-09T19:36:46.701160",
     "exception": false,
     "start_time": "2024-03-09T19:36:46.684232",
     "status": "completed"
    },
    "tags": []
   },
   "source": [
    "# 📖 | Meta Data "
   ]
  },
  {
   "cell_type": "code",
   "execution_count": 7,
   "id": "185bc642",
   "metadata": {
    "execution": {
     "iopub.execute_input": "2024-03-09T19:36:46.736755Z",
     "iopub.status.busy": "2024-03-09T19:36:46.736422Z",
     "iopub.status.idle": "2024-03-09T19:36:47.113963Z",
     "shell.execute_reply": "2024-03-09T19:36:47.112985Z"
    },
    "papermill": {
     "duration": 0.397956,
     "end_time": "2024-03-09T19:36:47.116260",
     "exception": false,
     "start_time": "2024-03-09T19:36:46.718304",
     "status": "completed"
    },
    "tags": []
   },
   "outputs": [
    {
     "name": "stdout",
     "output_type": "stream",
     "text": [
      "min: 0.03693797763666112 max: 7.802343563233984\n"
     ]
    }
   ],
   "source": [
    "df = pd.read_csv(f'{BASE_PATH}/train.csv')\n",
    "label_cols = df.columns[-6:]\n",
    "y_data = df[label_cols].values\n",
    "y_data = y_data / y_data.sum(axis=1, keepdims=True)\n",
    "df[label_cols] = y_data\n",
    "labels = df[['seizure_vote', 'lpd_vote', 'gpd_vote', 'lrda_vote', 'grda_vote', 'other_vote']].values + 1e-5\n",
    "\n",
    "# compute kl-loss with uniform distribution by pytorch\n",
    "df['kl'] = torch.nn.functional.kl_div(\n",
    "    torch.log(torch.tensor(labels)),\n",
    "    torch.tensor([1 / 6] * 6),\n",
    "    reduction='none'\n",
    ").sum(dim=1).numpy()\n",
    "print('min:', df['kl'].min(), 'max:', df['kl'].max())\n",
    "\n",
    "# df['total_evaluators'] = df[['seizure_vote', 'lpd_vote', 'gpd_vote', 'lrda_vote', 'grda_vote', 'other_vote']].sum(axis=1)\n",
    "# df['consensus'] = df[['seizure_vote', 'lpd_vote', 'gpd_vote', 'lrda_vote', 'grda_vote', 'other_vote']].max(axis=1)\n",
    "# df['consensus_column'] = df[['seizure_vote', 'lpd_vote', 'gpd_vote', 'lrda_vote', 'grda_vote', 'other_vote']].idxmax(axis=1)\n",
    "# df['row_agreement'] = df['consensus']/df['total_evaluators']\n",
    "# original_df = df.copy(deep=True)\n",
    "# large = original_df[original_df['total_evaluators'] >= 10].copy()\n",
    "# small = original_df[original_df['total_evaluators'] < 10].copy()\n",
    "\n",
    "\n",
    "# # Trying with using only the rows that have more than 5 evaluators in total\n",
    "# df = original_df[original_df['total_evaluators'] >= 5].copy()\n",
    "# df.head(25)\n",
    "\n",
    "# Trying with using only the rows that have more than 0.7 agreement\n",
    "# df = original_df[original_df['row_agreement'] >= 0.7].copy()\n",
    "# df.head(25)\n",
    "\n",
    "# row_agreement_agg = df.groupby('eeg_id')['consensus'].agg('sum')\n",
    "\n",
    "# # Mapping this aggregated value back to each row in 'df'\n",
    "# df['row_consensus_agg'] = df['eeg_id'].map(row_agreement_agg)\n",
    "\n",
    "# row_evaluators_agg = df.groupby('eeg_id')['total_evaluators'].agg('sum')\n",
    "\n",
    "# # Mapping this aggregated value back to each row in 'df'\n",
    "# df['row_evaluators_agg'] = df['eeg_id'].map(row_evaluators_agg)\n",
    "\n",
    "# df['eeg_agreement'] = df['row_consensus_agg']/df['row_evaluators_agg']\n",
    "\n",
    "# original_df.head(25)  # Display the first few rows of the DataFrame to show the new column\n",
    "\n"
   ]
  },
  {
   "cell_type": "code",
   "execution_count": 8,
   "id": "bf1eecf3",
   "metadata": {
    "execution": {
     "iopub.execute_input": "2024-03-09T19:36:47.153996Z",
     "iopub.status.busy": "2024-03-09T19:36:47.153656Z",
     "iopub.status.idle": "2024-03-09T19:36:47.185129Z",
     "shell.execute_reply": "2024-03-09T19:36:47.184312Z"
    },
    "papermill": {
     "duration": 0.052914,
     "end_time": "2024-03-09T19:36:47.187048",
     "exception": false,
     "start_time": "2024-03-09T19:36:47.134134",
     "status": "completed"
    },
    "tags": []
   },
   "outputs": [
    {
     "data": {
      "text/html": [
       "<div>\n",
       "<style scoped>\n",
       "    .dataframe tbody tr th:only-of-type {\n",
       "        vertical-align: middle;\n",
       "    }\n",
       "\n",
       "    .dataframe tbody tr th {\n",
       "        vertical-align: top;\n",
       "    }\n",
       "\n",
       "    .dataframe thead th {\n",
       "        text-align: right;\n",
       "    }\n",
       "</style>\n",
       "<table border=\"1\" class=\"dataframe\">\n",
       "  <thead>\n",
       "    <tr style=\"text-align: right;\">\n",
       "      <th></th>\n",
       "      <th>eeg_id</th>\n",
       "      <th>eeg_sub_id</th>\n",
       "      <th>eeg_label_offset_seconds</th>\n",
       "      <th>spectrogram_id</th>\n",
       "      <th>spectrogram_sub_id</th>\n",
       "      <th>spectrogram_label_offset_seconds</th>\n",
       "      <th>label_id</th>\n",
       "      <th>patient_id</th>\n",
       "      <th>expert_consensus</th>\n",
       "      <th>seizure_vote</th>\n",
       "      <th>lpd_vote</th>\n",
       "      <th>gpd_vote</th>\n",
       "      <th>lrda_vote</th>\n",
       "      <th>grda_vote</th>\n",
       "      <th>other_vote</th>\n",
       "      <th>kl</th>\n",
       "    </tr>\n",
       "  </thead>\n",
       "  <tbody>\n",
       "    <tr>\n",
       "      <th>0</th>\n",
       "      <td>1628180742</td>\n",
       "      <td>0</td>\n",
       "      <td>0.0</td>\n",
       "      <td>353733</td>\n",
       "      <td>0</td>\n",
       "      <td>0.0</td>\n",
       "      <td>127492639</td>\n",
       "      <td>42516</td>\n",
       "      <td>Seizure</td>\n",
       "      <td>1.0</td>\n",
       "      <td>0.0</td>\n",
       "      <td>0.0</td>\n",
       "      <td>0.0</td>\n",
       "      <td>0.0</td>\n",
       "      <td>0.0</td>\n",
       "      <td>7.802344</td>\n",
       "    </tr>\n",
       "    <tr>\n",
       "      <th>1</th>\n",
       "      <td>1628180742</td>\n",
       "      <td>1</td>\n",
       "      <td>6.0</td>\n",
       "      <td>353733</td>\n",
       "      <td>1</td>\n",
       "      <td>6.0</td>\n",
       "      <td>3887563113</td>\n",
       "      <td>42516</td>\n",
       "      <td>Seizure</td>\n",
       "      <td>1.0</td>\n",
       "      <td>0.0</td>\n",
       "      <td>0.0</td>\n",
       "      <td>0.0</td>\n",
       "      <td>0.0</td>\n",
       "      <td>0.0</td>\n",
       "      <td>7.802344</td>\n",
       "    </tr>\n",
       "    <tr>\n",
       "      <th>2</th>\n",
       "      <td>1628180742</td>\n",
       "      <td>2</td>\n",
       "      <td>8.0</td>\n",
       "      <td>353733</td>\n",
       "      <td>2</td>\n",
       "      <td>8.0</td>\n",
       "      <td>1142670488</td>\n",
       "      <td>42516</td>\n",
       "      <td>Seizure</td>\n",
       "      <td>1.0</td>\n",
       "      <td>0.0</td>\n",
       "      <td>0.0</td>\n",
       "      <td>0.0</td>\n",
       "      <td>0.0</td>\n",
       "      <td>0.0</td>\n",
       "      <td>7.802344</td>\n",
       "    </tr>\n",
       "    <tr>\n",
       "      <th>3</th>\n",
       "      <td>1628180742</td>\n",
       "      <td>3</td>\n",
       "      <td>18.0</td>\n",
       "      <td>353733</td>\n",
       "      <td>3</td>\n",
       "      <td>18.0</td>\n",
       "      <td>2718991173</td>\n",
       "      <td>42516</td>\n",
       "      <td>Seizure</td>\n",
       "      <td>1.0</td>\n",
       "      <td>0.0</td>\n",
       "      <td>0.0</td>\n",
       "      <td>0.0</td>\n",
       "      <td>0.0</td>\n",
       "      <td>0.0</td>\n",
       "      <td>7.802344</td>\n",
       "    </tr>\n",
       "    <tr>\n",
       "      <th>4</th>\n",
       "      <td>1628180742</td>\n",
       "      <td>4</td>\n",
       "      <td>24.0</td>\n",
       "      <td>353733</td>\n",
       "      <td>4</td>\n",
       "      <td>24.0</td>\n",
       "      <td>3080632009</td>\n",
       "      <td>42516</td>\n",
       "      <td>Seizure</td>\n",
       "      <td>1.0</td>\n",
       "      <td>0.0</td>\n",
       "      <td>0.0</td>\n",
       "      <td>0.0</td>\n",
       "      <td>0.0</td>\n",
       "      <td>0.0</td>\n",
       "      <td>7.802344</td>\n",
       "    </tr>\n",
       "    <tr>\n",
       "      <th>...</th>\n",
       "      <td>...</td>\n",
       "      <td>...</td>\n",
       "      <td>...</td>\n",
       "      <td>...</td>\n",
       "      <td>...</td>\n",
       "      <td>...</td>\n",
       "      <td>...</td>\n",
       "      <td>...</td>\n",
       "      <td>...</td>\n",
       "      <td>...</td>\n",
       "      <td>...</td>\n",
       "      <td>...</td>\n",
       "      <td>...</td>\n",
       "      <td>...</td>\n",
       "      <td>...</td>\n",
       "      <td>...</td>\n",
       "    </tr>\n",
       "    <tr>\n",
       "      <th>106795</th>\n",
       "      <td>351917269</td>\n",
       "      <td>6</td>\n",
       "      <td>12.0</td>\n",
       "      <td>2147388374</td>\n",
       "      <td>6</td>\n",
       "      <td>12.0</td>\n",
       "      <td>4195677307</td>\n",
       "      <td>10351</td>\n",
       "      <td>LRDA</td>\n",
       "      <td>0.0</td>\n",
       "      <td>0.0</td>\n",
       "      <td>0.0</td>\n",
       "      <td>1.0</td>\n",
       "      <td>0.0</td>\n",
       "      <td>0.0</td>\n",
       "      <td>7.802344</td>\n",
       "    </tr>\n",
       "    <tr>\n",
       "      <th>106796</th>\n",
       "      <td>351917269</td>\n",
       "      <td>7</td>\n",
       "      <td>14.0</td>\n",
       "      <td>2147388374</td>\n",
       "      <td>7</td>\n",
       "      <td>14.0</td>\n",
       "      <td>290896675</td>\n",
       "      <td>10351</td>\n",
       "      <td>LRDA</td>\n",
       "      <td>0.0</td>\n",
       "      <td>0.0</td>\n",
       "      <td>0.0</td>\n",
       "      <td>1.0</td>\n",
       "      <td>0.0</td>\n",
       "      <td>0.0</td>\n",
       "      <td>7.802344</td>\n",
       "    </tr>\n",
       "    <tr>\n",
       "      <th>106797</th>\n",
       "      <td>351917269</td>\n",
       "      <td>8</td>\n",
       "      <td>16.0</td>\n",
       "      <td>2147388374</td>\n",
       "      <td>8</td>\n",
       "      <td>16.0</td>\n",
       "      <td>461435451</td>\n",
       "      <td>10351</td>\n",
       "      <td>LRDA</td>\n",
       "      <td>0.0</td>\n",
       "      <td>0.0</td>\n",
       "      <td>0.0</td>\n",
       "      <td>1.0</td>\n",
       "      <td>0.0</td>\n",
       "      <td>0.0</td>\n",
       "      <td>7.802344</td>\n",
       "    </tr>\n",
       "    <tr>\n",
       "      <th>106798</th>\n",
       "      <td>351917269</td>\n",
       "      <td>9</td>\n",
       "      <td>18.0</td>\n",
       "      <td>2147388374</td>\n",
       "      <td>9</td>\n",
       "      <td>18.0</td>\n",
       "      <td>3786213131</td>\n",
       "      <td>10351</td>\n",
       "      <td>LRDA</td>\n",
       "      <td>0.0</td>\n",
       "      <td>0.0</td>\n",
       "      <td>0.0</td>\n",
       "      <td>1.0</td>\n",
       "      <td>0.0</td>\n",
       "      <td>0.0</td>\n",
       "      <td>7.802344</td>\n",
       "    </tr>\n",
       "    <tr>\n",
       "      <th>106799</th>\n",
       "      <td>351917269</td>\n",
       "      <td>10</td>\n",
       "      <td>20.0</td>\n",
       "      <td>2147388374</td>\n",
       "      <td>10</td>\n",
       "      <td>20.0</td>\n",
       "      <td>3642716176</td>\n",
       "      <td>10351</td>\n",
       "      <td>LRDA</td>\n",
       "      <td>0.0</td>\n",
       "      <td>0.0</td>\n",
       "      <td>0.0</td>\n",
       "      <td>1.0</td>\n",
       "      <td>0.0</td>\n",
       "      <td>0.0</td>\n",
       "      <td>7.802344</td>\n",
       "    </tr>\n",
       "  </tbody>\n",
       "</table>\n",
       "<p>106800 rows × 16 columns</p>\n",
       "</div>"
      ],
      "text/plain": [
       "            eeg_id  eeg_sub_id  eeg_label_offset_seconds  spectrogram_id  \\\n",
       "0       1628180742           0                       0.0          353733   \n",
       "1       1628180742           1                       6.0          353733   \n",
       "2       1628180742           2                       8.0          353733   \n",
       "3       1628180742           3                      18.0          353733   \n",
       "4       1628180742           4                      24.0          353733   \n",
       "...            ...         ...                       ...             ...   \n",
       "106795   351917269           6                      12.0      2147388374   \n",
       "106796   351917269           7                      14.0      2147388374   \n",
       "106797   351917269           8                      16.0      2147388374   \n",
       "106798   351917269           9                      18.0      2147388374   \n",
       "106799   351917269          10                      20.0      2147388374   \n",
       "\n",
       "        spectrogram_sub_id  spectrogram_label_offset_seconds    label_id  \\\n",
       "0                        0                               0.0   127492639   \n",
       "1                        1                               6.0  3887563113   \n",
       "2                        2                               8.0  1142670488   \n",
       "3                        3                              18.0  2718991173   \n",
       "4                        4                              24.0  3080632009   \n",
       "...                    ...                               ...         ...   \n",
       "106795                   6                              12.0  4195677307   \n",
       "106796                   7                              14.0   290896675   \n",
       "106797                   8                              16.0   461435451   \n",
       "106798                   9                              18.0  3786213131   \n",
       "106799                  10                              20.0  3642716176   \n",
       "\n",
       "        patient_id expert_consensus  seizure_vote  lpd_vote  gpd_vote  \\\n",
       "0            42516          Seizure           1.0       0.0       0.0   \n",
       "1            42516          Seizure           1.0       0.0       0.0   \n",
       "2            42516          Seizure           1.0       0.0       0.0   \n",
       "3            42516          Seizure           1.0       0.0       0.0   \n",
       "4            42516          Seizure           1.0       0.0       0.0   \n",
       "...            ...              ...           ...       ...       ...   \n",
       "106795       10351             LRDA           0.0       0.0       0.0   \n",
       "106796       10351             LRDA           0.0       0.0       0.0   \n",
       "106797       10351             LRDA           0.0       0.0       0.0   \n",
       "106798       10351             LRDA           0.0       0.0       0.0   \n",
       "106799       10351             LRDA           0.0       0.0       0.0   \n",
       "\n",
       "        lrda_vote  grda_vote  other_vote        kl  \n",
       "0             0.0        0.0         0.0  7.802344  \n",
       "1             0.0        0.0         0.0  7.802344  \n",
       "2             0.0        0.0         0.0  7.802344  \n",
       "3             0.0        0.0         0.0  7.802344  \n",
       "4             0.0        0.0         0.0  7.802344  \n",
       "...           ...        ...         ...       ...  \n",
       "106795        1.0        0.0         0.0  7.802344  \n",
       "106796        1.0        0.0         0.0  7.802344  \n",
       "106797        1.0        0.0         0.0  7.802344  \n",
       "106798        1.0        0.0         0.0  7.802344  \n",
       "106799        1.0        0.0         0.0  7.802344  \n",
       "\n",
       "[106800 rows x 16 columns]"
      ]
     },
     "execution_count": 8,
     "metadata": {},
     "output_type": "execute_result"
    }
   ],
   "source": [
    "df"
   ]
  },
  {
   "cell_type": "code",
   "execution_count": 9,
   "id": "3c73e295",
   "metadata": {
    "execution": {
     "iopub.execute_input": "2024-03-09T19:36:47.224384Z",
     "iopub.status.busy": "2024-03-09T19:36:47.224109Z",
     "iopub.status.idle": "2024-03-09T19:36:47.514555Z",
     "shell.execute_reply": "2024-03-09T19:36:47.513573Z"
    },
    "papermill": {
     "duration": 0.311727,
     "end_time": "2024-03-09T19:36:47.516797",
     "exception": false,
     "start_time": "2024-03-09T19:36:47.205070",
     "status": "completed"
    },
    "tags": []
   },
   "outputs": [
    {
     "data": {
      "text/html": [
       "<div>\n",
       "<style scoped>\n",
       "    .dataframe tbody tr th:only-of-type {\n",
       "        vertical-align: middle;\n",
       "    }\n",
       "\n",
       "    .dataframe tbody tr th {\n",
       "        vertical-align: top;\n",
       "    }\n",
       "\n",
       "    .dataframe thead th {\n",
       "        text-align: right;\n",
       "    }\n",
       "</style>\n",
       "<table border=\"1\" class=\"dataframe\">\n",
       "  <thead>\n",
       "    <tr style=\"text-align: right;\">\n",
       "      <th></th>\n",
       "      <th>eeg_id</th>\n",
       "      <th>eeg_sub_id</th>\n",
       "      <th>eeg_label_offset_seconds</th>\n",
       "      <th>spectrogram_id</th>\n",
       "      <th>spectrogram_sub_id</th>\n",
       "      <th>spectrogram_label_offset_seconds</th>\n",
       "      <th>label_id</th>\n",
       "      <th>patient_id</th>\n",
       "      <th>expert_consensus</th>\n",
       "      <th>seizure_vote</th>\n",
       "      <th>...</th>\n",
       "      <th>gpd_vote</th>\n",
       "      <th>lrda_vote</th>\n",
       "      <th>grda_vote</th>\n",
       "      <th>other_vote</th>\n",
       "      <th>kl</th>\n",
       "      <th>eeg_path</th>\n",
       "      <th>spec_path</th>\n",
       "      <th>spec2_path</th>\n",
       "      <th>class_name</th>\n",
       "      <th>class_label</th>\n",
       "    </tr>\n",
       "  </thead>\n",
       "  <tbody>\n",
       "    <tr>\n",
       "      <th>0</th>\n",
       "      <td>1628180742</td>\n",
       "      <td>0</td>\n",
       "      <td>0.0</td>\n",
       "      <td>353733</td>\n",
       "      <td>0</td>\n",
       "      <td>0.0</td>\n",
       "      <td>127492639</td>\n",
       "      <td>42516</td>\n",
       "      <td>Seizure</td>\n",
       "      <td>1.0</td>\n",
       "      <td>...</td>\n",
       "      <td>0.0</td>\n",
       "      <td>0.0</td>\n",
       "      <td>0.0</td>\n",
       "      <td>0.0</td>\n",
       "      <td>7.802344</td>\n",
       "      <td>/kaggle/input/hms-harmful-brain-activity-class...</td>\n",
       "      <td>/kaggle/input/hms-harmful-brain-activity-class...</td>\n",
       "      <td>/tmp/dataset/hms-hbac/train_spectrograms/35373...</td>\n",
       "      <td>Seizure</td>\n",
       "      <td>0</td>\n",
       "    </tr>\n",
       "    <tr>\n",
       "      <th>1</th>\n",
       "      <td>1628180742</td>\n",
       "      <td>1</td>\n",
       "      <td>6.0</td>\n",
       "      <td>353733</td>\n",
       "      <td>1</td>\n",
       "      <td>6.0</td>\n",
       "      <td>3887563113</td>\n",
       "      <td>42516</td>\n",
       "      <td>Seizure</td>\n",
       "      <td>1.0</td>\n",
       "      <td>...</td>\n",
       "      <td>0.0</td>\n",
       "      <td>0.0</td>\n",
       "      <td>0.0</td>\n",
       "      <td>0.0</td>\n",
       "      <td>7.802344</td>\n",
       "      <td>/kaggle/input/hms-harmful-brain-activity-class...</td>\n",
       "      <td>/kaggle/input/hms-harmful-brain-activity-class...</td>\n",
       "      <td>/tmp/dataset/hms-hbac/train_spectrograms/35373...</td>\n",
       "      <td>Seizure</td>\n",
       "      <td>0</td>\n",
       "    </tr>\n",
       "  </tbody>\n",
       "</table>\n",
       "<p>2 rows × 21 columns</p>\n",
       "</div>"
      ],
      "text/plain": [
       "       eeg_id  eeg_sub_id  eeg_label_offset_seconds  spectrogram_id  \\\n",
       "0  1628180742           0                       0.0          353733   \n",
       "1  1628180742           1                       6.0          353733   \n",
       "\n",
       "   spectrogram_sub_id  spectrogram_label_offset_seconds    label_id  \\\n",
       "0                   0                               0.0   127492639   \n",
       "1                   1                               6.0  3887563113   \n",
       "\n",
       "   patient_id expert_consensus  seizure_vote  ...  gpd_vote  lrda_vote  \\\n",
       "0       42516          Seizure           1.0  ...       0.0        0.0   \n",
       "1       42516          Seizure           1.0  ...       0.0        0.0   \n",
       "\n",
       "   grda_vote  other_vote        kl  \\\n",
       "0        0.0         0.0  7.802344   \n",
       "1        0.0         0.0  7.802344   \n",
       "\n",
       "                                            eeg_path  \\\n",
       "0  /kaggle/input/hms-harmful-brain-activity-class...   \n",
       "1  /kaggle/input/hms-harmful-brain-activity-class...   \n",
       "\n",
       "                                           spec_path  \\\n",
       "0  /kaggle/input/hms-harmful-brain-activity-class...   \n",
       "1  /kaggle/input/hms-harmful-brain-activity-class...   \n",
       "\n",
       "                                          spec2_path class_name class_label  \n",
       "0  /tmp/dataset/hms-hbac/train_spectrograms/35373...    Seizure           0  \n",
       "1  /tmp/dataset/hms-hbac/train_spectrograms/35373...    Seizure           0  \n",
       "\n",
       "[2 rows x 21 columns]"
      ]
     },
     "metadata": {},
     "output_type": "display_data"
    }
   ],
   "source": [
    "df['eeg_path'] = f'{BASE_PATH}/train_eegs/'+df['eeg_id'].astype(str)+'.parquet'\n",
    "df['spec_path'] = f'{BASE_PATH}/train_spectrograms/'+df['spectrogram_id'].astype(str)+'.parquet'\n",
    "df['spec2_path'] = f'{SPEC_DIR}/train_spectrograms/'+df['spectrogram_id'].astype(str)+'.npy'\n",
    "df['class_name'] = df.expert_consensus.copy()\n",
    "df['class_label'] = df.expert_consensus.map(CFG.name2label)\n",
    "display(df.head(2))\n",
    "\n",
    "\n",
    "# Train + Valid small\n",
    "\n",
    "# small['eeg_path'] = f'{BASE_PATH}/train_eegs/'+small['eeg_id'].astype(str)+'.parquet'\n",
    "# small['spec_path'] = f'{BASE_PATH}/train_spectrograms/'+small['spectrogram_id'].astype(str)+'.parquet'\n",
    "# small['spec2_path'] = f'{SPEC_DIR}/train_spectrograms/'+small['spectrogram_id'].astype(str)+'.npy'\n",
    "# small['class_name'] = small.expert_consensus.copy()\n",
    "# small['class_label'] = small.expert_consensus.map(CFG.name2label)\n",
    "# display(small.head(2))\n",
    "\n",
    "# # Train + Valid large\n",
    "\n",
    "# large['eeg_path'] = f'{BASE_PATH}/train_eegs/'+large['eeg_id'].astype(str)+'.parquet'\n",
    "# large['spec_path'] = f'{BASE_PATH}/train_spectrograms/'+large['spectrogram_id'].astype(str)+'.parquet'\n",
    "# large['spec2_path'] = f'{SPEC_DIR}/train_spectrograms/'+large['spectrogram_id'].astype(str)+'.npy'\n",
    "# large['class_name'] = large.expert_consensus.copy()\n",
    "# large['class_label'] = large.expert_consensus.map(CFG.name2label)\n",
    "# display(large.head(2))\n",
    "\n",
    "# # Test\n",
    "# test_df = pd.read_csv(f'{BASE_PATH}/test.csv')\n",
    "# test_df['eeg_path'] = f'{BASE_PATH}/test_eegs/'+test_df['eeg_id'].astype(str)+'.parquet'\n",
    "# test_df['spec_path'] = f'{BASE_PATH}/test_spectrograms/'+test_df['spectrogram_id'].astype(str)+'.parquet'\n",
    "# test_df['spec2_path'] = f'{SPEC_DIR}/test_spectrograms/'+test_df['spectrogram_id'].astype(str)+'.npy'\n",
    "# display(test_df.head(2))"
   ]
  },
  {
   "cell_type": "markdown",
   "id": "484b10dc",
   "metadata": {
    "papermill": {
     "duration": 0.018842,
     "end_time": "2024-03-09T19:36:47.555557",
     "exception": false,
     "start_time": "2024-03-09T19:36:47.536715",
     "status": "completed"
    },
    "tags": []
   },
   "source": [
    "## Convert `.parquet` to `.npy`\n",
    "\n",
    "To facilitate easier data loading, we will convert the EEG spectrograms from `parquet` to `npy` format. This process involves saving the spectrogram data, and since the content of the files remains the same, no significant changes are made. \n",
    "\n",
    "> It's worth noting that the `time` column is excluded, as it is not part of the spectrogram."
   ]
  },
  {
   "cell_type": "code",
   "execution_count": 10,
   "id": "2e09637b",
   "metadata": {
    "execution": {
     "iopub.execute_input": "2024-03-09T19:36:47.593408Z",
     "iopub.status.busy": "2024-03-09T19:36:47.592693Z",
     "iopub.status.idle": "2024-03-09T19:39:58.588555Z",
     "shell.execute_reply": "2024-03-09T19:39:58.587632Z"
    },
    "papermill": {
     "duration": 191.017078,
     "end_time": "2024-03-09T19:39:58.590778",
     "exception": false,
     "start_time": "2024-03-09T19:36:47.573700",
     "status": "completed"
    },
    "tags": []
   },
   "outputs": [
    {
     "data": {
      "application/vnd.jupyter.widget-view+json": {
       "model_id": "2c433fd9c176417c8d1dc631b520bc90",
       "version_major": 2,
       "version_minor": 0
      },
      "text/plain": [
       "  0%|          | 0/11138 [00:00<?, ?it/s]"
      ]
     },
     "metadata": {},
     "output_type": "display_data"
    }
   ],
   "source": [
    "# # Define a function to process a single eeg_id\n",
    "def process_spec(spec_id, split=\"train\"):\n",
    "    spec_path = f\"{BASE_PATH}/{split}_spectrograms/{spec_id}.parquet\"\n",
    "    spec = pd.read_parquet(spec_path)\n",
    "    spec = spec.fillna(0).values[:, 1:].T # fill NaN values with 0, transpose for (Time, Freq) -> (Freq, Time)\n",
    "    spec = spec.astype(\"float32\")\n",
    "    np.save(f\"{SPEC_DIR}/{split}_spectrograms/{spec_id}.npy\", spec)\n",
    "    \n",
    "spec_ids_train = df[\"spectrogram_id\"].unique()\n",
    "\n",
    "# Parallelize the processing using joblib for training data\n",
    "_ = joblib.Parallel(n_jobs=-1, backend=\"loky\")(\n",
    "    joblib.delayed(process_spec)(spec_id, \"train\")\n",
    "    for spec_id in tqdm(spec_ids_train, total=len(spec_ids_train))\n",
    ")\n",
    "\n",
    "# # Get unique spec_ids of train and valid data\n",
    "# spec_ids_small = small[\"spectrogram_id\"].unique()\n",
    "\n",
    "# # Parallelize the processing using joblib for training data\n",
    "# _ = joblib.Parallel(n_jobs=-1, backend=\"loky\")(\n",
    "#     joblib.delayed(process_spec)(spec_id, \"train\")\n",
    "#     for spec_id in tqdm(spec_ids_small, total=len(spec_ids_small))\n",
    "# )\n",
    "\n",
    "# spec_ids_large = large[\"spectrogram_id\"].unique()\n",
    "\n",
    "# # Parallelize the processing using joblib for training data\n",
    "# _ = joblib.Parallel(n_jobs=-1, backend=\"loky\")(\n",
    "#     joblib.delayed(process_spec)(spec_id, \"train\")\n",
    "#     for spec_id in tqdm(spec_ids_large, total=len(spec_ids_large))\n",
    "# )\n",
    "\n",
    "# # Get unique spec_ids of test data\n",
    "# test_spec_ids = test_df[\"spectrogram_id\"].unique()\n",
    "\n",
    "# # Parallelize the processing using joblib for test data\n",
    "# _ = joblib.Parallel(n_jobs=-1, backend=\"loky\")(\n",
    "#     joblib.delayed(process_spec)(spec_id, \"test\")\n",
    "#     for spec_id in tqdm(test_spec_ids, total=len(test_spec_ids))\n",
    "# )"
   ]
  },
  {
   "cell_type": "markdown",
   "id": "c3391386",
   "metadata": {
    "papermill": {
     "duration": 0.018248,
     "end_time": "2024-03-09T19:39:58.628513",
     "exception": false,
     "start_time": "2024-03-09T19:39:58.610265",
     "status": "completed"
    },
    "tags": []
   },
   "source": [
    "# 🍚 | DataLoader\n",
    "\n",
    "This DataLoader first reads `npy` spectrogram files and extracts labeled subsamples using specified `offset` values. Then, it converts the spectrogram data into `log spectrogram` and applies the popular signal augmentation `MixUp`.\n",
    "\n",
    "> Note that, we are converting the mono channel signal to a 3-channel signal for using \"ImageNet\" weights of pretrained model."
   ]
  },
  {
   "cell_type": "code",
   "execution_count": 11,
   "id": "358df733",
   "metadata": {
    "execution": {
     "iopub.execute_input": "2024-03-09T19:39:58.667608Z",
     "iopub.status.busy": "2024-03-09T19:39:58.667253Z",
     "iopub.status.idle": "2024-03-09T19:39:58.687086Z",
     "shell.execute_reply": "2024-03-09T19:39:58.686178Z"
    },
    "papermill": {
     "duration": 0.042095,
     "end_time": "2024-03-09T19:39:58.688942",
     "exception": false,
     "start_time": "2024-03-09T19:39:58.646847",
     "status": "completed"
    },
    "tags": []
   },
   "outputs": [],
   "source": [
    "def build_augmenter(dim=CFG.image_size):\n",
    "    augmenters = [\n",
    "        keras_cv.layers.MixUp(alpha=2.0),\n",
    "        keras_cv.layers.RandomCutout(height_factor=(1.0, 1.0),\n",
    "                                     width_factor=(0.06, 0.1)), # freq-masking\n",
    "        keras_cv.layers.RandomCutout(height_factor=(0.06, 0.1),\n",
    "                                     width_factor=(1.0, 1.0)), # time-masking\n",
    "    ]\n",
    "    \n",
    "    def augment(img, label):\n",
    "        data = {\"images\":img, \"labels\":label}\n",
    "        for augmenter in augmenters:\n",
    "            if tf.random.uniform([]) < 0.5:\n",
    "                data = augmenter(data, training=True)\n",
    "        return data[\"images\"], data[\"labels\"]\n",
    "    \n",
    "    return augment\n",
    "\n",
    "\n",
    "def build_decoder(with_labels=True, target_size=CFG.image_size, dtype=32):\n",
    "    def decode_signal(path, offset=None):\n",
    "        # Read .npy files and process the signal\n",
    "        file_bytes = tf.io.read_file(path)\n",
    "        sig = tf.io.decode_raw(file_bytes, tf.float32)\n",
    "        sig = sig[1024//dtype:]  # Remove header tag\n",
    "        sig = tf.reshape(sig, [400, -1])\n",
    "        \n",
    "        # Extract labeled subsample from full spectrogram using \"offset\"\n",
    "        if offset is not None: \n",
    "            offset = offset // 2  # Only odd values are given\n",
    "            sig = sig[:, offset:offset+300]\n",
    "            \n",
    "            # Pad spectrogram to ensure the same input shape of [400, 300]\n",
    "            pad_size = tf.math.maximum(0, 300 - tf.shape(sig)[1])\n",
    "            sig = tf.pad(sig, [[0, 0], [0, pad_size]])\n",
    "            sig = tf.reshape(sig, [400, 300])\n",
    "        \n",
    "        # Log spectrogram \n",
    "        sig = tf.clip_by_value(sig, tf.math.exp(-4.0), tf.math.exp(8.0)) # avoid 0 in log\n",
    "        sig = tf.math.log(sig)\n",
    "        \n",
    "        # Normalize spectrogram\n",
    "        sig -= tf.math.reduce_mean(sig)\n",
    "        sig /= tf.math.reduce_std(sig) + 1e-6\n",
    "        \n",
    "        # Mono channel to 3 channels to use \"ImageNet\" weights\n",
    "        sig = tf.tile(sig[..., None], [1, 1, 3])\n",
    "        return sig\n",
    "    \n",
    "    def decode_label(label):\n",
    "        label = tf.one_hot(label, CFG.num_classes)\n",
    "        label = tf.cast(label, tf.float32)\n",
    "        label = tf.reshape(label, [CFG.num_classes])\n",
    "        return label\n",
    "    \n",
    "    def decode_with_labels(path, offset=None, label=None):\n",
    "        sig = decode_signal(path, offset)\n",
    "        label = decode_label(label)\n",
    "        return (sig, label)\n",
    "    \n",
    "    return decode_with_labels if with_labels else decode_signal\n",
    "\n",
    "\n",
    "def build_dataset(paths, offsets=None, labels=None, batch_size=32, cache=True,\n",
    "                  decode_fn=None, augment_fn=None,\n",
    "                  augment=False, repeat=True, shuffle=1024, \n",
    "                  cache_dir=\"\", drop_remainder=False):\n",
    "    if cache_dir != \"\" and cache is True:\n",
    "        os.makedirs(cache_dir, exist_ok=True)\n",
    "    \n",
    "    if decode_fn is None:\n",
    "        decode_fn = build_decoder(labels is not None)\n",
    "    \n",
    "    if augment_fn is None:\n",
    "        augment_fn = build_augmenter()\n",
    "    \n",
    "    AUTO = tf.data.experimental.AUTOTUNE\n",
    "    slices = (paths, offsets) if labels is None else (paths, offsets, labels)\n",
    "    \n",
    "    ds = tf.data.Dataset.from_tensor_slices(slices)\n",
    "    ds = ds.map(decode_fn, num_parallel_calls=AUTO)\n",
    "    ds = ds.cache(cache_dir) if cache else ds\n",
    "    ds = ds.repeat() if repeat else ds\n",
    "    if shuffle: \n",
    "        ds = ds.shuffle(shuffle, seed=CFG.seed)\n",
    "        opt = tf.data.Options()\n",
    "        opt.experimental_deterministic = False\n",
    "        ds = ds.with_options(opt)\n",
    "    ds = ds.batch(batch_size, drop_remainder=drop_remainder)\n",
    "    ds = ds.map(augment_fn, num_parallel_calls=AUTO) if augment else ds\n",
    "    ds = ds.prefetch(AUTO)\n",
    "    return ds"
   ]
  },
  {
   "cell_type": "markdown",
   "id": "4bd4978e",
   "metadata": {
    "papermill": {
     "duration": 0.018104,
     "end_time": "2024-03-09T19:39:58.725794",
     "exception": false,
     "start_time": "2024-03-09T19:39:58.707690",
     "status": "completed"
    },
    "tags": []
   },
   "source": [
    "# 🔪 | Data Split\n",
    "\n",
    "In the following code snippet, the data is divided into `5` folds. Note that, the `groups` argument is used to prevent any overlap of patients between the training and validation sets, thus avoiding potential **data leakage** issues. Additionally, each split is stratified based on the `class_label`, ensuring a uniform distribution of class labels in each fold."
   ]
  },
  {
   "cell_type": "code",
   "execution_count": 12,
   "id": "d74bb20b",
   "metadata": {
    "execution": {
     "iopub.execute_input": "2024-03-09T19:39:58.763762Z",
     "iopub.status.busy": "2024-03-09T19:39:58.763408Z",
     "iopub.status.idle": "2024-03-09T19:40:00.600265Z",
     "shell.execute_reply": "2024-03-09T19:40:00.599263Z"
    },
    "papermill": {
     "duration": 1.858431,
     "end_time": "2024-03-09T19:40:00.602454",
     "exception": false,
     "start_time": "2024-03-09T19:39:58.744023",
     "status": "completed"
    },
    "tags": []
   },
   "outputs": [
    {
     "data": {
      "text/html": [
       "<div>\n",
       "<style scoped>\n",
       "    .dataframe tbody tr th:only-of-type {\n",
       "        vertical-align: middle;\n",
       "    }\n",
       "\n",
       "    .dataframe tbody tr th {\n",
       "        vertical-align: top;\n",
       "    }\n",
       "\n",
       "    .dataframe thead tr th {\n",
       "        text-align: left;\n",
       "    }\n",
       "</style>\n",
       "<table border=\"1\" class=\"dataframe\">\n",
       "  <thead>\n",
       "    <tr>\n",
       "      <th>fold</th>\n",
       "      <th colspan=\"6\" halign=\"left\">0</th>\n",
       "      <th colspan=\"4\" halign=\"left\">1</th>\n",
       "      <th>...</th>\n",
       "      <th colspan=\"4\" halign=\"left\">3</th>\n",
       "      <th colspan=\"6\" halign=\"left\">4</th>\n",
       "    </tr>\n",
       "    <tr>\n",
       "      <th>class_name</th>\n",
       "      <th>GPD</th>\n",
       "      <th>GRDA</th>\n",
       "      <th>LPD</th>\n",
       "      <th>LRDA</th>\n",
       "      <th>Other</th>\n",
       "      <th>Seizure</th>\n",
       "      <th>GPD</th>\n",
       "      <th>GRDA</th>\n",
       "      <th>LPD</th>\n",
       "      <th>LRDA</th>\n",
       "      <th>...</th>\n",
       "      <th>LPD</th>\n",
       "      <th>LRDA</th>\n",
       "      <th>Other</th>\n",
       "      <th>Seizure</th>\n",
       "      <th>GPD</th>\n",
       "      <th>GRDA</th>\n",
       "      <th>LPD</th>\n",
       "      <th>LRDA</th>\n",
       "      <th>Other</th>\n",
       "      <th>Seizure</th>\n",
       "    </tr>\n",
       "  </thead>\n",
       "  <tbody>\n",
       "    <tr>\n",
       "      <th>eeg_id</th>\n",
       "      <td>2050</td>\n",
       "      <td>2605</td>\n",
       "      <td>1168</td>\n",
       "      <td>3793</td>\n",
       "      <td>3462</td>\n",
       "      <td>4007</td>\n",
       "      <td>4832</td>\n",
       "      <td>4856</td>\n",
       "      <td>4463</td>\n",
       "      <td>3117</td>\n",
       "      <td>...</td>\n",
       "      <td>2318</td>\n",
       "      <td>4296</td>\n",
       "      <td>3884</td>\n",
       "      <td>4787</td>\n",
       "      <td>1889</td>\n",
       "      <td>3700</td>\n",
       "      <td>4249</td>\n",
       "      <td>3002</td>\n",
       "      <td>4013</td>\n",
       "      <td>4045</td>\n",
       "    </tr>\n",
       "  </tbody>\n",
       "</table>\n",
       "<p>1 rows × 30 columns</p>\n",
       "</div>"
      ],
      "text/plain": [
       "fold           0                                     1                    ...  \\\n",
       "class_name   GPD  GRDA   LPD  LRDA Other Seizure   GPD  GRDA   LPD  LRDA  ...   \n",
       "eeg_id      2050  2605  1168  3793  3462    4007  4832  4856  4463  3117  ...   \n",
       "\n",
       "fold           3                         4                                  \n",
       "class_name   LPD  LRDA Other Seizure   GPD  GRDA   LPD  LRDA Other Seizure  \n",
       "eeg_id      2318  4296  3884    4787  1889  3700  4249  3002  4013    4045  \n",
       "\n",
       "[1 rows x 30 columns]"
      ]
     },
     "execution_count": 12,
     "metadata": {},
     "output_type": "execute_result"
    }
   ],
   "source": [
    "from sklearn.model_selection import StratifiedGroupKFold\n",
    "\n",
    "sgkf = StratifiedGroupKFold(n_splits=5, shuffle=True, random_state=CFG.seed)\n",
    "\n",
    "df[\"fold\"] = -1\n",
    "df.reset_index(drop=True, inplace=True)\n",
    "for fold, (train_idx, valid_idx) in enumerate(\n",
    "    sgkf.split(df, y=df[\"class_label\"], groups=df[\"patient_id\"])\n",
    "):\n",
    "    df.loc[valid_idx, \"fold\"] = fold\n",
    "df.groupby([\"fold\", \"class_name\"])[[\"eeg_id\"]].count().T\n",
    "\n",
    "# # Split for small\n",
    "# sgkf = StratifiedGroupKFold(n_splits=5, shuffle=True, random_state=CFG.seed)\n",
    "\n",
    "# small[\"fold\"] = -1\n",
    "# small.reset_index(drop=True, inplace=True)\n",
    "# for fold, (train_idx, valid_idx) in enumerate(\n",
    "#     sgkf.split(small, y=small[\"class_label\"], groups=small[\"patient_id\"])\n",
    "# ):\n",
    "#     small.loc[valid_idx, \"fold\"] = fold\n",
    "# small.groupby([\"fold\", \"class_name\"])[[\"eeg_id\"]].count().T\n",
    "# # \n",
    "# # SPlit for large\n",
    "# sgkf = StratifiedGroupKFold(n_splits=5, shuffle=True, random_state=CFG.seed)\n",
    "\n",
    "# large[\"fold\"] = -1\n",
    "# large.reset_index(drop=True, inplace=True)\n",
    "# for fold, (train_idx, valid_idx) in enumerate(\n",
    "#     sgkf.split(large, y=large[\"class_label\"], groups=large[\"patient_id\"])\n",
    "# ):\n",
    "#     large.loc[valid_idx, \"fold\"] = fold\n",
    "# large.groupby([\"fold\", \"class_name\"])[[\"eeg_id\"]].count().T"
   ]
  },
  {
   "cell_type": "markdown",
   "id": "ccf83aa4",
   "metadata": {
    "papermill": {
     "duration": 0.018562,
     "end_time": "2024-03-09T19:40:00.641755",
     "exception": false,
     "start_time": "2024-03-09T19:40:00.623193",
     "status": "completed"
    },
    "tags": []
   },
   "source": [
    "## Build Train & Valid Dataset\n",
    "\n",
    "Only first sample for each `spectrogram_id` is used in order to keep the dataset size managable. Feel free to train on full data."
   ]
  },
  {
   "cell_type": "code",
   "execution_count": 13,
   "id": "1351551b",
   "metadata": {
    "execution": {
     "iopub.execute_input": "2024-03-09T19:40:00.680708Z",
     "iopub.status.busy": "2024-03-09T19:40:00.679842Z",
     "iopub.status.idle": "2024-03-09T19:40:04.026554Z",
     "shell.execute_reply": "2024-03-09T19:40:04.025704Z"
    },
    "papermill": {
     "duration": 3.368546,
     "end_time": "2024-03-09T19:40:04.028829",
     "exception": false,
     "start_time": "2024-03-09T19:40:00.660283",
     "status": "completed"
    },
    "tags": []
   },
   "outputs": [
    {
     "name": "stdout",
     "output_type": "stream",
     "text": [
      "# Num Train: 9166 | Num Valid: 1972\n"
     ]
    }
   ],
   "source": [
    "# Sample from full data\n",
    "sample_df = df.groupby(\"spectrogram_id\").head(1).reset_index(drop=True)\n",
    "train_df = sample_df[sample_df.fold != CFG.fold]\n",
    "train_df_l5 = train_df[train_df['kl'] < 5.5].copy()\n",
    "valid_df = sample_df[sample_df.fold == CFG.fold]\n",
    "print(f\"# Num Train: {len(train_df)} | Num Valid: {len(valid_df)}\")\n",
    "\n",
    "# Train\n",
    "train_paths = train_df.spec2_path.values\n",
    "train_offsets = train_df.spectrogram_label_offset_seconds.values.astype(int)\n",
    "train_labels = train_df.class_label.values\n",
    "train_ds = build_dataset(train_paths, train_offsets, train_labels, batch_size=CFG.batch_size,\n",
    "                         repeat=True, shuffle=True, augment=True, cache=True)\n",
    "\n",
    "train_paths_l5 = train_df_l5.spec2_path.values\n",
    "train_offsets_l5 = train_df_l5.spectrogram_label_offset_seconds.values.astype(int)\n",
    "train_labels_l5 = train_df_l5.class_label.values\n",
    "train_ds_l5 = build_dataset(train_paths_l5, train_offsets_l5, train_labels_l5, batch_size=CFG.batch_size,\n",
    "                         repeat=True, shuffle=True, augment=True, cache=True)\n",
    "\n",
    "# Valid\n",
    "valid_paths = valid_df.spec2_path.values\n",
    "valid_offsets = valid_df.spectrogram_label_offset_seconds.values.astype(int)\n",
    "valid_labels = valid_df.class_label.values\n",
    "valid_ds = build_dataset(valid_paths, valid_offsets, valid_labels, batch_size=CFG.batch_size,\n",
    "                         repeat=False, shuffle=False, augment=False, cache=True)\n",
    "\n",
    "\n",
    "# # Sample from full data for small\n",
    "# # sample_df_small = small.groupby(\"spectrogram_id\").head(2).reset_index(drop=True)\n",
    "# # train_df_small = sample_df_small[sample_df_small.fold != CFG.fold]\n",
    "# # valid_df_small = sample_df_small[sample_df_small.fold == CFG.fold]\n",
    "# # print(f\"# Num Train small: {len(train_df_small)} | Num Valid small: {len(valid_df_small)}\")\n",
    "\n",
    "# # # Train\n",
    "# # train_paths_small = train_df_small.spec2_path.values\n",
    "# # train_offsets_small = train_df_small.spectrogram_label_offset_seconds.values.astype(int)\n",
    "# # train_labels_small = train_df_small.class_label.values\n",
    "# # train_ds_small = build_dataset(train_paths_small, train_offsets_small, train_labels_small, batch_size=CFG.batch_size,\n",
    "# #                          repeat=True, shuffle=True, augment=True, cache=True)\n",
    "\n",
    "# # # Valid\n",
    "# # valid_paths_small = valid_df_small.spec2_path.values\n",
    "# # valid_offsets_small = valid_df_small.spectrogram_label_offset_seconds.values.astype(int)\n",
    "# # valid_labels_small = valid_df_small.class_label.values\n",
    "# # valid_ds_small = build_dataset(valid_paths_small, valid_offsets_small, valid_labels_small, batch_size=CFG.batch_size,\n",
    "# #                          repeat=False, shuffle=False, augment=False, cache=True)\n",
    "\n",
    "\n",
    "\n",
    "# # # Sample from full data for large\n",
    "# sample_df_large = large.groupby(\"spectrogram_id\").head(2).reset_index(drop=True)\n",
    "# train_df_large = sample_df_large[sample_df_large.fold != CFG.fold]\n",
    "# valid_df_large = sample_df_large[sample_df_large.fold == CFG.fold]\n",
    "# print(f\"# Num Train large: {len(train_df_large)} | Num Valid small: {len(valid_df_large)}\")\n",
    "\n",
    "# # Train\n",
    "# train_paths_large = train_df_large.spec2_path.values\n",
    "# train_offsets_large = train_df_large.spectrogram_label_offset_seconds.values.astype(int)\n",
    "# train_labels_large = train_df_large.class_label.values\n",
    "# train_ds_large = build_dataset(train_paths_large, train_offsets_large, train_labels_large, batch_size=CFG.batch_size,\n",
    "#                          repeat=True, shuffle=True, augment=True, cache=True)\n",
    "\n",
    "# # Valid\n",
    "# valid_paths_large = valid_df_large.spec2_path.values\n",
    "# valid_offsets_large = valid_df_large.spectrogram_label_offset_seconds.values.astype(int)\n",
    "# valid_labels_large = valid_df_large.class_label.values\n",
    "# valid_ds_large = build_dataset(valid_paths_large, valid_offsets_large, valid_labels_large, batch_size=CFG.batch_size,\n",
    "#                          repeat=False, shuffle=False, augment=False, cache=True)"
   ]
  },
  {
   "cell_type": "markdown",
   "id": "af3b15ed",
   "metadata": {
    "papermill": {
     "duration": 0.018427,
     "end_time": "2024-03-09T19:40:04.066645",
     "exception": false,
     "start_time": "2024-03-09T19:40:04.048218",
     "status": "completed"
    },
    "tags": []
   },
   "source": [
    "## Dataset Check\n",
    "\n",
    "Let's visualize some samples from the dataset."
   ]
  },
  {
   "cell_type": "code",
   "execution_count": 14,
   "id": "057e5b36",
   "metadata": {
    "_kg_hide-input": true,
    "execution": {
     "iopub.execute_input": "2024-03-09T19:40:04.105406Z",
     "iopub.status.busy": "2024-03-09T19:40:04.104851Z",
     "iopub.status.idle": "2024-03-09T19:40:04.109084Z",
     "shell.execute_reply": "2024-03-09T19:40:04.108207Z"
    },
    "papermill": {
     "duration": 0.025618,
     "end_time": "2024-03-09T19:40:04.110917",
     "exception": false,
     "start_time": "2024-03-09T19:40:04.085299",
     "status": "completed"
    },
    "tags": []
   },
   "outputs": [],
   "source": [
    "# imgs, tars = next(iter(train_ds_small))\n",
    "\n",
    "# num_imgs = 8\n",
    "# plt.figure(figsize=(4*4, num_imgs//4*5))\n",
    "# for i in range(num_imgs):\n",
    "#     plt.subplot(num_imgs//4, 4, i + 1)\n",
    "#     img = imgs[i].numpy()[...,0]  # Adjust as per your image data format\n",
    "#     img -= img.min()\n",
    "#     img /= img.max() + 1e-4\n",
    "#     tar = CFG.label2name[np.argmax(tars[i].numpy())]\n",
    "#     plt.imshow(img)\n",
    "#     plt.title(f\"Target: {tar}\")\n",
    "#     plt.axis('off')\n",
    "    \n",
    "# plt.tight_layout()\n",
    "# plt.show()"
   ]
  },
  {
   "cell_type": "markdown",
   "id": "1c52cf88",
   "metadata": {
    "papermill": {
     "duration": 0.018557,
     "end_time": "2024-03-09T19:40:04.148180",
     "exception": false,
     "start_time": "2024-03-09T19:40:04.129623",
     "status": "completed"
    },
    "tags": []
   },
   "source": [
    "# 🔍 | Loss & Metric\n",
    "\n",
    "The evaluation metric in this competition is **KL Divergence**, defined as,\n",
    "\n",
    "$$\n",
    "D_{\\text{KL}}(P \\parallel Q) = \\sum_{i} P(i) \\log\\left(\\frac{P(i)}{Q(i)}\\right)\n",
    "$$\n",
    "\n",
    "Where:\n",
    "- $P$ is the true distribution.\n",
    "- $Q$ is the predicted distribution.\n",
    "\n",
    "Interestingly, as KL Divergence is differentiable, we can directly use it as our loss function. Thus, we don't need to use a third-party metric like **Accuracy** to evaluate our model. Therefore, `valid_loss` can stand alone as an indicator for our evaluation. In keras, we already have impelementation for KL Divergence loss so we only need to import it."
   ]
  },
  {
   "cell_type": "code",
   "execution_count": 15,
   "id": "07c9a874",
   "metadata": {
    "execution": {
     "iopub.execute_input": "2024-03-09T19:40:04.186711Z",
     "iopub.status.busy": "2024-03-09T19:40:04.186428Z",
     "iopub.status.idle": "2024-03-09T19:40:04.190545Z",
     "shell.execute_reply": "2024-03-09T19:40:04.189745Z"
    },
    "papermill": {
     "duration": 0.025484,
     "end_time": "2024-03-09T19:40:04.192297",
     "exception": false,
     "start_time": "2024-03-09T19:40:04.166813",
     "status": "completed"
    },
    "tags": []
   },
   "outputs": [],
   "source": [
    "LOSS = keras.losses.KLDivergence()"
   ]
  },
  {
   "cell_type": "markdown",
   "id": "6b2c976e",
   "metadata": {
    "papermill": {
     "duration": 0.018365,
     "end_time": "2024-03-09T19:40:04.229140",
     "exception": false,
     "start_time": "2024-03-09T19:40:04.210775",
     "status": "completed"
    },
    "tags": []
   },
   "source": [
    "# 🤖 | Modeling\n",
    "\n",
    "This notebook uses the `EfficientNetV2 B2` from KerasCV's collection of pretrained models. To explore other models, simply modify the `preset` in the `CFG` (config). Check the [KerasCV website](https://keras.io/api/keras_cv/models/tasks/image_classifier/) for a list of available pretrained models."
   ]
  },
  {
   "cell_type": "code",
   "execution_count": 16,
   "id": "bc5da9ee",
   "metadata": {
    "execution": {
     "iopub.execute_input": "2024-03-09T19:40:04.267605Z",
     "iopub.status.busy": "2024-03-09T19:40:04.267354Z",
     "iopub.status.idle": "2024-03-09T19:40:27.697881Z",
     "shell.execute_reply": "2024-03-09T19:40:27.697060Z"
    },
    "papermill": {
     "duration": 23.452343,
     "end_time": "2024-03-09T19:40:27.700124",
     "exception": false,
     "start_time": "2024-03-09T19:40:04.247781",
     "status": "completed"
    },
    "tags": []
   },
   "outputs": [
    {
     "name": "stderr",
     "output_type": "stream",
     "text": [
      "Attaching 'config.json' from model 'keras/efficientnetv2/keras/efficientnetv2_b2_imagenet/2' to your Kaggle notebook...\n",
      "Attaching 'config.json' from model 'keras/efficientnetv2/keras/efficientnetv2_b2_imagenet/2' to your Kaggle notebook...\n",
      "Attaching 'model.weights.h5' from model 'keras/efficientnetv2/keras/efficientnetv2_b2_imagenet/2' to your Kaggle notebook...\n"
     ]
    }
   ],
   "source": [
    "# Build Classifier\n",
    "model = keras_cv.models.ImageClassifier.from_preset(\n",
    "    CFG.preset, num_classes=CFG.num_classes\n",
    ")\n",
    "\n",
    "# Compile the model  \n",
    "model.compile(optimizer=keras.optimizers.Adam(learning_rate=1e-4),\n",
    "              loss=LOSS)\n",
    "\n",
    "# # Model Sumamry\n",
    "# model_small.summary()"
   ]
  },
  {
   "cell_type": "markdown",
   "id": "6edcdfc5",
   "metadata": {
    "papermill": {
     "duration": 0.019042,
     "end_time": "2024-03-09T19:40:27.738786",
     "exception": false,
     "start_time": "2024-03-09T19:40:27.719744",
     "status": "completed"
    },
    "tags": []
   },
   "source": [
    "# ⚓ | LR Schedule\n",
    "\n",
    "A well-structured learning rate schedule is essential for efficient model training, ensuring optimal convergence and avoiding issues such as overshooting or stagnation."
   ]
  },
  {
   "cell_type": "code",
   "execution_count": 17,
   "id": "f528f5ff",
   "metadata": {
    "execution": {
     "iopub.execute_input": "2024-03-09T19:40:27.778359Z",
     "iopub.status.busy": "2024-03-09T19:40:27.777969Z",
     "iopub.status.idle": "2024-03-09T19:40:27.788381Z",
     "shell.execute_reply": "2024-03-09T19:40:27.787517Z"
    },
    "papermill": {
     "duration": 0.032468,
     "end_time": "2024-03-09T19:40:27.790244",
     "exception": false,
     "start_time": "2024-03-09T19:40:27.757776",
     "status": "completed"
    },
    "tags": []
   },
   "outputs": [],
   "source": [
    "import math\n",
    "\n",
    "def get_lr_callback(batch_size=8, mode='cos', epochs=10, plot=False):\n",
    "    lr_start, lr_max, lr_min = 5e-5, 6e-6 * batch_size, 1e-5\n",
    "    lr_ramp_ep, lr_sus_ep, lr_decay = 3, 0, 0.75\n",
    "\n",
    "    def lrfn(epoch):  # Learning rate update function\n",
    "        if epoch < lr_ramp_ep: lr = (lr_max - lr_start) / lr_ramp_ep * epoch + lr_start\n",
    "        elif epoch < lr_ramp_ep + lr_sus_ep: lr = lr_max\n",
    "        elif mode == 'exp': lr = (lr_max - lr_min) * lr_decay**(epoch - lr_ramp_ep - lr_sus_ep) + lr_min\n",
    "        elif mode == 'step': lr = lr_max * lr_decay**((epoch - lr_ramp_ep - lr_sus_ep) // 2)\n",
    "        elif mode == 'cos':\n",
    "            decay_total_epochs, decay_epoch_index = epochs - lr_ramp_ep - lr_sus_ep + 3, epoch - lr_ramp_ep - lr_sus_ep\n",
    "            phase = math.pi * decay_epoch_index / decay_total_epochs\n",
    "            lr = (lr_max - lr_min) * 0.5 * (1 + math.cos(phase)) + lr_min\n",
    "        return lr\n",
    "\n",
    "    if plot:  # Plot lr curve if plot is True\n",
    "        plt.figure(figsize=(10, 5))\n",
    "        plt.plot(np.arange(epochs), [lrfn(epoch) for epoch in np.arange(epochs)], marker='o')\n",
    "        plt.xlabel('epoch'); plt.ylabel('lr')\n",
    "        plt.title('LR Scheduler')\n",
    "        plt.show()\n",
    "\n",
    "    return keras.callbacks.LearningRateScheduler(lrfn, verbose=False)  # Create lr callback"
   ]
  },
  {
   "cell_type": "code",
   "execution_count": 18,
   "id": "6f9f741d",
   "metadata": {
    "execution": {
     "iopub.execute_input": "2024-03-09T19:40:27.829764Z",
     "iopub.status.busy": "2024-03-09T19:40:27.829000Z",
     "iopub.status.idle": "2024-03-09T19:40:28.140697Z",
     "shell.execute_reply": "2024-03-09T19:40:28.139846Z"
    },
    "papermill": {
     "duration": 0.333879,
     "end_time": "2024-03-09T19:40:28.143027",
     "exception": false,
     "start_time": "2024-03-09T19:40:27.809148",
     "status": "completed"
    },
    "tags": []
   },
   "outputs": [
    {
     "data": {
      "image/png": "[encoded data removed]",
      "text/plain": [
       "<Figure size 1000x500 with 1 Axes>"
      ]
     },
     "metadata": {},
     "output_type": "display_data"
    }
   ],
   "source": [
    "lr_cb = get_lr_callback(CFG.batch_size, mode=CFG.lr_mode, plot=True)"
   ]
  },
  {
   "cell_type": "markdown",
   "id": "7813fc65",
   "metadata": {
    "papermill": {
     "duration": 0.019485,
     "end_time": "2024-03-09T19:40:28.182445",
     "exception": false,
     "start_time": "2024-03-09T19:40:28.162960",
     "status": "completed"
    },
    "tags": []
   },
   "source": [
    "# 💾 | Model Checkpointing"
   ]
  },
  {
   "cell_type": "code",
   "execution_count": 19,
   "id": "9a214f31",
   "metadata": {
    "execution": {
     "iopub.execute_input": "2024-03-09T19:40:28.223088Z",
     "iopub.status.busy": "2024-03-09T19:40:28.222779Z",
     "iopub.status.idle": "2024-03-09T19:40:28.227230Z",
     "shell.execute_reply": "2024-03-09T19:40:28.226388Z"
    },
    "papermill": {
     "duration": 0.027061,
     "end_time": "2024-03-09T19:40:28.229065",
     "exception": false,
     "start_time": "2024-03-09T19:40:28.202004",
     "status": "completed"
    },
    "tags": []
   },
   "outputs": [],
   "source": [
    "ckpt_cb = keras.callbacks.ModelCheckpoint(\"best_model.keras\",\n",
    "                                         monitor='val_loss',\n",
    "                                         save_best_only=True,\n",
    "                                         save_weights_only=False,\n",
    "                                         mode='min')"
   ]
  },
  {
   "cell_type": "markdown",
   "id": "894b26d1",
   "metadata": {
    "papermill": {
     "duration": 0.019615,
     "end_time": "2024-03-09T19:40:28.268282",
     "exception": false,
     "start_time": "2024-03-09T19:40:28.248667",
     "status": "completed"
    },
    "tags": []
   },
   "source": [
    "# 🚂 | Training"
   ]
  },
  {
   "cell_type": "code",
   "execution_count": 20,
   "id": "d8a16fa4",
   "metadata": {
    "execution": {
     "iopub.execute_input": "2024-03-09T19:40:28.308582Z",
     "iopub.status.busy": "2024-03-09T19:40:28.308313Z",
     "iopub.status.idle": "2024-03-09T19:51:18.104883Z",
     "shell.execute_reply": "2024-03-09T19:51:18.103854Z"
    },
    "papermill": {
     "duration": 649.819643,
     "end_time": "2024-03-09T19:51:18.107384",
     "exception": false,
     "start_time": "2024-03-09T19:40:28.287741",
     "status": "completed"
    },
    "tags": []
   },
   "outputs": [
    {
     "name": "stdout",
     "output_type": "stream",
     "text": [
      "Epoch 1/8\n",
      "\u001b[1m143/143\u001b[0m \u001b[32m━━━━━━━━━━━━━━━━━━━━\u001b[0m\u001b[37m\u001b[0m \u001b[1m150s\u001b[0m 621ms/step - loss: 1.4397 - val_loss: 1.3588 - learning_rate: 5.0000e-05\n",
      "Epoch 2/8\n",
      "\u001b[1m143/143\u001b[0m \u001b[32m━━━━━━━━━━━━━━━━━━━━\u001b[0m\u001b[37m\u001b[0m \u001b[1m71s\u001b[0m 497ms/step - loss: 1.1445 - val_loss: 1.0679 - learning_rate: 1.6133e-04\n",
      "Epoch 3/8\n",
      "\u001b[1m143/143\u001b[0m \u001b[32m━━━━━━━━━━━━━━━━━━━━\u001b[0m\u001b[37m\u001b[0m \u001b[1m71s\u001b[0m 494ms/step - loss: 1.0001 - val_loss: 0.9623 - learning_rate: 2.7267e-04\n",
      "Epoch 4/8\n",
      "\u001b[1m143/143\u001b[0m \u001b[32m━━━━━━━━━━━━━━━━━━━━\u001b[0m\u001b[37m\u001b[0m \u001b[1m71s\u001b[0m 496ms/step - loss: 0.8828 - val_loss: 0.9291 - learning_rate: 3.8400e-04\n",
      "Epoch 5/8\n",
      "\u001b[1m143/143\u001b[0m \u001b[32m━━━━━━━━━━━━━━━━━━━━\u001b[0m\u001b[37m\u001b[0m \u001b[1m71s\u001b[0m 495ms/step - loss: 0.8308 - val_loss: 0.8585 - learning_rate: 3.7485e-04\n",
      "Epoch 6/8\n",
      "\u001b[1m143/143\u001b[0m \u001b[32m━━━━━━━━━━━━━━━━━━━━\u001b[0m\u001b[37m\u001b[0m \u001b[1m69s\u001b[0m 486ms/step - loss: 0.7985 - val_loss: 0.8906 - learning_rate: 3.4829e-04\n",
      "Epoch 7/8\n",
      "\u001b[1m143/143\u001b[0m \u001b[32m━━━━━━━━━━━━━━━━━━━━\u001b[0m\u001b[37m\u001b[0m \u001b[1m71s\u001b[0m 496ms/step - loss: 0.7272 - val_loss: 0.8540 - learning_rate: 3.0692e-04\n",
      "Epoch 8/8\n",
      "\u001b[1m143/143\u001b[0m \u001b[32m━━━━━━━━━━━━━━━━━━━━\u001b[0m\u001b[37m\u001b[0m \u001b[1m70s\u001b[0m 488ms/step - loss: 0.6930 - val_loss: 0.8699 - learning_rate: 2.5479e-04\n"
     ]
    }
   ],
   "source": [
    "history = model.fit(\n",
    "    train_ds, \n",
    "    epochs=8,\n",
    "    callbacks=[lr_cb, ckpt_cb], \n",
    "    steps_per_epoch=len(train_df)//CFG.batch_size,\n",
    "    validation_data=valid_ds, \n",
    "    verbose=CFG.verbose\n",
    ")"
   ]
  },
  {
   "cell_type": "code",
   "execution_count": 21,
   "id": "5869bc75",
   "metadata": {
    "execution": {
     "iopub.execute_input": "2024-03-09T19:51:18.329513Z",
     "iopub.status.busy": "2024-03-09T19:51:18.328624Z",
     "iopub.status.idle": "2024-03-09T19:51:25.699701Z",
     "shell.execute_reply": "2024-03-09T19:51:25.698884Z"
    },
    "papermill": {
     "duration": 7.48456,
     "end_time": "2024-03-09T19:51:25.702142",
     "exception": false,
     "start_time": "2024-03-09T19:51:18.217582",
     "status": "completed"
    },
    "tags": []
   },
   "outputs": [],
   "source": [
    "model.load_weights(\"best_model.keras\")"
   ]
  },
  {
   "cell_type": "code",
   "execution_count": 22,
   "id": "8948ba4f",
   "metadata": {
    "execution": {
     "iopub.execute_input": "2024-03-09T19:51:25.924397Z",
     "iopub.status.busy": "2024-03-09T19:51:25.923554Z",
     "iopub.status.idle": "2024-03-09T19:53:46.028535Z",
     "shell.execute_reply": "2024-03-09T19:53:46.027490Z"
    },
    "papermill": {
     "duration": 140.218012,
     "end_time": "2024-03-09T19:53:46.031022",
     "exception": false,
     "start_time": "2024-03-09T19:51:25.813010",
     "status": "completed"
    },
    "tags": []
   },
   "outputs": [
    {
     "name": "stdout",
     "output_type": "stream",
     "text": [
      "Epoch 1/8\n",
      "\u001b[1m27/27\u001b[0m \u001b[32m━━━━━━━━━━━━━━━━━━━━\u001b[0m\u001b[37m\u001b[0m \u001b[1m18s\u001b[0m 651ms/step - loss: 0.9212 - val_loss: 0.8544 - learning_rate: 5.0000e-05\n",
      "Epoch 2/8\n",
      "\u001b[1m27/27\u001b[0m \u001b[32m━━━━━━━━━━━━━━━━━━━━\u001b[0m\u001b[37m\u001b[0m \u001b[1m17s\u001b[0m 635ms/step - loss: 0.8588 - val_loss: 0.9222 - learning_rate: 1.6133e-04\n",
      "Epoch 3/8\n",
      "\u001b[1m27/27\u001b[0m \u001b[32m━━━━━━━━━━━━━━━━━━━━\u001b[0m\u001b[37m\u001b[0m \u001b[1m17s\u001b[0m 642ms/step - loss: 0.8269 - val_loss: 0.9412 - learning_rate: 2.7267e-04\n",
      "Epoch 4/8\n",
      "\u001b[1m27/27\u001b[0m \u001b[32m━━━━━━━━━━━━━━━━━━━━\u001b[0m\u001b[37m\u001b[0m \u001b[1m17s\u001b[0m 640ms/step - loss: 0.7594 - val_loss: 0.9585 - learning_rate: 3.8400e-04\n",
      "Epoch 5/8\n",
      "\u001b[1m27/27\u001b[0m \u001b[32m━━━━━━━━━━━━━━━━━━━━\u001b[0m\u001b[37m\u001b[0m \u001b[1m17s\u001b[0m 634ms/step - loss: 0.7167 - val_loss: 1.0409 - learning_rate: 3.7485e-04\n",
      "Epoch 6/8\n",
      "\u001b[1m27/27\u001b[0m \u001b[32m━━━━━━━━━━━━━━━━━━━━\u001b[0m\u001b[37m\u001b[0m \u001b[1m17s\u001b[0m 634ms/step - loss: 0.6933 - val_loss: 1.0186 - learning_rate: 3.4829e-04\n",
      "Epoch 7/8\n",
      "\u001b[1m27/27\u001b[0m \u001b[32m━━━━━━━━━━━━━━━━━━━━\u001b[0m\u001b[37m\u001b[0m \u001b[1m17s\u001b[0m 635ms/step - loss: 0.6780 - val_loss: 1.0875 - learning_rate: 3.0692e-04\n",
      "Epoch 8/8\n",
      "\u001b[1m27/27\u001b[0m \u001b[32m━━━━━━━━━━━━━━━━━━━━\u001b[0m\u001b[37m\u001b[0m \u001b[1m17s\u001b[0m 628ms/step - loss: 0.6442 - val_loss: 1.0205 - learning_rate: 2.5479e-04\n"
     ]
    }
   ],
   "source": [
    "history = model.fit(\n",
    "    train_ds_l5, \n",
    "    epochs=8,\n",
    "    callbacks=[lr_cb, ckpt_cb], \n",
    "    steps_per_epoch=len(train_df_l5)//CFG.batch_size,\n",
    "    validation_data=valid_ds, \n",
    "    verbose=CFG.verbose\n",
    ")"
   ]
  },
  {
   "cell_type": "code",
   "execution_count": 23,
   "id": "0fd082c7",
   "metadata": {
    "execution": {
     "iopub.execute_input": "2024-03-09T19:53:46.292036Z",
     "iopub.status.busy": "2024-03-09T19:53:46.291150Z",
     "iopub.status.idle": "2024-03-09T19:53:53.479154Z",
     "shell.execute_reply": "2024-03-09T19:53:53.478325Z"
    },
    "papermill": {
     "duration": 7.320286,
     "end_time": "2024-03-09T19:53:53.481421",
     "exception": false,
     "start_time": "2024-03-09T19:53:46.161135",
     "status": "completed"
    },
    "tags": []
   },
   "outputs": [],
   "source": [
    "model.load_weights(\"best_model.keras\")"
   ]
  },
  {
   "cell_type": "markdown",
   "id": "9280eb47",
   "metadata": {
    "papermill": {
     "duration": 0.129235,
     "end_time": "2024-03-09T19:53:53.741903",
     "exception": false,
     "start_time": "2024-03-09T19:53:53.612668",
     "status": "completed"
    },
    "tags": []
   },
   "source": [
    "## Get preds for small\n",
    "\n"
   ]
  },
  {
   "cell_type": "code",
   "execution_count": 24,
   "id": "8db5a59b",
   "metadata": {
    "execution": {
     "iopub.execute_input": "2024-03-09T19:53:54.046609Z",
     "iopub.status.busy": "2024-03-09T19:53:54.046246Z",
     "iopub.status.idle": "2024-03-09T19:53:54.050291Z",
     "shell.execute_reply": "2024-03-09T19:53:54.049414Z"
    },
    "papermill": {
     "duration": 0.182203,
     "end_time": "2024-03-09T19:53:54.052125",
     "exception": false,
     "start_time": "2024-03-09T19:53:53.869922",
     "status": "completed"
    },
    "tags": []
   },
   "outputs": [],
   "source": [
    "# model_small.load_weights(\"best_model_small.keras\")"
   ]
  },
  {
   "cell_type": "code",
   "execution_count": 25,
   "id": "4a053dff",
   "metadata": {
    "execution": {
     "iopub.execute_input": "2024-03-09T19:53:54.312420Z",
     "iopub.status.busy": "2024-03-09T19:53:54.312070Z",
     "iopub.status.idle": "2024-03-09T19:53:54.316219Z",
     "shell.execute_reply": "2024-03-09T19:53:54.315321Z"
    },
    "papermill": {
     "duration": 0.13669,
     "end_time": "2024-03-09T19:53:54.318312",
     "exception": false,
     "start_time": "2024-03-09T19:53:54.181622",
     "status": "completed"
    },
    "tags": []
   },
   "outputs": [],
   "source": [
    "# test_paths = test_df.spec2_path.values\n",
    "# test_ds = build_dataset(test_paths, batch_size=min(CFG.batch_size, len(test_df)),\n",
    "#                          repeat=False, shuffle=False, cache=False, augment=False)"
   ]
  },
  {
   "cell_type": "code",
   "execution_count": 26,
   "id": "5466a124",
   "metadata": {
    "execution": {
     "iopub.execute_input": "2024-03-09T19:53:54.582667Z",
     "iopub.status.busy": "2024-03-09T19:53:54.581932Z",
     "iopub.status.idle": "2024-03-09T19:53:54.586137Z",
     "shell.execute_reply": "2024-03-09T19:53:54.585207Z"
    },
    "papermill": {
     "duration": 0.138857,
     "end_time": "2024-03-09T19:53:54.588044",
     "exception": false,
     "start_time": "2024-03-09T19:53:54.449187",
     "status": "completed"
    },
    "tags": []
   },
   "outputs": [],
   "source": [
    "# preds_small = model_small.predict(test_ds)"
   ]
  },
  {
   "cell_type": "code",
   "execution_count": 27,
   "id": "03c9e42d",
   "metadata": {
    "execution": {
     "iopub.execute_input": "2024-03-09T19:53:54.848494Z",
     "iopub.status.busy": "2024-03-09T19:53:54.847645Z",
     "iopub.status.idle": "2024-03-09T19:53:54.851795Z",
     "shell.execute_reply": "2024-03-09T19:53:54.850917Z"
    },
    "papermill": {
     "duration": 0.136124,
     "end_time": "2024-03-09T19:53:54.853668",
     "exception": false,
     "start_time": "2024-03-09T19:53:54.717544",
     "status": "completed"
    },
    "tags": []
   },
   "outputs": [],
   "source": [
    "# preds_small"
   ]
  },
  {
   "cell_type": "code",
   "execution_count": 28,
   "id": "3b0082a4",
   "metadata": {
    "execution": {
     "iopub.execute_input": "2024-03-09T19:53:55.117597Z",
     "iopub.status.busy": "2024-03-09T19:53:55.116871Z",
     "iopub.status.idle": "2024-03-09T19:53:55.121087Z",
     "shell.execute_reply": "2024-03-09T19:53:55.120200Z"
    },
    "papermill": {
     "duration": 0.140267,
     "end_time": "2024-03-09T19:53:55.122951",
     "exception": false,
     "start_time": "2024-03-09T19:53:54.982684",
     "status": "completed"
    },
    "tags": []
   },
   "outputs": [],
   "source": [
    "# import gc\n",
    "# from keras import backend as k\n",
    "# # Free up memory\n",
    "# k.clear_session()\n",
    "# del model_small\n",
    "# gc.collect()"
   ]
  },
  {
   "cell_type": "markdown",
   "id": "01b28cf9",
   "metadata": {
    "papermill": {
     "duration": 0.129821,
     "end_time": "2024-03-09T19:53:55.400870",
     "exception": false,
     "start_time": "2024-03-09T19:53:55.271049",
     "status": "completed"
    },
    "tags": []
   },
   "source": [
    "# Training for large"
   ]
  },
  {
   "cell_type": "code",
   "execution_count": 29,
   "id": "35a1086e",
   "metadata": {
    "execution": {
     "iopub.execute_input": "2024-03-09T19:53:55.666263Z",
     "iopub.status.busy": "2024-03-09T19:53:55.665492Z",
     "iopub.status.idle": "2024-03-09T19:53:55.670346Z",
     "shell.execute_reply": "2024-03-09T19:53:55.669465Z"
    },
    "papermill": {
     "duration": 0.140283,
     "end_time": "2024-03-09T19:53:55.672215",
     "exception": false,
     "start_time": "2024-03-09T19:53:55.531932",
     "status": "completed"
    },
    "tags": []
   },
   "outputs": [],
   "source": [
    "# # Build Classifier\n",
    "# model_large = keras_cv.models.ImageClassifier.from_preset(\n",
    "#     CFG.preset, num_classes=CFG.num_classes\n",
    "# )\n",
    "\n",
    "# # Compile the model  \n",
    "# model_large.compile(optimizer=keras.optimizers.Adam(learning_rate=1e-4),\n",
    "#               loss=LOSS)\n",
    "\n",
    "# # Model Sumamry\n",
    "# model_large.summary()\n",
    "\n",
    "# lr_cb = get_lr_callback(CFG.batch_size, mode=CFG.lr_mode, plot=True)\n",
    "\n",
    "# ckpt_cb = keras.callbacks.ModelCheckpoint(\"best_model_large.keras\",\n",
    "#                                          monitor='val_loss',\n",
    "#                                          save_best_only=True,\n",
    "#                                          save_weights_only=False,\n",
    "#                                          mode='min')"
   ]
  },
  {
   "cell_type": "code",
   "execution_count": 30,
   "id": "6358e07a",
   "metadata": {
    "execution": {
     "iopub.execute_input": "2024-03-09T19:53:55.932299Z",
     "iopub.status.busy": "2024-03-09T19:53:55.931964Z",
     "iopub.status.idle": "2024-03-09T19:53:55.936166Z",
     "shell.execute_reply": "2024-03-09T19:53:55.935260Z"
    },
    "papermill": {
     "duration": 0.136399,
     "end_time": "2024-03-09T19:53:55.938038",
     "exception": false,
     "start_time": "2024-03-09T19:53:55.801639",
     "status": "completed"
    },
    "tags": []
   },
   "outputs": [],
   "source": [
    "# history = model_large.fit(\n",
    "#     train_ds_large, \n",
    "#     epochs=CFG.epochs,\n",
    "#     callbacks=[lr_cb, ckpt_cb], \n",
    "#     steps_per_epoch=len(train_df_large)//CFG.batch_size,\n",
    "#     validation_data=valid_ds_large, \n",
    "#     verbose=CFG.verbose\n",
    "# )"
   ]
  },
  {
   "cell_type": "markdown",
   "id": "7a3fa4cd",
   "metadata": {
    "papermill": {
     "duration": 0.129689,
     "end_time": "2024-03-09T19:53:56.197586",
     "exception": false,
     "start_time": "2024-03-09T19:53:56.067897",
     "status": "completed"
    },
    "tags": []
   },
   "source": [
    "# 🧪 | Prediction"
   ]
  },
  {
   "cell_type": "markdown",
   "id": "635f0d25",
   "metadata": {
    "papermill": {
     "duration": 0.130281,
     "end_time": "2024-03-09T19:53:56.458195",
     "exception": false,
     "start_time": "2024-03-09T19:53:56.327914",
     "status": "completed"
    },
    "tags": []
   },
   "source": [
    "## Load Best Model"
   ]
  },
  {
   "cell_type": "code",
   "execution_count": 31,
   "id": "d11381a5",
   "metadata": {
    "execution": {
     "iopub.execute_input": "2024-03-09T19:53:56.725556Z",
     "iopub.status.busy": "2024-03-09T19:53:56.725170Z",
     "iopub.status.idle": "2024-03-09T19:53:56.729435Z",
     "shell.execute_reply": "2024-03-09T19:53:56.728371Z"
    },
    "papermill": {
     "duration": 0.14105,
     "end_time": "2024-03-09T19:53:56.731474",
     "exception": false,
     "start_time": "2024-03-09T19:53:56.590424",
     "status": "completed"
    },
    "tags": []
   },
   "outputs": [],
   "source": [
    "# model_large.load_weights(\"best_model_large.keras\")"
   ]
  },
  {
   "cell_type": "markdown",
   "id": "771dfb1d",
   "metadata": {
    "papermill": {
     "duration": 0.129546,
     "end_time": "2024-03-09T19:53:56.991818",
     "exception": false,
     "start_time": "2024-03-09T19:53:56.862272",
     "status": "completed"
    },
    "tags": []
   },
   "source": [
    "## Build Test Dataset"
   ]
  },
  {
   "cell_type": "markdown",
   "id": "647447af",
   "metadata": {
    "papermill": {
     "duration": 0.129857,
     "end_time": "2024-03-09T19:53:57.250404",
     "exception": false,
     "start_time": "2024-03-09T19:53:57.120547",
     "status": "completed"
    },
    "tags": []
   },
   "source": [
    "## Inference"
   ]
  },
  {
   "cell_type": "code",
   "execution_count": 32,
   "id": "9e90d3c0",
   "metadata": {
    "execution": {
     "iopub.execute_input": "2024-03-09T19:53:57.559773Z",
     "iopub.status.busy": "2024-03-09T19:53:57.559214Z",
     "iopub.status.idle": "2024-03-09T19:53:57.563731Z",
     "shell.execute_reply": "2024-03-09T19:53:57.562844Z"
    },
    "papermill": {
     "duration": 0.184788,
     "end_time": "2024-03-09T19:53:57.565612",
     "exception": false,
     "start_time": "2024-03-09T19:53:57.380824",
     "status": "completed"
    },
    "tags": []
   },
   "outputs": [],
   "source": [
    "# preds_large = model_large.predict(test_ds)"
   ]
  },
  {
   "cell_type": "code",
   "execution_count": 33,
   "id": "4d85243f",
   "metadata": {
    "execution": {
     "iopub.execute_input": "2024-03-09T19:53:57.827931Z",
     "iopub.status.busy": "2024-03-09T19:53:57.827187Z",
     "iopub.status.idle": "2024-03-09T19:53:57.831314Z",
     "shell.execute_reply": "2024-03-09T19:53:57.830384Z"
    },
    "papermill": {
     "duration": 0.136715,
     "end_time": "2024-03-09T19:53:57.833223",
     "exception": false,
     "start_time": "2024-03-09T19:53:57.696508",
     "status": "completed"
    },
    "tags": []
   },
   "outputs": [],
   "source": [
    "# k.clear_session()\n",
    "# del model_large\n",
    "# gc.collect()"
   ]
  },
  {
   "cell_type": "markdown",
   "id": "eb934f01",
   "metadata": {
    "papermill": {
     "duration": 0.130719,
     "end_time": "2024-03-09T19:53:58.094328",
     "exception": false,
     "start_time": "2024-03-09T19:53:57.963609",
     "status": "completed"
    },
    "tags": []
   },
   "source": [
    "# Load models and predict"
   ]
  },
  {
   "cell_type": "code",
   "execution_count": 34,
   "id": "3729ce11",
   "metadata": {
    "execution": {
     "iopub.execute_input": "2024-03-09T19:53:58.355725Z",
     "iopub.status.busy": "2024-03-09T19:53:58.354881Z",
     "iopub.status.idle": "2024-03-09T19:54:00.720728Z",
     "shell.execute_reply": "2024-03-09T19:54:00.719367Z"
    },
    "papermill": {
     "duration": 2.499754,
     "end_time": "2024-03-09T19:54:00.724322",
     "exception": false,
     "start_time": "2024-03-09T19:53:58.224568",
     "status": "completed"
    },
    "tags": []
   },
   "outputs": [
    {
     "data": {
      "text/html": [
       "<div>\n",
       "<style scoped>\n",
       "    .dataframe tbody tr th:only-of-type {\n",
       "        vertical-align: middle;\n",
       "    }\n",
       "\n",
       "    .dataframe tbody tr th {\n",
       "        vertical-align: top;\n",
       "    }\n",
       "\n",
       "    .dataframe thead th {\n",
       "        text-align: right;\n",
       "    }\n",
       "</style>\n",
       "<table border=\"1\" class=\"dataframe\">\n",
       "  <thead>\n",
       "    <tr style=\"text-align: right;\">\n",
       "      <th></th>\n",
       "      <th>spectrogram_id</th>\n",
       "      <th>eeg_id</th>\n",
       "      <th>patient_id</th>\n",
       "      <th>eeg_path</th>\n",
       "      <th>spec_path</th>\n",
       "      <th>spec2_path</th>\n",
       "    </tr>\n",
       "  </thead>\n",
       "  <tbody>\n",
       "    <tr>\n",
       "      <th>0</th>\n",
       "      <td>853520</td>\n",
       "      <td>3911565283</td>\n",
       "      <td>6885</td>\n",
       "      <td>/kaggle/input/hms-harmful-brain-activity-class...</td>\n",
       "      <td>/kaggle/input/hms-harmful-brain-activity-class...</td>\n",
       "      <td>/tmp/dataset/hms-hbac/test_spectrograms/853520...</td>\n",
       "    </tr>\n",
       "  </tbody>\n",
       "</table>\n",
       "</div>"
      ],
      "text/plain": [
       "   spectrogram_id      eeg_id  patient_id  \\\n",
       "0          853520  3911565283        6885   \n",
       "\n",
       "                                            eeg_path  \\\n",
       "0  /kaggle/input/hms-harmful-brain-activity-class...   \n",
       "\n",
       "                                           spec_path  \\\n",
       "0  /kaggle/input/hms-harmful-brain-activity-class...   \n",
       "\n",
       "                                          spec2_path  \n",
       "0  /tmp/dataset/hms-hbac/test_spectrograms/853520...  "
      ]
     },
     "metadata": {},
     "output_type": "display_data"
    },
    {
     "data": {
      "application/vnd.jupyter.widget-view+json": {
       "model_id": "3e3d771452b74924a6ece080859722cd",
       "version_major": 2,
       "version_minor": 0
      },
      "text/plain": [
       "  0%|          | 0/1 [00:00<?, ?it/s]"
      ]
     },
     "metadata": {},
     "output_type": "display_data"
    }
   ],
   "source": [
    "test_df = pd.read_csv(f'{BASE_PATH}/test.csv')\n",
    "test_df['eeg_path'] = f'{BASE_PATH}/test_eegs/'+test_df['eeg_id'].astype(str)+'.parquet'\n",
    "test_df['spec_path'] = f'{BASE_PATH}/test_spectrograms/'+test_df['spectrogram_id'].astype(str)+'.parquet'\n",
    "test_df['spec2_path'] = f'{SPEC_DIR}/test_spectrograms/'+test_df['spectrogram_id'].astype(str)+'.npy'\n",
    "display(test_df.head(2))\n",
    "\n",
    "def process_spec(spec_id, split=\"train\"):\n",
    "    spec_path = f\"{BASE_PATH}/{split}_spectrograms/{spec_id}.parquet\"\n",
    "    spec = pd.read_parquet(spec_path)\n",
    "    spec = spec.fillna(0).values[:, 1:].T # fill NaN values with 0, transpose for (Time, Freq) -> (Freq, Time)\n",
    "    spec = spec.astype(\"float32\")\n",
    "    np.save(f\"{SPEC_DIR}/{split}_spectrograms/{spec_id}.npy\", spec)\n",
    "    \n",
    "    \n",
    "test_spec_ids = test_df[\"spectrogram_id\"].unique()\n",
    "\n",
    "# Parallelize the processing using joblib for test data\n",
    "_ = joblib.Parallel(n_jobs=-1, backend=\"loky\")(\n",
    "    joblib.delayed(process_spec)(spec_id, \"test\")\n",
    "    for spec_id in tqdm(test_spec_ids, total=len(test_spec_ids))\n",
    ")\n",
    "\n",
    "test_paths = test_df.spec2_path.values\n",
    "test_ds = build_dataset(test_paths, batch_size=min(CFG.batch_size, len(test_df)),\n",
    "                         repeat=False, shuffle=False, cache=False, augment=False)"
   ]
  },
  {
   "cell_type": "code",
   "execution_count": null,
   "id": "186fb7ad",
   "metadata": {
    "papermill": {
     "duration": 0.129052,
     "end_time": "2024-03-09T19:54:00.994542",
     "exception": false,
     "start_time": "2024-03-09T19:54:00.865490",
     "status": "completed"
    },
    "tags": []
   },
   "outputs": [],
   "source": []
  },
  {
   "cell_type": "code",
   "execution_count": 35,
   "id": "835f3292",
   "metadata": {
    "execution": {
     "iopub.execute_input": "2024-03-09T19:54:01.253978Z",
     "iopub.status.busy": "2024-03-09T19:54:01.253278Z",
     "iopub.status.idle": "2024-03-09T19:54:01.257978Z",
     "shell.execute_reply": "2024-03-09T19:54:01.257087Z"
    },
    "papermill": {
     "duration": 0.136464,
     "end_time": "2024-03-09T19:54:01.259873",
     "exception": false,
     "start_time": "2024-03-09T19:54:01.123409",
     "status": "completed"
    },
    "tags": []
   },
   "outputs": [],
   "source": [
    "# !cp -r \"/kaggle/input/large-votes/keras/version1/1/best_model_large.keras\" ./"
   ]
  },
  {
   "cell_type": "code",
   "execution_count": 36,
   "id": "4c914c0a",
   "metadata": {
    "execution": {
     "iopub.execute_input": "2024-03-09T19:54:01.522415Z",
     "iopub.status.busy": "2024-03-09T19:54:01.521547Z",
     "iopub.status.idle": "2024-03-09T19:54:01.525997Z",
     "shell.execute_reply": "2024-03-09T19:54:01.525049Z"
    },
    "papermill": {
     "duration": 0.137779,
     "end_time": "2024-03-09T19:54:01.527951",
     "exception": false,
     "start_time": "2024-03-09T19:54:01.390172",
     "status": "completed"
    },
    "tags": []
   },
   "outputs": [],
   "source": [
    "# !cp -r \"/kaggle/input/small-votes/keras/version1/1/best_model_small-2.keras\" ./"
   ]
  },
  {
   "cell_type": "code",
   "execution_count": 37,
   "id": "f8c081da",
   "metadata": {
    "execution": {
     "iopub.execute_input": "2024-03-09T19:54:01.791827Z",
     "iopub.status.busy": "2024-03-09T19:54:01.791185Z",
     "iopub.status.idle": "2024-03-09T19:54:01.795493Z",
     "shell.execute_reply": "2024-03-09T19:54:01.794705Z"
    },
    "papermill": {
     "duration": 0.136764,
     "end_time": "2024-03-09T19:54:01.797386",
     "exception": false,
     "start_time": "2024-03-09T19:54:01.660622",
     "status": "completed"
    },
    "tags": []
   },
   "outputs": [],
   "source": [
    "# model_large = keras.models.load_model(\"/kaggle/working/best_model_large.keras\")"
   ]
  },
  {
   "cell_type": "code",
   "execution_count": 38,
   "id": "90549351",
   "metadata": {
    "execution": {
     "iopub.execute_input": "2024-03-09T19:54:02.058912Z",
     "iopub.status.busy": "2024-03-09T19:54:02.058274Z",
     "iopub.status.idle": "2024-03-09T19:54:02.062475Z",
     "shell.execute_reply": "2024-03-09T19:54:02.061621Z"
    },
    "papermill": {
     "duration": 0.137283,
     "end_time": "2024-03-09T19:54:02.064286",
     "exception": false,
     "start_time": "2024-03-09T19:54:01.927003",
     "status": "completed"
    },
    "tags": []
   },
   "outputs": [],
   "source": [
    "# model_small = keras.models.load_model(\"/kaggle/working/best_model_small-2.keras\")"
   ]
  },
  {
   "cell_type": "code",
   "execution_count": 39,
   "id": "4b342d11",
   "metadata": {
    "execution": {
     "iopub.execute_input": "2024-03-09T19:54:02.322816Z",
     "iopub.status.busy": "2024-03-09T19:54:02.322052Z",
     "iopub.status.idle": "2024-03-09T19:54:02.326228Z",
     "shell.execute_reply": "2024-03-09T19:54:02.325292Z"
    },
    "papermill": {
     "duration": 0.13562,
     "end_time": "2024-03-09T19:54:02.328201",
     "exception": false,
     "start_time": "2024-03-09T19:54:02.192581",
     "status": "completed"
    },
    "tags": []
   },
   "outputs": [],
   "source": [
    "# preds_large = model_large.predict(test_ds)\n",
    "# preds_small = model_small.predict(test_ds)"
   ]
  },
  {
   "cell_type": "markdown",
   "id": "9590b729",
   "metadata": {
    "papermill": {
     "duration": 0.131216,
     "end_time": "2024-03-09T19:54:02.595468",
     "exception": false,
     "start_time": "2024-03-09T19:54:02.464252",
     "status": "completed"
    },
    "tags": []
   },
   "source": [
    "# 📩 | Submission"
   ]
  },
  {
   "cell_type": "code",
   "execution_count": 40,
   "id": "062de64e",
   "metadata": {
    "execution": {
     "iopub.execute_input": "2024-03-09T19:54:02.858490Z",
     "iopub.status.busy": "2024-03-09T19:54:02.857613Z",
     "iopub.status.idle": "2024-03-09T19:54:02.861913Z",
     "shell.execute_reply": "2024-03-09T19:54:02.861034Z"
    },
    "papermill": {
     "duration": 0.136387,
     "end_time": "2024-03-09T19:54:02.863947",
     "exception": false,
     "start_time": "2024-03-09T19:54:02.727560",
     "status": "completed"
    },
    "tags": []
   },
   "outputs": [],
   "source": [
    "# preds = 0.4 * preds_large + 0.6 * preds_small"
   ]
  },
  {
   "cell_type": "code",
   "execution_count": 41,
   "id": "42585809",
   "metadata": {
    "execution": {
     "iopub.execute_input": "2024-03-09T19:54:03.125932Z",
     "iopub.status.busy": "2024-03-09T19:54:03.125171Z",
     "iopub.status.idle": "2024-03-09T19:54:28.734078Z",
     "shell.execute_reply": "2024-03-09T19:54:28.732954Z"
    },
    "papermill": {
     "duration": 25.742136,
     "end_time": "2024-03-09T19:54:28.736044",
     "exception": false,
     "start_time": "2024-03-09T19:54:02.993908",
     "status": "completed"
    },
    "tags": []
   },
   "outputs": [
    {
     "name": "stdout",
     "output_type": "stream",
     "text": [
      "\u001b[1m1/1\u001b[0m \u001b[32m━━━━━━━━━━━━━━━━━━━━\u001b[0m\u001b[37m\u001b[0m \u001b[1m7s\u001b[0m 7s/step\n"
     ]
    }
   ],
   "source": [
    "preds = model.predict(test_ds)"
   ]
  },
  {
   "cell_type": "code",
   "execution_count": 42,
   "id": "042c91d5",
   "metadata": {
    "execution": {
     "iopub.execute_input": "2024-03-09T19:54:29.000509Z",
     "iopub.status.busy": "2024-03-09T19:54:29.000099Z",
     "iopub.status.idle": "2024-03-09T19:54:29.038633Z",
     "shell.execute_reply": "2024-03-09T19:54:29.037729Z"
    },
    "papermill": {
     "duration": 0.172955,
     "end_time": "2024-03-09T19:54:29.040797",
     "exception": false,
     "start_time": "2024-03-09T19:54:28.867842",
     "status": "completed"
    },
    "tags": []
   },
   "outputs": [
    {
     "data": {
      "text/html": [
       "<div>\n",
       "<style scoped>\n",
       "    .dataframe tbody tr th:only-of-type {\n",
       "        vertical-align: middle;\n",
       "    }\n",
       "\n",
       "    .dataframe tbody tr th {\n",
       "        vertical-align: top;\n",
       "    }\n",
       "\n",
       "    .dataframe thead th {\n",
       "        text-align: right;\n",
       "    }\n",
       "</style>\n",
       "<table border=\"1\" class=\"dataframe\">\n",
       "  <thead>\n",
       "    <tr style=\"text-align: right;\">\n",
       "      <th></th>\n",
       "      <th>eeg_id</th>\n",
       "      <th>seizure_vote</th>\n",
       "      <th>lpd_vote</th>\n",
       "      <th>gpd_vote</th>\n",
       "      <th>lrda_vote</th>\n",
       "      <th>grda_vote</th>\n",
       "      <th>other_vote</th>\n",
       "    </tr>\n",
       "  </thead>\n",
       "  <tbody>\n",
       "    <tr>\n",
       "      <th>0</th>\n",
       "      <td>3911565283</td>\n",
       "      <td>0.132898</td>\n",
       "      <td>0.084584</td>\n",
       "      <td>0.003047</td>\n",
       "      <td>0.655213</td>\n",
       "      <td>0.030288</td>\n",
       "      <td>0.09397</td>\n",
       "    </tr>\n",
       "  </tbody>\n",
       "</table>\n",
       "</div>"
      ],
      "text/plain": [
       "       eeg_id  seizure_vote  lpd_vote  gpd_vote  lrda_vote  grda_vote  \\\n",
       "0  3911565283      0.132898  0.084584  0.003047   0.655213   0.030288   \n",
       "\n",
       "   other_vote  \n",
       "0     0.09397  "
      ]
     },
     "execution_count": 42,
     "metadata": {},
     "output_type": "execute_result"
    }
   ],
   "source": [
    "pred_df = test_df[[\"eeg_id\"]].copy()\n",
    "target_cols = [x.lower()+'_vote' for x in CFG.class_names]\n",
    "pred_df[target_cols] = preds.tolist()\n",
    "\n",
    "sub_df = pd.read_csv(f'{BASE_PATH}/sample_submission.csv')\n",
    "sub_df = sub_df[[\"eeg_id\"]].copy()\n",
    "sub_df = sub_df.merge(pred_df, on=\"eeg_id\", how=\"left\")\n",
    "sub_df.to_csv(\"submission.csv\", index=False)\n",
    "sub_df.head()"
   ]
  },
  {
   "cell_type": "markdown",
   "id": "acfbcb70",
   "metadata": {
    "papermill": {
     "duration": 0.133435,
     "end_time": "2024-03-09T19:54:29.307397",
     "exception": false,
     "start_time": "2024-03-09T19:54:29.173962",
     "status": "completed"
    },
    "tags": []
   },
   "source": [
    "# 📌 | Reference\n",
    "* [HMS-HBAC: ResNet34d Baseline [Training]](https://www.kaggle.com/code/ttahara/hms-hbac-resnet34d-baseline-training) \n",
    "* [EfficientNetB2 Starter - [LB 0.57]](https://www.kaggle.com/code/cdeotte/efficientnetb2-starter-lb-0-57)"
   ]
  }
 ],
 "metadata": {
  "kaggle": {
   "accelerator": "gpu",
   "dataSources": [
    {
     "databundleVersionId": 7469972,
     "sourceId": 59093,
     "sourceType": "competition"
    },
    {
     "datasetId": 4308295,
     "sourceId": 7526248,
     "sourceType": "datasetVersion"
    },
    {
     "modelInstanceId": 4598,
     "sourceId": 6127,
     "sourceType": "modelInstanceVersion"
    },
    {
     "isSourceIdPinned": true,
     "modelInstanceId": 10049,
     "sourceId": 12367,
     "sourceType": "modelInstanceVersion"
    },
    {
     "isSourceIdPinned": true,
     "modelInstanceId": 10050,
     "sourceId": 12368,
     "sourceType": "modelInstanceVersion"
    }
   ],
   "isGpuEnabled": true,
   "isInternetEnabled": false,
   "language": "python",
   "sourceType": "notebook"
  },
  "kernelspec": {
   "display_name": "Python 3",
   "language": "python",
   "name": "python3"
  },
  "language_info": {
   "codemirror_mode": {
    "name": "ipython",
    "version": 3
   },
   "file_extension": ".py",
   "mimetype": "text/x-python",
   "name": "python",
   "nbconvert_exporter": "python",
   "pygments_lexer": "ipython3",
   "version": "3.10.13"
  },
  "papermill": {
   "default_parameters": {},
   "duration": 1187.58966,
   "end_time": "2024-03-09T19:54:33.572617",
   "environment_variables": {},
   "exception": null,
   "input_path": "__notebook__.ipynb",
   "output_path": "__notebook__.ipynb",
   "parameters": {},
   "start_time": "2024-03-09T19:34:45.982957",
   "version": "2.4.0"
  },
  "widgets": {
   "application/vnd.jupyter.widget-state+json": {
    "state": {
     "01ac380239ce499c9cdf7e2cfc4af4e7": {
      "model_module": "@jupyter-widgets/base",
      "model_module_version": "1.2.0",
      "model_name": "LayoutModel",
      "state": {
       "_model_module": "@jupyter-widgets/base",
       "_model_module_version": "1.2.0",
       "_model_name": "LayoutModel",
       "_view_count": null,
       "_view_module": "@jupyter-widgets/base",
       "_view_module_version": "1.2.0",
       "_view_name": "LayoutView",
       "align_content": null,
       "align_items": null,
       "align_self": null,
       "border": null,
       "bottom": null,
       "display": null,
       "flex": null,
       "flex_flow": null,
       "grid_area": null,
       "grid_auto_columns": null,
       "grid_auto_flow": null,
       "grid_auto_rows": null,
       "grid_column": null,
       "grid_gap": null,
       "grid_row": null,
       "grid_template_areas": null,
       "grid_template_columns": null,
       "grid_template_rows": null,
       "height": null,
       "justify_content": null,
       "justify_items": null,
       "left": null,
       "margin": null,
       "max_height": null,
       "max_width": null,
       "min_height": null,
       "min_width": null,
       "object_fit": null,
       "object_position": null,
       "order": null,
       "overflow": null,
       "overflow_x": null,
       "overflow_y": null,
       "padding": null,
       "right": null,
       "top": null,
       "visibility": null,
       "width": null
      }
     },
     "061027bba1864f36aeef1cafb1bc1e19": {
      "model_module": "@jupyter-widgets/controls",
      "model_module_version": "1.5.0",
      "model_name": "HTMLModel",
      "state": {
       "_dom_classes": [],
       "_model_module": "@jupyter-widgets/controls",
       "_model_module_version": "1.5.0",
       "_model_name": "HTMLModel",
       "_view_count": null,
       "_view_module": "@jupyter-widgets/controls",
       "_view_module_version": "1.5.0",
       "_view_name": "HTMLView",
       "description": "",
       "description_tooltip": null,
       "layout": "IPY_MODEL_10d69b1e653747578f8db65e20a04ed8",
       "placeholder": "​",
       "style": "IPY_MODEL_be6a6cd382714b0097dc28c2db7c543c",
       "value": "100%"
      }
     },
     "10d69b1e653747578f8db65e20a04ed8": {
      "model_module": "@jupyter-widgets/base",
      "model_module_version": "1.2.0",
      "model_name": "LayoutModel",
      "state": {
       "_model_module": "@jupyter-widgets/base",
       "_model_module_version": "1.2.0",
       "_model_name": "LayoutModel",
       "_view_count": null,
       "_view_module": "@jupyter-widgets/base",
       "_view_module_version": "1.2.0",
       "_view_name": "LayoutView",
       "align_content": null,
       "align_items": null,
       "align_self": null,
       "border": null,
       "bottom": null,
       "display": null,
       "flex": null,
       "flex_flow": null,
       "grid_area": null,
       "grid_auto_columns": null,
       "grid_auto_flow": null,
       "grid_auto_rows": null,
       "grid_column": null,
       "grid_gap": null,
       "grid_row": null,
       "grid_template_areas": null,
       "grid_template_columns": null,
       "grid_template_rows": null,
       "height": null,
       "justify_content": null,
       "justify_items": null,
       "left": null,
       "margin": null,
       "max_height": null,
       "max_width": null,
       "min_height": null,
       "min_width": null,
       "object_fit": null,
       "object_position": null,
       "order": null,
       "overflow": null,
       "overflow_x": null,
       "overflow_y": null,
       "padding": null,
       "right": null,
       "top": null,
       "visibility": null,
       "width": null
      }
     },
     "274c702f26a94c06982167fcbe70f4b4": {
      "model_module": "@jupyter-widgets/base",
      "model_module_version": "1.2.0",
      "model_name": "LayoutModel",
      "state": {
       "_model_module": "@jupyter-widgets/base",
       "_model_module_version": "1.2.0",
       "_model_name": "LayoutModel",
       "_view_count": null,
       "_view_module": "@jupyter-widgets/base",
       "_view_module_version": "1.2.0",
       "_view_name": "LayoutView",
       "align_content": null,
       "align_items": null,
       "align_self": null,
       "border": null,
       "bottom": null,
       "display": null,
       "flex": null,
       "flex_flow": null,
       "grid_area": null,
       "grid_auto_columns": null,
       "grid_auto_flow": null,
       "grid_auto_rows": null,
       "grid_column": null,
       "grid_gap": null,
       "grid_row": null,
       "grid_template_areas": null,
       "grid_template_columns": null,
       "grid_template_rows": null,
       "height": null,
       "justify_content": null,
       "justify_items": null,
       "left": null,
       "margin": null,
       "max_height": null,
       "max_width": null,
       "min_height": null,
       "min_width": null,
       "object_fit": null,
       "object_position": null,
       "order": null,
       "overflow": null,
       "overflow_x": null,
       "overflow_y": null,
       "padding": null,
       "right": null,
       "top": null,
       "visibility": null,
       "width": null
      }
     },
     "28473c9064924ff8b6ca29459be60ca6": {
      "model_module": "@jupyter-widgets/controls",
      "model_module_version": "1.5.0",
      "model_name": "ProgressStyleModel",
      "state": {
       "_model_module": "@jupyter-widgets/controls",
       "_model_module_version": "1.5.0",
       "_model_name": "ProgressStyleModel",
       "_view_count": null,
       "_view_module": "@jupyter-widgets/base",
       "_view_module_version": "1.2.0",
       "_view_name": "StyleView",
       "bar_color": null,
       "description_width": ""
      }
     },
     "2c433fd9c176417c8d1dc631b520bc90": {
      "model_module": "@jupyter-widgets/controls",
      "model_module_version": "1.5.0",
      "model_name": "HBoxModel",
      "state": {
       "_dom_classes": [],
       "_model_module": "@jupyter-widgets/controls",
       "_model_module_version": "1.5.0",
       "_model_name": "HBoxModel",
       "_view_count": null,
       "_view_module": "@jupyter-widgets/controls",
       "_view_module_version": "1.5.0",
       "_view_name": "HBoxView",
       "box_style": "",
       "children": [
        "IPY_MODEL_061027bba1864f36aeef1cafb1bc1e19",
        "IPY_MODEL_93c8efb75ca44c59b0ee38d90d036d87",
        "IPY_MODEL_aa799035bec94d15926c46dfa22bef9a"
       ],
       "layout": "IPY_MODEL_711392e2b12747c787eef1f0e098d00f"
      }
     },
     "3584e4c3ff6144139cec72077424c2a9": {
      "model_module": "@jupyter-widgets/controls",
      "model_module_version": "1.5.0",
      "model_name": "DescriptionStyleModel",
      "state": {
       "_model_module": "@jupyter-widgets/controls",
       "_model_module_version": "1.5.0",
       "_model_name": "DescriptionStyleModel",
       "_view_count": null,
       "_view_module": "@jupyter-widgets/base",
       "_view_module_version": "1.2.0",
       "_view_name": "StyleView",
       "description_width": ""
      }
     },
     "3e3d771452b74924a6ece080859722cd": {
      "model_module": "@jupyter-widgets/controls",
      "model_module_version": "1.5.0",
      "model_name": "HBoxModel",
      "state": {
       "_dom_classes": [],
       "_model_module": "@jupyter-widgets/controls",
       "_model_module_version": "1.5.0",
       "_model_name": "HBoxModel",
       "_view_count": null,
       "_view_module": "@jupyter-widgets/controls",
       "_view_module_version": "1.5.0",
       "_view_name": "HBoxView",
       "box_style": "",
       "children": [
        "IPY_MODEL_e2a52e2174c94833990b387d5b852d39",
        "IPY_MODEL_c89a3dd5071344508f87fc4bc8c6b999",
        "IPY_MODEL_59f651fd0f9f413c81fa421c27b91b22"
       ],
       "layout": "IPY_MODEL_8281e17c4000433fa4caaa0aaf29c07a"
      }
     },
     "3e898bae8f6346c6af7e3c89b57272d0": {
      "model_module": "@jupyter-widgets/controls",
      "model_module_version": "1.5.0",
      "model_name": "DescriptionStyleModel",
      "state": {
       "_model_module": "@jupyter-widgets/controls",
       "_model_module_version": "1.5.0",
       "_model_name": "DescriptionStyleModel",
       "_view_count": null,
       "_view_module": "@jupyter-widgets/base",
       "_view_module_version": "1.2.0",
       "_view_name": "StyleView",
       "description_width": ""
      }
     },
     "533c47cd3626408582bbb2b1455362a9": {
      "model_module": "@jupyter-widgets/base",
      "model_module_version": "1.2.0",
      "model_name": "LayoutModel",
      "state": {
       "_model_module": "@jupyter-widgets/base",
       "_model_module_version": "1.2.0",
       "_model_name": "LayoutModel",
       "_view_count": null,
       "_view_module": "@jupyter-widgets/base",
       "_view_module_version": "1.2.0",
       "_view_name": "LayoutView",
       "align_content": null,
       "align_items": null,
       "align_self": null,
       "border": null,
       "bottom": null,
       "display": null,
       "flex": null,
       "flex_flow": null,
       "grid_area": null,
       "grid_auto_columns": null,
       "grid_auto_flow": null,
       "grid_auto_rows": null,
       "grid_column": null,
       "grid_gap": null,
       "grid_row": null,
       "grid_template_areas": null,
       "grid_template_columns": null,
       "grid_template_rows": null,
       "height": null,
       "justify_content": null,
       "justify_items": null,
       "left": null,
       "margin": null,
       "max_height": null,
       "max_width": null,
       "min_height": null,
       "min_width": null,
       "object_fit": null,
       "object_position": null,
       "order": null,
       "overflow": null,
       "overflow_x": null,
       "overflow_y": null,
       "padding": null,
       "right": null,
       "top": null,
       "visibility": null,
       "width": null
      }
     },
     "59f651fd0f9f413c81fa421c27b91b22": {
      "model_module": "@jupyter-widgets/controls",
      "model_module_version": "1.5.0",
      "model_name": "HTMLModel",
      "state": {
       "_dom_classes": [],
       "_model_module": "@jupyter-widgets/controls",
       "_model_module_version": "1.5.0",
       "_model_name": "HTMLModel",
       "_view_count": null,
       "_view_module": "@jupyter-widgets/controls",
       "_view_module_version": "1.5.0",
       "_view_name": "HTMLView",
       "description": "",
       "description_tooltip": null,
       "layout": "IPY_MODEL_274c702f26a94c06982167fcbe70f4b4",
       "placeholder": "​",
       "style": "IPY_MODEL_3e898bae8f6346c6af7e3c89b57272d0",
       "value": " 1/1 [00:00&lt;00:00, 70.00it/s]"
      }
     },
     "711392e2b12747c787eef1f0e098d00f": {
      "model_module": "@jupyter-widgets/base",
      "model_module_version": "1.2.0",
      "model_name": "LayoutModel",
      "state": {
       "_model_module": "@jupyter-widgets/base",
       "_model_module_version": "1.2.0",
       "_model_name": "LayoutModel",
       "_view_count": null,
       "_view_module": "@jupyter-widgets/base",
       "_view_module_version": "1.2.0",
       "_view_name": "LayoutView",
       "align_content": null,
       "align_items": null,
       "align_self": null,
       "border": null,
       "bottom": null,
       "display": null,
       "flex": null,
       "flex_flow": null,
       "grid_area": null,
       "grid_auto_columns": null,
       "grid_auto_flow": null,
       "grid_auto_rows": null,
       "grid_column": null,
       "grid_gap": null,
       "grid_row": null,
       "grid_template_areas": null,
       "grid_template_columns": null,
       "grid_template_rows": null,
       "height": null,
       "justify_content": null,
       "justify_items": null,
       "left": null,
       "margin": null,
       "max_height": null,
       "max_width": null,
       "min_height": null,
       "min_width": null,
       "object_fit": null,
       "object_position": null,
       "order": null,
       "overflow": null,
       "overflow_x": null,
       "overflow_y": null,
       "padding": null,
       "right": null,
       "top": null,
       "visibility": null,
       "width": null
      }
     },
     "8281e17c4000433fa4caaa0aaf29c07a": {
      "model_module": "@jupyter-widgets/base",
      "model_module_version": "1.2.0",
      "model_name": "LayoutModel",
      "state": {
       "_model_module": "@jupyter-widgets/base",
       "_model_module_version": "1.2.0",
       "_model_name": "LayoutModel",
       "_view_count": null,
       "_view_module": "@jupyter-widgets/base",
       "_view_module_version": "1.2.0",
       "_view_name": "LayoutView",
       "align_content": null,
       "align_items": null,
       "align_self": null,
       "border": null,
       "bottom": null,
       "display": null,
       "flex": null,
       "flex_flow": null,
       "grid_area": null,
       "grid_auto_columns": null,
       "grid_auto_flow": null,
       "grid_auto_rows": null,
       "grid_column": null,
       "grid_gap": null,
       "grid_row": null,
       "grid_template_areas": null,
       "grid_template_columns": null,
       "grid_template_rows": null,
       "height": null,
       "justify_content": null,
       "justify_items": null,
       "left": null,
       "margin": null,
       "max_height": null,
       "max_width": null,
       "min_height": null,
       "min_width": null,
       "object_fit": null,
       "object_position": null,
       "order": null,
       "overflow": null,
       "overflow_x": null,
       "overflow_y": null,
       "padding": null,
       "right": null,
       "top": null,
       "visibility": null,
       "width": null
      }
     },
     "90a46f7eea0d43f59de5f811bbb0402f": {
      "model_module": "@jupyter-widgets/base",
      "model_module_version": "1.2.0",
      "model_name": "LayoutModel",
      "state": {
       "_model_module": "@jupyter-widgets/base",
       "_model_module_version": "1.2.0",
       "_model_name": "LayoutModel",
       "_view_count": null,
       "_view_module": "@jupyter-widgets/base",
       "_view_module_version": "1.2.0",
       "_view_name": "LayoutView",
       "align_content": null,
       "align_items": null,
       "align_self": null,
       "border": null,
       "bottom": null,
       "display": null,
       "flex": null,
       "flex_flow": null,
       "grid_area": null,
       "grid_auto_columns": null,
       "grid_auto_flow": null,
       "grid_auto_rows": null,
       "grid_column": null,
       "grid_gap": null,
       "grid_row": null,
       "grid_template_areas": null,
       "grid_template_columns": null,
       "grid_template_rows": null,
       "height": null,
       "justify_content": null,
       "justify_items": null,
       "left": null,
       "margin": null,
       "max_height": null,
       "max_width": null,
       "min_height": null,
       "min_width": null,
       "object_fit": null,
       "object_position": null,
       "order": null,
       "overflow": null,
       "overflow_x": null,
       "overflow_y": null,
       "padding": null,
       "right": null,
       "top": null,
       "visibility": null,
       "width": null
      }
     },
     "93c8efb75ca44c59b0ee38d90d036d87": {
      "model_module": "@jupyter-widgets/controls",
      "model_module_version": "1.5.0",
      "model_name": "FloatProgressModel",
      "state": {
       "_dom_classes": [],
       "_model_module": "@jupyter-widgets/controls",
       "_model_module_version": "1.5.0",
       "_model_name": "FloatProgressModel",
       "_view_count": null,
       "_view_module": "@jupyter-widgets/controls",
       "_view_module_version": "1.5.0",
       "_view_name": "ProgressView",
       "bar_style": "success",
       "description": "",
       "description_tooltip": null,
       "layout": "IPY_MODEL_01ac380239ce499c9cdf7e2cfc4af4e7",
       "max": 11138.0,
       "min": 0.0,
       "orientation": "horizontal",
       "style": "IPY_MODEL_28473c9064924ff8b6ca29459be60ca6",
       "value": 11138.0
      }
     },
     "aa799035bec94d15926c46dfa22bef9a": {
      "model_module": "@jupyter-widgets/controls",
      "model_module_version": "1.5.0",
      "model_name": "HTMLModel",
      "state": {
       "_dom_classes": [],
       "_model_module": "@jupyter-widgets/controls",
       "_model_module_version": "1.5.0",
       "_model_name": "HTMLModel",
       "_view_count": null,
       "_view_module": "@jupyter-widgets/controls",
       "_view_module_version": "1.5.0",
       "_view_name": "HTMLView",
       "description": "",
       "description_tooltip": null,
       "layout": "IPY_MODEL_90a46f7eea0d43f59de5f811bbb0402f",
       "placeholder": "​",
       "style": "IPY_MODEL_f4d7067032b549e28d5a64fa8c5b0a70",
       "value": " 11138/11138 [03:10&lt;00:00, 63.52it/s]"
      }
     },
     "be6a6cd382714b0097dc28c2db7c543c": {
      "model_module": "@jupyter-widgets/controls",
      "model_module_version": "1.5.0",
      "model_name": "DescriptionStyleModel",
      "state": {
       "_model_module": "@jupyter-widgets/controls",
       "_model_module_version": "1.5.0",
       "_model_name": "DescriptionStyleModel",
       "_view_count": null,
       "_view_module": "@jupyter-widgets/base",
       "_view_module_version": "1.2.0",
       "_view_name": "StyleView",
       "description_width": ""
      }
     },
     "c89a3dd5071344508f87fc4bc8c6b999": {
      "model_module": "@jupyter-widgets/controls",
      "model_module_version": "1.5.0",
      "model_name": "FloatProgressModel",
      "state": {
       "_dom_classes": [],
       "_model_module": "@jupyter-widgets/controls",
       "_model_module_version": "1.5.0",
       "_model_name": "FloatProgressModel",
       "_view_count": null,
       "_view_module": "@jupyter-widgets/controls",
       "_view_module_version": "1.5.0",
       "_view_name": "ProgressView",
       "bar_style": "success",
       "description": "",
       "description_tooltip": null,
       "layout": "IPY_MODEL_ea1bb0e274d0438fb38451f06363c728",
       "max": 1.0,
       "min": 0.0,
       "orientation": "horizontal",
       "style": "IPY_MODEL_e891f89e5358498c9730422feeaf442a",
       "value": 1.0
      }
     },
     "e2a52e2174c94833990b387d5b852d39": {
      "model_module": "@jupyter-widgets/controls",
      "model_module_version": "1.5.0",
      "model_name": "HTMLModel",
      "state": {
       "_dom_classes": [],
       "_model_module": "@jupyter-widgets/controls",
       "_model_module_version": "1.5.0",
       "_model_name": "HTMLModel",
       "_view_count": null,
       "_view_module": "@jupyter-widgets/controls",
       "_view_module_version": "1.5.0",
       "_view_name": "HTMLView",
       "description": "",
       "description_tooltip": null,
       "layout": "IPY_MODEL_533c47cd3626408582bbb2b1455362a9",
       "placeholder": "​",
       "style": "IPY_MODEL_3584e4c3ff6144139cec72077424c2a9",
       "value": "100%"
      }
     },
     "e891f89e5358498c9730422feeaf442a": {
      "model_module": "@jupyter-widgets/controls",
      "model_module_version": "1.5.0",
      "model_name": "ProgressStyleModel",
      "state": {
       "_model_module": "@jupyter-widgets/controls",
       "_model_module_version": "1.5.0",
       "_model_name": "ProgressStyleModel",
       "_view_count": null,
       "_view_module": "@jupyter-widgets/base",
       "_view_module_version": "1.2.0",
       "_view_name": "StyleView",
       "bar_color": null,
       "description_width": ""
      }
     },
     "ea1bb0e274d0438fb38451f06363c728": {
      "model_module": "@jupyter-widgets/base",
      "model_module_version": "1.2.0",
      "model_name": "LayoutModel",
      "state": {
       "_model_module": "@jupyter-widgets/base",
       "_model_module_version": "1.2.0",
       "_model_name": "LayoutModel",
       "_view_count": null,
       "_view_module": "@jupyter-widgets/base",
       "_view_module_version": "1.2.0",
       "_view_name": "LayoutView",
       "align_content": null,
       "align_items": null,
       "align_self": null,
       "border": null,
       "bottom": null,
       "display": null,
       "flex": null,
       "flex_flow": null,
       "grid_area": null,
       "grid_auto_columns": null,
       "grid_auto_flow": null,
       "grid_auto_rows": null,
       "grid_column": null,
       "grid_gap": null,
       "grid_row": null,
       "grid_template_areas": null,
       "grid_template_columns": null,
       "grid_template_rows": null,
       "height": null,
       "justify_content": null,
       "justify_items": null,
       "left": null,
       "margin": null,
       "max_height": null,
       "max_width": null,
       "min_height": null,
       "min_width": null,
       "object_fit": null,
       "object_position": null,
       "order": null,
       "overflow": null,
       "overflow_x": null,
       "overflow_y": null,
       "padding": null,
       "right": null,
       "top": null,
       "visibility": null,
       "width": null
      }
     },
     "f4d7067032b549e28d5a64fa8c5b0a70": {
      "model_module": "@jupyter-widgets/controls",
      "model_module_version": "1.5.0",
      "model_name": "DescriptionStyleModel",
      "state": {
       "_model_module": "@jupyter-widgets/controls",
       "_model_module_version": "1.5.0",
       "_model_name": "DescriptionStyleModel",
       "_view_count": null,
       "_view_module": "@jupyter-widgets/base",
       "_view_module_version": "1.2.0",
       "_view_name": "StyleView",
       "description_width": ""
      }
     }
    },
    "version_major": 2,
    "version_minor": 0
   }
  }
 },
 "nbformat": 4,
 "nbformat_minor": 5
}
