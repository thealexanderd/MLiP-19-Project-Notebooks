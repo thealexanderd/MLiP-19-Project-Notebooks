{
 "cells": [
  {
   "cell_type": "markdown",
   "id": "1a4cb790",
   "metadata": {
    "execution": {
     "iopub.execute_input": "2024-01-10T05:24:31.308329Z",
     "iopub.status.busy": "2024-01-10T05:24:31.307595Z",
     "iopub.status.idle": "2024-01-10T05:24:31.313088Z",
     "shell.execute_reply": "2024-01-10T05:24:31.312113Z",
     "shell.execute_reply.started": "2024-01-10T05:24:31.308287Z"
    },
    "papermill": {
     "duration": 0.020959,
     "end_time": "2024-02-27T17:33:52.060278",
     "exception": false,
     "start_time": "2024-02-27T17:33:52.039319",
     "status": "completed"
    },
    "tags": []
   },
   "source": [
    "<center><img src=\"https://keras.io/img/logo-small.png\" alt=\"Keras logo\" width=\"100\"><br/>\n",
    "This starter notebook is provided by the Keras team.</center>"
   ]
  },
  {
   "cell_type": "markdown",
   "id": "8683d596",
   "metadata": {
    "papermill": {
     "duration": 0.019004,
     "end_time": "2024-02-27T17:33:52.099847",
     "exception": false,
     "start_time": "2024-02-27T17:33:52.080843",
     "status": "completed"
    },
    "tags": []
   },
   "source": [
    "# HMS - Harmful Brain Activity Classification with [KerasCV](https://github.com/keras-team/keras-cv) and [Keras](https://github.com/keras-team/keras)\n",
    "\n",
    "> The objective of this competition is to classify seizures and other patterns of harmful brain activity in critically ill patients\n",
    "\n",
    "This notebook guides you through the process of training and inferring a Deep Learning model, specifically EfficientNetV2, using KerasCV on the competition dataset. Specificaclly, this notebook uses spectrogram of the eeg data to classify the patterns.\n",
    "\n",
    "Fun fact: This notebook is backend-agnostic, supporting TensorFlow, PyTorch, and JAX. Utilizing KerasCV and Keras allows us to choose our preferred backend. Explore more details on [Keras](https://keras.io/keras_core/announcement/).\n",
    "\n",
    "In this notebook, you will learn:\n",
    "\n",
    "* Loading the data efficiently using [`tf.data`](https://www.tensorflow.org/guide/data).\n",
    "* Creating the model using KerasCV presets.\n",
    "* Training the model.\n",
    "* Inference and Submission on test data.\n",
    "\n",
    "**Note**: For a more in-depth understanding of KerasCV, refer to the [KerasCV guides](https://keras.io/guides/keras_cv/)."
   ]
  },
  {
   "cell_type": "markdown",
   "id": "7d84dc6b",
   "metadata": {
    "papermill": {
     "duration": 0.019862,
     "end_time": "2024-02-27T17:33:52.138659",
     "exception": false,
     "start_time": "2024-02-27T17:33:52.118797",
     "status": "completed"
    },
    "tags": []
   },
   "source": [
    "# 🛠 | Install Libraries  \n",
    "\n",
    "Since internet access is **disabled** during inference, we cannot install libraries in the usual `!pip install <lib_name>` manner. Instead, we need to install libraries from local files. In the following cell, we will install libraries from our local files. The installation code stays very similar - we just use the `filepath` instead of the `filename` of the library. So now the code is `!pip install <local_filepath>`. \n",
    "\n",
    "> The `filepath` of these local libraries look quite complicated, but don't be intimidated! Also `--no-deps` argument ensures that we are not installing any additional libraries."
   ]
  },
  {
   "cell_type": "code",
   "execution_count": 1,
   "id": "f23b3742",
   "metadata": {
    "execution": {
     "iopub.execute_input": "2024-02-27T17:33:52.178975Z",
     "iopub.status.busy": "2024-02-27T17:33:52.178605Z",
     "iopub.status.idle": "2024-02-27T17:35:47.068083Z",
     "shell.execute_reply": "2024-02-27T17:35:47.066955Z"
    },
    "papermill": {
     "duration": 114.912669,
     "end_time": "2024-02-27T17:35:47.070838",
     "exception": false,
     "start_time": "2024-02-27T17:33:52.158169",
     "status": "completed"
    },
    "tags": []
   },
   "outputs": [],
   "source": [
    "!pip install -q /kaggle/input/kerasv3-lib-ds/keras_cv-0.8.2-py3-none-any.whl --no-deps\n",
    "!pip install -q /kaggle/input/kerasv3-lib-ds/tensorflow-2.15.0.post1-cp310-cp310-manylinux_2_17_x86_64.manylinux2014_x86_64.whl --no-deps\n",
    "!pip install -q /kaggle/input/kerasv3-lib-ds/keras-3.0.4-py3-none-any.whl --no-deps"
   ]
  },
  {
   "cell_type": "markdown",
   "id": "3bc96f57",
   "metadata": {
    "papermill": {
     "duration": 0.019222,
     "end_time": "2024-02-27T17:35:47.110017",
     "exception": false,
     "start_time": "2024-02-27T17:35:47.090795",
     "status": "completed"
    },
    "tags": []
   },
   "source": [
    "# 📚 | Import Libraries "
   ]
  },
  {
   "cell_type": "code",
   "execution_count": 2,
   "id": "59828b9b",
   "metadata": {
    "_kg_hide-output": true,
    "execution": {
     "iopub.execute_input": "2024-02-27T17:35:47.152017Z",
     "iopub.status.busy": "2024-02-27T17:35:47.151129Z",
     "iopub.status.idle": "2024-02-27T17:36:00.054854Z",
     "shell.execute_reply": "2024-02-27T17:36:00.053715Z"
    },
    "papermill": {
     "duration": 12.927827,
     "end_time": "2024-02-27T17:36:00.057558",
     "exception": false,
     "start_time": "2024-02-27T17:35:47.129731",
     "status": "completed"
    },
    "tags": []
   },
   "outputs": [
    {
     "name": "stderr",
     "output_type": "stream",
     "text": [
      "2024-02-27 17:35:51.855666: E external/local_xla/xla/stream_executor/cuda/cuda_dnn.cc:9261] Unable to register cuDNN factory: Attempting to register factory for plugin cuDNN when one has already been registered\n",
      "2024-02-27 17:35:51.855730: E external/local_xla/xla/stream_executor/cuda/cuda_fft.cc:607] Unable to register cuFFT factory: Attempting to register factory for plugin cuFFT when one has already been registered\n",
      "2024-02-27 17:35:51.857314: E external/local_xla/xla/stream_executor/cuda/cuda_blas.cc:1515] Unable to register cuBLAS factory: Attempting to register factory for plugin cuBLAS when one has already been registered\n"
     ]
    }
   ],
   "source": [
    "import os\n",
    "os.environ[\"KERAS_BACKEND\"] = \"jax\" # you can also use tensorflow or torch\n",
    "\n",
    "import keras_cv\n",
    "import keras\n",
    "from keras import ops\n",
    "import tensorflow as tf\n",
    "\n",
    "import cv2\n",
    "import pandas as pd\n",
    "import numpy as np\n",
    "from glob import glob\n",
    "from tqdm.notebook import tqdm\n",
    "import joblib\n",
    "\n",
    "import matplotlib.pyplot as plt "
   ]
  },
  {
   "cell_type": "markdown",
   "id": "911922c9",
   "metadata": {
    "papermill": {
     "duration": 0.020615,
     "end_time": "2024-02-27T17:36:00.099052",
     "exception": false,
     "start_time": "2024-02-27T17:36:00.078437",
     "status": "completed"
    },
    "tags": []
   },
   "source": [
    "## Library Versions"
   ]
  },
  {
   "cell_type": "code",
   "execution_count": 3,
   "id": "6278866d",
   "metadata": {
    "execution": {
     "iopub.execute_input": "2024-02-27T17:36:00.142973Z",
     "iopub.status.busy": "2024-02-27T17:36:00.142241Z",
     "iopub.status.idle": "2024-02-27T17:36:00.148668Z",
     "shell.execute_reply": "2024-02-27T17:36:00.147631Z"
    },
    "papermill": {
     "duration": 0.031462,
     "end_time": "2024-02-27T17:36:00.151456",
     "exception": false,
     "start_time": "2024-02-27T17:36:00.119994",
     "status": "completed"
    },
    "tags": []
   },
   "outputs": [
    {
     "name": "stdout",
     "output_type": "stream",
     "text": [
      "TensorFlow: 2.15.0\n",
      "Keras: 3.0.4\n",
      "KerasCV: 0.8.2\n"
     ]
    }
   ],
   "source": [
    "print(\"TensorFlow:\", tf.__version__)\n",
    "print(\"Keras:\", keras.__version__)\n",
    "print(\"KerasCV:\", keras_cv.__version__)"
   ]
  },
  {
   "cell_type": "markdown",
   "id": "f15a0ab1",
   "metadata": {
    "papermill": {
     "duration": 0.020634,
     "end_time": "2024-02-27T17:36:00.193145",
     "exception": false,
     "start_time": "2024-02-27T17:36:00.172511",
     "status": "completed"
    },
    "tags": []
   },
   "source": [
    "# ⚙️ | Configuration"
   ]
  },
  {
   "cell_type": "code",
   "execution_count": 4,
   "id": "03aa3a1b",
   "metadata": {
    "execution": {
     "iopub.execute_input": "2024-02-27T17:36:00.237604Z",
     "iopub.status.busy": "2024-02-27T17:36:00.237195Z",
     "iopub.status.idle": "2024-02-27T17:36:00.244500Z",
     "shell.execute_reply": "2024-02-27T17:36:00.243382Z"
    },
    "papermill": {
     "duration": 0.031916,
     "end_time": "2024-02-27T17:36:00.246794",
     "exception": false,
     "start_time": "2024-02-27T17:36:00.214878",
     "status": "completed"
    },
    "tags": []
   },
   "outputs": [],
   "source": [
    "class CFG:\n",
    "    verbose = 1  # Verbosity\n",
    "    seed = 42  # Random seed\n",
    "    preset = \"efficientnetv2_b2_imagenet\"  # Name of pretrained classifier\n",
    "    image_size = [400, 300]  # Input image size\n",
    "    epochs = 13 # Training epochs\n",
    "    batch_size = 64  # Batch size\n",
    "    lr_mode = \"cos\" # LR scheduler mode from one of \"cos\", \"step\", \"exp\"\n",
    "    drop_remainder = True  # Drop incomplete batches\n",
    "    num_classes = 6 # Number of classes in the dataset\n",
    "    fold = 0 # Which fold to set as validation data\n",
    "    class_names = ['Seizure', 'LPD', 'GPD', 'LRDA','GRDA', 'Other']\n",
    "    label2name = dict(enumerate(class_names))\n",
    "    name2label = {v:k for k, v in label2name.items()}"
   ]
  },
  {
   "cell_type": "markdown",
   "id": "66532817",
   "metadata": {
    "papermill": {
     "duration": 0.019413,
     "end_time": "2024-02-27T17:36:00.286950",
     "exception": false,
     "start_time": "2024-02-27T17:36:00.267537",
     "status": "completed"
    },
    "tags": []
   },
   "source": [
    "# ♻️ | Reproducibility \n",
    "Sets value for random seed to produce similar result in each run."
   ]
  },
  {
   "cell_type": "code",
   "execution_count": 5,
   "id": "f4b41ddb",
   "metadata": {
    "execution": {
     "iopub.execute_input": "2024-02-27T17:36:00.328791Z",
     "iopub.status.busy": "2024-02-27T17:36:00.327783Z",
     "iopub.status.idle": "2024-02-27T17:36:00.333095Z",
     "shell.execute_reply": "2024-02-27T17:36:00.332085Z"
    },
    "papermill": {
     "duration": 0.02876,
     "end_time": "2024-02-27T17:36:00.335207",
     "exception": false,
     "start_time": "2024-02-27T17:36:00.306447",
     "status": "completed"
    },
    "tags": []
   },
   "outputs": [],
   "source": [
    "keras.utils.set_random_seed(CFG.seed)"
   ]
  },
  {
   "cell_type": "markdown",
   "id": "cbe52027",
   "metadata": {
    "papermill": {
     "duration": 0.019607,
     "end_time": "2024-02-27T17:36:00.374618",
     "exception": false,
     "start_time": "2024-02-27T17:36:00.355011",
     "status": "completed"
    },
    "tags": []
   },
   "source": [
    "# 📁 | Dataset Path "
   ]
  },
  {
   "cell_type": "code",
   "execution_count": 6,
   "id": "9279c5bb",
   "metadata": {
    "execution": {
     "iopub.execute_input": "2024-02-27T17:36:00.415918Z",
     "iopub.status.busy": "2024-02-27T17:36:00.415195Z",
     "iopub.status.idle": "2024-02-27T17:36:00.420955Z",
     "shell.execute_reply": "2024-02-27T17:36:00.419915Z"
    },
    "papermill": {
     "duration": 0.028942,
     "end_time": "2024-02-27T17:36:00.423253",
     "exception": false,
     "start_time": "2024-02-27T17:36:00.394311",
     "status": "completed"
    },
    "tags": []
   },
   "outputs": [],
   "source": [
    "BASE_PATH = \"/kaggle/input/hms-harmful-brain-activity-classification\"\n",
    "\n",
    "SPEC_DIR = \"/tmp/dataset/hms-hbac\"\n",
    "os.makedirs(SPEC_DIR+'/train_spectrograms', exist_ok=True)\n",
    "os.makedirs(SPEC_DIR+'/test_spectrograms', exist_ok=True)"
   ]
  },
  {
   "cell_type": "markdown",
   "id": "e003fa7e",
   "metadata": {
    "papermill": {
     "duration": 0.020613,
     "end_time": "2024-02-27T17:36:00.464194",
     "exception": false,
     "start_time": "2024-02-27T17:36:00.443581",
     "status": "completed"
    },
    "tags": []
   },
   "source": [
    "# 📖 | Meta Data "
   ]
  },
  {
   "cell_type": "code",
   "execution_count": 7,
   "id": "9ddc416c",
   "metadata": {
    "execution": {
     "iopub.execute_input": "2024-02-27T17:36:00.506884Z",
     "iopub.status.busy": "2024-02-27T17:36:00.506447Z",
     "iopub.status.idle": "2024-02-27T17:36:00.512453Z",
     "shell.execute_reply": "2024-02-27T17:36:00.511442Z"
    },
    "papermill": {
     "duration": 0.029851,
     "end_time": "2024-02-27T17:36:00.514775",
     "exception": false,
     "start_time": "2024-02-27T17:36:00.484924",
     "status": "completed"
    },
    "tags": []
   },
   "outputs": [],
   "source": [
    "# df = pd.read_csv(f'{BASE_PATH}/train.csv')\n",
    "# df['total_evaluators'] = df[['seizure_vote', 'lpd_vote', 'gpd_vote', 'lrda_vote', 'grda_vote', 'other_vote']].sum(axis=1)\n",
    "# df['consensus'] = df[['seizure_vote', 'lpd_vote', 'gpd_vote', 'lrda_vote', 'grda_vote', 'other_vote']].max(axis=1)\n",
    "# df['consensus_column'] = df[['seizure_vote', 'lpd_vote', 'gpd_vote', 'lrda_vote', 'grda_vote', 'other_vote']].idxmax(axis=1)\n",
    "# df['row_agreement'] = df['consensus']/df['total_evaluators']\n",
    "# original_df = df.copy(deep=True)\n",
    "# large = original_df[original_df['total_evaluators'] >= 10].copy()\n",
    "# small = original_df[original_df['total_evaluators'] < 10].copy()\n",
    "\n",
    "\n",
    "# # Trying with using only the rows that have more than 5 evaluators in total\n",
    "# df = original_df[original_df['total_evaluators'] >= 5].copy()\n",
    "# df.head(25)\n",
    "\n",
    "# Trying with using only the rows that have more than 0.7 agreement\n",
    "# df = original_df[original_df['row_agreement'] >= 0.7].copy()\n",
    "# df.head(25)\n",
    "\n",
    "# row_agreement_agg = df.groupby('eeg_id')['consensus'].agg('sum')\n",
    "\n",
    "# # Mapping this aggregated value back to each row in 'df'\n",
    "# df['row_consensus_agg'] = df['eeg_id'].map(row_agreement_agg)\n",
    "\n",
    "# row_evaluators_agg = df.groupby('eeg_id')['total_evaluators'].agg('sum')\n",
    "\n",
    "# # Mapping this aggregated value back to each row in 'df'\n",
    "# df['row_evaluators_agg'] = df['eeg_id'].map(row_evaluators_agg)\n",
    "\n",
    "# df['eeg_agreement'] = df['row_consensus_agg']/df['row_evaluators_agg']\n",
    "\n",
    "# original_df.head(25)  # Display the first few rows of the DataFrame to show the new column\n",
    "\n"
   ]
  },
  {
   "cell_type": "code",
   "execution_count": 8,
   "id": "f8ffef91",
   "metadata": {
    "execution": {
     "iopub.execute_input": "2024-02-27T17:36:00.558019Z",
     "iopub.status.busy": "2024-02-27T17:36:00.557232Z",
     "iopub.status.idle": "2024-02-27T17:36:00.562935Z",
     "shell.execute_reply": "2024-02-27T17:36:00.561952Z"
    },
    "papermill": {
     "duration": 0.030088,
     "end_time": "2024-02-27T17:36:00.565167",
     "exception": false,
     "start_time": "2024-02-27T17:36:00.535079",
     "status": "completed"
    },
    "tags": []
   },
   "outputs": [],
   "source": [
    "# # Train + Valid small\n",
    "\n",
    "# small['eeg_path'] = f'{BASE_PATH}/train_eegs/'+small['eeg_id'].astype(str)+'.parquet'\n",
    "# small['spec_path'] = f'{BASE_PATH}/train_spectrograms/'+small['spectrogram_id'].astype(str)+'.parquet'\n",
    "# small['spec2_path'] = f'{SPEC_DIR}/train_spectrograms/'+small['spectrogram_id'].astype(str)+'.npy'\n",
    "# small['class_name'] = small.expert_consensus.copy()\n",
    "# small['class_label'] = small.expert_consensus.map(CFG.name2label)\n",
    "# display(small.head(2))\n",
    "\n",
    "# # Train + Valid large\n",
    "\n",
    "# large['eeg_path'] = f'{BASE_PATH}/train_eegs/'+large['eeg_id'].astype(str)+'.parquet'\n",
    "# large['spec_path'] = f'{BASE_PATH}/train_spectrograms/'+large['spectrogram_id'].astype(str)+'.parquet'\n",
    "# large['spec2_path'] = f'{SPEC_DIR}/train_spectrograms/'+large['spectrogram_id'].astype(str)+'.npy'\n",
    "# large['class_name'] = large.expert_consensus.copy()\n",
    "# large['class_label'] = large.expert_consensus.map(CFG.name2label)\n",
    "# display(large.head(2))\n",
    "\n",
    "# # Test\n",
    "# test_df = pd.read_csv(f'{BASE_PATH}/test.csv')\n",
    "# test_df['eeg_path'] = f'{BASE_PATH}/test_eegs/'+test_df['eeg_id'].astype(str)+'.parquet'\n",
    "# test_df['spec_path'] = f'{BASE_PATH}/test_spectrograms/'+test_df['spectrogram_id'].astype(str)+'.parquet'\n",
    "# test_df['spec2_path'] = f'{SPEC_DIR}/test_spectrograms/'+test_df['spectrogram_id'].astype(str)+'.npy'\n",
    "# display(test_df.head(2))"
   ]
  },
  {
   "cell_type": "markdown",
   "id": "e4e8fb03",
   "metadata": {
    "papermill": {
     "duration": 0.019426,
     "end_time": "2024-02-27T17:36:00.605479",
     "exception": false,
     "start_time": "2024-02-27T17:36:00.586053",
     "status": "completed"
    },
    "tags": []
   },
   "source": [
    "## Convert `.parquet` to `.npy`\n",
    "\n",
    "To facilitate easier data loading, we will convert the EEG spectrograms from `parquet` to `npy` format. This process involves saving the spectrogram data, and since the content of the files remains the same, no significant changes are made. \n",
    "\n",
    "> It's worth noting that the `time` column is excluded, as it is not part of the spectrogram."
   ]
  },
  {
   "cell_type": "code",
   "execution_count": 9,
   "id": "3b48256b",
   "metadata": {
    "execution": {
     "iopub.execute_input": "2024-02-27T17:36:00.646239Z",
     "iopub.status.busy": "2024-02-27T17:36:00.645821Z",
     "iopub.status.idle": "2024-02-27T17:36:00.651499Z",
     "shell.execute_reply": "2024-02-27T17:36:00.650550Z"
    },
    "papermill": {
     "duration": 0.028766,
     "end_time": "2024-02-27T17:36:00.653686",
     "exception": false,
     "start_time": "2024-02-27T17:36:00.624920",
     "status": "completed"
    },
    "tags": []
   },
   "outputs": [],
   "source": [
    "# # Define a function to process a single eeg_id\n",
    "# def process_spec(spec_id, split=\"train\"):\n",
    "#     spec_path = f\"{BASE_PATH}/{split}_spectrograms/{spec_id}.parquet\"\n",
    "#     spec = pd.read_parquet(spec_path)\n",
    "#     spec = spec.fillna(0).values[:, 1:].T # fill NaN values with 0, transpose for (Time, Freq) -> (Freq, Time)\n",
    "#     spec = spec.astype(\"float32\")\n",
    "#     np.save(f\"{SPEC_DIR}/{split}_spectrograms/{spec_id}.npy\", spec)\n",
    "\n",
    "# # Get unique spec_ids of train and valid data\n",
    "# spec_ids_small = small[\"spectrogram_id\"].unique()\n",
    "\n",
    "# # Parallelize the processing using joblib for training data\n",
    "# _ = joblib.Parallel(n_jobs=-1, backend=\"loky\")(\n",
    "#     joblib.delayed(process_spec)(spec_id, \"train\")\n",
    "#     for spec_id in tqdm(spec_ids_small, total=len(spec_ids_small))\n",
    "# )\n",
    "\n",
    "# spec_ids_large = large[\"spectrogram_id\"].unique()\n",
    "\n",
    "# # Parallelize the processing using joblib for training data\n",
    "# _ = joblib.Parallel(n_jobs=-1, backend=\"loky\")(\n",
    "#     joblib.delayed(process_spec)(spec_id, \"train\")\n",
    "#     for spec_id in tqdm(spec_ids_large, total=len(spec_ids_large))\n",
    "# )\n",
    "\n",
    "# # Get unique spec_ids of test data\n",
    "# test_spec_ids = test_df[\"spectrogram_id\"].unique()\n",
    "\n",
    "# # Parallelize the processing using joblib for test data\n",
    "# _ = joblib.Parallel(n_jobs=-1, backend=\"loky\")(\n",
    "#     joblib.delayed(process_spec)(spec_id, \"test\")\n",
    "#     for spec_id in tqdm(test_spec_ids, total=len(test_spec_ids))\n",
    "# )"
   ]
  },
  {
   "cell_type": "markdown",
   "id": "61472dac",
   "metadata": {
    "papermill": {
     "duration": 0.019231,
     "end_time": "2024-02-27T17:36:00.692990",
     "exception": false,
     "start_time": "2024-02-27T17:36:00.673759",
     "status": "completed"
    },
    "tags": []
   },
   "source": [
    "# 🍚 | DataLoader\n",
    "\n",
    "This DataLoader first reads `npy` spectrogram files and extracts labeled subsamples using specified `offset` values. Then, it converts the spectrogram data into `log spectrogram` and applies the popular signal augmentation `MixUp`.\n",
    "\n",
    "> Note that, we are converting the mono channel signal to a 3-channel signal for using \"ImageNet\" weights of pretrained model."
   ]
  },
  {
   "cell_type": "code",
   "execution_count": 10,
   "id": "7f0ef998",
   "metadata": {
    "execution": {
     "iopub.execute_input": "2024-02-27T17:36:00.791514Z",
     "iopub.status.busy": "2024-02-27T17:36:00.791136Z",
     "iopub.status.idle": "2024-02-27T17:36:00.815132Z",
     "shell.execute_reply": "2024-02-27T17:36:00.814299Z"
    },
    "papermill": {
     "duration": 0.104996,
     "end_time": "2024-02-27T17:36:00.817713",
     "exception": false,
     "start_time": "2024-02-27T17:36:00.712717",
     "status": "completed"
    },
    "tags": []
   },
   "outputs": [],
   "source": [
    "def build_augmenter(dim=CFG.image_size):\n",
    "    augmenters = [\n",
    "        keras_cv.layers.MixUp(alpha=2.0),\n",
    "        keras_cv.layers.RandomCutout(height_factor=(1.0, 1.0),\n",
    "                                     width_factor=(0.06, 0.1)), # freq-masking\n",
    "        keras_cv.layers.RandomCutout(height_factor=(0.06, 0.1),\n",
    "                                     width_factor=(1.0, 1.0)), # time-masking\n",
    "    ]\n",
    "    \n",
    "    def augment(img, label):\n",
    "        data = {\"images\":img, \"labels\":label}\n",
    "        for augmenter in augmenters:\n",
    "            if tf.random.uniform([]) < 0.5:\n",
    "                data = augmenter(data, training=True)\n",
    "        return data[\"images\"], data[\"labels\"]\n",
    "    \n",
    "    return augment\n",
    "\n",
    "\n",
    "def build_decoder(with_labels=True, target_size=CFG.image_size, dtype=32):\n",
    "    def decode_signal(path, offset=None):\n",
    "        # Read .npy files and process the signal\n",
    "        file_bytes = tf.io.read_file(path)\n",
    "        sig = tf.io.decode_raw(file_bytes, tf.float32)\n",
    "        sig = sig[1024//dtype:]  # Remove header tag\n",
    "        sig = tf.reshape(sig, [400, -1])\n",
    "        \n",
    "        # Extract labeled subsample from full spectrogram using \"offset\"\n",
    "        if offset is not None: \n",
    "            offset = offset // 2  # Only odd values are given\n",
    "            sig = sig[:, offset:offset+300]\n",
    "            \n",
    "            # Pad spectrogram to ensure the same input shape of [400, 300]\n",
    "            pad_size = tf.math.maximum(0, 300 - tf.shape(sig)[1])\n",
    "            sig = tf.pad(sig, [[0, 0], [0, pad_size]])\n",
    "            sig = tf.reshape(sig, [400, 300])\n",
    "        \n",
    "        # Log spectrogram \n",
    "        sig = tf.clip_by_value(sig, tf.math.exp(-4.0), tf.math.exp(8.0)) # avoid 0 in log\n",
    "        sig = tf.math.log(sig)\n",
    "        \n",
    "        # Normalize spectrogram\n",
    "        sig -= tf.math.reduce_mean(sig)\n",
    "        sig /= tf.math.reduce_std(sig) + 1e-6\n",
    "        \n",
    "        # Mono channel to 3 channels to use \"ImageNet\" weights\n",
    "        sig = tf.tile(sig[..., None], [1, 1, 3])\n",
    "        return sig\n",
    "    \n",
    "    def decode_label(label):\n",
    "        label = tf.one_hot(label, CFG.num_classes)\n",
    "        label = tf.cast(label, tf.float32)\n",
    "        label = tf.reshape(label, [CFG.num_classes])\n",
    "        return label\n",
    "    \n",
    "    def decode_with_labels(path, offset=None, label=None):\n",
    "        sig = decode_signal(path, offset)\n",
    "        label = decode_label(label)\n",
    "        return (sig, label)\n",
    "    \n",
    "    return decode_with_labels if with_labels else decode_signal\n",
    "\n",
    "\n",
    "def build_dataset(paths, offsets=None, labels=None, batch_size=32, cache=True,\n",
    "                  decode_fn=None, augment_fn=None,\n",
    "                  augment=False, repeat=True, shuffle=1024, \n",
    "                  cache_dir=\"\", drop_remainder=False):\n",
    "    if cache_dir != \"\" and cache is True:\n",
    "        os.makedirs(cache_dir, exist_ok=True)\n",
    "    \n",
    "    if decode_fn is None:\n",
    "        decode_fn = build_decoder(labels is not None)\n",
    "    \n",
    "    if augment_fn is None:\n",
    "        augment_fn = build_augmenter()\n",
    "    \n",
    "    AUTO = tf.data.experimental.AUTOTUNE\n",
    "    slices = (paths, offsets) if labels is None else (paths, offsets, labels)\n",
    "    \n",
    "    ds = tf.data.Dataset.from_tensor_slices(slices)\n",
    "    ds = ds.map(decode_fn, num_parallel_calls=AUTO)\n",
    "    ds = ds.cache(cache_dir) if cache else ds\n",
    "    ds = ds.repeat() if repeat else ds\n",
    "    if shuffle: \n",
    "        ds = ds.shuffle(shuffle, seed=CFG.seed)\n",
    "        opt = tf.data.Options()\n",
    "        opt.experimental_deterministic = False\n",
    "        ds = ds.with_options(opt)\n",
    "    ds = ds.batch(batch_size, drop_remainder=drop_remainder)\n",
    "    ds = ds.map(augment_fn, num_parallel_calls=AUTO) if augment else ds\n",
    "    ds = ds.prefetch(AUTO)\n",
    "    return ds"
   ]
  },
  {
   "cell_type": "markdown",
   "id": "ddcf3889",
   "metadata": {
    "papermill": {
     "duration": 0.018995,
     "end_time": "2024-02-27T17:36:00.856202",
     "exception": false,
     "start_time": "2024-02-27T17:36:00.837207",
     "status": "completed"
    },
    "tags": []
   },
   "source": [
    "# 🔪 | Data Split\n",
    "\n",
    "In the following code snippet, the data is divided into `5` folds. Note that, the `groups` argument is used to prevent any overlap of patients between the training and validation sets, thus avoiding potential **data leakage** issues. Additionally, each split is stratified based on the `class_label`, ensuring a uniform distribution of class labels in each fold."
   ]
  },
  {
   "cell_type": "code",
   "execution_count": 11,
   "id": "b7d366d3",
   "metadata": {
    "execution": {
     "iopub.execute_input": "2024-02-27T17:36:00.897330Z",
     "iopub.status.busy": "2024-02-27T17:36:00.896427Z",
     "iopub.status.idle": "2024-02-27T17:36:00.901812Z",
     "shell.execute_reply": "2024-02-27T17:36:00.900780Z"
    },
    "papermill": {
     "duration": 0.028677,
     "end_time": "2024-02-27T17:36:00.903951",
     "exception": false,
     "start_time": "2024-02-27T17:36:00.875274",
     "status": "completed"
    },
    "tags": []
   },
   "outputs": [],
   "source": [
    "# from sklearn.model_selection import StratifiedGroupKFold\n",
    "\n",
    "# # Split for small\n",
    "# sgkf = StratifiedGroupKFold(n_splits=5, shuffle=True, random_state=CFG.seed)\n",
    "\n",
    "# small[\"fold\"] = -1\n",
    "# small.reset_index(drop=True, inplace=True)\n",
    "# for fold, (train_idx, valid_idx) in enumerate(\n",
    "#     sgkf.split(small, y=small[\"class_label\"], groups=small[\"patient_id\"])\n",
    "# ):\n",
    "#     small.loc[valid_idx, \"fold\"] = fold\n",
    "# small.groupby([\"fold\", \"class_name\"])[[\"eeg_id\"]].count().T\n",
    "# # \n",
    "# # SPlit for large\n",
    "# sgkf = StratifiedGroupKFold(n_splits=5, shuffle=True, random_state=CFG.seed)\n",
    "\n",
    "# large[\"fold\"] = -1\n",
    "# large.reset_index(drop=True, inplace=True)\n",
    "# for fold, (train_idx, valid_idx) in enumerate(\n",
    "#     sgkf.split(large, y=large[\"class_label\"], groups=large[\"patient_id\"])\n",
    "# ):\n",
    "#     large.loc[valid_idx, \"fold\"] = fold\n",
    "# large.groupby([\"fold\", \"class_name\"])[[\"eeg_id\"]].count().T"
   ]
  },
  {
   "cell_type": "markdown",
   "id": "27ee193f",
   "metadata": {
    "papermill": {
     "duration": 0.019814,
     "end_time": "2024-02-27T17:36:00.944236",
     "exception": false,
     "start_time": "2024-02-27T17:36:00.924422",
     "status": "completed"
    },
    "tags": []
   },
   "source": [
    "## Build Train & Valid Dataset\n",
    "\n",
    "Only first sample for each `spectrogram_id` is used in order to keep the dataset size managable. Feel free to train on full data."
   ]
  },
  {
   "cell_type": "code",
   "execution_count": 12,
   "id": "2ca14d1d",
   "metadata": {
    "execution": {
     "iopub.execute_input": "2024-02-27T17:36:00.983986Z",
     "iopub.status.busy": "2024-02-27T17:36:00.983605Z",
     "iopub.status.idle": "2024-02-27T17:36:00.990032Z",
     "shell.execute_reply": "2024-02-27T17:36:00.988970Z"
    },
    "papermill": {
     "duration": 0.028971,
     "end_time": "2024-02-27T17:36:00.992187",
     "exception": false,
     "start_time": "2024-02-27T17:36:00.963216",
     "status": "completed"
    },
    "tags": []
   },
   "outputs": [],
   "source": [
    "# # Sample from full data for small\n",
    "# # sample_df_small = small.groupby(\"spectrogram_id\").head(2).reset_index(drop=True)\n",
    "# # train_df_small = sample_df_small[sample_df_small.fold != CFG.fold]\n",
    "# # valid_df_small = sample_df_small[sample_df_small.fold == CFG.fold]\n",
    "# # print(f\"# Num Train small: {len(train_df_small)} | Num Valid small: {len(valid_df_small)}\")\n",
    "\n",
    "# # # Train\n",
    "# # train_paths_small = train_df_small.spec2_path.values\n",
    "# # train_offsets_small = train_df_small.spectrogram_label_offset_seconds.values.astype(int)\n",
    "# # train_labels_small = train_df_small.class_label.values\n",
    "# # train_ds_small = build_dataset(train_paths_small, train_offsets_small, train_labels_small, batch_size=CFG.batch_size,\n",
    "# #                          repeat=True, shuffle=True, augment=True, cache=True)\n",
    "\n",
    "# # # Valid\n",
    "# # valid_paths_small = valid_df_small.spec2_path.values\n",
    "# # valid_offsets_small = valid_df_small.spectrogram_label_offset_seconds.values.astype(int)\n",
    "# # valid_labels_small = valid_df_small.class_label.values\n",
    "# # valid_ds_small = build_dataset(valid_paths_small, valid_offsets_small, valid_labels_small, batch_size=CFG.batch_size,\n",
    "# #                          repeat=False, shuffle=False, augment=False, cache=True)\n",
    "\n",
    "\n",
    "\n",
    "# # # Sample from full data for large\n",
    "# sample_df_large = large.groupby(\"spectrogram_id\").head(2).reset_index(drop=True)\n",
    "# train_df_large = sample_df_large[sample_df_large.fold != CFG.fold]\n",
    "# valid_df_large = sample_df_large[sample_df_large.fold == CFG.fold]\n",
    "# print(f\"# Num Train large: {len(train_df_large)} | Num Valid small: {len(valid_df_large)}\")\n",
    "\n",
    "# # Train\n",
    "# train_paths_large = train_df_large.spec2_path.values\n",
    "# train_offsets_large = train_df_large.spectrogram_label_offset_seconds.values.astype(int)\n",
    "# train_labels_large = train_df_large.class_label.values\n",
    "# train_ds_large = build_dataset(train_paths_large, train_offsets_large, train_labels_large, batch_size=CFG.batch_size,\n",
    "#                          repeat=True, shuffle=True, augment=True, cache=True)\n",
    "\n",
    "# # Valid\n",
    "# valid_paths_large = valid_df_large.spec2_path.values\n",
    "# valid_offsets_large = valid_df_large.spectrogram_label_offset_seconds.values.astype(int)\n",
    "# valid_labels_large = valid_df_large.class_label.values\n",
    "# valid_ds_large = build_dataset(valid_paths_large, valid_offsets_large, valid_labels_large, batch_size=CFG.batch_size,\n",
    "#                          repeat=False, shuffle=False, augment=False, cache=True)"
   ]
  },
  {
   "cell_type": "markdown",
   "id": "0ea3b944",
   "metadata": {
    "papermill": {
     "duration": 0.019978,
     "end_time": "2024-02-27T17:36:01.032020",
     "exception": false,
     "start_time": "2024-02-27T17:36:01.012042",
     "status": "completed"
    },
    "tags": []
   },
   "source": [
    "## Dataset Check\n",
    "\n",
    "Let's visualize some samples from the dataset."
   ]
  },
  {
   "cell_type": "code",
   "execution_count": 13,
   "id": "9e22a9d6",
   "metadata": {
    "_kg_hide-input": true,
    "execution": {
     "iopub.execute_input": "2024-02-27T17:36:01.073936Z",
     "iopub.status.busy": "2024-02-27T17:36:01.073502Z",
     "iopub.status.idle": "2024-02-27T17:36:01.078329Z",
     "shell.execute_reply": "2024-02-27T17:36:01.077370Z"
    },
    "papermill": {
     "duration": 0.027959,
     "end_time": "2024-02-27T17:36:01.080463",
     "exception": false,
     "start_time": "2024-02-27T17:36:01.052504",
     "status": "completed"
    },
    "tags": []
   },
   "outputs": [],
   "source": [
    "# imgs, tars = next(iter(train_ds_small))\n",
    "\n",
    "# num_imgs = 8\n",
    "# plt.figure(figsize=(4*4, num_imgs//4*5))\n",
    "# for i in range(num_imgs):\n",
    "#     plt.subplot(num_imgs//4, 4, i + 1)\n",
    "#     img = imgs[i].numpy()[...,0]  # Adjust as per your image data format\n",
    "#     img -= img.min()\n",
    "#     img /= img.max() + 1e-4\n",
    "#     tar = CFG.label2name[np.argmax(tars[i].numpy())]\n",
    "#     plt.imshow(img)\n",
    "#     plt.title(f\"Target: {tar}\")\n",
    "#     plt.axis('off')\n",
    "    \n",
    "# plt.tight_layout()\n",
    "# plt.show()"
   ]
  },
  {
   "cell_type": "markdown",
   "id": "577ec2bb",
   "metadata": {
    "papermill": {
     "duration": 0.020346,
     "end_time": "2024-02-27T17:36:01.120978",
     "exception": false,
     "start_time": "2024-02-27T17:36:01.100632",
     "status": "completed"
    },
    "tags": []
   },
   "source": [
    "# 🔍 | Loss & Metric\n",
    "\n",
    "The evaluation metric in this competition is **KL Divergence**, defined as,\n",
    "\n",
    "$$\n",
    "D_{\\text{KL}}(P \\parallel Q) = \\sum_{i} P(i) \\log\\left(\\frac{P(i)}{Q(i)}\\right)\n",
    "$$\n",
    "\n",
    "Where:\n",
    "- $P$ is the true distribution.\n",
    "- $Q$ is the predicted distribution.\n",
    "\n",
    "Interestingly, as KL Divergence is differentiable, we can directly use it as our loss function. Thus, we don't need to use a third-party metric like **Accuracy** to evaluate our model. Therefore, `valid_loss` can stand alone as an indicator for our evaluation. In keras, we already have impelementation for KL Divergence loss so we only need to import it."
   ]
  },
  {
   "cell_type": "code",
   "execution_count": 14,
   "id": "e7045be6",
   "metadata": {
    "execution": {
     "iopub.execute_input": "2024-02-27T17:36:01.162485Z",
     "iopub.status.busy": "2024-02-27T17:36:01.162111Z",
     "iopub.status.idle": "2024-02-27T17:36:01.166770Z",
     "shell.execute_reply": "2024-02-27T17:36:01.165741Z"
    },
    "papermill": {
     "duration": 0.027696,
     "end_time": "2024-02-27T17:36:01.169112",
     "exception": false,
     "start_time": "2024-02-27T17:36:01.141416",
     "status": "completed"
    },
    "tags": []
   },
   "outputs": [],
   "source": [
    "LOSS = keras.losses.KLDivergence()"
   ]
  },
  {
   "cell_type": "markdown",
   "id": "200c903b",
   "metadata": {
    "papermill": {
     "duration": 0.018918,
     "end_time": "2024-02-27T17:36:01.207484",
     "exception": false,
     "start_time": "2024-02-27T17:36:01.188566",
     "status": "completed"
    },
    "tags": []
   },
   "source": [
    "# 🤖 | Modeling\n",
    "\n",
    "This notebook uses the `EfficientNetV2 B2` from KerasCV's collection of pretrained models. To explore other models, simply modify the `preset` in the `CFG` (config). Check the [KerasCV website](https://keras.io/api/keras_cv/models/tasks/image_classifier/) for a list of available pretrained models."
   ]
  },
  {
   "cell_type": "code",
   "execution_count": 15,
   "id": "e52cc9b7",
   "metadata": {
    "execution": {
     "iopub.execute_input": "2024-02-27T17:36:01.250111Z",
     "iopub.status.busy": "2024-02-27T17:36:01.249442Z",
     "iopub.status.idle": "2024-02-27T17:36:01.253980Z",
     "shell.execute_reply": "2024-02-27T17:36:01.253019Z"
    },
    "papermill": {
     "duration": 0.02722,
     "end_time": "2024-02-27T17:36:01.256025",
     "exception": false,
     "start_time": "2024-02-27T17:36:01.228805",
     "status": "completed"
    },
    "tags": []
   },
   "outputs": [],
   "source": [
    "# # Build Classifier\n",
    "# model_small = keras_cv.models.ImageClassifier.from_preset(\n",
    "#     CFG.preset, num_classes=CFG.num_classes\n",
    "# )\n",
    "\n",
    "# # Compile the model  \n",
    "# model_small.compile(optimizer=keras.optimizers.Adam(learning_rate=1e-4),\n",
    "#               loss=LOSS)\n",
    "\n",
    "# # Model Sumamry\n",
    "# model_small.summary()"
   ]
  },
  {
   "cell_type": "markdown",
   "id": "14808f98",
   "metadata": {
    "papermill": {
     "duration": 0.019275,
     "end_time": "2024-02-27T17:36:01.294541",
     "exception": false,
     "start_time": "2024-02-27T17:36:01.275266",
     "status": "completed"
    },
    "tags": []
   },
   "source": [
    "# ⚓ | LR Schedule\n",
    "\n",
    "A well-structured learning rate schedule is essential for efficient model training, ensuring optimal convergence and avoiding issues such as overshooting or stagnation."
   ]
  },
  {
   "cell_type": "code",
   "execution_count": 16,
   "id": "d7fffdec",
   "metadata": {
    "execution": {
     "iopub.execute_input": "2024-02-27T17:36:01.334420Z",
     "iopub.status.busy": "2024-02-27T17:36:01.333592Z",
     "iopub.status.idle": "2024-02-27T17:36:01.344171Z",
     "shell.execute_reply": "2024-02-27T17:36:01.343081Z"
    },
    "papermill": {
     "duration": 0.032565,
     "end_time": "2024-02-27T17:36:01.346208",
     "exception": false,
     "start_time": "2024-02-27T17:36:01.313643",
     "status": "completed"
    },
    "tags": []
   },
   "outputs": [],
   "source": [
    "import math\n",
    "\n",
    "def get_lr_callback(batch_size=8, mode='cos', epochs=10, plot=False):\n",
    "    lr_start, lr_max, lr_min = 5e-5, 6e-6 * batch_size, 1e-5\n",
    "    lr_ramp_ep, lr_sus_ep, lr_decay = 3, 0, 0.75\n",
    "\n",
    "    def lrfn(epoch):  # Learning rate update function\n",
    "        if epoch < lr_ramp_ep: lr = (lr_max - lr_start) / lr_ramp_ep * epoch + lr_start\n",
    "        elif epoch < lr_ramp_ep + lr_sus_ep: lr = lr_max\n",
    "        elif mode == 'exp': lr = (lr_max - lr_min) * lr_decay**(epoch - lr_ramp_ep - lr_sus_ep) + lr_min\n",
    "        elif mode == 'step': lr = lr_max * lr_decay**((epoch - lr_ramp_ep - lr_sus_ep) // 2)\n",
    "        elif mode == 'cos':\n",
    "            decay_total_epochs, decay_epoch_index = epochs - lr_ramp_ep - lr_sus_ep + 3, epoch - lr_ramp_ep - lr_sus_ep\n",
    "            phase = math.pi * decay_epoch_index / decay_total_epochs\n",
    "            lr = (lr_max - lr_min) * 0.5 * (1 + math.cos(phase)) + lr_min\n",
    "        return lr\n",
    "\n",
    "    if plot:  # Plot lr curve if plot is True\n",
    "        plt.figure(figsize=(10, 5))\n",
    "        plt.plot(np.arange(epochs), [lrfn(epoch) for epoch in np.arange(epochs)], marker='o')\n",
    "        plt.xlabel('epoch'); plt.ylabel('lr')\n",
    "        plt.title('LR Scheduler')\n",
    "        plt.show()\n",
    "\n",
    "    return keras.callbacks.LearningRateScheduler(lrfn, verbose=False)  # Create lr callback"
   ]
  },
  {
   "cell_type": "code",
   "execution_count": 17,
   "id": "392d6b25",
   "metadata": {
    "execution": {
     "iopub.execute_input": "2024-02-27T17:36:01.388049Z",
     "iopub.status.busy": "2024-02-27T17:36:01.387045Z",
     "iopub.status.idle": "2024-02-27T17:36:01.391613Z",
     "shell.execute_reply": "2024-02-27T17:36:01.390717Z"
    },
    "papermill": {
     "duration": 0.02788,
     "end_time": "2024-02-27T17:36:01.393753",
     "exception": false,
     "start_time": "2024-02-27T17:36:01.365873",
     "status": "completed"
    },
    "tags": []
   },
   "outputs": [],
   "source": [
    "# lr_cb = get_lr_callback(CFG.batch_size, mode=CFG.lr_mode, plot=True)"
   ]
  },
  {
   "cell_type": "markdown",
   "id": "08b97bc0",
   "metadata": {
    "papermill": {
     "duration": 0.019385,
     "end_time": "2024-02-27T17:36:01.432538",
     "exception": false,
     "start_time": "2024-02-27T17:36:01.413153",
     "status": "completed"
    },
    "tags": []
   },
   "source": [
    "# 💾 | Model Checkpointing"
   ]
  },
  {
   "cell_type": "code",
   "execution_count": 18,
   "id": "ae4aa07f",
   "metadata": {
    "execution": {
     "iopub.execute_input": "2024-02-27T17:36:01.473389Z",
     "iopub.status.busy": "2024-02-27T17:36:01.472477Z",
     "iopub.status.idle": "2024-02-27T17:36:01.477167Z",
     "shell.execute_reply": "2024-02-27T17:36:01.476137Z"
    },
    "papermill": {
     "duration": 0.027558,
     "end_time": "2024-02-27T17:36:01.479356",
     "exception": false,
     "start_time": "2024-02-27T17:36:01.451798",
     "status": "completed"
    },
    "tags": []
   },
   "outputs": [],
   "source": [
    "# ckpt_cb = keras.callbacks.ModelCheckpoint(\"best_model_small.keras\",\n",
    "#                                          monitor='val_loss',\n",
    "#                                          save_best_only=True,\n",
    "#                                          save_weights_only=False,\n",
    "#                                          mode='min')"
   ]
  },
  {
   "cell_type": "markdown",
   "id": "155e6021",
   "metadata": {
    "papermill": {
     "duration": 0.019316,
     "end_time": "2024-02-27T17:36:01.518393",
     "exception": false,
     "start_time": "2024-02-27T17:36:01.499077",
     "status": "completed"
    },
    "tags": []
   },
   "source": [
    "# 🚂 | Training"
   ]
  },
  {
   "cell_type": "code",
   "execution_count": 19,
   "id": "e76e3eff",
   "metadata": {
    "execution": {
     "iopub.execute_input": "2024-02-27T17:36:01.562138Z",
     "iopub.status.busy": "2024-02-27T17:36:01.561467Z",
     "iopub.status.idle": "2024-02-27T17:36:01.565985Z",
     "shell.execute_reply": "2024-02-27T17:36:01.565043Z"
    },
    "papermill": {
     "duration": 0.029923,
     "end_time": "2024-02-27T17:36:01.568308",
     "exception": false,
     "start_time": "2024-02-27T17:36:01.538385",
     "status": "completed"
    },
    "tags": []
   },
   "outputs": [],
   "source": [
    "# history = model_small.fit(\n",
    "#     train_ds_small, \n",
    "#     epochs=CFG.epochs,\n",
    "#     callbacks=[lr_cb, ckpt_cb], \n",
    "#     steps_per_epoch=len(train_df_small)//CFG.batch_size,\n",
    "#     validation_data=valid_ds_small, \n",
    "#     verbose=CFG.verbose\n",
    "# )"
   ]
  },
  {
   "cell_type": "markdown",
   "id": "471c9548",
   "metadata": {
    "papermill": {
     "duration": 0.020484,
     "end_time": "2024-02-27T17:36:01.609394",
     "exception": false,
     "start_time": "2024-02-27T17:36:01.588910",
     "status": "completed"
    },
    "tags": []
   },
   "source": [
    "## Get preds for small\n",
    "\n"
   ]
  },
  {
   "cell_type": "code",
   "execution_count": 20,
   "id": "db42071c",
   "metadata": {
    "execution": {
     "iopub.execute_input": "2024-02-27T17:36:01.650672Z",
     "iopub.status.busy": "2024-02-27T17:36:01.650277Z",
     "iopub.status.idle": "2024-02-27T17:36:01.654576Z",
     "shell.execute_reply": "2024-02-27T17:36:01.653635Z"
    },
    "papermill": {
     "duration": 0.02738,
     "end_time": "2024-02-27T17:36:01.656813",
     "exception": false,
     "start_time": "2024-02-27T17:36:01.629433",
     "status": "completed"
    },
    "tags": []
   },
   "outputs": [],
   "source": [
    "# model_small.load_weights(\"best_model_small.keras\")"
   ]
  },
  {
   "cell_type": "code",
   "execution_count": 21,
   "id": "c382c3f1",
   "metadata": {
    "execution": {
     "iopub.execute_input": "2024-02-27T17:36:01.697926Z",
     "iopub.status.busy": "2024-02-27T17:36:01.697497Z",
     "iopub.status.idle": "2024-02-27T17:36:01.702114Z",
     "shell.execute_reply": "2024-02-27T17:36:01.701072Z"
    },
    "papermill": {
     "duration": 0.027762,
     "end_time": "2024-02-27T17:36:01.704370",
     "exception": false,
     "start_time": "2024-02-27T17:36:01.676608",
     "status": "completed"
    },
    "tags": []
   },
   "outputs": [],
   "source": [
    "# test_paths = test_df.spec2_path.values\n",
    "# test_ds = build_dataset(test_paths, batch_size=min(CFG.batch_size, len(test_df)),\n",
    "#                          repeat=False, shuffle=False, cache=False, augment=False)"
   ]
  },
  {
   "cell_type": "code",
   "execution_count": 22,
   "id": "a9a4d393",
   "metadata": {
    "execution": {
     "iopub.execute_input": "2024-02-27T17:36:01.745868Z",
     "iopub.status.busy": "2024-02-27T17:36:01.745442Z",
     "iopub.status.idle": "2024-02-27T17:36:01.750260Z",
     "shell.execute_reply": "2024-02-27T17:36:01.749062Z"
    },
    "papermill": {
     "duration": 0.028105,
     "end_time": "2024-02-27T17:36:01.752511",
     "exception": false,
     "start_time": "2024-02-27T17:36:01.724406",
     "status": "completed"
    },
    "tags": []
   },
   "outputs": [],
   "source": [
    "# preds_small = model_small.predict(test_ds)"
   ]
  },
  {
   "cell_type": "code",
   "execution_count": 23,
   "id": "deca3feb",
   "metadata": {
    "execution": {
     "iopub.execute_input": "2024-02-27T17:36:01.796020Z",
     "iopub.status.busy": "2024-02-27T17:36:01.795356Z",
     "iopub.status.idle": "2024-02-27T17:36:01.800167Z",
     "shell.execute_reply": "2024-02-27T17:36:01.799171Z"
    },
    "papermill": {
     "duration": 0.029279,
     "end_time": "2024-02-27T17:36:01.802408",
     "exception": false,
     "start_time": "2024-02-27T17:36:01.773129",
     "status": "completed"
    },
    "tags": []
   },
   "outputs": [],
   "source": [
    "# preds_small"
   ]
  },
  {
   "cell_type": "code",
   "execution_count": 24,
   "id": "e27c14ed",
   "metadata": {
    "execution": {
     "iopub.execute_input": "2024-02-27T17:36:01.845224Z",
     "iopub.status.busy": "2024-02-27T17:36:01.844833Z",
     "iopub.status.idle": "2024-02-27T17:36:01.849415Z",
     "shell.execute_reply": "2024-02-27T17:36:01.848287Z"
    },
    "papermill": {
     "duration": 0.028506,
     "end_time": "2024-02-27T17:36:01.851672",
     "exception": false,
     "start_time": "2024-02-27T17:36:01.823166",
     "status": "completed"
    },
    "tags": []
   },
   "outputs": [],
   "source": [
    "# import gc\n",
    "# from keras import backend as k\n",
    "# # Free up memory\n",
    "# k.clear_session()\n",
    "# del model_small\n",
    "# gc.collect()"
   ]
  },
  {
   "cell_type": "markdown",
   "id": "c0c12a3d",
   "metadata": {
    "papermill": {
     "duration": 0.020147,
     "end_time": "2024-02-27T17:36:01.891975",
     "exception": false,
     "start_time": "2024-02-27T17:36:01.871828",
     "status": "completed"
    },
    "tags": []
   },
   "source": [
    "# Training for large"
   ]
  },
  {
   "cell_type": "code",
   "execution_count": 25,
   "id": "372fed66",
   "metadata": {
    "execution": {
     "iopub.execute_input": "2024-02-27T17:36:01.940066Z",
     "iopub.status.busy": "2024-02-27T17:36:01.939346Z",
     "iopub.status.idle": "2024-02-27T17:36:01.944601Z",
     "shell.execute_reply": "2024-02-27T17:36:01.943576Z"
    },
    "papermill": {
     "duration": 0.029976,
     "end_time": "2024-02-27T17:36:01.946702",
     "exception": false,
     "start_time": "2024-02-27T17:36:01.916726",
     "status": "completed"
    },
    "tags": []
   },
   "outputs": [],
   "source": [
    "# # Build Classifier\n",
    "# model_large = keras_cv.models.ImageClassifier.from_preset(\n",
    "#     CFG.preset, num_classes=CFG.num_classes\n",
    "# )\n",
    "\n",
    "# # Compile the model  \n",
    "# model_large.compile(optimizer=keras.optimizers.Adam(learning_rate=1e-4),\n",
    "#               loss=LOSS)\n",
    "\n",
    "# # Model Sumamry\n",
    "# model_large.summary()\n",
    "\n",
    "# lr_cb = get_lr_callback(CFG.batch_size, mode=CFG.lr_mode, plot=True)\n",
    "\n",
    "# ckpt_cb = keras.callbacks.ModelCheckpoint(\"best_model_large.keras\",\n",
    "#                                          monitor='val_loss',\n",
    "#                                          save_best_only=True,\n",
    "#                                          save_weights_only=False,\n",
    "#                                          mode='min')"
   ]
  },
  {
   "cell_type": "code",
   "execution_count": 26,
   "id": "402e296d",
   "metadata": {
    "execution": {
     "iopub.execute_input": "2024-02-27T17:36:01.988245Z",
     "iopub.status.busy": "2024-02-27T17:36:01.987396Z",
     "iopub.status.idle": "2024-02-27T17:36:01.991846Z",
     "shell.execute_reply": "2024-02-27T17:36:01.990870Z"
    },
    "papermill": {
     "duration": 0.027622,
     "end_time": "2024-02-27T17:36:01.994093",
     "exception": false,
     "start_time": "2024-02-27T17:36:01.966471",
     "status": "completed"
    },
    "tags": []
   },
   "outputs": [],
   "source": [
    "# history = model_large.fit(\n",
    "#     train_ds_large, \n",
    "#     epochs=CFG.epochs,\n",
    "#     callbacks=[lr_cb, ckpt_cb], \n",
    "#     steps_per_epoch=len(train_df_large)//CFG.batch_size,\n",
    "#     validation_data=valid_ds_large, \n",
    "#     verbose=CFG.verbose\n",
    "# )"
   ]
  },
  {
   "cell_type": "markdown",
   "id": "8aa59c4a",
   "metadata": {
    "papermill": {
     "duration": 0.019137,
     "end_time": "2024-02-27T17:36:02.033147",
     "exception": false,
     "start_time": "2024-02-27T17:36:02.014010",
     "status": "completed"
    },
    "tags": []
   },
   "source": [
    "# 🧪 | Prediction"
   ]
  },
  {
   "cell_type": "markdown",
   "id": "3ccefcec",
   "metadata": {
    "papermill": {
     "duration": 0.019755,
     "end_time": "2024-02-27T17:36:02.072604",
     "exception": false,
     "start_time": "2024-02-27T17:36:02.052849",
     "status": "completed"
    },
    "tags": []
   },
   "source": [
    "## Load Best Model"
   ]
  },
  {
   "cell_type": "code",
   "execution_count": 27,
   "id": "c1cc3029",
   "metadata": {
    "execution": {
     "iopub.execute_input": "2024-02-27T17:36:02.116110Z",
     "iopub.status.busy": "2024-02-27T17:36:02.115704Z",
     "iopub.status.idle": "2024-02-27T17:36:02.120453Z",
     "shell.execute_reply": "2024-02-27T17:36:02.119352Z"
    },
    "papermill": {
     "duration": 0.029702,
     "end_time": "2024-02-27T17:36:02.122764",
     "exception": false,
     "start_time": "2024-02-27T17:36:02.093062",
     "status": "completed"
    },
    "tags": []
   },
   "outputs": [],
   "source": [
    "# model_large.load_weights(\"best_model_large.keras\")"
   ]
  },
  {
   "cell_type": "markdown",
   "id": "cd199262",
   "metadata": {
    "papermill": {
     "duration": 0.019283,
     "end_time": "2024-02-27T17:36:02.162729",
     "exception": false,
     "start_time": "2024-02-27T17:36:02.143446",
     "status": "completed"
    },
    "tags": []
   },
   "source": [
    "## Build Test Dataset"
   ]
  },
  {
   "cell_type": "markdown",
   "id": "2e8e38d3",
   "metadata": {
    "papermill": {
     "duration": 0.019084,
     "end_time": "2024-02-27T17:36:02.200834",
     "exception": false,
     "start_time": "2024-02-27T17:36:02.181750",
     "status": "completed"
    },
    "tags": []
   },
   "source": [
    "## Inference"
   ]
  },
  {
   "cell_type": "code",
   "execution_count": 28,
   "id": "527a378a",
   "metadata": {
    "execution": {
     "iopub.execute_input": "2024-02-27T17:36:02.243621Z",
     "iopub.status.busy": "2024-02-27T17:36:02.242500Z",
     "iopub.status.idle": "2024-02-27T17:36:02.247321Z",
     "shell.execute_reply": "2024-02-27T17:36:02.246136Z"
    },
    "papermill": {
     "duration": 0.029131,
     "end_time": "2024-02-27T17:36:02.249899",
     "exception": false,
     "start_time": "2024-02-27T17:36:02.220768",
     "status": "completed"
    },
    "tags": []
   },
   "outputs": [],
   "source": [
    "# preds_large = model_large.predict(test_ds)"
   ]
  },
  {
   "cell_type": "code",
   "execution_count": 29,
   "id": "551d06a7",
   "metadata": {
    "execution": {
     "iopub.execute_input": "2024-02-27T17:36:02.289792Z",
     "iopub.status.busy": "2024-02-27T17:36:02.289041Z",
     "iopub.status.idle": "2024-02-27T17:36:02.293154Z",
     "shell.execute_reply": "2024-02-27T17:36:02.292250Z"
    },
    "papermill": {
     "duration": 0.026729,
     "end_time": "2024-02-27T17:36:02.295261",
     "exception": false,
     "start_time": "2024-02-27T17:36:02.268532",
     "status": "completed"
    },
    "tags": []
   },
   "outputs": [],
   "source": [
    "# k.clear_session()\n",
    "# del model_large\n",
    "# gc.collect()"
   ]
  },
  {
   "cell_type": "markdown",
   "id": "d0bcae48",
   "metadata": {
    "papermill": {
     "duration": 0.019644,
     "end_time": "2024-02-27T17:36:02.334522",
     "exception": false,
     "start_time": "2024-02-27T17:36:02.314878",
     "status": "completed"
    },
    "tags": []
   },
   "source": [
    "# Load models and predict"
   ]
  },
  {
   "cell_type": "code",
   "execution_count": 30,
   "id": "daaad012",
   "metadata": {
    "execution": {
     "iopub.execute_input": "2024-02-27T17:36:02.375106Z",
     "iopub.status.busy": "2024-02-27T17:36:02.374724Z",
     "iopub.status.idle": "2024-02-27T17:36:04.182870Z",
     "shell.execute_reply": "2024-02-27T17:36:04.181820Z"
    },
    "papermill": {
     "duration": 1.831539,
     "end_time": "2024-02-27T17:36:04.185404",
     "exception": false,
     "start_time": "2024-02-27T17:36:02.353865",
     "status": "completed"
    },
    "tags": []
   },
   "outputs": [
    {
     "data": {
      "text/html": [
       "<div>\n",
       "<style scoped>\n",
       "    .dataframe tbody tr th:only-of-type {\n",
       "        vertical-align: middle;\n",
       "    }\n",
       "\n",
       "    .dataframe tbody tr th {\n",
       "        vertical-align: top;\n",
       "    }\n",
       "\n",
       "    .dataframe thead th {\n",
       "        text-align: right;\n",
       "    }\n",
       "</style>\n",
       "<table border=\"1\" class=\"dataframe\">\n",
       "  <thead>\n",
       "    <tr style=\"text-align: right;\">\n",
       "      <th></th>\n",
       "      <th>spectrogram_id</th>\n",
       "      <th>eeg_id</th>\n",
       "      <th>patient_id</th>\n",
       "      <th>eeg_path</th>\n",
       "      <th>spec_path</th>\n",
       "      <th>spec2_path</th>\n",
       "    </tr>\n",
       "  </thead>\n",
       "  <tbody>\n",
       "    <tr>\n",
       "      <th>0</th>\n",
       "      <td>853520</td>\n",
       "      <td>3911565283</td>\n",
       "      <td>6885</td>\n",
       "      <td>/kaggle/input/hms-harmful-brain-activity-class...</td>\n",
       "      <td>/kaggle/input/hms-harmful-brain-activity-class...</td>\n",
       "      <td>/tmp/dataset/hms-hbac/test_spectrograms/853520...</td>\n",
       "    </tr>\n",
       "  </tbody>\n",
       "</table>\n",
       "</div>"
      ],
      "text/plain": [
       "   spectrogram_id      eeg_id  patient_id  \\\n",
       "0          853520  3911565283        6885   \n",
       "\n",
       "                                            eeg_path  \\\n",
       "0  /kaggle/input/hms-harmful-brain-activity-class...   \n",
       "\n",
       "                                           spec_path  \\\n",
       "0  /kaggle/input/hms-harmful-brain-activity-class...   \n",
       "\n",
       "                                          spec2_path  \n",
       "0  /tmp/dataset/hms-hbac/test_spectrograms/853520...  "
      ]
     },
     "metadata": {},
     "output_type": "display_data"
    },
    {
     "data": {
      "application/vnd.jupyter.widget-view+json": {
       "model_id": "af64b6d6246048159f27c411c652c5e6",
       "version_major": 2,
       "version_minor": 0
      },
      "text/plain": [
       "  0%|          | 0/1 [00:00<?, ?it/s]"
      ]
     },
     "metadata": {},
     "output_type": "display_data"
    }
   ],
   "source": [
    "test_df = pd.read_csv(f'{BASE_PATH}/test.csv')\n",
    "test_df['eeg_path'] = f'{BASE_PATH}/test_eegs/'+test_df['eeg_id'].astype(str)+'.parquet'\n",
    "test_df['spec_path'] = f'{BASE_PATH}/test_spectrograms/'+test_df['spectrogram_id'].astype(str)+'.parquet'\n",
    "test_df['spec2_path'] = f'{SPEC_DIR}/test_spectrograms/'+test_df['spectrogram_id'].astype(str)+'.npy'\n",
    "display(test_df.head(2))\n",
    "\n",
    "def process_spec(spec_id, split=\"train\"):\n",
    "    spec_path = f\"{BASE_PATH}/{split}_spectrograms/{spec_id}.parquet\"\n",
    "    spec = pd.read_parquet(spec_path)\n",
    "    spec = spec.fillna(0).values[:, 1:].T # fill NaN values with 0, transpose for (Time, Freq) -> (Freq, Time)\n",
    "    spec = spec.astype(\"float32\")\n",
    "    np.save(f\"{SPEC_DIR}/{split}_spectrograms/{spec_id}.npy\", spec)\n",
    "    \n",
    "    \n",
    "test_spec_ids = test_df[\"spectrogram_id\"].unique()\n",
    "\n",
    "# Parallelize the processing using joblib for test data\n",
    "_ = joblib.Parallel(n_jobs=-1, backend=\"loky\")(\n",
    "    joblib.delayed(process_spec)(spec_id, \"test\")\n",
    "    for spec_id in tqdm(test_spec_ids, total=len(test_spec_ids))\n",
    ")\n",
    "\n",
    "test_paths = test_df.spec2_path.values\n",
    "test_ds = build_dataset(test_paths, batch_size=min(CFG.batch_size, len(test_df)),\n",
    "                         repeat=False, shuffle=False, cache=False, augment=False)"
   ]
  },
  {
   "cell_type": "code",
   "execution_count": 31,
   "id": "41583559",
   "metadata": {
    "execution": {
     "iopub.execute_input": "2024-02-27T17:36:04.229669Z",
     "iopub.status.busy": "2024-02-27T17:36:04.229275Z",
     "iopub.status.idle": "2024-02-27T17:36:06.647815Z",
     "shell.execute_reply": "2024-02-27T17:36:06.646348Z"
    },
    "papermill": {
     "duration": 2.443957,
     "end_time": "2024-02-27T17:36:06.650451",
     "exception": false,
     "start_time": "2024-02-27T17:36:04.206494",
     "status": "completed"
    },
    "tags": []
   },
   "outputs": [],
   "source": [
    "!cp -r \"/kaggle/input/large-votes/keras/version1/1/best_model_large.keras\" ./"
   ]
  },
  {
   "cell_type": "code",
   "execution_count": 32,
   "id": "1b5b0ff1",
   "metadata": {
    "execution": {
     "iopub.execute_input": "2024-02-27T17:36:06.696597Z",
     "iopub.status.busy": "2024-02-27T17:36:06.696091Z",
     "iopub.status.idle": "2024-02-27T17:36:08.623481Z",
     "shell.execute_reply": "2024-02-27T17:36:08.622288Z"
    },
    "papermill": {
     "duration": 1.955971,
     "end_time": "2024-02-27T17:36:08.626237",
     "exception": false,
     "start_time": "2024-02-27T17:36:06.670266",
     "status": "completed"
    },
    "tags": []
   },
   "outputs": [],
   "source": [
    "!cp -r \"/kaggle/input/small-votes/keras/version1/1/best_model_small-2.keras\" ./"
   ]
  },
  {
   "cell_type": "code",
   "execution_count": 33,
   "id": "6ac76ec1",
   "metadata": {
    "execution": {
     "iopub.execute_input": "2024-02-27T17:36:08.669184Z",
     "iopub.status.busy": "2024-02-27T17:36:08.668338Z",
     "iopub.status.idle": "2024-02-27T17:36:44.613611Z",
     "shell.execute_reply": "2024-02-27T17:36:44.612542Z"
    },
    "papermill": {
     "duration": 35.96944,
     "end_time": "2024-02-27T17:36:44.616320",
     "exception": false,
     "start_time": "2024-02-27T17:36:08.646880",
     "status": "completed"
    },
    "tags": []
   },
   "outputs": [],
   "source": [
    "model_large = keras.models.load_model(\"/kaggle/working/best_model_large.keras\")"
   ]
  },
  {
   "cell_type": "code",
   "execution_count": 34,
   "id": "8a244fbb",
   "metadata": {
    "execution": {
     "iopub.execute_input": "2024-02-27T17:36:44.656897Z",
     "iopub.status.busy": "2024-02-27T17:36:44.656498Z",
     "iopub.status.idle": "2024-02-27T17:36:56.948757Z",
     "shell.execute_reply": "2024-02-27T17:36:56.947818Z"
    },
    "papermill": {
     "duration": 12.315058,
     "end_time": "2024-02-27T17:36:56.951220",
     "exception": false,
     "start_time": "2024-02-27T17:36:44.636162",
     "status": "completed"
    },
    "tags": []
   },
   "outputs": [],
   "source": [
    "model_small = keras.models.load_model(\"/kaggle/working/best_model_small-2.keras\")"
   ]
  },
  {
   "cell_type": "code",
   "execution_count": 35,
   "id": "6412782f",
   "metadata": {
    "execution": {
     "iopub.execute_input": "2024-02-27T17:36:56.995519Z",
     "iopub.status.busy": "2024-02-27T17:36:56.994530Z",
     "iopub.status.idle": "2024-02-27T17:37:34.361061Z",
     "shell.execute_reply": "2024-02-27T17:37:34.360007Z"
    },
    "papermill": {
     "duration": 37.409496,
     "end_time": "2024-02-27T17:37:34.381612",
     "exception": false,
     "start_time": "2024-02-27T17:36:56.972116",
     "status": "completed"
    },
    "tags": []
   },
   "outputs": [
    {
     "name": "stdout",
     "output_type": "stream",
     "text": [
      "\u001b[1m1/1\u001b[0m \u001b[32m━━━━━━━━━━━━━━━━━━━━\u001b[0m\u001b[37m\u001b[0m \u001b[1m8s\u001b[0m 8s/step\n",
      "\u001b[1m1/1\u001b[0m \u001b[32m━━━━━━━━━━━━━━━━━━━━\u001b[0m\u001b[37m\u001b[0m \u001b[1m8s\u001b[0m 8s/step\n"
     ]
    }
   ],
   "source": [
    "preds_large = model_large.predict(test_ds)\n",
    "preds_small = model_small.predict(test_ds)"
   ]
  },
  {
   "cell_type": "markdown",
   "id": "12d1f03b",
   "metadata": {
    "papermill": {
     "duration": 0.020088,
     "end_time": "2024-02-27T17:37:34.421399",
     "exception": false,
     "start_time": "2024-02-27T17:37:34.401311",
     "status": "completed"
    },
    "tags": []
   },
   "source": [
    "# 📩 | Submission"
   ]
  },
  {
   "cell_type": "code",
   "execution_count": 36,
   "id": "cf086451",
   "metadata": {
    "execution": {
     "iopub.execute_input": "2024-02-27T17:37:34.462905Z",
     "iopub.status.busy": "2024-02-27T17:37:34.462531Z",
     "iopub.status.idle": "2024-02-27T17:37:34.467252Z",
     "shell.execute_reply": "2024-02-27T17:37:34.466374Z"
    },
    "papermill": {
     "duration": 0.027953,
     "end_time": "2024-02-27T17:37:34.469260",
     "exception": false,
     "start_time": "2024-02-27T17:37:34.441307",
     "status": "completed"
    },
    "tags": []
   },
   "outputs": [],
   "source": [
    "preds = 0.4 * preds_large + 0.6 * preds_small"
   ]
  },
  {
   "cell_type": "code",
   "execution_count": 37,
   "id": "0e389b4d",
   "metadata": {
    "execution": {
     "iopub.execute_input": "2024-02-27T17:37:34.511004Z",
     "iopub.status.busy": "2024-02-27T17:37:34.510342Z",
     "iopub.status.idle": "2024-02-27T17:37:34.546093Z",
     "shell.execute_reply": "2024-02-27T17:37:34.545041Z"
    },
    "papermill": {
     "duration": 0.059269,
     "end_time": "2024-02-27T17:37:34.548281",
     "exception": false,
     "start_time": "2024-02-27T17:37:34.489012",
     "status": "completed"
    },
    "tags": []
   },
   "outputs": [
    {
     "data": {
      "text/html": [
       "<div>\n",
       "<style scoped>\n",
       "    .dataframe tbody tr th:only-of-type {\n",
       "        vertical-align: middle;\n",
       "    }\n",
       "\n",
       "    .dataframe tbody tr th {\n",
       "        vertical-align: top;\n",
       "    }\n",
       "\n",
       "    .dataframe thead th {\n",
       "        text-align: right;\n",
       "    }\n",
       "</style>\n",
       "<table border=\"1\" class=\"dataframe\">\n",
       "  <thead>\n",
       "    <tr style=\"text-align: right;\">\n",
       "      <th></th>\n",
       "      <th>eeg_id</th>\n",
       "      <th>seizure_vote</th>\n",
       "      <th>lpd_vote</th>\n",
       "      <th>gpd_vote</th>\n",
       "      <th>lrda_vote</th>\n",
       "      <th>grda_vote</th>\n",
       "      <th>other_vote</th>\n",
       "    </tr>\n",
       "  </thead>\n",
       "  <tbody>\n",
       "    <tr>\n",
       "      <th>0</th>\n",
       "      <td>3911565283</td>\n",
       "      <td>0.103747</td>\n",
       "      <td>0.283263</td>\n",
       "      <td>0.006681</td>\n",
       "      <td>0.531831</td>\n",
       "      <td>0.019436</td>\n",
       "      <td>0.055043</td>\n",
       "    </tr>\n",
       "  </tbody>\n",
       "</table>\n",
       "</div>"
      ],
      "text/plain": [
       "       eeg_id  seizure_vote  lpd_vote  gpd_vote  lrda_vote  grda_vote  \\\n",
       "0  3911565283      0.103747  0.283263  0.006681   0.531831   0.019436   \n",
       "\n",
       "   other_vote  \n",
       "0    0.055043  "
      ]
     },
     "execution_count": 37,
     "metadata": {},
     "output_type": "execute_result"
    }
   ],
   "source": [
    "pred_df = test_df[[\"eeg_id\"]].copy()\n",
    "target_cols = [x.lower()+'_vote' for x in CFG.class_names]\n",
    "pred_df[target_cols] = preds.tolist()\n",
    "\n",
    "sub_df = pd.read_csv(f'{BASE_PATH}/sample_submission.csv')\n",
    "sub_df = sub_df[[\"eeg_id\"]].copy()\n",
    "sub_df = sub_df.merge(pred_df, on=\"eeg_id\", how=\"left\")\n",
    "sub_df.to_csv(\"submission.csv\", index=False)\n",
    "sub_df.head()"
   ]
  },
  {
   "cell_type": "markdown",
   "id": "1aa2e474",
   "metadata": {
    "papermill": {
     "duration": 0.020167,
     "end_time": "2024-02-27T17:37:34.589517",
     "exception": false,
     "start_time": "2024-02-27T17:37:34.569350",
     "status": "completed"
    },
    "tags": []
   },
   "source": [
    "# 📌 | Reference\n",
    "* [HMS-HBAC: ResNet34d Baseline [Training]](https://www.kaggle.com/code/ttahara/hms-hbac-resnet34d-baseline-training) \n",
    "* [EfficientNetB2 Starter - [LB 0.57]](https://www.kaggle.com/code/cdeotte/efficientnetb2-starter-lb-0-57)"
   ]
  }
 ],
 "metadata": {
  "kaggle": {
   "accelerator": "gpu",
   "dataSources": [
    {
     "databundleVersionId": 7469972,
     "sourceId": 59093,
     "sourceType": "competition"
    },
    {
     "datasetId": 4308295,
     "sourceId": 7526248,
     "sourceType": "datasetVersion"
    },
    {
     "modelInstanceId": 4598,
     "sourceId": 6127,
     "sourceType": "modelInstanceVersion"
    },
    {
     "isSourceIdPinned": true,
     "modelInstanceId": 10049,
     "sourceId": 12367,
     "sourceType": "modelInstanceVersion"
    },
    {
     "isSourceIdPinned": true,
     "modelInstanceId": 10050,
     "sourceId": 12368,
     "sourceType": "modelInstanceVersion"
    }
   ],
   "isGpuEnabled": true,
   "isInternetEnabled": false,
   "language": "python",
   "sourceType": "notebook"
  },
  "kernelspec": {
   "display_name": "Python 3",
   "language": "python",
   "name": "python3"
  },
  "language_info": {
   "codemirror_mode": {
    "name": "ipython",
    "version": 3
   },
   "file_extension": ".py",
   "mimetype": "text/x-python",
   "name": "python",
   "nbconvert_exporter": "python",
   "pygments_lexer": "ipython3",
   "version": "3.10.13"
  },
  "papermill": {
   "default_parameters": {},
   "duration": 228.419969,
   "end_time": "2024-02-27T17:37:37.332669",
   "environment_variables": {},
   "exception": null,
   "input_path": "__notebook__.ipynb",
   "output_path": "__notebook__.ipynb",
   "parameters": {},
   "start_time": "2024-02-27T17:33:48.912700",
   "version": "2.4.0"
  },
  "widgets": {
   "application/vnd.jupyter.widget-state+json": {
    "state": {
     "0900322d444347808e6cef2a74284d11": {
      "model_module": "@jupyter-widgets/controls",
      "model_module_version": "1.5.0",
      "model_name": "ProgressStyleModel",
      "state": {
       "_model_module": "@jupyter-widgets/controls",
       "_model_module_version": "1.5.0",
       "_model_name": "ProgressStyleModel",
       "_view_count": null,
       "_view_module": "@jupyter-widgets/base",
       "_view_module_version": "1.2.0",
       "_view_name": "StyleView",
       "bar_color": null,
       "description_width": ""
      }
     },
     "0adeeefd802a4c44a1c1935f023fd392": {
      "model_module": "@jupyter-widgets/base",
      "model_module_version": "1.2.0",
      "model_name": "LayoutModel",
      "state": {
       "_model_module": "@jupyter-widgets/base",
       "_model_module_version": "1.2.0",
       "_model_name": "LayoutModel",
       "_view_count": null,
       "_view_module": "@jupyter-widgets/base",
       "_view_module_version": "1.2.0",
       "_view_name": "LayoutView",
       "align_content": null,
       "align_items": null,
       "align_self": null,
       "border": null,
       "bottom": null,
       "display": null,
       "flex": null,
       "flex_flow": null,
       "grid_area": null,
       "grid_auto_columns": null,
       "grid_auto_flow": null,
       "grid_auto_rows": null,
       "grid_column": null,
       "grid_gap": null,
       "grid_row": null,
       "grid_template_areas": null,
       "grid_template_columns": null,
       "grid_template_rows": null,
       "height": null,
       "justify_content": null,
       "justify_items": null,
       "left": null,
       "margin": null,
       "max_height": null,
       "max_width": null,
       "min_height": null,
       "min_width": null,
       "object_fit": null,
       "object_position": null,
       "order": null,
       "overflow": null,
       "overflow_x": null,
       "overflow_y": null,
       "padding": null,
       "right": null,
       "top": null,
       "visibility": null,
       "width": null
      }
     },
     "38946394096643dbaf6c935f92f9cae3": {
      "model_module": "@jupyter-widgets/base",
      "model_module_version": "1.2.0",
      "model_name": "LayoutModel",
      "state": {
       "_model_module": "@jupyter-widgets/base",
       "_model_module_version": "1.2.0",
       "_model_name": "LayoutModel",
       "_view_count": null,
       "_view_module": "@jupyter-widgets/base",
       "_view_module_version": "1.2.0",
       "_view_name": "LayoutView",
       "align_content": null,
       "align_items": null,
       "align_self": null,
       "border": null,
       "bottom": null,
       "display": null,
       "flex": null,
       "flex_flow": null,
       "grid_area": null,
       "grid_auto_columns": null,
       "grid_auto_flow": null,
       "grid_auto_rows": null,
       "grid_column": null,
       "grid_gap": null,
       "grid_row": null,
       "grid_template_areas": null,
       "grid_template_columns": null,
       "grid_template_rows": null,
       "height": null,
       "justify_content": null,
       "justify_items": null,
       "left": null,
       "margin": null,
       "max_height": null,
       "max_width": null,
       "min_height": null,
       "min_width": null,
       "object_fit": null,
       "object_position": null,
       "order": null,
       "overflow": null,
       "overflow_x": null,
       "overflow_y": null,
       "padding": null,
       "right": null,
       "top": null,
       "visibility": null,
       "width": null
      }
     },
     "6b2a090fbf9f4463be2bce2a9434acfd": {
      "model_module": "@jupyter-widgets/base",
      "model_module_version": "1.2.0",
      "model_name": "LayoutModel",
      "state": {
       "_model_module": "@jupyter-widgets/base",
       "_model_module_version": "1.2.0",
       "_model_name": "LayoutModel",
       "_view_count": null,
       "_view_module": "@jupyter-widgets/base",
       "_view_module_version": "1.2.0",
       "_view_name": "LayoutView",
       "align_content": null,
       "align_items": null,
       "align_self": null,
       "border": null,
       "bottom": null,
       "display": null,
       "flex": null,
       "flex_flow": null,
       "grid_area": null,
       "grid_auto_columns": null,
       "grid_auto_flow": null,
       "grid_auto_rows": null,
       "grid_column": null,
       "grid_gap": null,
       "grid_row": null,
       "grid_template_areas": null,
       "grid_template_columns": null,
       "grid_template_rows": null,
       "height": null,
       "justify_content": null,
       "justify_items": null,
       "left": null,
       "margin": null,
       "max_height": null,
       "max_width": null,
       "min_height": null,
       "min_width": null,
       "object_fit": null,
       "object_position": null,
       "order": null,
       "overflow": null,
       "overflow_x": null,
       "overflow_y": null,
       "padding": null,
       "right": null,
       "top": null,
       "visibility": null,
       "width": null
      }
     },
     "7967097149ea49fe88c4e8c598230f86": {
      "model_module": "@jupyter-widgets/controls",
      "model_module_version": "1.5.0",
      "model_name": "DescriptionStyleModel",
      "state": {
       "_model_module": "@jupyter-widgets/controls",
       "_model_module_version": "1.5.0",
       "_model_name": "DescriptionStyleModel",
       "_view_count": null,
       "_view_module": "@jupyter-widgets/base",
       "_view_module_version": "1.2.0",
       "_view_name": "StyleView",
       "description_width": ""
      }
     },
     "7e74dddfedf34a218aeb43f9197c60a4": {
      "model_module": "@jupyter-widgets/controls",
      "model_module_version": "1.5.0",
      "model_name": "FloatProgressModel",
      "state": {
       "_dom_classes": [],
       "_model_module": "@jupyter-widgets/controls",
       "_model_module_version": "1.5.0",
       "_model_name": "FloatProgressModel",
       "_view_count": null,
       "_view_module": "@jupyter-widgets/controls",
       "_view_module_version": "1.5.0",
       "_view_name": "ProgressView",
       "bar_style": "success",
       "description": "",
       "description_tooltip": null,
       "layout": "IPY_MODEL_0adeeefd802a4c44a1c1935f023fd392",
       "max": 1.0,
       "min": 0.0,
       "orientation": "horizontal",
       "style": "IPY_MODEL_0900322d444347808e6cef2a74284d11",
       "value": 1.0
      }
     },
     "81a108f6db3f44bf965e12e1d6805798": {
      "model_module": "@jupyter-widgets/controls",
      "model_module_version": "1.5.0",
      "model_name": "DescriptionStyleModel",
      "state": {
       "_model_module": "@jupyter-widgets/controls",
       "_model_module_version": "1.5.0",
       "_model_name": "DescriptionStyleModel",
       "_view_count": null,
       "_view_module": "@jupyter-widgets/base",
       "_view_module_version": "1.2.0",
       "_view_name": "StyleView",
       "description_width": ""
      }
     },
     "84a5c12def704c57a11c2e2dc808f8de": {
      "model_module": "@jupyter-widgets/base",
      "model_module_version": "1.2.0",
      "model_name": "LayoutModel",
      "state": {
       "_model_module": "@jupyter-widgets/base",
       "_model_module_version": "1.2.0",
       "_model_name": "LayoutModel",
       "_view_count": null,
       "_view_module": "@jupyter-widgets/base",
       "_view_module_version": "1.2.0",
       "_view_name": "LayoutView",
       "align_content": null,
       "align_items": null,
       "align_self": null,
       "border": null,
       "bottom": null,
       "display": null,
       "flex": null,
       "flex_flow": null,
       "grid_area": null,
       "grid_auto_columns": null,
       "grid_auto_flow": null,
       "grid_auto_rows": null,
       "grid_column": null,
       "grid_gap": null,
       "grid_row": null,
       "grid_template_areas": null,
       "grid_template_columns": null,
       "grid_template_rows": null,
       "height": null,
       "justify_content": null,
       "justify_items": null,
       "left": null,
       "margin": null,
       "max_height": null,
       "max_width": null,
       "min_height": null,
       "min_width": null,
       "object_fit": null,
       "object_position": null,
       "order": null,
       "overflow": null,
       "overflow_x": null,
       "overflow_y": null,
       "padding": null,
       "right": null,
       "top": null,
       "visibility": null,
       "width": null
      }
     },
     "abfd3d86515b4f4292b4184de9abc166": {
      "model_module": "@jupyter-widgets/controls",
      "model_module_version": "1.5.0",
      "model_name": "HTMLModel",
      "state": {
       "_dom_classes": [],
       "_model_module": "@jupyter-widgets/controls",
       "_model_module_version": "1.5.0",
       "_model_name": "HTMLModel",
       "_view_count": null,
       "_view_module": "@jupyter-widgets/controls",
       "_view_module_version": "1.5.0",
       "_view_name": "HTMLView",
       "description": "",
       "description_tooltip": null,
       "layout": "IPY_MODEL_38946394096643dbaf6c935f92f9cae3",
       "placeholder": "​",
       "style": "IPY_MODEL_7967097149ea49fe88c4e8c598230f86",
       "value": "100%"
      }
     },
     "af64b6d6246048159f27c411c652c5e6": {
      "model_module": "@jupyter-widgets/controls",
      "model_module_version": "1.5.0",
      "model_name": "HBoxModel",
      "state": {
       "_dom_classes": [],
       "_model_module": "@jupyter-widgets/controls",
       "_model_module_version": "1.5.0",
       "_model_name": "HBoxModel",
       "_view_count": null,
       "_view_module": "@jupyter-widgets/controls",
       "_view_module_version": "1.5.0",
       "_view_name": "HBoxView",
       "box_style": "",
       "children": [
        "IPY_MODEL_abfd3d86515b4f4292b4184de9abc166",
        "IPY_MODEL_7e74dddfedf34a218aeb43f9197c60a4",
        "IPY_MODEL_e09d3670aa31436987ab78d73e8ceeae"
       ],
       "layout": "IPY_MODEL_84a5c12def704c57a11c2e2dc808f8de"
      }
     },
     "e09d3670aa31436987ab78d73e8ceeae": {
      "model_module": "@jupyter-widgets/controls",
      "model_module_version": "1.5.0",
      "model_name": "HTMLModel",
      "state": {
       "_dom_classes": [],
       "_model_module": "@jupyter-widgets/controls",
       "_model_module_version": "1.5.0",
       "_model_name": "HTMLModel",
       "_view_count": null,
       "_view_module": "@jupyter-widgets/controls",
       "_view_module_version": "1.5.0",
       "_view_name": "HTMLView",
       "description": "",
       "description_tooltip": null,
       "layout": "IPY_MODEL_6b2a090fbf9f4463be2bce2a9434acfd",
       "placeholder": "​",
       "style": "IPY_MODEL_81a108f6db3f44bf965e12e1d6805798",
       "value": " 1/1 [00:00&lt;00:00, 25.15it/s]"
      }
     }
    },
    "version_major": 2,
    "version_minor": 0
   }
  }
 },
 "nbformat": 4,
 "nbformat_minor": 5
}
