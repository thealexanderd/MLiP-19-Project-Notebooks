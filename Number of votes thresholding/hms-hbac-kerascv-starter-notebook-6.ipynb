{
 "cells": [
  {
   "cell_type": "markdown",
   "id": "071a86b2",
   "metadata": {
    "execution": {
     "iopub.execute_input": "2024-01-10T05:24:31.308329Z",
     "iopub.status.busy": "2024-01-10T05:24:31.307595Z",
     "iopub.status.idle": "2024-01-10T05:24:31.313088Z",
     "shell.execute_reply": "2024-01-10T05:24:31.312113Z",
     "shell.execute_reply.started": "2024-01-10T05:24:31.308287Z"
    },
    "papermill": {
     "duration": 0.017652,
     "end_time": "2024-02-27T17:27:32.804656",
     "exception": false,
     "start_time": "2024-02-27T17:27:32.787004",
     "status": "completed"
    },
    "tags": []
   },
   "source": [
    "<center><img src=\"https://keras.io/img/logo-small.png\" alt=\"Keras logo\" width=\"100\"><br/>\n",
    "This starter notebook is provided by the Keras team.</center>"
   ]
  },
  {
   "cell_type": "markdown",
   "id": "efb75ef0",
   "metadata": {
    "papermill": {
     "duration": 0.016647,
     "end_time": "2024-02-27T17:27:32.838379",
     "exception": false,
     "start_time": "2024-02-27T17:27:32.821732",
     "status": "completed"
    },
    "tags": []
   },
   "source": [
    "# HMS - Harmful Brain Activity Classification with [KerasCV](https://github.com/keras-team/keras-cv) and [Keras](https://github.com/keras-team/keras)\n",
    "\n",
    "> The objective of this competition is to classify seizures and other patterns of harmful brain activity in critically ill patients\n",
    "\n",
    "This notebook guides you through the process of training and inferring a Deep Learning model, specifically EfficientNetV2, using KerasCV on the competition dataset. Specificaclly, this notebook uses spectrogram of the eeg data to classify the patterns.\n",
    "\n",
    "Fun fact: This notebook is backend-agnostic, supporting TensorFlow, PyTorch, and JAX. Utilizing KerasCV and Keras allows us to choose our preferred backend. Explore more details on [Keras](https://keras.io/keras_core/announcement/).\n",
    "\n",
    "In this notebook, you will learn:\n",
    "\n",
    "* Loading the data efficiently using [`tf.data`](https://www.tensorflow.org/guide/data).\n",
    "* Creating the model using KerasCV presets.\n",
    "* Training the model.\n",
    "* Inference and Submission on test data.\n",
    "\n",
    "**Note**: For a more in-depth understanding of KerasCV, refer to the [KerasCV guides](https://keras.io/guides/keras_cv/)."
   ]
  },
  {
   "cell_type": "markdown",
   "id": "23e6d94a",
   "metadata": {
    "papermill": {
     "duration": 0.017576,
     "end_time": "2024-02-27T17:27:32.872836",
     "exception": false,
     "start_time": "2024-02-27T17:27:32.855260",
     "status": "completed"
    },
    "tags": []
   },
   "source": [
    "# 🛠 | Install Libraries  \n",
    "\n",
    "Since internet access is **disabled** during inference, we cannot install libraries in the usual `!pip install <lib_name>` manner. Instead, we need to install libraries from local files. In the following cell, we will install libraries from our local files. The installation code stays very similar - we just use the `filepath` instead of the `filename` of the library. So now the code is `!pip install <local_filepath>`. \n",
    "\n",
    "> The `filepath` of these local libraries look quite complicated, but don't be intimidated! Also `--no-deps` argument ensures that we are not installing any additional libraries."
   ]
  },
  {
   "cell_type": "code",
   "execution_count": 1,
   "id": "595166f2",
   "metadata": {
    "execution": {
     "iopub.execute_input": "2024-02-27T17:27:32.908010Z",
     "iopub.status.busy": "2024-02-27T17:27:32.907688Z",
     "iopub.status.idle": "2024-02-27T17:29:17.804955Z",
     "shell.execute_reply": "2024-02-27T17:29:17.803905Z"
    },
    "papermill": {
     "duration": 104.917523,
     "end_time": "2024-02-27T17:29:17.807322",
     "exception": false,
     "start_time": "2024-02-27T17:27:32.889799",
     "status": "completed"
    },
    "tags": []
   },
   "outputs": [],
   "source": [
    "!pip install -q /kaggle/input/kerasv3-lib-ds/keras_cv-0.8.2-py3-none-any.whl --no-deps\n",
    "!pip install -q /kaggle/input/kerasv3-lib-ds/tensorflow-2.15.0.post1-cp310-cp310-manylinux_2_17_x86_64.manylinux2014_x86_64.whl --no-deps\n",
    "!pip install -q /kaggle/input/kerasv3-lib-ds/keras-3.0.4-py3-none-any.whl --no-deps"
   ]
  },
  {
   "cell_type": "markdown",
   "id": "1126c293",
   "metadata": {
    "papermill": {
     "duration": 0.016942,
     "end_time": "2024-02-27T17:29:17.842206",
     "exception": false,
     "start_time": "2024-02-27T17:29:17.825264",
     "status": "completed"
    },
    "tags": []
   },
   "source": [
    "# 📚 | Import Libraries "
   ]
  },
  {
   "cell_type": "code",
   "execution_count": 2,
   "id": "127e9933",
   "metadata": {
    "_kg_hide-output": true,
    "execution": {
     "iopub.execute_input": "2024-02-27T17:29:17.877834Z",
     "iopub.status.busy": "2024-02-27T17:29:17.877209Z",
     "iopub.status.idle": "2024-02-27T17:29:28.582107Z",
     "shell.execute_reply": "2024-02-27T17:29:28.581103Z"
    },
    "papermill": {
     "duration": 10.725767,
     "end_time": "2024-02-27T17:29:28.584863",
     "exception": false,
     "start_time": "2024-02-27T17:29:17.859096",
     "status": "completed"
    },
    "tags": []
   },
   "outputs": [
    {
     "name": "stderr",
     "output_type": "stream",
     "text": [
      "2024-02-27 17:29:21.815571: E external/local_xla/xla/stream_executor/cuda/cuda_dnn.cc:9261] Unable to register cuDNN factory: Attempting to register factory for plugin cuDNN when one has already been registered\n",
      "2024-02-27 17:29:21.815624: E external/local_xla/xla/stream_executor/cuda/cuda_fft.cc:607] Unable to register cuFFT factory: Attempting to register factory for plugin cuFFT when one has already been registered\n",
      "2024-02-27 17:29:21.817123: E external/local_xla/xla/stream_executor/cuda/cuda_blas.cc:1515] Unable to register cuBLAS factory: Attempting to register factory for plugin cuBLAS when one has already been registered\n"
     ]
    }
   ],
   "source": [
    "import os\n",
    "os.environ[\"KERAS_BACKEND\"] = \"jax\" # you can also use tensorflow or torch\n",
    "\n",
    "import keras_cv\n",
    "import keras\n",
    "from keras import ops\n",
    "import tensorflow as tf\n",
    "\n",
    "import cv2\n",
    "import pandas as pd\n",
    "import numpy as np\n",
    "from glob import glob\n",
    "from tqdm.notebook import tqdm\n",
    "import joblib\n",
    "\n",
    "import matplotlib.pyplot as plt "
   ]
  },
  {
   "cell_type": "markdown",
   "id": "3a9e7422",
   "metadata": {
    "papermill": {
     "duration": 0.024489,
     "end_time": "2024-02-27T17:29:28.640441",
     "exception": false,
     "start_time": "2024-02-27T17:29:28.615952",
     "status": "completed"
    },
    "tags": []
   },
   "source": [
    "## Library Versions"
   ]
  },
  {
   "cell_type": "code",
   "execution_count": 3,
   "id": "fca0083d",
   "metadata": {
    "execution": {
     "iopub.execute_input": "2024-02-27T17:29:28.691063Z",
     "iopub.status.busy": "2024-02-27T17:29:28.690304Z",
     "iopub.status.idle": "2024-02-27T17:29:28.697205Z",
     "shell.execute_reply": "2024-02-27T17:29:28.695931Z"
    },
    "papermill": {
     "duration": 0.035303,
     "end_time": "2024-02-27T17:29:28.700348",
     "exception": false,
     "start_time": "2024-02-27T17:29:28.665045",
     "status": "completed"
    },
    "tags": []
   },
   "outputs": [
    {
     "name": "stdout",
     "output_type": "stream",
     "text": [
      "TensorFlow: 2.15.0\n",
      "Keras: 3.0.4\n",
      "KerasCV: 0.8.2\n"
     ]
    }
   ],
   "source": [
    "print(\"TensorFlow:\", tf.__version__)\n",
    "print(\"Keras:\", keras.__version__)\n",
    "print(\"KerasCV:\", keras_cv.__version__)"
   ]
  },
  {
   "cell_type": "markdown",
   "id": "717615ce",
   "metadata": {
    "papermill": {
     "duration": 0.018714,
     "end_time": "2024-02-27T17:29:28.745430",
     "exception": false,
     "start_time": "2024-02-27T17:29:28.726716",
     "status": "completed"
    },
    "tags": []
   },
   "source": [
    "# ⚙️ | Configuration"
   ]
  },
  {
   "cell_type": "code",
   "execution_count": 4,
   "id": "5a0186b0",
   "metadata": {
    "execution": {
     "iopub.execute_input": "2024-02-27T17:29:28.780728Z",
     "iopub.status.busy": "2024-02-27T17:29:28.780445Z",
     "iopub.status.idle": "2024-02-27T17:29:28.786776Z",
     "shell.execute_reply": "2024-02-27T17:29:28.785748Z"
    },
    "papermill": {
     "duration": 0.026277,
     "end_time": "2024-02-27T17:29:28.788834",
     "exception": false,
     "start_time": "2024-02-27T17:29:28.762557",
     "status": "completed"
    },
    "tags": []
   },
   "outputs": [],
   "source": [
    "class CFG:\n",
    "    verbose = 1  # Verbosity\n",
    "    seed = 42  # Random seed\n",
    "    preset = \"efficientnetv2_b2_imagenet\"  # Name of pretrained classifier\n",
    "    image_size = [400, 300]  # Input image size\n",
    "    epochs = 13 # Training epochs\n",
    "    batch_size = 64  # Batch size\n",
    "    lr_mode = \"cos\" # LR scheduler mode from one of \"cos\", \"step\", \"exp\"\n",
    "    drop_remainder = True  # Drop incomplete batches\n",
    "    num_classes = 6 # Number of classes in the dataset\n",
    "    fold = 0 # Which fold to set as validation data\n",
    "    class_names = ['Seizure', 'LPD', 'GPD', 'LRDA','GRDA', 'Other']\n",
    "    label2name = dict(enumerate(class_names))\n",
    "    name2label = {v:k for k, v in label2name.items()}"
   ]
  },
  {
   "cell_type": "markdown",
   "id": "0fa14ee1",
   "metadata": {
    "papermill": {
     "duration": 0.016764,
     "end_time": "2024-02-27T17:29:28.822764",
     "exception": false,
     "start_time": "2024-02-27T17:29:28.806000",
     "status": "completed"
    },
    "tags": []
   },
   "source": [
    "# ♻️ | Reproducibility \n",
    "Sets value for random seed to produce similar result in each run."
   ]
  },
  {
   "cell_type": "code",
   "execution_count": 5,
   "id": "d86661d3",
   "metadata": {
    "execution": {
     "iopub.execute_input": "2024-02-27T17:29:28.858579Z",
     "iopub.status.busy": "2024-02-27T17:29:28.857800Z",
     "iopub.status.idle": "2024-02-27T17:29:28.862556Z",
     "shell.execute_reply": "2024-02-27T17:29:28.861748Z"
    },
    "papermill": {
     "duration": 0.024378,
     "end_time": "2024-02-27T17:29:28.864382",
     "exception": false,
     "start_time": "2024-02-27T17:29:28.840004",
     "status": "completed"
    },
    "tags": []
   },
   "outputs": [],
   "source": [
    "keras.utils.set_random_seed(CFG.seed)"
   ]
  },
  {
   "cell_type": "markdown",
   "id": "49c560c5",
   "metadata": {
    "papermill": {
     "duration": 0.01729,
     "end_time": "2024-02-27T17:29:28.898561",
     "exception": false,
     "start_time": "2024-02-27T17:29:28.881271",
     "status": "completed"
    },
    "tags": []
   },
   "source": [
    "# 📁 | Dataset Path "
   ]
  },
  {
   "cell_type": "code",
   "execution_count": 6,
   "id": "25e26838",
   "metadata": {
    "execution": {
     "iopub.execute_input": "2024-02-27T17:29:28.934151Z",
     "iopub.status.busy": "2024-02-27T17:29:28.933549Z",
     "iopub.status.idle": "2024-02-27T17:29:28.939263Z",
     "shell.execute_reply": "2024-02-27T17:29:28.938412Z"
    },
    "papermill": {
     "duration": 0.026086,
     "end_time": "2024-02-27T17:29:28.941615",
     "exception": false,
     "start_time": "2024-02-27T17:29:28.915529",
     "status": "completed"
    },
    "tags": []
   },
   "outputs": [],
   "source": [
    "BASE_PATH = \"/kaggle/input/hms-harmful-brain-activity-classification\"\n",
    "\n",
    "SPEC_DIR = \"/tmp/dataset/hms-hbac\"\n",
    "os.makedirs(SPEC_DIR+'/train_spectrograms', exist_ok=True)\n",
    "os.makedirs(SPEC_DIR+'/test_spectrograms', exist_ok=True)"
   ]
  },
  {
   "cell_type": "markdown",
   "id": "61620cc0",
   "metadata": {
    "papermill": {
     "duration": 0.016917,
     "end_time": "2024-02-27T17:29:28.978125",
     "exception": false,
     "start_time": "2024-02-27T17:29:28.961208",
     "status": "completed"
    },
    "tags": []
   },
   "source": [
    "# 📖 | Meta Data "
   ]
  },
  {
   "cell_type": "code",
   "execution_count": 7,
   "id": "1053f31b",
   "metadata": {
    "execution": {
     "iopub.execute_input": "2024-02-27T17:29:29.014531Z",
     "iopub.status.busy": "2024-02-27T17:29:29.013726Z",
     "iopub.status.idle": "2024-02-27T17:29:29.019708Z",
     "shell.execute_reply": "2024-02-27T17:29:29.018874Z"
    },
    "papermill": {
     "duration": 0.026571,
     "end_time": "2024-02-27T17:29:29.022021",
     "exception": false,
     "start_time": "2024-02-27T17:29:28.995450",
     "status": "completed"
    },
    "tags": []
   },
   "outputs": [],
   "source": [
    "# df = pd.read_csv(f'{BASE_PATH}/train.csv')\n",
    "# df['total_evaluators'] = df[['seizure_vote', 'lpd_vote', 'gpd_vote', 'lrda_vote', 'grda_vote', 'other_vote']].sum(axis=1)\n",
    "# df['consensus'] = df[['seizure_vote', 'lpd_vote', 'gpd_vote', 'lrda_vote', 'grda_vote', 'other_vote']].max(axis=1)\n",
    "# df['consensus_column'] = df[['seizure_vote', 'lpd_vote', 'gpd_vote', 'lrda_vote', 'grda_vote', 'other_vote']].idxmax(axis=1)\n",
    "# df['row_agreement'] = df['consensus']/df['total_evaluators']\n",
    "# original_df = df.copy(deep=True)\n",
    "# large = original_df[original_df['total_evaluators'] >= 10].copy()\n",
    "# small = original_df[original_df['total_evaluators'] < 10].copy()\n",
    "\n",
    "\n",
    "# # Trying with using only the rows that have more than 5 evaluators in total\n",
    "# df = original_df[original_df['total_evaluators'] >= 5].copy()\n",
    "# df.head(25)\n",
    "\n",
    "# Trying with using only the rows that have more than 0.7 agreement\n",
    "# df = original_df[original_df['row_agreement'] >= 0.7].copy()\n",
    "# df.head(25)\n",
    "\n",
    "# row_agreement_agg = df.groupby('eeg_id')['consensus'].agg('sum')\n",
    "\n",
    "# # Mapping this aggregated value back to each row in 'df'\n",
    "# df['row_consensus_agg'] = df['eeg_id'].map(row_agreement_agg)\n",
    "\n",
    "# row_evaluators_agg = df.groupby('eeg_id')['total_evaluators'].agg('sum')\n",
    "\n",
    "# # Mapping this aggregated value back to each row in 'df'\n",
    "# df['row_evaluators_agg'] = df['eeg_id'].map(row_evaluators_agg)\n",
    "\n",
    "# df['eeg_agreement'] = df['row_consensus_agg']/df['row_evaluators_agg']\n",
    "\n",
    "# original_df.head(25)  # Display the first few rows of the DataFrame to show the new column\n",
    "\n"
   ]
  },
  {
   "cell_type": "code",
   "execution_count": 8,
   "id": "a19d3de7",
   "metadata": {
    "execution": {
     "iopub.execute_input": "2024-02-27T17:29:29.061481Z",
     "iopub.status.busy": "2024-02-27T17:29:29.060622Z",
     "iopub.status.idle": "2024-02-27T17:29:29.066318Z",
     "shell.execute_reply": "2024-02-27T17:29:29.065361Z"
    },
    "papermill": {
     "duration": 0.025716,
     "end_time": "2024-02-27T17:29:29.068569",
     "exception": false,
     "start_time": "2024-02-27T17:29:29.042853",
     "status": "completed"
    },
    "tags": []
   },
   "outputs": [],
   "source": [
    "# # Train + Valid small\n",
    "\n",
    "# small['eeg_path'] = f'{BASE_PATH}/train_eegs/'+small['eeg_id'].astype(str)+'.parquet'\n",
    "# small['spec_path'] = f'{BASE_PATH}/train_spectrograms/'+small['spectrogram_id'].astype(str)+'.parquet'\n",
    "# small['spec2_path'] = f'{SPEC_DIR}/train_spectrograms/'+small['spectrogram_id'].astype(str)+'.npy'\n",
    "# small['class_name'] = small.expert_consensus.copy()\n",
    "# small['class_label'] = small.expert_consensus.map(CFG.name2label)\n",
    "# display(small.head(2))\n",
    "\n",
    "# # Train + Valid large\n",
    "\n",
    "# large['eeg_path'] = f'{BASE_PATH}/train_eegs/'+large['eeg_id'].astype(str)+'.parquet'\n",
    "# large['spec_path'] = f'{BASE_PATH}/train_spectrograms/'+large['spectrogram_id'].astype(str)+'.parquet'\n",
    "# large['spec2_path'] = f'{SPEC_DIR}/train_spectrograms/'+large['spectrogram_id'].astype(str)+'.npy'\n",
    "# large['class_name'] = large.expert_consensus.copy()\n",
    "# large['class_label'] = large.expert_consensus.map(CFG.name2label)\n",
    "# display(large.head(2))\n",
    "\n",
    "# # Test\n",
    "# test_df = pd.read_csv(f'{BASE_PATH}/test.csv')\n",
    "# test_df['eeg_path'] = f'{BASE_PATH}/test_eegs/'+test_df['eeg_id'].astype(str)+'.parquet'\n",
    "# test_df['spec_path'] = f'{BASE_PATH}/test_spectrograms/'+test_df['spectrogram_id'].astype(str)+'.parquet'\n",
    "# test_df['spec2_path'] = f'{SPEC_DIR}/test_spectrograms/'+test_df['spectrogram_id'].astype(str)+'.npy'\n",
    "# display(test_df.head(2))"
   ]
  },
  {
   "cell_type": "markdown",
   "id": "7efac6f2",
   "metadata": {
    "papermill": {
     "duration": 0.017512,
     "end_time": "2024-02-27T17:29:29.110471",
     "exception": false,
     "start_time": "2024-02-27T17:29:29.092959",
     "status": "completed"
    },
    "tags": []
   },
   "source": [
    "## Convert `.parquet` to `.npy`\n",
    "\n",
    "To facilitate easier data loading, we will convert the EEG spectrograms from `parquet` to `npy` format. This process involves saving the spectrogram data, and since the content of the files remains the same, no significant changes are made. \n",
    "\n",
    "> It's worth noting that the `time` column is excluded, as it is not part of the spectrogram."
   ]
  },
  {
   "cell_type": "code",
   "execution_count": 9,
   "id": "bfb88935",
   "metadata": {
    "execution": {
     "iopub.execute_input": "2024-02-27T17:29:29.145710Z",
     "iopub.status.busy": "2024-02-27T17:29:29.145446Z",
     "iopub.status.idle": "2024-02-27T17:29:29.150100Z",
     "shell.execute_reply": "2024-02-27T17:29:29.149268Z"
    },
    "papermill": {
     "duration": 0.024588,
     "end_time": "2024-02-27T17:29:29.152114",
     "exception": false,
     "start_time": "2024-02-27T17:29:29.127526",
     "status": "completed"
    },
    "tags": []
   },
   "outputs": [],
   "source": [
    "# # Define a function to process a single eeg_id\n",
    "# def process_spec(spec_id, split=\"train\"):\n",
    "#     spec_path = f\"{BASE_PATH}/{split}_spectrograms/{spec_id}.parquet\"\n",
    "#     spec = pd.read_parquet(spec_path)\n",
    "#     spec = spec.fillna(0).values[:, 1:].T # fill NaN values with 0, transpose for (Time, Freq) -> (Freq, Time)\n",
    "#     spec = spec.astype(\"float32\")\n",
    "#     np.save(f\"{SPEC_DIR}/{split}_spectrograms/{spec_id}.npy\", spec)\n",
    "\n",
    "# # Get unique spec_ids of train and valid data\n",
    "# spec_ids_small = small[\"spectrogram_id\"].unique()\n",
    "\n",
    "# # Parallelize the processing using joblib for training data\n",
    "# _ = joblib.Parallel(n_jobs=-1, backend=\"loky\")(\n",
    "#     joblib.delayed(process_spec)(spec_id, \"train\")\n",
    "#     for spec_id in tqdm(spec_ids_small, total=len(spec_ids_small))\n",
    "# )\n",
    "\n",
    "# spec_ids_large = large[\"spectrogram_id\"].unique()\n",
    "\n",
    "# # Parallelize the processing using joblib for training data\n",
    "# _ = joblib.Parallel(n_jobs=-1, backend=\"loky\")(\n",
    "#     joblib.delayed(process_spec)(spec_id, \"train\")\n",
    "#     for spec_id in tqdm(spec_ids_large, total=len(spec_ids_large))\n",
    "# )\n",
    "\n",
    "# # Get unique spec_ids of test data\n",
    "# test_spec_ids = test_df[\"spectrogram_id\"].unique()\n",
    "\n",
    "# # Parallelize the processing using joblib for test data\n",
    "# _ = joblib.Parallel(n_jobs=-1, backend=\"loky\")(\n",
    "#     joblib.delayed(process_spec)(spec_id, \"test\")\n",
    "#     for spec_id in tqdm(test_spec_ids, total=len(test_spec_ids))\n",
    "# )"
   ]
  },
  {
   "cell_type": "markdown",
   "id": "6475df9c",
   "metadata": {
    "papermill": {
     "duration": 0.016821,
     "end_time": "2024-02-27T17:29:29.185921",
     "exception": false,
     "start_time": "2024-02-27T17:29:29.169100",
     "status": "completed"
    },
    "tags": []
   },
   "source": [
    "# 🍚 | DataLoader\n",
    "\n",
    "This DataLoader first reads `npy` spectrogram files and extracts labeled subsamples using specified `offset` values. Then, it converts the spectrogram data into `log spectrogram` and applies the popular signal augmentation `MixUp`.\n",
    "\n",
    "> Note that, we are converting the mono channel signal to a 3-channel signal for using \"ImageNet\" weights of pretrained model."
   ]
  },
  {
   "cell_type": "code",
   "execution_count": 10,
   "id": "76e9fe60",
   "metadata": {
    "execution": {
     "iopub.execute_input": "2024-02-27T17:29:29.263692Z",
     "iopub.status.busy": "2024-02-27T17:29:29.263025Z",
     "iopub.status.idle": "2024-02-27T17:29:29.283449Z",
     "shell.execute_reply": "2024-02-27T17:29:29.282744Z"
    },
    "papermill": {
     "duration": 0.082442,
     "end_time": "2024-02-27T17:29:29.285387",
     "exception": false,
     "start_time": "2024-02-27T17:29:29.202945",
     "status": "completed"
    },
    "tags": []
   },
   "outputs": [],
   "source": [
    "def build_augmenter(dim=CFG.image_size):\n",
    "    augmenters = [\n",
    "        keras_cv.layers.MixUp(alpha=2.0),\n",
    "        keras_cv.layers.RandomCutout(height_factor=(1.0, 1.0),\n",
    "                                     width_factor=(0.06, 0.1)), # freq-masking\n",
    "        keras_cv.layers.RandomCutout(height_factor=(0.06, 0.1),\n",
    "                                     width_factor=(1.0, 1.0)), # time-masking\n",
    "    ]\n",
    "    \n",
    "    def augment(img, label):\n",
    "        data = {\"images\":img, \"labels\":label}\n",
    "        for augmenter in augmenters:\n",
    "            if tf.random.uniform([]) < 0.5:\n",
    "                data = augmenter(data, training=True)\n",
    "        return data[\"images\"], data[\"labels\"]\n",
    "    \n",
    "    return augment\n",
    "\n",
    "\n",
    "def build_decoder(with_labels=True, target_size=CFG.image_size, dtype=32):\n",
    "    def decode_signal(path, offset=None):\n",
    "        # Read .npy files and process the signal\n",
    "        file_bytes = tf.io.read_file(path)\n",
    "        sig = tf.io.decode_raw(file_bytes, tf.float32)\n",
    "        sig = sig[1024//dtype:]  # Remove header tag\n",
    "        sig = tf.reshape(sig, [400, -1])\n",
    "        \n",
    "        # Extract labeled subsample from full spectrogram using \"offset\"\n",
    "        if offset is not None: \n",
    "            offset = offset // 2  # Only odd values are given\n",
    "            sig = sig[:, offset:offset+300]\n",
    "            \n",
    "            # Pad spectrogram to ensure the same input shape of [400, 300]\n",
    "            pad_size = tf.math.maximum(0, 300 - tf.shape(sig)[1])\n",
    "            sig = tf.pad(sig, [[0, 0], [0, pad_size]])\n",
    "            sig = tf.reshape(sig, [400, 300])\n",
    "        \n",
    "        # Log spectrogram \n",
    "        sig = tf.clip_by_value(sig, tf.math.exp(-4.0), tf.math.exp(8.0)) # avoid 0 in log\n",
    "        sig = tf.math.log(sig)\n",
    "        \n",
    "        # Normalize spectrogram\n",
    "        sig -= tf.math.reduce_mean(sig)\n",
    "        sig /= tf.math.reduce_std(sig) + 1e-6\n",
    "        \n",
    "        # Mono channel to 3 channels to use \"ImageNet\" weights\n",
    "        sig = tf.tile(sig[..., None], [1, 1, 3])\n",
    "        return sig\n",
    "    \n",
    "    def decode_label(label):\n",
    "        label = tf.one_hot(label, CFG.num_classes)\n",
    "        label = tf.cast(label, tf.float32)\n",
    "        label = tf.reshape(label, [CFG.num_classes])\n",
    "        return label\n",
    "    \n",
    "    def decode_with_labels(path, offset=None, label=None):\n",
    "        sig = decode_signal(path, offset)\n",
    "        label = decode_label(label)\n",
    "        return (sig, label)\n",
    "    \n",
    "    return decode_with_labels if with_labels else decode_signal\n",
    "\n",
    "\n",
    "def build_dataset(paths, offsets=None, labels=None, batch_size=32, cache=True,\n",
    "                  decode_fn=None, augment_fn=None,\n",
    "                  augment=False, repeat=True, shuffle=1024, \n",
    "                  cache_dir=\"\", drop_remainder=False):\n",
    "    if cache_dir != \"\" and cache is True:\n",
    "        os.makedirs(cache_dir, exist_ok=True)\n",
    "    \n",
    "    if decode_fn is None:\n",
    "        decode_fn = build_decoder(labels is not None)\n",
    "    \n",
    "    if augment_fn is None:\n",
    "        augment_fn = build_augmenter()\n",
    "    \n",
    "    AUTO = tf.data.experimental.AUTOTUNE\n",
    "    slices = (paths, offsets) if labels is None else (paths, offsets, labels)\n",
    "    \n",
    "    ds = tf.data.Dataset.from_tensor_slices(slices)\n",
    "    ds = ds.map(decode_fn, num_parallel_calls=AUTO)\n",
    "    ds = ds.cache(cache_dir) if cache else ds\n",
    "    ds = ds.repeat() if repeat else ds\n",
    "    if shuffle: \n",
    "        ds = ds.shuffle(shuffle, seed=CFG.seed)\n",
    "        opt = tf.data.Options()\n",
    "        opt.experimental_deterministic = False\n",
    "        ds = ds.with_options(opt)\n",
    "    ds = ds.batch(batch_size, drop_remainder=drop_remainder)\n",
    "    ds = ds.map(augment_fn, num_parallel_calls=AUTO) if augment else ds\n",
    "    ds = ds.prefetch(AUTO)\n",
    "    return ds"
   ]
  },
  {
   "cell_type": "markdown",
   "id": "3bbecb20",
   "metadata": {
    "papermill": {
     "duration": 0.016857,
     "end_time": "2024-02-27T17:29:29.319913",
     "exception": false,
     "start_time": "2024-02-27T17:29:29.303056",
     "status": "completed"
    },
    "tags": []
   },
   "source": [
    "# 🔪 | Data Split\n",
    "\n",
    "In the following code snippet, the data is divided into `5` folds. Note that, the `groups` argument is used to prevent any overlap of patients between the training and validation sets, thus avoiding potential **data leakage** issues. Additionally, each split is stratified based on the `class_label`, ensuring a uniform distribution of class labels in each fold."
   ]
  },
  {
   "cell_type": "code",
   "execution_count": 11,
   "id": "334f89ab",
   "metadata": {
    "execution": {
     "iopub.execute_input": "2024-02-27T17:29:29.355501Z",
     "iopub.status.busy": "2024-02-27T17:29:29.354953Z",
     "iopub.status.idle": "2024-02-27T17:29:29.359561Z",
     "shell.execute_reply": "2024-02-27T17:29:29.358653Z"
    },
    "papermill": {
     "duration": 0.024398,
     "end_time": "2024-02-27T17:29:29.361525",
     "exception": false,
     "start_time": "2024-02-27T17:29:29.337127",
     "status": "completed"
    },
    "tags": []
   },
   "outputs": [],
   "source": [
    "# from sklearn.model_selection import StratifiedGroupKFold\n",
    "\n",
    "# # Split for small\n",
    "# sgkf = StratifiedGroupKFold(n_splits=5, shuffle=True, random_state=CFG.seed)\n",
    "\n",
    "# small[\"fold\"] = -1\n",
    "# small.reset_index(drop=True, inplace=True)\n",
    "# for fold, (train_idx, valid_idx) in enumerate(\n",
    "#     sgkf.split(small, y=small[\"class_label\"], groups=small[\"patient_id\"])\n",
    "# ):\n",
    "#     small.loc[valid_idx, \"fold\"] = fold\n",
    "# small.groupby([\"fold\", \"class_name\"])[[\"eeg_id\"]].count().T\n",
    "# # \n",
    "# # SPlit for large\n",
    "# sgkf = StratifiedGroupKFold(n_splits=5, shuffle=True, random_state=CFG.seed)\n",
    "\n",
    "# large[\"fold\"] = -1\n",
    "# large.reset_index(drop=True, inplace=True)\n",
    "# for fold, (train_idx, valid_idx) in enumerate(\n",
    "#     sgkf.split(large, y=large[\"class_label\"], groups=large[\"patient_id\"])\n",
    "# ):\n",
    "#     large.loc[valid_idx, \"fold\"] = fold\n",
    "# large.groupby([\"fold\", \"class_name\"])[[\"eeg_id\"]].count().T"
   ]
  },
  {
   "cell_type": "markdown",
   "id": "baf06a02",
   "metadata": {
    "papermill": {
     "duration": 0.016917,
     "end_time": "2024-02-27T17:29:29.395490",
     "exception": false,
     "start_time": "2024-02-27T17:29:29.378573",
     "status": "completed"
    },
    "tags": []
   },
   "source": [
    "## Build Train & Valid Dataset\n",
    "\n",
    "Only first sample for each `spectrogram_id` is used in order to keep the dataset size managable. Feel free to train on full data."
   ]
  },
  {
   "cell_type": "code",
   "execution_count": 12,
   "id": "4d00f9f0",
   "metadata": {
    "execution": {
     "iopub.execute_input": "2024-02-27T17:29:29.430654Z",
     "iopub.status.busy": "2024-02-27T17:29:29.430387Z",
     "iopub.status.idle": "2024-02-27T17:29:29.435721Z",
     "shell.execute_reply": "2024-02-27T17:29:29.434920Z"
    },
    "papermill": {
     "duration": 0.025097,
     "end_time": "2024-02-27T17:29:29.437656",
     "exception": false,
     "start_time": "2024-02-27T17:29:29.412559",
     "status": "completed"
    },
    "tags": []
   },
   "outputs": [],
   "source": [
    "# # Sample from full data for small\n",
    "# # sample_df_small = small.groupby(\"spectrogram_id\").head(2).reset_index(drop=True)\n",
    "# # train_df_small = sample_df_small[sample_df_small.fold != CFG.fold]\n",
    "# # valid_df_small = sample_df_small[sample_df_small.fold == CFG.fold]\n",
    "# # print(f\"# Num Train small: {len(train_df_small)} | Num Valid small: {len(valid_df_small)}\")\n",
    "\n",
    "# # # Train\n",
    "# # train_paths_small = train_df_small.spec2_path.values\n",
    "# # train_offsets_small = train_df_small.spectrogram_label_offset_seconds.values.astype(int)\n",
    "# # train_labels_small = train_df_small.class_label.values\n",
    "# # train_ds_small = build_dataset(train_paths_small, train_offsets_small, train_labels_small, batch_size=CFG.batch_size,\n",
    "# #                          repeat=True, shuffle=True, augment=True, cache=True)\n",
    "\n",
    "# # # Valid\n",
    "# # valid_paths_small = valid_df_small.spec2_path.values\n",
    "# # valid_offsets_small = valid_df_small.spectrogram_label_offset_seconds.values.astype(int)\n",
    "# # valid_labels_small = valid_df_small.class_label.values\n",
    "# # valid_ds_small = build_dataset(valid_paths_small, valid_offsets_small, valid_labels_small, batch_size=CFG.batch_size,\n",
    "# #                          repeat=False, shuffle=False, augment=False, cache=True)\n",
    "\n",
    "\n",
    "\n",
    "# # # Sample from full data for large\n",
    "# sample_df_large = large.groupby(\"spectrogram_id\").head(2).reset_index(drop=True)\n",
    "# train_df_large = sample_df_large[sample_df_large.fold != CFG.fold]\n",
    "# valid_df_large = sample_df_large[sample_df_large.fold == CFG.fold]\n",
    "# print(f\"# Num Train large: {len(train_df_large)} | Num Valid small: {len(valid_df_large)}\")\n",
    "\n",
    "# # Train\n",
    "# train_paths_large = train_df_large.spec2_path.values\n",
    "# train_offsets_large = train_df_large.spectrogram_label_offset_seconds.values.astype(int)\n",
    "# train_labels_large = train_df_large.class_label.values\n",
    "# train_ds_large = build_dataset(train_paths_large, train_offsets_large, train_labels_large, batch_size=CFG.batch_size,\n",
    "#                          repeat=True, shuffle=True, augment=True, cache=True)\n",
    "\n",
    "# # Valid\n",
    "# valid_paths_large = valid_df_large.spec2_path.values\n",
    "# valid_offsets_large = valid_df_large.spectrogram_label_offset_seconds.values.astype(int)\n",
    "# valid_labels_large = valid_df_large.class_label.values\n",
    "# valid_ds_large = build_dataset(valid_paths_large, valid_offsets_large, valid_labels_large, batch_size=CFG.batch_size,\n",
    "#                          repeat=False, shuffle=False, augment=False, cache=True)"
   ]
  },
  {
   "cell_type": "markdown",
   "id": "4164f568",
   "metadata": {
    "papermill": {
     "duration": 0.016868,
     "end_time": "2024-02-27T17:29:29.471509",
     "exception": false,
     "start_time": "2024-02-27T17:29:29.454641",
     "status": "completed"
    },
    "tags": []
   },
   "source": [
    "## Dataset Check\n",
    "\n",
    "Let's visualize some samples from the dataset."
   ]
  },
  {
   "cell_type": "code",
   "execution_count": 13,
   "id": "9db65760",
   "metadata": {
    "_kg_hide-input": true,
    "execution": {
     "iopub.execute_input": "2024-02-27T17:29:29.506634Z",
     "iopub.status.busy": "2024-02-27T17:29:29.506375Z",
     "iopub.status.idle": "2024-02-27T17:29:29.510221Z",
     "shell.execute_reply": "2024-02-27T17:29:29.509429Z"
    },
    "papermill": {
     "duration": 0.023469,
     "end_time": "2024-02-27T17:29:29.512022",
     "exception": false,
     "start_time": "2024-02-27T17:29:29.488553",
     "status": "completed"
    },
    "tags": []
   },
   "outputs": [],
   "source": [
    "# imgs, tars = next(iter(train_ds_small))\n",
    "\n",
    "# num_imgs = 8\n",
    "# plt.figure(figsize=(4*4, num_imgs//4*5))\n",
    "# for i in range(num_imgs):\n",
    "#     plt.subplot(num_imgs//4, 4, i + 1)\n",
    "#     img = imgs[i].numpy()[...,0]  # Adjust as per your image data format\n",
    "#     img -= img.min()\n",
    "#     img /= img.max() + 1e-4\n",
    "#     tar = CFG.label2name[np.argmax(tars[i].numpy())]\n",
    "#     plt.imshow(img)\n",
    "#     plt.title(f\"Target: {tar}\")\n",
    "#     plt.axis('off')\n",
    "    \n",
    "# plt.tight_layout()\n",
    "# plt.show()"
   ]
  },
  {
   "cell_type": "markdown",
   "id": "cbca7de4",
   "metadata": {
    "papermill": {
     "duration": 0.017153,
     "end_time": "2024-02-27T17:29:29.546262",
     "exception": false,
     "start_time": "2024-02-27T17:29:29.529109",
     "status": "completed"
    },
    "tags": []
   },
   "source": [
    "# 🔍 | Loss & Metric\n",
    "\n",
    "The evaluation metric in this competition is **KL Divergence**, defined as,\n",
    "\n",
    "$$\n",
    "D_{\\text{KL}}(P \\parallel Q) = \\sum_{i} P(i) \\log\\left(\\frac{P(i)}{Q(i)}\\right)\n",
    "$$\n",
    "\n",
    "Where:\n",
    "- $P$ is the true distribution.\n",
    "- $Q$ is the predicted distribution.\n",
    "\n",
    "Interestingly, as KL Divergence is differentiable, we can directly use it as our loss function. Thus, we don't need to use a third-party metric like **Accuracy** to evaluate our model. Therefore, `valid_loss` can stand alone as an indicator for our evaluation. In keras, we already have impelementation for KL Divergence loss so we only need to import it."
   ]
  },
  {
   "cell_type": "code",
   "execution_count": 14,
   "id": "c0c1d76c",
   "metadata": {
    "execution": {
     "iopub.execute_input": "2024-02-27T17:29:29.581393Z",
     "iopub.status.busy": "2024-02-27T17:29:29.581132Z",
     "iopub.status.idle": "2024-02-27T17:29:29.584802Z",
     "shell.execute_reply": "2024-02-27T17:29:29.584023Z"
    },
    "papermill": {
     "duration": 0.023341,
     "end_time": "2024-02-27T17:29:29.586633",
     "exception": false,
     "start_time": "2024-02-27T17:29:29.563292",
     "status": "completed"
    },
    "tags": []
   },
   "outputs": [],
   "source": [
    "LOSS = keras.losses.KLDivergence()"
   ]
  },
  {
   "cell_type": "markdown",
   "id": "8510e0cf",
   "metadata": {
    "papermill": {
     "duration": 0.016774,
     "end_time": "2024-02-27T17:29:29.620430",
     "exception": false,
     "start_time": "2024-02-27T17:29:29.603656",
     "status": "completed"
    },
    "tags": []
   },
   "source": [
    "# 🤖 | Modeling\n",
    "\n",
    "This notebook uses the `EfficientNetV2 B2` from KerasCV's collection of pretrained models. To explore other models, simply modify the `preset` in the `CFG` (config). Check the [KerasCV website](https://keras.io/api/keras_cv/models/tasks/image_classifier/) for a list of available pretrained models."
   ]
  },
  {
   "cell_type": "code",
   "execution_count": 15,
   "id": "cdb0f960",
   "metadata": {
    "execution": {
     "iopub.execute_input": "2024-02-27T17:29:29.655644Z",
     "iopub.status.busy": "2024-02-27T17:29:29.655381Z",
     "iopub.status.idle": "2024-02-27T17:29:29.658991Z",
     "shell.execute_reply": "2024-02-27T17:29:29.658240Z"
    },
    "papermill": {
     "duration": 0.023422,
     "end_time": "2024-02-27T17:29:29.660869",
     "exception": false,
     "start_time": "2024-02-27T17:29:29.637447",
     "status": "completed"
    },
    "tags": []
   },
   "outputs": [],
   "source": [
    "# # Build Classifier\n",
    "# model_small = keras_cv.models.ImageClassifier.from_preset(\n",
    "#     CFG.preset, num_classes=CFG.num_classes\n",
    "# )\n",
    "\n",
    "# # Compile the model  \n",
    "# model_small.compile(optimizer=keras.optimizers.Adam(learning_rate=1e-4),\n",
    "#               loss=LOSS)\n",
    "\n",
    "# # Model Sumamry\n",
    "# model_small.summary()"
   ]
  },
  {
   "cell_type": "markdown",
   "id": "f762434a",
   "metadata": {
    "papermill": {
     "duration": 0.017058,
     "end_time": "2024-02-27T17:29:29.694840",
     "exception": false,
     "start_time": "2024-02-27T17:29:29.677782",
     "status": "completed"
    },
    "tags": []
   },
   "source": [
    "# ⚓ | LR Schedule\n",
    "\n",
    "A well-structured learning rate schedule is essential for efficient model training, ensuring optimal convergence and avoiding issues such as overshooting or stagnation."
   ]
  },
  {
   "cell_type": "code",
   "execution_count": 16,
   "id": "e5e79578",
   "metadata": {
    "execution": {
     "iopub.execute_input": "2024-02-27T17:29:29.730100Z",
     "iopub.status.busy": "2024-02-27T17:29:29.729844Z",
     "iopub.status.idle": "2024-02-27T17:29:29.739152Z",
     "shell.execute_reply": "2024-02-27T17:29:29.738301Z"
    },
    "papermill": {
     "duration": 0.029317,
     "end_time": "2024-02-27T17:29:29.741128",
     "exception": false,
     "start_time": "2024-02-27T17:29:29.711811",
     "status": "completed"
    },
    "tags": []
   },
   "outputs": [],
   "source": [
    "import math\n",
    "\n",
    "def get_lr_callback(batch_size=8, mode='cos', epochs=10, plot=False):\n",
    "    lr_start, lr_max, lr_min = 5e-5, 6e-6 * batch_size, 1e-5\n",
    "    lr_ramp_ep, lr_sus_ep, lr_decay = 3, 0, 0.75\n",
    "\n",
    "    def lrfn(epoch):  # Learning rate update function\n",
    "        if epoch < lr_ramp_ep: lr = (lr_max - lr_start) / lr_ramp_ep * epoch + lr_start\n",
    "        elif epoch < lr_ramp_ep + lr_sus_ep: lr = lr_max\n",
    "        elif mode == 'exp': lr = (lr_max - lr_min) * lr_decay**(epoch - lr_ramp_ep - lr_sus_ep) + lr_min\n",
    "        elif mode == 'step': lr = lr_max * lr_decay**((epoch - lr_ramp_ep - lr_sus_ep) // 2)\n",
    "        elif mode == 'cos':\n",
    "            decay_total_epochs, decay_epoch_index = epochs - lr_ramp_ep - lr_sus_ep + 3, epoch - lr_ramp_ep - lr_sus_ep\n",
    "            phase = math.pi * decay_epoch_index / decay_total_epochs\n",
    "            lr = (lr_max - lr_min) * 0.5 * (1 + math.cos(phase)) + lr_min\n",
    "        return lr\n",
    "\n",
    "    if plot:  # Plot lr curve if plot is True\n",
    "        plt.figure(figsize=(10, 5))\n",
    "        plt.plot(np.arange(epochs), [lrfn(epoch) for epoch in np.arange(epochs)], marker='o')\n",
    "        plt.xlabel('epoch'); plt.ylabel('lr')\n",
    "        plt.title('LR Scheduler')\n",
    "        plt.show()\n",
    "\n",
    "    return keras.callbacks.LearningRateScheduler(lrfn, verbose=False)  # Create lr callback"
   ]
  },
  {
   "cell_type": "code",
   "execution_count": 17,
   "id": "15848ae4",
   "metadata": {
    "execution": {
     "iopub.execute_input": "2024-02-27T17:29:29.776430Z",
     "iopub.status.busy": "2024-02-27T17:29:29.776169Z",
     "iopub.status.idle": "2024-02-27T17:29:29.779725Z",
     "shell.execute_reply": "2024-02-27T17:29:29.778929Z"
    },
    "papermill": {
     "duration": 0.023337,
     "end_time": "2024-02-27T17:29:29.781521",
     "exception": false,
     "start_time": "2024-02-27T17:29:29.758184",
     "status": "completed"
    },
    "tags": []
   },
   "outputs": [],
   "source": [
    "# lr_cb = get_lr_callback(CFG.batch_size, mode=CFG.lr_mode, plot=True)"
   ]
  },
  {
   "cell_type": "markdown",
   "id": "e30b99e9",
   "metadata": {
    "papermill": {
     "duration": 0.016756,
     "end_time": "2024-02-27T17:29:29.815510",
     "exception": false,
     "start_time": "2024-02-27T17:29:29.798754",
     "status": "completed"
    },
    "tags": []
   },
   "source": [
    "# 💾 | Model Checkpointing"
   ]
  },
  {
   "cell_type": "code",
   "execution_count": 18,
   "id": "362c9bca",
   "metadata": {
    "execution": {
     "iopub.execute_input": "2024-02-27T17:29:29.850361Z",
     "iopub.status.busy": "2024-02-27T17:29:29.850084Z",
     "iopub.status.idle": "2024-02-27T17:29:29.853564Z",
     "shell.execute_reply": "2024-02-27T17:29:29.852815Z"
    },
    "papermill": {
     "duration": 0.022977,
     "end_time": "2024-02-27T17:29:29.855413",
     "exception": false,
     "start_time": "2024-02-27T17:29:29.832436",
     "status": "completed"
    },
    "tags": []
   },
   "outputs": [],
   "source": [
    "# ckpt_cb = keras.callbacks.ModelCheckpoint(\"best_model_small.keras\",\n",
    "#                                          monitor='val_loss',\n",
    "#                                          save_best_only=True,\n",
    "#                                          save_weights_only=False,\n",
    "#                                          mode='min')"
   ]
  },
  {
   "cell_type": "markdown",
   "id": "38c79ced",
   "metadata": {
    "papermill": {
     "duration": 0.016823,
     "end_time": "2024-02-27T17:29:29.889425",
     "exception": false,
     "start_time": "2024-02-27T17:29:29.872602",
     "status": "completed"
    },
    "tags": []
   },
   "source": [
    "# 🚂 | Training"
   ]
  },
  {
   "cell_type": "code",
   "execution_count": 19,
   "id": "cdbe812a",
   "metadata": {
    "execution": {
     "iopub.execute_input": "2024-02-27T17:29:29.924464Z",
     "iopub.status.busy": "2024-02-27T17:29:29.924198Z",
     "iopub.status.idle": "2024-02-27T17:29:29.927708Z",
     "shell.execute_reply": "2024-02-27T17:29:29.926935Z"
    },
    "papermill": {
     "duration": 0.0231,
     "end_time": "2024-02-27T17:29:29.929573",
     "exception": false,
     "start_time": "2024-02-27T17:29:29.906473",
     "status": "completed"
    },
    "tags": []
   },
   "outputs": [],
   "source": [
    "# history = model_small.fit(\n",
    "#     train_ds_small, \n",
    "#     epochs=CFG.epochs,\n",
    "#     callbacks=[lr_cb, ckpt_cb], \n",
    "#     steps_per_epoch=len(train_df_small)//CFG.batch_size,\n",
    "#     validation_data=valid_ds_small, \n",
    "#     verbose=CFG.verbose\n",
    "# )"
   ]
  },
  {
   "cell_type": "markdown",
   "id": "a1c04fb8",
   "metadata": {
    "papermill": {
     "duration": 0.016735,
     "end_time": "2024-02-27T17:29:29.963236",
     "exception": false,
     "start_time": "2024-02-27T17:29:29.946501",
     "status": "completed"
    },
    "tags": []
   },
   "source": [
    "## Get preds for small\n",
    "\n"
   ]
  },
  {
   "cell_type": "code",
   "execution_count": 20,
   "id": "81e7d62a",
   "metadata": {
    "execution": {
     "iopub.execute_input": "2024-02-27T17:29:29.998225Z",
     "iopub.status.busy": "2024-02-27T17:29:29.997965Z",
     "iopub.status.idle": "2024-02-27T17:29:30.002527Z",
     "shell.execute_reply": "2024-02-27T17:29:30.001788Z"
    },
    "papermill": {
     "duration": 0.024161,
     "end_time": "2024-02-27T17:29:30.004344",
     "exception": false,
     "start_time": "2024-02-27T17:29:29.980183",
     "status": "completed"
    },
    "tags": []
   },
   "outputs": [],
   "source": [
    "# model_small.load_weights(\"best_model_small.keras\")"
   ]
  },
  {
   "cell_type": "code",
   "execution_count": 21,
   "id": "df4f2a3d",
   "metadata": {
    "execution": {
     "iopub.execute_input": "2024-02-27T17:29:30.040970Z",
     "iopub.status.busy": "2024-02-27T17:29:30.040417Z",
     "iopub.status.idle": "2024-02-27T17:29:30.044074Z",
     "shell.execute_reply": "2024-02-27T17:29:30.043288Z"
    },
    "papermill": {
     "duration": 0.023267,
     "end_time": "2024-02-27T17:29:30.045873",
     "exception": false,
     "start_time": "2024-02-27T17:29:30.022606",
     "status": "completed"
    },
    "tags": []
   },
   "outputs": [],
   "source": [
    "# test_paths = test_df.spec2_path.values\n",
    "# test_ds = build_dataset(test_paths, batch_size=min(CFG.batch_size, len(test_df)),\n",
    "#                          repeat=False, shuffle=False, cache=False, augment=False)"
   ]
  },
  {
   "cell_type": "code",
   "execution_count": 22,
   "id": "2b689d53",
   "metadata": {
    "execution": {
     "iopub.execute_input": "2024-02-27T17:29:30.080591Z",
     "iopub.status.busy": "2024-02-27T17:29:30.080351Z",
     "iopub.status.idle": "2024-02-27T17:29:30.083765Z",
     "shell.execute_reply": "2024-02-27T17:29:30.083044Z"
    },
    "papermill": {
     "duration": 0.022835,
     "end_time": "2024-02-27T17:29:30.085584",
     "exception": false,
     "start_time": "2024-02-27T17:29:30.062749",
     "status": "completed"
    },
    "tags": []
   },
   "outputs": [],
   "source": [
    "# preds_small = model_small.predict(test_ds)"
   ]
  },
  {
   "cell_type": "code",
   "execution_count": 23,
   "id": "4975cc86",
   "metadata": {
    "execution": {
     "iopub.execute_input": "2024-02-27T17:29:30.120766Z",
     "iopub.status.busy": "2024-02-27T17:29:30.120526Z",
     "iopub.status.idle": "2024-02-27T17:29:30.123936Z",
     "shell.execute_reply": "2024-02-27T17:29:30.123105Z"
    },
    "papermill": {
     "duration": 0.022946,
     "end_time": "2024-02-27T17:29:30.125785",
     "exception": false,
     "start_time": "2024-02-27T17:29:30.102839",
     "status": "completed"
    },
    "tags": []
   },
   "outputs": [],
   "source": [
    "# preds_small"
   ]
  },
  {
   "cell_type": "code",
   "execution_count": 24,
   "id": "2c56646e",
   "metadata": {
    "execution": {
     "iopub.execute_input": "2024-02-27T17:29:30.161497Z",
     "iopub.status.busy": "2024-02-27T17:29:30.160819Z",
     "iopub.status.idle": "2024-02-27T17:29:30.164976Z",
     "shell.execute_reply": "2024-02-27T17:29:30.164132Z"
    },
    "papermill": {
     "duration": 0.023744,
     "end_time": "2024-02-27T17:29:30.166814",
     "exception": false,
     "start_time": "2024-02-27T17:29:30.143070",
     "status": "completed"
    },
    "tags": []
   },
   "outputs": [],
   "source": [
    "# import gc\n",
    "# from keras import backend as k\n",
    "# # Free up memory\n",
    "# k.clear_session()\n",
    "# del model_small\n",
    "# gc.collect()"
   ]
  },
  {
   "cell_type": "markdown",
   "id": "d0f7c1e0",
   "metadata": {
    "papermill": {
     "duration": 0.016763,
     "end_time": "2024-02-27T17:29:30.200579",
     "exception": false,
     "start_time": "2024-02-27T17:29:30.183816",
     "status": "completed"
    },
    "tags": []
   },
   "source": [
    "# Training for large"
   ]
  },
  {
   "cell_type": "code",
   "execution_count": 25,
   "id": "3b2ba6a2",
   "metadata": {
    "execution": {
     "iopub.execute_input": "2024-02-27T17:29:30.235967Z",
     "iopub.status.busy": "2024-02-27T17:29:30.235297Z",
     "iopub.status.idle": "2024-02-27T17:29:30.239455Z",
     "shell.execute_reply": "2024-02-27T17:29:30.238599Z"
    },
    "papermill": {
     "duration": 0.023704,
     "end_time": "2024-02-27T17:29:30.241278",
     "exception": false,
     "start_time": "2024-02-27T17:29:30.217574",
     "status": "completed"
    },
    "tags": []
   },
   "outputs": [],
   "source": [
    "# # Build Classifier\n",
    "# model_large = keras_cv.models.ImageClassifier.from_preset(\n",
    "#     CFG.preset, num_classes=CFG.num_classes\n",
    "# )\n",
    "\n",
    "# # Compile the model  \n",
    "# model_large.compile(optimizer=keras.optimizers.Adam(learning_rate=1e-4),\n",
    "#               loss=LOSS)\n",
    "\n",
    "# # Model Sumamry\n",
    "# model_large.summary()\n",
    "\n",
    "# lr_cb = get_lr_callback(CFG.batch_size, mode=CFG.lr_mode, plot=True)\n",
    "\n",
    "# ckpt_cb = keras.callbacks.ModelCheckpoint(\"best_model_large.keras\",\n",
    "#                                          monitor='val_loss',\n",
    "#                                          save_best_only=True,\n",
    "#                                          save_weights_only=False,\n",
    "#                                          mode='min')"
   ]
  },
  {
   "cell_type": "code",
   "execution_count": 26,
   "id": "49972985",
   "metadata": {
    "execution": {
     "iopub.execute_input": "2024-02-27T17:29:30.276180Z",
     "iopub.status.busy": "2024-02-27T17:29:30.275876Z",
     "iopub.status.idle": "2024-02-27T17:29:30.279491Z",
     "shell.execute_reply": "2024-02-27T17:29:30.278691Z"
    },
    "papermill": {
     "duration": 0.0231,
     "end_time": "2024-02-27T17:29:30.281334",
     "exception": false,
     "start_time": "2024-02-27T17:29:30.258234",
     "status": "completed"
    },
    "tags": []
   },
   "outputs": [],
   "source": [
    "# history = model_large.fit(\n",
    "#     train_ds_large, \n",
    "#     epochs=CFG.epochs,\n",
    "#     callbacks=[lr_cb, ckpt_cb], \n",
    "#     steps_per_epoch=len(train_df_large)//CFG.batch_size,\n",
    "#     validation_data=valid_ds_large, \n",
    "#     verbose=CFG.verbose\n",
    "# )"
   ]
  },
  {
   "cell_type": "markdown",
   "id": "79c1177b",
   "metadata": {
    "papermill": {
     "duration": 0.01713,
     "end_time": "2024-02-27T17:29:30.315480",
     "exception": false,
     "start_time": "2024-02-27T17:29:30.298350",
     "status": "completed"
    },
    "tags": []
   },
   "source": [
    "# 🧪 | Prediction"
   ]
  },
  {
   "cell_type": "markdown",
   "id": "595ce4a0",
   "metadata": {
    "papermill": {
     "duration": 0.01679,
     "end_time": "2024-02-27T17:29:30.349191",
     "exception": false,
     "start_time": "2024-02-27T17:29:30.332401",
     "status": "completed"
    },
    "tags": []
   },
   "source": [
    "## Load Best Model"
   ]
  },
  {
   "cell_type": "code",
   "execution_count": 27,
   "id": "16486f03",
   "metadata": {
    "execution": {
     "iopub.execute_input": "2024-02-27T17:29:30.384416Z",
     "iopub.status.busy": "2024-02-27T17:29:30.384142Z",
     "iopub.status.idle": "2024-02-27T17:29:30.387687Z",
     "shell.execute_reply": "2024-02-27T17:29:30.386850Z"
    },
    "papermill": {
     "duration": 0.023548,
     "end_time": "2024-02-27T17:29:30.389710",
     "exception": false,
     "start_time": "2024-02-27T17:29:30.366162",
     "status": "completed"
    },
    "tags": []
   },
   "outputs": [],
   "source": [
    "# model_large.load_weights(\"best_model_large.keras\")"
   ]
  },
  {
   "cell_type": "markdown",
   "id": "34bbed7a",
   "metadata": {
    "papermill": {
     "duration": 0.016788,
     "end_time": "2024-02-27T17:29:30.423685",
     "exception": false,
     "start_time": "2024-02-27T17:29:30.406897",
     "status": "completed"
    },
    "tags": []
   },
   "source": [
    "## Build Test Dataset"
   ]
  },
  {
   "cell_type": "markdown",
   "id": "0f4b58da",
   "metadata": {
    "papermill": {
     "duration": 0.016701,
     "end_time": "2024-02-27T17:29:30.457391",
     "exception": false,
     "start_time": "2024-02-27T17:29:30.440690",
     "status": "completed"
    },
    "tags": []
   },
   "source": [
    "## Inference"
   ]
  },
  {
   "cell_type": "code",
   "execution_count": 28,
   "id": "25b11b30",
   "metadata": {
    "execution": {
     "iopub.execute_input": "2024-02-27T17:29:30.492728Z",
     "iopub.status.busy": "2024-02-27T17:29:30.492460Z",
     "iopub.status.idle": "2024-02-27T17:29:30.496102Z",
     "shell.execute_reply": "2024-02-27T17:29:30.495268Z"
    },
    "papermill": {
     "duration": 0.023563,
     "end_time": "2024-02-27T17:29:30.498019",
     "exception": false,
     "start_time": "2024-02-27T17:29:30.474456",
     "status": "completed"
    },
    "tags": []
   },
   "outputs": [],
   "source": [
    "# preds_large = model_large.predict(test_ds)"
   ]
  },
  {
   "cell_type": "code",
   "execution_count": 29,
   "id": "d460aa08",
   "metadata": {
    "execution": {
     "iopub.execute_input": "2024-02-27T17:29:30.532938Z",
     "iopub.status.busy": "2024-02-27T17:29:30.532645Z",
     "iopub.status.idle": "2024-02-27T17:29:30.536051Z",
     "shell.execute_reply": "2024-02-27T17:29:30.535331Z"
    },
    "papermill": {
     "duration": 0.02294,
     "end_time": "2024-02-27T17:29:30.537863",
     "exception": false,
     "start_time": "2024-02-27T17:29:30.514923",
     "status": "completed"
    },
    "tags": []
   },
   "outputs": [],
   "source": [
    "# k.clear_session()\n",
    "# del model_large\n",
    "# gc.collect()"
   ]
  },
  {
   "cell_type": "markdown",
   "id": "e8e54a99",
   "metadata": {
    "papermill": {
     "duration": 0.016732,
     "end_time": "2024-02-27T17:29:30.571677",
     "exception": false,
     "start_time": "2024-02-27T17:29:30.554945",
     "status": "completed"
    },
    "tags": []
   },
   "source": [
    "# Load models and predict"
   ]
  },
  {
   "cell_type": "code",
   "execution_count": 30,
   "id": "c7f6be0d",
   "metadata": {
    "execution": {
     "iopub.execute_input": "2024-02-27T17:29:30.607147Z",
     "iopub.status.busy": "2024-02-27T17:29:30.606469Z",
     "iopub.status.idle": "2024-02-27T17:29:32.160357Z",
     "shell.execute_reply": "2024-02-27T17:29:32.159430Z"
    },
    "papermill": {
     "duration": 1.573966,
     "end_time": "2024-02-27T17:29:32.162592",
     "exception": false,
     "start_time": "2024-02-27T17:29:30.588626",
     "status": "completed"
    },
    "tags": []
   },
   "outputs": [
    {
     "data": {
      "text/html": [
       "<div>\n",
       "<style scoped>\n",
       "    .dataframe tbody tr th:only-of-type {\n",
       "        vertical-align: middle;\n",
       "    }\n",
       "\n",
       "    .dataframe tbody tr th {\n",
       "        vertical-align: top;\n",
       "    }\n",
       "\n",
       "    .dataframe thead th {\n",
       "        text-align: right;\n",
       "    }\n",
       "</style>\n",
       "<table border=\"1\" class=\"dataframe\">\n",
       "  <thead>\n",
       "    <tr style=\"text-align: right;\">\n",
       "      <th></th>\n",
       "      <th>spectrogram_id</th>\n",
       "      <th>eeg_id</th>\n",
       "      <th>patient_id</th>\n",
       "      <th>eeg_path</th>\n",
       "      <th>spec_path</th>\n",
       "      <th>spec2_path</th>\n",
       "    </tr>\n",
       "  </thead>\n",
       "  <tbody>\n",
       "    <tr>\n",
       "      <th>0</th>\n",
       "      <td>853520</td>\n",
       "      <td>3911565283</td>\n",
       "      <td>6885</td>\n",
       "      <td>/kaggle/input/hms-harmful-brain-activity-class...</td>\n",
       "      <td>/kaggle/input/hms-harmful-brain-activity-class...</td>\n",
       "      <td>/tmp/dataset/hms-hbac/test_spectrograms/853520...</td>\n",
       "    </tr>\n",
       "  </tbody>\n",
       "</table>\n",
       "</div>"
      ],
      "text/plain": [
       "   spectrogram_id      eeg_id  patient_id  \\\n",
       "0          853520  3911565283        6885   \n",
       "\n",
       "                                            eeg_path  \\\n",
       "0  /kaggle/input/hms-harmful-brain-activity-class...   \n",
       "\n",
       "                                           spec_path  \\\n",
       "0  /kaggle/input/hms-harmful-brain-activity-class...   \n",
       "\n",
       "                                          spec2_path  \n",
       "0  /tmp/dataset/hms-hbac/test_spectrograms/853520...  "
      ]
     },
     "metadata": {},
     "output_type": "display_data"
    },
    {
     "data": {
      "application/vnd.jupyter.widget-view+json": {
       "model_id": "09f0bbfa117d43239afe00f115b9742a",
       "version_major": 2,
       "version_minor": 0
      },
      "text/plain": [
       "  0%|          | 0/1 [00:00<?, ?it/s]"
      ]
     },
     "metadata": {},
     "output_type": "display_data"
    }
   ],
   "source": [
    "test_df = pd.read_csv(f'{BASE_PATH}/test.csv')\n",
    "test_df['eeg_path'] = f'{BASE_PATH}/test_eegs/'+test_df['eeg_id'].astype(str)+'.parquet'\n",
    "test_df['spec_path'] = f'{BASE_PATH}/test_spectrograms/'+test_df['spectrogram_id'].astype(str)+'.parquet'\n",
    "test_df['spec2_path'] = f'{SPEC_DIR}/test_spectrograms/'+test_df['spectrogram_id'].astype(str)+'.npy'\n",
    "display(test_df.head(2))\n",
    "\n",
    "def process_spec(spec_id, split=\"train\"):\n",
    "    spec_path = f\"{BASE_PATH}/{split}_spectrograms/{spec_id}.parquet\"\n",
    "    spec = pd.read_parquet(spec_path)\n",
    "    spec = spec.fillna(0).values[:, 1:].T # fill NaN values with 0, transpose for (Time, Freq) -> (Freq, Time)\n",
    "    spec = spec.astype(\"float32\")\n",
    "    np.save(f\"{SPEC_DIR}/{split}_spectrograms/{spec_id}.npy\", spec)\n",
    "    \n",
    "    \n",
    "test_spec_ids = test_df[\"spectrogram_id\"].unique()\n",
    "\n",
    "# Parallelize the processing using joblib for test data\n",
    "_ = joblib.Parallel(n_jobs=-1, backend=\"loky\")(\n",
    "    joblib.delayed(process_spec)(spec_id, \"test\")\n",
    "    for spec_id in tqdm(test_spec_ids, total=len(test_spec_ids))\n",
    ")\n",
    "\n",
    "test_paths = test_df.spec2_path.values\n",
    "test_ds = build_dataset(test_paths, batch_size=min(CFG.batch_size, len(test_df)),\n",
    "                         repeat=False, shuffle=False, cache=False, augment=False)"
   ]
  },
  {
   "cell_type": "code",
   "execution_count": 31,
   "id": "65a2d201",
   "metadata": {
    "execution": {
     "iopub.execute_input": "2024-02-27T17:29:32.199460Z",
     "iopub.status.busy": "2024-02-27T17:29:32.199142Z",
     "iopub.status.idle": "2024-02-27T17:29:34.213265Z",
     "shell.execute_reply": "2024-02-27T17:29:34.211980Z"
    },
    "papermill": {
     "duration": 2.035088,
     "end_time": "2024-02-27T17:29:34.215734",
     "exception": false,
     "start_time": "2024-02-27T17:29:32.180646",
     "status": "completed"
    },
    "tags": []
   },
   "outputs": [],
   "source": [
    "!cp -r \"/kaggle/input/large-votes/keras/version1/1/best_model_large.keras\" ./"
   ]
  },
  {
   "cell_type": "code",
   "execution_count": 32,
   "id": "f4d0ea98",
   "metadata": {
    "execution": {
     "iopub.execute_input": "2024-02-27T17:29:34.252638Z",
     "iopub.status.busy": "2024-02-27T17:29:34.252339Z",
     "iopub.status.idle": "2024-02-27T17:29:36.028975Z",
     "shell.execute_reply": "2024-02-27T17:29:36.027733Z"
    },
    "papermill": {
     "duration": 1.797928,
     "end_time": "2024-02-27T17:29:36.031569",
     "exception": false,
     "start_time": "2024-02-27T17:29:34.233641",
     "status": "completed"
    },
    "tags": []
   },
   "outputs": [],
   "source": [
    "!cp -r \"/kaggle/input/small-votes/keras/version1/1/best_model_small-2.keras\" ./"
   ]
  },
  {
   "cell_type": "code",
   "execution_count": 33,
   "id": "f5a5c19a",
   "metadata": {
    "execution": {
     "iopub.execute_input": "2024-02-27T17:29:36.070673Z",
     "iopub.status.busy": "2024-02-27T17:29:36.070324Z",
     "iopub.status.idle": "2024-02-27T17:30:05.834823Z",
     "shell.execute_reply": "2024-02-27T17:30:05.834022Z"
    },
    "papermill": {
     "duration": 29.786236,
     "end_time": "2024-02-27T17:30:05.837455",
     "exception": false,
     "start_time": "2024-02-27T17:29:36.051219",
     "status": "completed"
    },
    "tags": []
   },
   "outputs": [],
   "source": [
    "model_large = keras.models.load_model(\"/kaggle/working/best_model_large.keras\")"
   ]
  },
  {
   "cell_type": "code",
   "execution_count": 34,
   "id": "038b6fd3",
   "metadata": {
    "execution": {
     "iopub.execute_input": "2024-02-27T17:30:05.874179Z",
     "iopub.status.busy": "2024-02-27T17:30:05.873826Z",
     "iopub.status.idle": "2024-02-27T17:30:16.109713Z",
     "shell.execute_reply": "2024-02-27T17:30:16.108874Z"
    },
    "papermill": {
     "duration": 10.256579,
     "end_time": "2024-02-27T17:30:16.112001",
     "exception": false,
     "start_time": "2024-02-27T17:30:05.855422",
     "status": "completed"
    },
    "tags": []
   },
   "outputs": [],
   "source": [
    "model_small = keras.models.load_model(\"/kaggle/working/best_model_small-2.keras\")"
   ]
  },
  {
   "cell_type": "code",
   "execution_count": 35,
   "id": "79c04baf",
   "metadata": {
    "execution": {
     "iopub.execute_input": "2024-02-27T17:30:16.148825Z",
     "iopub.status.busy": "2024-02-27T17:30:16.148518Z",
     "iopub.status.idle": "2024-02-27T17:30:48.508138Z",
     "shell.execute_reply": "2024-02-27T17:30:48.507262Z"
    },
    "papermill": {
     "duration": 32.396442,
     "end_time": "2024-02-27T17:30:48.526509",
     "exception": false,
     "start_time": "2024-02-27T17:30:16.130067",
     "status": "completed"
    },
    "tags": []
   },
   "outputs": [
    {
     "name": "stdout",
     "output_type": "stream",
     "text": [
      "\u001b[1m1/1\u001b[0m \u001b[32m━━━━━━━━━━━━━━━━━━━━\u001b[0m\u001b[37m\u001b[0m \u001b[1m7s\u001b[0m 7s/step\n",
      "\u001b[1m1/1\u001b[0m \u001b[32m━━━━━━━━━━━━━━━━━━━━\u001b[0m\u001b[37m\u001b[0m \u001b[1m6s\u001b[0m 6s/step\n"
     ]
    }
   ],
   "source": [
    "preds_large = model_large.predict(test_ds)\n",
    "preds_small = model_small.predict(test_ds)"
   ]
  },
  {
   "cell_type": "markdown",
   "id": "c683e748",
   "metadata": {
    "papermill": {
     "duration": 0.017388,
     "end_time": "2024-02-27T17:30:48.561815",
     "exception": false,
     "start_time": "2024-02-27T17:30:48.544427",
     "status": "completed"
    },
    "tags": []
   },
   "source": [
    "# 📩 | Submission"
   ]
  },
  {
   "cell_type": "code",
   "execution_count": 36,
   "id": "505c938b",
   "metadata": {
    "execution": {
     "iopub.execute_input": "2024-02-27T17:30:48.600744Z",
     "iopub.status.busy": "2024-02-27T17:30:48.599676Z",
     "iopub.status.idle": "2024-02-27T17:30:48.605626Z",
     "shell.execute_reply": "2024-02-27T17:30:48.604868Z"
    },
    "papermill": {
     "duration": 0.027779,
     "end_time": "2024-02-27T17:30:48.607483",
     "exception": false,
     "start_time": "2024-02-27T17:30:48.579704",
     "status": "completed"
    },
    "tags": []
   },
   "outputs": [],
   "source": [
    "preds = 0.6 * preds_large + 0.4 * preds_small"
   ]
  },
  {
   "cell_type": "code",
   "execution_count": 37,
   "id": "0e5a1a6e",
   "metadata": {
    "execution": {
     "iopub.execute_input": "2024-02-27T17:30:48.644639Z",
     "iopub.status.busy": "2024-02-27T17:30:48.644037Z",
     "iopub.status.idle": "2024-02-27T17:30:48.678181Z",
     "shell.execute_reply": "2024-02-27T17:30:48.677238Z"
    },
    "papermill": {
     "duration": 0.054697,
     "end_time": "2024-02-27T17:30:48.680150",
     "exception": false,
     "start_time": "2024-02-27T17:30:48.625453",
     "status": "completed"
    },
    "tags": []
   },
   "outputs": [
    {
     "data": {
      "text/html": [
       "<div>\n",
       "<style scoped>\n",
       "    .dataframe tbody tr th:only-of-type {\n",
       "        vertical-align: middle;\n",
       "    }\n",
       "\n",
       "    .dataframe tbody tr th {\n",
       "        vertical-align: top;\n",
       "    }\n",
       "\n",
       "    .dataframe thead th {\n",
       "        text-align: right;\n",
       "    }\n",
       "</style>\n",
       "<table border=\"1\" class=\"dataframe\">\n",
       "  <thead>\n",
       "    <tr style=\"text-align: right;\">\n",
       "      <th></th>\n",
       "      <th>eeg_id</th>\n",
       "      <th>seizure_vote</th>\n",
       "      <th>lpd_vote</th>\n",
       "      <th>gpd_vote</th>\n",
       "      <th>lrda_vote</th>\n",
       "      <th>grda_vote</th>\n",
       "      <th>other_vote</th>\n",
       "    </tr>\n",
       "  </thead>\n",
       "  <tbody>\n",
       "    <tr>\n",
       "      <th>0</th>\n",
       "      <td>3911565283</td>\n",
       "      <td>0.07882</td>\n",
       "      <td>0.422024</td>\n",
       "      <td>0.006418</td>\n",
       "      <td>0.405592</td>\n",
       "      <td>0.021944</td>\n",
       "      <td>0.065202</td>\n",
       "    </tr>\n",
       "  </tbody>\n",
       "</table>\n",
       "</div>"
      ],
      "text/plain": [
       "       eeg_id  seizure_vote  lpd_vote  gpd_vote  lrda_vote  grda_vote  \\\n",
       "0  3911565283       0.07882  0.422024  0.006418   0.405592   0.021944   \n",
       "\n",
       "   other_vote  \n",
       "0    0.065202  "
      ]
     },
     "execution_count": 37,
     "metadata": {},
     "output_type": "execute_result"
    }
   ],
   "source": [
    "pred_df = test_df[[\"eeg_id\"]].copy()\n",
    "target_cols = [x.lower()+'_vote' for x in CFG.class_names]\n",
    "pred_df[target_cols] = preds.tolist()\n",
    "\n",
    "sub_df = pd.read_csv(f'{BASE_PATH}/sample_submission.csv')\n",
    "sub_df = sub_df[[\"eeg_id\"]].copy()\n",
    "sub_df = sub_df.merge(pred_df, on=\"eeg_id\", how=\"left\")\n",
    "sub_df.to_csv(\"submission.csv\", index=False)\n",
    "sub_df.head()"
   ]
  },
  {
   "cell_type": "markdown",
   "id": "09edecff",
   "metadata": {
    "papermill": {
     "duration": 0.020689,
     "end_time": "2024-02-27T17:30:48.724732",
     "exception": false,
     "start_time": "2024-02-27T17:30:48.704043",
     "status": "completed"
    },
    "tags": []
   },
   "source": [
    "# 📌 | Reference\n",
    "* [HMS-HBAC: ResNet34d Baseline [Training]](https://www.kaggle.com/code/ttahara/hms-hbac-resnet34d-baseline-training) \n",
    "* [EfficientNetB2 Starter - [LB 0.57]](https://www.kaggle.com/code/cdeotte/efficientnetb2-starter-lb-0-57)"
   ]
  }
 ],
 "metadata": {
  "kaggle": {
   "accelerator": "gpu",
   "dataSources": [
    {
     "databundleVersionId": 7469972,
     "sourceId": 59093,
     "sourceType": "competition"
    },
    {
     "datasetId": 4308295,
     "sourceId": 7526248,
     "sourceType": "datasetVersion"
    },
    {
     "modelInstanceId": 4598,
     "sourceId": 6127,
     "sourceType": "modelInstanceVersion"
    },
    {
     "isSourceIdPinned": true,
     "modelInstanceId": 10049,
     "sourceId": 12367,
     "sourceType": "modelInstanceVersion"
    },
    {
     "isSourceIdPinned": true,
     "modelInstanceId": 10050,
     "sourceId": 12368,
     "sourceType": "modelInstanceVersion"
    }
   ],
   "isGpuEnabled": true,
   "isInternetEnabled": false,
   "language": "python",
   "sourceType": "notebook"
  },
  "kernelspec": {
   "display_name": "Python 3",
   "language": "python",
   "name": "python3"
  },
  "language_info": {
   "codemirror_mode": {
    "name": "ipython",
    "version": 3
   },
   "file_extension": ".py",
   "mimetype": "text/x-python",
   "name": "python",
   "nbconvert_exporter": "python",
   "pygments_lexer": "ipython3",
   "version": "3.10.13"
  },
  "papermill": {
   "default_parameters": {},
   "duration": 201.34406,
   "end_time": "2024-02-27T17:30:51.461634",
   "environment_variables": {},
   "exception": null,
   "input_path": "__notebook__.ipynb",
   "output_path": "__notebook__.ipynb",
   "parameters": {},
   "start_time": "2024-02-27T17:27:30.117574",
   "version": "2.4.0"
  },
  "widgets": {
   "application/vnd.jupyter.widget-state+json": {
    "state": {
     "061ce8bdf7844bd28a13a8b358df4ffd": {
      "model_module": "@jupyter-widgets/base",
      "model_module_version": "1.2.0",
      "model_name": "LayoutModel",
      "state": {
       "_model_module": "@jupyter-widgets/base",
       "_model_module_version": "1.2.0",
       "_model_name": "LayoutModel",
       "_view_count": null,
       "_view_module": "@jupyter-widgets/base",
       "_view_module_version": "1.2.0",
       "_view_name": "LayoutView",
       "align_content": null,
       "align_items": null,
       "align_self": null,
       "border": null,
       "bottom": null,
       "display": null,
       "flex": null,
       "flex_flow": null,
       "grid_area": null,
       "grid_auto_columns": null,
       "grid_auto_flow": null,
       "grid_auto_rows": null,
       "grid_column": null,
       "grid_gap": null,
       "grid_row": null,
       "grid_template_areas": null,
       "grid_template_columns": null,
       "grid_template_rows": null,
       "height": null,
       "justify_content": null,
       "justify_items": null,
       "left": null,
       "margin": null,
       "max_height": null,
       "max_width": null,
       "min_height": null,
       "min_width": null,
       "object_fit": null,
       "object_position": null,
       "order": null,
       "overflow": null,
       "overflow_x": null,
       "overflow_y": null,
       "padding": null,
       "right": null,
       "top": null,
       "visibility": null,
       "width": null
      }
     },
     "09f0bbfa117d43239afe00f115b9742a": {
      "model_module": "@jupyter-widgets/controls",
      "model_module_version": "1.5.0",
      "model_name": "HBoxModel",
      "state": {
       "_dom_classes": [],
       "_model_module": "@jupyter-widgets/controls",
       "_model_module_version": "1.5.0",
       "_model_name": "HBoxModel",
       "_view_count": null,
       "_view_module": "@jupyter-widgets/controls",
       "_view_module_version": "1.5.0",
       "_view_name": "HBoxView",
       "box_style": "",
       "children": [
        "IPY_MODEL_c0931895a6f24447ab7717994859cc7f",
        "IPY_MODEL_78819466f9154912b30e3d431d498165",
        "IPY_MODEL_5a648c291aba44e2b2b46e6ae54b5e67"
       ],
       "layout": "IPY_MODEL_f5936790ea02443cbce70c5f9e475ee9"
      }
     },
     "2adf2cb243b64a24b6e0bb6ab64ca1a6": {
      "model_module": "@jupyter-widgets/base",
      "model_module_version": "1.2.0",
      "model_name": "LayoutModel",
      "state": {
       "_model_module": "@jupyter-widgets/base",
       "_model_module_version": "1.2.0",
       "_model_name": "LayoutModel",
       "_view_count": null,
       "_view_module": "@jupyter-widgets/base",
       "_view_module_version": "1.2.0",
       "_view_name": "LayoutView",
       "align_content": null,
       "align_items": null,
       "align_self": null,
       "border": null,
       "bottom": null,
       "display": null,
       "flex": null,
       "flex_flow": null,
       "grid_area": null,
       "grid_auto_columns": null,
       "grid_auto_flow": null,
       "grid_auto_rows": null,
       "grid_column": null,
       "grid_gap": null,
       "grid_row": null,
       "grid_template_areas": null,
       "grid_template_columns": null,
       "grid_template_rows": null,
       "height": null,
       "justify_content": null,
       "justify_items": null,
       "left": null,
       "margin": null,
       "max_height": null,
       "max_width": null,
       "min_height": null,
       "min_width": null,
       "object_fit": null,
       "object_position": null,
       "order": null,
       "overflow": null,
       "overflow_x": null,
       "overflow_y": null,
       "padding": null,
       "right": null,
       "top": null,
       "visibility": null,
       "width": null
      }
     },
     "5a648c291aba44e2b2b46e6ae54b5e67": {
      "model_module": "@jupyter-widgets/controls",
      "model_module_version": "1.5.0",
      "model_name": "HTMLModel",
      "state": {
       "_dom_classes": [],
       "_model_module": "@jupyter-widgets/controls",
       "_model_module_version": "1.5.0",
       "_model_name": "HTMLModel",
       "_view_count": null,
       "_view_module": "@jupyter-widgets/controls",
       "_view_module_version": "1.5.0",
       "_view_name": "HTMLView",
       "description": "",
       "description_tooltip": null,
       "layout": "IPY_MODEL_f2ba31c2e12740da91db60b7686cc0fb",
       "placeholder": "​",
       "style": "IPY_MODEL_db2baac104cb402d864a9e21dc45e4c2",
       "value": " 1/1 [00:00&lt;00:00, 35.69it/s]"
      }
     },
     "78819466f9154912b30e3d431d498165": {
      "model_module": "@jupyter-widgets/controls",
      "model_module_version": "1.5.0",
      "model_name": "FloatProgressModel",
      "state": {
       "_dom_classes": [],
       "_model_module": "@jupyter-widgets/controls",
       "_model_module_version": "1.5.0",
       "_model_name": "FloatProgressModel",
       "_view_count": null,
       "_view_module": "@jupyter-widgets/controls",
       "_view_module_version": "1.5.0",
       "_view_name": "ProgressView",
       "bar_style": "success",
       "description": "",
       "description_tooltip": null,
       "layout": "IPY_MODEL_2adf2cb243b64a24b6e0bb6ab64ca1a6",
       "max": 1.0,
       "min": 0.0,
       "orientation": "horizontal",
       "style": "IPY_MODEL_941722784cbb44768d1ebaf2a2fb1cfa",
       "value": 1.0
      }
     },
     "941722784cbb44768d1ebaf2a2fb1cfa": {
      "model_module": "@jupyter-widgets/controls",
      "model_module_version": "1.5.0",
      "model_name": "ProgressStyleModel",
      "state": {
       "_model_module": "@jupyter-widgets/controls",
       "_model_module_version": "1.5.0",
       "_model_name": "ProgressStyleModel",
       "_view_count": null,
       "_view_module": "@jupyter-widgets/base",
       "_view_module_version": "1.2.0",
       "_view_name": "StyleView",
       "bar_color": null,
       "description_width": ""
      }
     },
     "c0931895a6f24447ab7717994859cc7f": {
      "model_module": "@jupyter-widgets/controls",
      "model_module_version": "1.5.0",
      "model_name": "HTMLModel",
      "state": {
       "_dom_classes": [],
       "_model_module": "@jupyter-widgets/controls",
       "_model_module_version": "1.5.0",
       "_model_name": "HTMLModel",
       "_view_count": null,
       "_view_module": "@jupyter-widgets/controls",
       "_view_module_version": "1.5.0",
       "_view_name": "HTMLView",
       "description": "",
       "description_tooltip": null,
       "layout": "IPY_MODEL_061ce8bdf7844bd28a13a8b358df4ffd",
       "placeholder": "​",
       "style": "IPY_MODEL_d05fbadaeee04e438d4190797dbbde24",
       "value": "100%"
      }
     },
     "d05fbadaeee04e438d4190797dbbde24": {
      "model_module": "@jupyter-widgets/controls",
      "model_module_version": "1.5.0",
      "model_name": "DescriptionStyleModel",
      "state": {
       "_model_module": "@jupyter-widgets/controls",
       "_model_module_version": "1.5.0",
       "_model_name": "DescriptionStyleModel",
       "_view_count": null,
       "_view_module": "@jupyter-widgets/base",
       "_view_module_version": "1.2.0",
       "_view_name": "StyleView",
       "description_width": ""
      }
     },
     "db2baac104cb402d864a9e21dc45e4c2": {
      "model_module": "@jupyter-widgets/controls",
      "model_module_version": "1.5.0",
      "model_name": "DescriptionStyleModel",
      "state": {
       "_model_module": "@jupyter-widgets/controls",
       "_model_module_version": "1.5.0",
       "_model_name": "DescriptionStyleModel",
       "_view_count": null,
       "_view_module": "@jupyter-widgets/base",
       "_view_module_version": "1.2.0",
       "_view_name": "StyleView",
       "description_width": ""
      }
     },
     "f2ba31c2e12740da91db60b7686cc0fb": {
      "model_module": "@jupyter-widgets/base",
      "model_module_version": "1.2.0",
      "model_name": "LayoutModel",
      "state": {
       "_model_module": "@jupyter-widgets/base",
       "_model_module_version": "1.2.0",
       "_model_name": "LayoutModel",
       "_view_count": null,
       "_view_module": "@jupyter-widgets/base",
       "_view_module_version": "1.2.0",
       "_view_name": "LayoutView",
       "align_content": null,
       "align_items": null,
       "align_self": null,
       "border": null,
       "bottom": null,
       "display": null,
       "flex": null,
       "flex_flow": null,
       "grid_area": null,
       "grid_auto_columns": null,
       "grid_auto_flow": null,
       "grid_auto_rows": null,
       "grid_column": null,
       "grid_gap": null,
       "grid_row": null,
       "grid_template_areas": null,
       "grid_template_columns": null,
       "grid_template_rows": null,
       "height": null,
       "justify_content": null,
       "justify_items": null,
       "left": null,
       "margin": null,
       "max_height": null,
       "max_width": null,
       "min_height": null,
       "min_width": null,
       "object_fit": null,
       "object_position": null,
       "order": null,
       "overflow": null,
       "overflow_x": null,
       "overflow_y": null,
       "padding": null,
       "right": null,
       "top": null,
       "visibility": null,
       "width": null
      }
     },
     "f5936790ea02443cbce70c5f9e475ee9": {
      "model_module": "@jupyter-widgets/base",
      "model_module_version": "1.2.0",
      "model_name": "LayoutModel",
      "state": {
       "_model_module": "@jupyter-widgets/base",
       "_model_module_version": "1.2.0",
       "_model_name": "LayoutModel",
       "_view_count": null,
       "_view_module": "@jupyter-widgets/base",
       "_view_module_version": "1.2.0",
       "_view_name": "LayoutView",
       "align_content": null,
       "align_items": null,
       "align_self": null,
       "border": null,
       "bottom": null,
       "display": null,
       "flex": null,
       "flex_flow": null,
       "grid_area": null,
       "grid_auto_columns": null,
       "grid_auto_flow": null,
       "grid_auto_rows": null,
       "grid_column": null,
       "grid_gap": null,
       "grid_row": null,
       "grid_template_areas": null,
       "grid_template_columns": null,
       "grid_template_rows": null,
       "height": null,
       "justify_content": null,
       "justify_items": null,
       "left": null,
       "margin": null,
       "max_height": null,
       "max_width": null,
       "min_height": null,
       "min_width": null,
       "object_fit": null,
       "object_position": null,
       "order": null,
       "overflow": null,
       "overflow_x": null,
       "overflow_y": null,
       "padding": null,
       "right": null,
       "top": null,
       "visibility": null,
       "width": null
      }
     }
    },
    "version_major": 2,
    "version_minor": 0
   }
  }
 },
 "nbformat": 4,
 "nbformat_minor": 5
}
